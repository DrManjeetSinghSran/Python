{
 "cells": [
  {
   "cell_type": "code",
   "execution_count": 1,
   "metadata": {},
   "outputs": [
    {
     "name": "stdout",
     "output_type": "stream",
     "text": [
      "enter r for rectangle c for circle and t for triangler\n",
      "enter length:3\n",
      "enter breadth:4\n",
      "area of rectangle is 12\n"
     ]
    }
   ],
   "source": [
    "#input shape and calculate area\n",
    "n=input(\"enter r for rectangle c for circle and t for triangle\")\n",
    "if n=='r' or n=='R':\n",
    "    l=eval(input(\"enter length:\"))\n",
    "    b=eval(input(\"enter breadth:\"))\n",
    "    area=l*b\n",
    "    print(\"area of rectangle is\",area)\n",
    "else:\n",
    "    if n=='c' or n=='C':\n",
    "        r=eval(input(\"enter radius:\"))\n",
    "        area =3.14*r*r\n",
    "        print(\"area of circle is\",area)\n",
    "    else :\n",
    "        if n=='t' or n=='T':\n",
    "            b=eval(input(\"enter base:\"))\n",
    "            h=eval(input(\"enter height:\"))\n",
    "            area=0.5*b*h\n",
    "            print(\"area of triangle is\",area)\n",
    "        else :\n",
    "            print(\"Quit\")"
   ]
  },
  {
   "cell_type": "code",
   "execution_count": 2,
   "metadata": {},
   "outputs": [
    {
     "name": "stdout",
     "output_type": "stream",
     "text": [
      "enter first number:1,2,3,4\n",
      "10\n"
     ]
    }
   ],
   "source": [
    "num1,num2,num3,num4=eval(input('enter first number:'))\n",
    "\n",
    "sum=int(num1)+int(num2)+int(num3)+int(num4)\n",
    "print(sum)"
   ]
  },
  {
   "cell_type": "code",
   "execution_count": null,
   "metadata": {},
   "outputs": [],
   "source": [
    "def gcd(a,b):\n",
    "    ''' greatest common divisor '''\n",
    "    while a!=0:\n",
    "        a,b=b%a,a #parallel \n",
    "        return b\n",
    "gcd(12,20)"
   ]
  },
  {
   "cell_type": "code",
   "execution_count": null,
   "metadata": {},
   "outputs": [],
   "source": [
    "\n",
    "print('the sum of {0} and {1} is {2}'.format(num1,num2,sum))\n",
    "print(\"the sum of\", num1, \"and \", num2, \"is \", sum)\n",
    "print(\"hello\")"
   ]
  },
  {
   "cell_type": "code",
   "execution_count": null,
   "metadata": {},
   "outputs": [],
   "source": [
    "%run sum.py"
   ]
  },
  {
   "cell_type": "code",
   "execution_count": null,
   "metadata": {},
   "outputs": [],
   "source": [
    "#print prime nos between a range\n",
    "start=int(input(\"enter the starting no to find as prime\"))\n",
    "end=int(input(\"enter the ending no \"))\n",
    "for n in range(start,end+1,1):\n",
    "    for d in range(2,n//2,1):\n",
    "        if n%d == 0:#fibSeries(n):\n",
    "n=int(input(\"enter terms\"))\n",
    "a, b = 0, 1\n",
    "t=1\n",
    "while t <= n:\n",
    "        print (b,)\n",
    "        a, b = b, a+b\n",
    "        t+=1\n",
    "            print(n,\" is Not Prime\")\n",
    "            break\n",
    "    else:\n",
    "        #if d == (n//2)-1:\n",
    "            print(n, \"  is Prime\")"
   ]
  },
  {
   "cell_type": "code",
   "execution_count": null,
   "metadata": {},
   "outputs": [],
   "source": [
    "#fibSeries(n):\n",
    "n=int(input(\"enter terms\"))\n",
    "a, b = 0, 1\n",
    "t=1\n",
    "while t <= n:\n",
    "        print (b,)\n",
    "        a, b = b, a+b\n",
    "        t+=1"
   ]
  },
  {
   "cell_type": "code",
   "execution_count": null,
   "metadata": {},
   "outputs": [],
   "source": [
    "#fibonaci series\n",
    "n=int(input(\"enter no: \"))\n",
    "a=0\n",
    "b=1\n",
    "for i in range (1,n+1,1):\n",
    "    print(a,end=\" \")\n",
    "    t=a+b\n",
    "    a=b\n",
    "    b=t"
   ]
  },
  {
   "cell_type": "code",
   "execution_count": null,
   "metadata": {},
   "outputs": [],
   "source": [
    "#to reverse a number\n",
    "n=int(input(\"Enter number: \"))\n",
    "rev=0\n",
    "while(n>0):\n",
    "    dig=n%10\n",
    "    rev=rev*10+dig\n",
    "    n=n//10\n",
    "print(\"Reverse of the number:\",rev)"
   ]
  },
  {
   "cell_type": "code",
   "execution_count": null,
   "metadata": {},
   "outputs": [],
   "source": [
    "#to accept three distinct digits and prints all possible combinations from the digits.\n",
    "a=int(input(\"Enter first number:\"))\n",
    "b=int(input(\"Enter second number:\"))\n",
    "c=int(input(\"Enter third number:\"))\n",
    "d=[]\n",
    "d.append(a)\n",
    "d.append(b)\n",
    "d.append(c)\n",
    "for i in range(0,3):\n",
    "    for j in range(0,3):\n",
    "        for k in range(0,3):\n",
    "            if(i!=j&j!=k&k!=i):\n",
    "                print(d[i],d[j],d[k])\n",
    "print(d)"
   ]
  },
  {
   "cell_type": "code",
   "execution_count": null,
   "metadata": {},
   "outputs": [],
   "source": [
    "#to check whethr n is a palindrome\n",
    "n=int(input(\"Enter number:\"))\n",
    "temp=n\n",
    "rev=0\n",
    "while(n>0):\n",
    "    dig=n%10\n",
    "    rev=rev*10+dig\n",
    "    n=n//10\n",
    "if(temp==rev):\n",
    "    print(\"The number is a palindrome!\")\n",
    "else:\n",
    "    print(\"The number isn't a palindrome!\")\n",
    "    \n",
    "#or \n",
    "if str(temp)==(str(temp)[::-1]):\n",
    "    print(\"palindrome\")\n",
    "print(str(temp)[2:4])\n",
    "a=\"hello\"\n",
    "print(a[::-1])"
   ]
  },
  {
   "cell_type": "code",
   "execution_count": null,
   "metadata": {},
   "outputs": [],
   "source": [
    "n=input(\"Enter number:\")\n",
    "temp=n\n",
    "\n",
    "#if done like this\n",
    "#temp=int(n)\n",
    "#you get an errr int object is not subscriptable as slicing on int not possible\n",
    "if temp==temp[::-1]:\n",
    "    print(\"palindrome\")\n",
    "else:\n",
    "    print(\"Not a palidrome\")"
   ]
  },
  {
   "cell_type": "code",
   "execution_count": null,
   "metadata": {},
   "outputs": [],
   "source": [
    "#to print an identity matrix\n",
    "n=int(input(\"Enter a number: \"))\n",
    "for i in range(0,n):\n",
    "    for j in range(0,n):\n",
    "        if(i==j):\n",
    "            print(\"1\",sep=\" \",end=\" \")\n",
    "        else:\n",
    "            print(\"0\",sep=\" \",end=\" \")\n",
    "    print()"
   ]
  },
  {
   "cell_type": "code",
   "execution_count": null,
   "metadata": {},
   "outputs": [],
   "source": [
    "#to print inverted star pattern\n",
    "n=int(input(\"Enter number of rows: \"))\n",
    "for i in range (n,0,-1):\n",
    "    print((n-i) * ' ' + i * '*')"
   ]
  },
  {
   "cell_type": "code",
   "execution_count": 1,
   "metadata": {},
   "outputs": [
    {
     "name": "stdout",
     "output_type": "stream",
     "text": [
      "Enter the date: 12/12/2009\n",
      "The incremented date is:  13 12 2009\n"
     ]
    }
   ],
   "source": [
    "#enter a date, check its validity and print the incremented date by one day\n",
    "date=input(\"Enter the date: \")\n",
    "dd,mm,yy=date.split('/')\n",
    "dd=int(dd)\n",
    "mm=int(mm)\n",
    "yy=int(yy)\n",
    "if(mm==1 or mm==3 or mm==5 or mm==7 or mm==8 or mm==10 or mm==12):\n",
    "    max1=31\n",
    "elif(mm==4 or mm==6 or mm==9 or mm==11):\n",
    "    max1=30\n",
    "elif(yy%4==0 and yy%100!=0 or yy%400==0):\n",
    "    max1=29\n",
    "else:\n",
    "    max1=28\n",
    "    \n",
    "if(mm<1 or mm>12):\n",
    "    print(\"Date is invalid.\")\n",
    "elif(dd<1 or dd>max1):\n",
    "    print(\"Date is invalid.\")\n",
    "elif(dd==max1 and mm!=12):\n",
    "    dd=1\n",
    "    mm=mm+1\n",
    "    print(\"The incremented date is: \",dd,mm,yy)\n",
    "elif(dd==31 and mm==12):\n",
    "    dd=1\n",
    "    mm=1\n",
    "    yy=yy+1\n",
    "    print(\"The incremented date is: \",dd,mm,yy)\n",
    "else:\n",
    "    dd=dd+1\n",
    "    print(\"The incremented date is: \",dd,mm,yy)"
   ]
  },
  {
   "cell_type": "code",
   "execution_count": null,
   "metadata": {},
   "outputs": [],
   "source": [
    "#to check if no is a perfect no\n",
    "n = int(input(\"Enter any number: \"))\n",
    "sum1 = 0\n",
    "for i in range(1, n):\n",
    "    if(n % i == 0):\n",
    "        sum1 = sum1 + i\n",
    "if (sum1 == n):\n",
    "    print(\"The number is a Perfect number!\")\n",
    "else:\n",
    "    print(\"The number is not a Perfect number!\")"
   ]
  },
  {
   "cell_type": "code",
   "execution_count": null,
   "metadata": {},
   "outputs": [],
   "source": [
    "to find all numbers which are odd and palindromes between a range of numbers without using recursion\n",
    "a=[]\n",
    "l=int(input(\"Enter lower limit: \"))\n",
    "u=int(input(\"Enter upper limit: \"))\n",
    "a=[x for x in range(l,u+1) if x%2!=0 and str(x)==str(x)[::-1]]\n",
    "print(\"The numbers are: \",a)\n",
    "print(str(23498)[::-1])"
   ]
  },
  {
   "cell_type": "code",
   "execution_count": 3,
   "metadata": {},
   "outputs": [
    {
     "name": "stdout",
     "output_type": "stream",
     "text": [
      "Enter first number: 1\n",
      "Enter second number: 2\n",
      "0. Exit\n",
      "1. Add\n",
      "2. Subtraction\n",
      "3. Multiplication\n",
      "4. Division\n",
      "Enter choice: 3\n",
      "Result:  2\n",
      "0. Exit\n",
      "1. Add\n",
      "2. Subtraction\n",
      "3. Multiplication\n",
      "4. Division\n",
      "Enter choice: 0\n",
      "Exiting!\n",
      "\n"
     ]
    }
   ],
   "source": [
    "#calculator\n",
    "def add(a,b):\n",
    "        return a+b\n",
    "def mul(a,b):\n",
    "        return a*b\n",
    "def div(a,b):\n",
    "        return a/b\n",
    "def sub(a,b):\n",
    "        return a-b\n",
    "\n",
    "a=int(input(\"Enter first number: \"))\n",
    "b=int(input(\"Enter second number: \"))\n",
    "\n",
    "\n",
    "choice=1\n",
    "while choice!=0:\n",
    "    print(\"0. Exit\")\n",
    "    print(\"1. Add\")\n",
    "    print(\"2. Subtraction\")\n",
    "    print(\"3. Multiplication\")\n",
    "    \n",
    "    print(\"4. Division\")\n",
    "    choice=int(input(\"Enter choice: \"))\n",
    "    if choice==1:\n",
    "        print(\"Result: \",add(a,b))\n",
    "    elif choice==2:\n",
    "        print(\"Result: \",sub(a,b))\n",
    "    elif choice==3:\n",
    "        print(\"Result: \",mul(a,b))\n",
    "    elif choice==4:\n",
    "        print(\"Result: \",round(div(a,b),2))\n",
    "    elif choice==0:\n",
    "        print(\"Exiting!\")\n",
    "    else:\n",
    "        print(\"Invalid choice!!\")\n",
    " \n",
    " \n",
    "print()"
   ]
  },
  {
   "cell_type": "code",
   "execution_count": null,
   "metadata": {},
   "outputs": [],
   "source": []
  },
  {
   "cell_type": "code",
   "execution_count": null,
   "metadata": {},
   "outputs": [],
   "source": []
  },
  {
   "cell_type": "code",
   "execution_count": null,
   "metadata": {},
   "outputs": [],
   "source": []
  },
  {
   "cell_type": "code",
   "execution_count": null,
   "metadata": {},
   "outputs": [],
   "source": []
  }
 ],
 "metadata": {
  "kernelspec": {
   "display_name": "Python 3",
   "language": "python",
   "name": "python3"
  },
  "language_info": {
   "codemirror_mode": {
    "name": "ipython",
    "version": 3
   },
   "file_extension": ".py",
   "mimetype": "text/x-python",
   "name": "python",
   "nbconvert_exporter": "python",
   "pygments_lexer": "ipython3",
   "version": "3.6.4"
  }
 },
 "nbformat": 4,
 "nbformat_minor": 2
}
