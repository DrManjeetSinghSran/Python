{
 "cells": [
  {
   "cell_type": "code",
   "execution_count": 3,
   "metadata": {},
   "outputs": [
    {
     "name": "stdout",
     "output_type": "stream",
     "text": [
      "enter the marks of student\n"
     ]
    },
    {
     "ename": "SyntaxError",
     "evalue": "unexpected EOF while parsing (<string>, line 0)",
     "output_type": "error",
     "traceback": [
      "Traceback \u001b[1;36m(most recent call last)\u001b[0m:\n",
      "  File \u001b[0;32m\"C:\\ProgramData\\Anaconda3\\lib\\site-packages\\IPython\\core\\interactiveshell.py\"\u001b[0m, line \u001b[0;32m2910\u001b[0m, in \u001b[0;35mrun_code\u001b[0m\n    exec(code_obj, self.user_global_ns, self.user_ns)\n",
      "\u001b[1;36m  File \u001b[1;32m\"<ipython-input-3-2a9c582e9ffc>\"\u001b[1;36m, line \u001b[1;32m1\u001b[1;36m, in \u001b[1;35m<module>\u001b[1;36m\u001b[0m\n\u001b[1;33m    marks_maths = eval(input(\"enter the marks of student\"))\u001b[0m\n",
      "\u001b[1;36m  File \u001b[1;32m\"<string>\"\u001b[1;36m, line \u001b[1;32munknown\u001b[0m\n\u001b[1;33m    \u001b[0m\n\u001b[1;37m    ^\u001b[0m\n\u001b[1;31mSyntaxError\u001b[0m\u001b[1;31m:\u001b[0m unexpected EOF while parsing\n"
     ]
    }
   ],
   "source": [
    "marks_maths = eval(input(\"enter the marks of student\"))\n",
    "marks_physics = eval(input(\"enter the marks of student\"))\n",
    "marks_chem = eval(input(\"enter the marks of student\"))\n",
    "\n",
    "# >=80% marks    grade a\n",
    "# >=60% marks   grade b\n",
    "# >=40% marks   grade c\n",
    "#<40%            grade f\n",
    "\n",
    "total= marks_maths + marks_physics + marks_chem\n",
    "\n",
    "percentage = total / 3\n",
    "\n",
    "if percentage >= 80:\n",
    "    grade=\"A\"\n",
    "elif percentage >= 60:\n",
    "    grade='B'\n",
    "elif percentage >= 40:\n",
    "    grade='C'\n",
    "   \n",
    "elif percentage >= 33:\n",
    "    grade='D'\n",
    "else:\n",
    "    grade='F'\n",
    "            \n",
    "print(\"grade is \", grade)"
   ]
  },
  {
   "cell_type": "markdown",
   "metadata": {},
   "source": [
    "#### input treats everything as a string  (characters)\n",
    "a=eval(input(\"enter the first no\"))\n",
    "b=eval(input(\"enter the second no\"))\n",
    "c=eval(input(\"enter the second no\"))\n",
    "#simple if\n",
    "#multiple if\n",
    "#if else\n",
    "#Nesting of ifs\n",
    "if a>b:\n",
    "    #a is bigger than b\n",
    "    if a>c:\n",
    "        print(\"greatest no is a \", a)\n",
    "    else:\n",
    "        print(\"greatest no is c \", c)\n",
    "else:\n",
    "    #b is bigger than a\n",
    "    if b > c:\n",
    "        print(\"greatest is b\", b)\n",
    "    else:\n",
    "        print(\"greatest no is c \", c)"
   ]
  },
  {
   "cell_type": "code",
   "execution_count": 42,
   "metadata": {},
   "outputs": [
    {
     "name": "stdout",
     "output_type": "stream",
     "text": [
      "enter the first no56\n",
      "enter the second no65\n",
      "enter the second no34\n",
      "greatest no is b  65\n"
     ]
    }
   ],
   "source": [
    "#input treats everything as a string  (characters)\n",
    "a=eval(input(\"enter the first no\"))\n",
    "b=eval(input(\"enter the second no\"))\n",
    "c=eval(input(\"enter the second no\"))\n",
    "#simple if\n",
    "#multiple if\n",
    "#if else\n",
    "\n",
    "#Nesting of ifs\n",
    "\n",
    "#frist one was more efficient\n",
    "#takes less time\n",
    "\n",
    "if a>b and a>c:\n",
    "    print(\"greatest no is a \", a)\n",
    "elif b> a and b > c:\n",
    "        print(\"greatest no is b \", b)\n",
    "elif c> a and c> b:\n",
    "        print(\"greatest no is c \", c)"
   ]
  },
  {
   "cell_type": "code",
   "execution_count": null,
   "metadata": {},
   "outputs": [],
   "source": [
    "Q1 Write a program to input three nos and print the greatest.\n",
    "Q2 Write a program to input two numbers, add them, multiply them, \n",
    "divide them, find remainder,\n",
    "\n",
    "Q3 Write a program to input a figure like C , R, S   \n",
    "(C for circle, r for rectange and s for square)\n",
    "\n",
    "Check the figure and appropriately ask the parameters for calculating the area.\n",
    "\n",
    "Give an error message if something else is\n",
    "entered.\n",
    "\n",
    " (basicpay)\n",
    "Q4 Input Name and Bp of employee.\n",
    "calculate gross pay and net pay\n",
    "grosspay= bp + da + hra -Pf\n",
    "\n",
    "pf=12% of bp\n",
    "hra is 20% of bp but maximum can be 2000 only\n",
    "da is 20% of bp for bp < 3 lac\n",
    "otherwise\n",
    "da is 30% of bp\n",
    "netpay=grosspay - pf\n",
    "\n",
    "Q5 Calculate the income tax of an employee\n",
    "input the income\n",
    "if income < 3 lac no tax\n",
    "if income between 3 and 5 , tax = 20%\n",
    "if income between 5 and 8 , tax = 30%\n",
    "else\n",
    "tax=40%\n",
    "Q6 Enter a four digit number, check whether its leap year.\n",
    "\n",
    "\n",
    "Q. print sum of first 10 numbers\n",
    "Q. enter a no and print whether its prime\n",
    "Q.  enter two ranges eg start 100 to stop 1000 and print all prime numbers between the two ranges.\n",
    "Q.  enter a no print sum of its digits\n",
    "Eg 4567\n",
    "22\n",
    "4\n",
    "Q. print the sum of digits till you get a single number.\n",
    "Q Print Fibonicci series upto given terms.\n",
    "Q Enter 8 numbers, print their average.\n",
    "\n"
   ]
  },
  {
   "cell_type": "code",
   "execution_count": null,
   "metadata": {},
   "outputs": [],
   "source": [
    "a,b=input(\"enter two numbers\")\n",
    "print(a)"
   ]
  },
  {
   "cell_type": "code",
   "execution_count": null,
   "metadata": {},
   "outputs": [],
   "source": [
    "#greatest btw 2 nos\n",
    "a=eval(input(\"enter a\"))\n",
    "b=eval(input(\"enter b\"))\n",
    "if a>b:\n",
    "    print(a,\"is greatest\")\n",
    "else:\n",
    "    print(b,\"is greatest\")"
   ]
  },
  {
   "cell_type": "code",
   "execution_count": null,
   "metadata": {},
   "outputs": [],
   "source": [
    "#greatest 3 nos efficient way of writing   less time (performance/throughput) and less space\n",
    "a=eval(input(\"enter no a:\"))\n",
    "b=eval(input(\"enter no b:\"))\n",
    "c=eval(input(\"enter no c:\"))\n",
    "if a>b:\n",
    "    if a>c:\n",
    "        print(\"a is greatest\")\n",
    "        print(a)\n",
    "    else:\n",
    "        print(c)\n",
    "#a < b\n",
    "else:\n",
    "    if b>c:\n",
    "        print(b)\n",
    "    else:\n",
    "        print(c)\n",
    "        \n",
    "print(\"end\")"
   ]
  },
  {
   "cell_type": "code",
   "execution_count": null,
   "metadata": {},
   "outputs": [],
   "source": [
    "#greatest 3 nos\n",
    "a=eval(input(\"enter no a:\"))\n",
    "b=eval(input(\"enter no b:\"))\n",
    "c=eval(input(\"enter no c:\"))\n",
    "if a>b and  a>c:\n",
    "        print(\"a is greatest\")\n",
    "        print(a)\n",
    "#a < b\n",
    "elif b > a and b>c:\n",
    "    print(b)\n",
    "else:\n",
    "    print(c)\n",
    "        \n",
    "print(\"end\")"
   ]
  },
  {
   "cell_type": "code",
   "execution_count": null,
   "metadata": {},
   "outputs": [],
   "source": [
    "#enter divisor and divident\n",
    "divident=eval(input(\"enter divident\"))\n",
    "divisor=eval(input(\"enter divisor\"))\n",
    "\n",
    "if divident!=0:\n",
    "    q=divident/divisor\n",
    "    print(q)\n",
    "else:\n",
    "    print(\"not possible\")"
   ]
  },
  {
   "cell_type": "code",
   "execution_count": null,
   "metadata": {},
   "outputs": [],
   "source": [
    "#3 marks nd grades\n",
    "counter=1\n",
    "ta=tb=tc=td=tf=0\n",
    "\n",
    "while counter <=5:\n",
    "    a=eval(input(\"enter no a:\"))\n",
    "    b=eval(input(\"enter no b:\"))\n",
    "    c=eval(input(\"enter no c:\"))\n",
    "\n",
    "    sum=a+b+c\n",
    "\n",
    "    if sum>=240:\n",
    "        print(\"A\")\n",
    "        ta=ta + 1\n",
    "    elif sum>=200:\n",
    "        print(\"B\")\n",
    "        tb = tb +1\n",
    "    elif sum>=180:\n",
    "        print(\"C\")\n",
    "        tc = tc +1\n",
    "    elif sum>=150:\n",
    "        print(\"D\")\n",
    "        td=td+1\n",
    "    else:\n",
    "        print(\"F\")\n",
    "        tf=tf+1\n",
    "\n",
    "    counter=counter+1\n",
    "    \n",
    "print(\"total a grades\", ta)\n",
    "print(\"total b grades\", tb)\n",
    "print(\"total c grades\", tc)\n",
    "print(\"total d grades\", td)\n"
   ]
  },
  {
   "cell_type": "code",
   "execution_count": null,
   "metadata": {},
   "outputs": [],
   "source": [
    "count=1\n",
    "#for three students\n",
    "ta=0\n",
    "tb=0\n",
    "tc=0\n",
    "td=0\n",
    "tf=0\n",
    "\n",
    "while count <=5:  \n",
    "    a=eval(input(\"Maths:\"))\n",
    "    b=eval(input(\"Physics:\"))\n",
    "    c=eval(input(\"Chemistry:\"))\n",
    "    \n",
    "    sum=a+b+c\n",
    "    if sum>=240:\n",
    "        ta=ta + 1\n",
    "    elif sum>=180:\n",
    "        tb=tb + 1\n",
    "    elif sum>=140:\n",
    "        tc=tc + 1\n",
    "    elif sum>=100:\n",
    "        td=td + 1\n",
    "    else:\n",
    "        tf=tf +1\n",
    "\n",
    "    count=count+1\n",
    "\n",
    "#summary\n",
    "print(\"total A grades:\",ta )\n",
    "print(\"total B grades:\", tb)\n",
    "print(\"total C grades:\", tc)\n",
    "print(\"total D grades:\", td)\n",
    "print(\"total Fail:\", tf)\n"
   ]
  },
  {
   "cell_type": "code",
   "execution_count": null,
   "metadata": {},
   "outputs": [],
   "source": [
    "count=1\n",
    "#for three students\n",
    "while count <=3:\n",
    "    name=input(\"enter name:\")\n",
    "    a=eval(input(\"Maths:\"))\n",
    "    b=eval(input(\"Physics:\"))\n",
    "    c=eval(input(\"Chemistry:\"))\n",
    "    d=eval(input(\"English:\"))\n",
    "    e=eval(input(\"Computers:\"))\n",
    "    \n",
    "    #Total\n",
    "    sum=a+b+c+d+e\n",
    "    \n",
    "    #calculate grade\n",
    "    if sum>=240:\n",
    "        print(\"A\")\n",
    "    elif sum>=200:\n",
    "        print(\"B\")\n",
    "    elif sum>=180:\n",
    "        print(\"C\")\n",
    "    elif sum>=150:\n",
    "        print(\"D\")\n",
    "\n",
    "    count=count+1"
   ]
  },
  {
   "cell_type": "markdown",
   "metadata": {},
   "source": [
    "### count=0\n",
    "while count <=3:\n",
    "    a=eval(input(\"enter no a:\"))\n",
    "    b=eval(input(\"enter no b:\"))\n",
    "    c=eval(input(\"enter no c:\"))\n",
    "    sum=a+b+c\n",
    "    if sum>=240:\n",
    "        print(\"A\")\n",
    "    elif sum>=200:\n",
    "        print(\"B\")\n",
    "    elif sum>=180:\n",
    "        print(\"C\")\n",
    "    elif sum>=150:\n",
    "        print(\"D\")\n",
    "    \n",
    "    count=count+1"
   ]
  },
  {
   "cell_type": "markdown",
   "metadata": {},
   "source": [
    "##### leap year\n",
    "year=eval(input(\"enter year\"))\n",
    "if year%4==0:\n",
    "    print(\"leap year is:\",year)\n",
    "else :\n",
    "    print(year,\"is not a leap year\")"
   ]
  },
  {
   "cell_type": "code",
   "execution_count": null,
   "metadata": {},
   "outputs": [],
   "source": [
    "#input shape and calculate area\n",
    "\n",
    "n=input(\"enter r for rectangle c for circle and t for triangle\")\n",
    "while n != 'q':\n",
    "    if n=='r' or n=='R':\n",
    "        l=eval(input(\"enter length:\"))\n",
    "        b=eval(input(\"enter breadth:\"))\n",
    "        area=l*b\n",
    "        print(\"area of rectangle is\",area)\n",
    "    else:\n",
    "        if n=='c' or n=='C':\n",
    "            r=eval(input(\"enter radius:\"))\n",
    "            area =3.14*r*r\n",
    "            print(\"area of circle is\",area)\n",
    "        else :\n",
    "            if n=='t' or n=='T':\n",
    "                b=eval(input(\"enter base:\"))\n",
    "                h=eval(input(\"enter height:\"))\n",
    "                area=0.5*b*h\n",
    "                print(\"area of triangle is\",area)\n",
    "            else :\n",
    "                print(\"Quit\")\n",
    "        "
   ]
  },
  {
   "cell_type": "code",
   "execution_count": null,
   "metadata": {},
   "outputs": [],
   "source": [
    "#input shape and calculate area\n",
    "n=input(\"enter r for rectangle c for circle and t for triangle\")\n",
    "if n=='r' or n=='R':\n",
    "    l=eval(input(\"enter length:\"))\n",
    "    b=eval(input(\"enter breadth:\"))\n",
    "    area=l*b\n",
    "    print(\"area of rectangle is\",area)\n",
    "else:\n",
    "    if n=='c' or n=='C':\n",
    "        r=eval(input(\"enter radius:\"))\n",
    "        area =3.14*r*r\n",
    "        print(\"area of circle is\",area)\n",
    "    else :\n",
    "        if n=='t' or n=='T':\n",
    "            b=eval(input(\"enter base:\"))\n",
    "            h=eval(input(\"enter height:\"))\n",
    "            area=0.5*b*h\n",
    "            print(\"area of triangle is\",area)\n",
    "        else :\n",
    "            print(\"Quit\")"
   ]
  },
  {
   "cell_type": "code",
   "execution_count": null,
   "metadata": {},
   "outputs": [],
   "source": [
    "#input shape by using WHILE\n",
    "n='x'\n",
    "tc=0\n",
    "tt=0\n",
    "tr=0\n",
    "\n",
    "while n != \"quit\" :\n",
    "   \n",
    "    n=input(\"enter r for rectangle c for circle and t for triangle\")\n",
    "    if n=='r' or n=='R' :\n",
    "        l=eval(input(\"enter length\"))\n",
    "        b=eval(input(\"enter breadth\"))\n",
    "        area=l*b\n",
    "        print(\"area of rectangle is\",area)\n",
    "        tr=tr+1\n",
    "    else :\n",
    "        if n=='c' or n=='C':\n",
    "            r=eval(input(\"enter radius:\"))\n",
    "            area =3.14*r*r\n",
    "            print(\"area of circle is\",area)\n",
    "            tc=tc+1\n",
    "        else :\n",
    "            if n=='t' or n=='T':\n",
    "                b=eval(input(\"enter base\"))\n",
    "                h=eval(input(\"enter height\"))\n",
    "                area=0.5*h*b\n",
    "                print(\"area of triangle is\",area)\n",
    "                tt=tt+1\n",
    "            else :\n",
    "                print(\"enter quit to exit\")\n",
    "    \n",
    "print (tt)\n",
    "print(tc)\n",
    "print(tr)\n",
    "print(\"end\")\n"
   ]
  },
  {
   "cell_type": "code",
   "execution_count": null,
   "metadata": {},
   "outputs": [],
   "source": []
  },
  {
   "cell_type": "code",
   "execution_count": null,
   "metadata": {},
   "outputs": [],
   "source": [
    "#sum of n numbers\n",
    "a=eval(input(\"enter no: \"))\n",
    "i=1\n",
    "sum=0\n",
    "while i<=a:\n",
    "    sum=sum+i\n",
    "    i+=1\n",
    "print(\"sum is \",sum)"
   ]
  },
  {
   "cell_type": "code",
   "execution_count": null,
   "metadata": {},
   "outputs": [],
   "source": [
    "#to find prime number\n",
    "n=eval(input(\"enter number\"))\n",
    "d=2\n",
    "while d<n/2 :\n",
    "    if n%d==0:\n",
    "        print(n,\" is not a prime number\")\n",
    "        break\n",
    "    else:\n",
    "        d+=1\n",
    "if d>=n/2:\n",
    "    print(n,\" is a prime number\")\n",
    "    "
   ]
  },
  {
   "cell_type": "markdown",
   "metadata": {},
   "source": [
    "#### start=int(input(\"enter the starting no to find as prime\"))\n",
    "end=int(input(\"enter the ending no \"))\n",
    "for n in range(start,end+1,1):\n",
    "    for d in range(2,n//2,1):\n",
    "        if n%d == 0:\n",
    "            print(n,\" is Not Prime\")\n",
    "            break\n",
    "    else:\n",
    "        print(n, \" is Prime\")\n",
    "        #if d == (n//2)-1:\n",
    "           #print(n, \"  is Prime\")"
   ]
  },
  {
   "cell_type": "code",
   "execution_count": 1,
   "metadata": {},
   "outputs": [
    {
     "name": "stdout",
     "output_type": "stream",
     "text": [
      "enter the starting no to find as prime100\n",
      "enter the ending no 120\n",
      "100  is Not Prime\n",
      "101   is Prime\n",
      "102  is Not Prime\n",
      "103   is Prime\n",
      "104  is Not Prime\n",
      "105  is Not Prime\n",
      "106  is Not Prime\n",
      "107   is Prime\n",
      "108  is Not Prime\n",
      "109   is Prime\n",
      "110  is Not Prime\n",
      "111  is Not Prime\n",
      "112  is Not Prime\n",
      "113   is Prime\n",
      "114  is Not Prime\n",
      "115  is Not Prime\n",
      "116  is Not Prime\n",
      "117  is Not Prime\n",
      "118  is Not Prime\n",
      "119  is Not Prime\n",
      "120  is Not Prime\n"
     ]
    }
   ],
   "source": [
    "#print prime nos between a range    100    200\n",
    "start=int(input(\"enter the starting no to find as prime\"))\n",
    "end=int(input(\"enter the ending no \"))\n",
    "flag=0\n",
    "for n in range(start,end+1,1):\n",
    "    flag=0\n",
    "    for d in range(2,n//2,1):\n",
    "        if n%d == 0:\n",
    "            print(n,\" is Not Prime\")\n",
    "            flag=1\n",
    "            break\n",
    "    if flag==0:\n",
    "        print(n, \"  is Prime\")"
   ]
  },
  {
   "cell_type": "code",
   "execution_count": null,
   "metadata": {},
   "outputs": [],
   "source": [
    "def fib(n):\n",
    "  \"\"\"Print a Fibonacci series up to n.\"\"\"\n",
    "  a, b = 0, 1\n",
    "  while b < n:\n",
    "    print (b)\n",
    "    a, b = b, a+b"
   ]
  },
  {
   "cell_type": "code",
   "execution_count": null,
   "metadata": {},
   "outputs": [],
   "source": [
    "for n in range(1,11):\n",
    "    print(n )"
   ]
  },
  {
   "cell_type": "code",
   "execution_count": null,
   "metadata": {},
   "outputs": [],
   "source": [
    "for i in range(21,0,-3):\n",
    "    print(i,end=\" \")"
   ]
  },
  {
   "cell_type": "code",
   "execution_count": null,
   "metadata": {},
   "outputs": [],
   "source": [
    "#nesting\n",
    "for i in range (1,5,1):\n",
    "    for j in range(1,3,1):\n",
    "        print(\"i=\",i,\" \",\"j=\",j)"
   ]
  },
  {
   "cell_type": "code",
   "execution_count": null,
   "metadata": {},
   "outputs": [],
   "source": [
    "#multiplication table\n",
    "n=int(input(\"enter no:\"))\n",
    "for i in range (0,n+1,1):\n",
    "    print(n,\"*\",i,\"=\",n*i)"
   ]
  },
  {
   "cell_type": "code",
   "execution_count": null,
   "metadata": {},
   "outputs": [],
   "source": [
    "#fibonaci series\n",
    "n=int(input(\"enter no of terms: \"))\n",
    "a=0\n",
    "b=1\n",
    "for i in range (1,n+1,1):\n",
    "    print(a,end=\" \")\n",
    "    a,b=b,a+b"
   ]
  },
  {
   "cell_type": "code",
   "execution_count": null,
   "metadata": {},
   "outputs": [],
   "source": [
    "#avg of numbers entered by user\n",
    "m=int(input(\"enter m :\"))\n",
    "n=int(input(\"enter n :\"))\n",
    "sum=0\n",
    "for i in range(m,n+1,1):\n",
    "    sum=sum+i\n",
    "print(sum)\n",
    "total=n-m\n",
    "avg=sum/total\n",
    "print(\"avg is\",avg)"
   ]
  },
  {
   "cell_type": "code",
   "execution_count": null,
   "metadata": {},
   "outputs": [],
   "source": [
    "s=0\n",
    "i=1\n",
    "\n",
    "num=input('how many os to be entered:')\n",
    "while i <=int(num):\n",
    "    num1=input('enter number:')\n",
    "    s=s+int(num1)\n",
    "    i=i+1\n",
    "    \n",
    "avg=s/5\n",
    "print(\"Average is :\",avg)"
   ]
  },
  {
   "cell_type": "code",
   "execution_count": null,
   "metadata": {},
   "outputs": [],
   "source": [
    "%run sum.py"
   ]
  },
  {
   "cell_type": "code",
   "execution_count": null,
   "metadata": {},
   "outputs": [],
   "source": [
    "%%file prog2.py\n",
    "print(\"hello\")"
   ]
  },
  {
   "cell_type": "code",
   "execution_count": null,
   "metadata": {},
   "outputs": [],
   "source": [
    "bp=eval(input(\"enter basicpay\"))\n",
    "if bp < 30000:\n",
    "        da=20/100 * bp\n",
    "else:\n",
    "        da=30/100 * bp\n",
    "hra=20/100 * bp\n",
    "if hra > 2000:\n",
    "        hra=2000\n",
    "pf=12/100 * bp\n",
    "\n",
    "gp=bp + hra + da \n",
    "\n",
    "np=gp - pf\n",
    "        \n",
    "print(\"Netpay is\", np)\n",
    "print(\"Gross pay\", gp)\n",
    "\n",
    "print(type(gp))\n",
    "        \n"
   ]
  },
  {
   "cell_type": "code",
   "execution_count": null,
   "metadata": {},
   "outputs": [],
   "source": [
    "<=3 lac no tax\n",
    "<=5 lac 4 lac 20%  \n",
    "<=8 lac 30\n",
    "40%\n",
    "\n",
    "if salary < 300000\n",
    "   tax=0\n",
    "else \n",
    "    if salary <=500000\n",
    "        salary-3 lac * 20%\n",
    "    else\n",
    "        if salary <=8 lacs   ( 7 lac)\n",
    "             2 lac * 20% + sal- 5lac * 30%\n",
    "        else \n",
    "             (9 lac) 2 lac * 20% + 3 lac * 30 + sal - 8 * 40% \n",
    "            \n",
    "   \n",
    "\n",
    "\n"
   ]
  }
 ],
 "metadata": {
  "kernelspec": {
   "display_name": "Python 3",
   "language": "python",
   "name": "python3"
  },
  "language_info": {
   "codemirror_mode": {
    "name": "ipython",
    "version": 3
   },
   "file_extension": ".py",
   "mimetype": "text/x-python",
   "name": "python",
   "nbconvert_exporter": "python",
   "pygments_lexer": "ipython3",
   "version": "3.6.4"
  }
 },
 "nbformat": 4,
 "nbformat_minor": 2
}
