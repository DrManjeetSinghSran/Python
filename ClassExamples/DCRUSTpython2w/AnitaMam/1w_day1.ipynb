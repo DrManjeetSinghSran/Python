{
 "cells": [
  {
   "cell_type": "code",
   "execution_count": null,
   "metadata": {},
   "outputs": [],
   "source": []
  },
  {
   "cell_type": "code",
   "execution_count": 6,
   "metadata": {},
   "outputs": [
    {
     "name": "stdout",
     "output_type": "stream",
     "text": [
      "enter three numbers2,3,4\n",
      "2\n",
      "3\n",
      "4\n"
     ]
    }
   ],
   "source": [
    "a,b,c=eval(input(\"enter three numbers\"))\n",
    "print(a)\n",
    "print(b)\n",
    "print(c)\n",
    "\n"
   ]
  },
  {
   "cell_type": "code",
   "execution_count": 14,
   "metadata": {},
   "outputs": [
    {
     "name": "stdout",
     "output_type": "stream",
     "text": [
      "enter a number4.5\n",
      "enter a number5.6\n",
      "10.1\n"
     ]
    }
   ],
   "source": [
    "\n",
    "a=eval(input(\"enter a number\"))\n",
    "b=eval(input(\"enter a number\"))\n",
    "\n",
    "#concatenate\n",
    "print(a+b)\n",
    "#dynamically typed language\n",
    "#statically typed language    java c\n"
   ]
  },
  {
   "cell_type": "code",
   "execution_count": 24,
   "metadata": {},
   "outputs": [
    {
     "name": "stdout",
     "output_type": "stream",
     "text": [
      "enter a number45\n",
      "enter a number56\n",
      "enter a number32\n",
      "56\n"
     ]
    }
   ],
   "source": [
    "a=eval(input(\"enter a number\"))\n",
    "b=eval(input(\"enter a number\"))\n",
    "c=eval(input(\"enter a number\"))\n",
    " \n",
    "#multiple  if\n",
    "#nesting of ifs...... efficiency of algorithm\n",
    "\n",
    "#algorithms - efficiency\n",
    "\n",
    "#1. Time ......order....loop break.....prime no.....\n",
    "#2. Space .....extra variables  ....extra files....extra arrays....eff. less\n",
    "\n",
    "if a>b and  a> c:\n",
    "        print(a)\n",
    "else:\n",
    "    if b>a and b>c:\n",
    "        print(b)\n",
    "    else:\n",
    "        if c > a and c> b:\n",
    "            print(c)\n",
    "    "
   ]
  },
  {
   "cell_type": "code",
   "execution_count": 46,
   "metadata": {},
   "outputs": [
    {
     "name": "stdout",
     "output_type": "stream",
     "text": [
      "enter the figure : c for circle, t for triange, r for rectangle, q for quitc\n",
      "Enter the radius:3\n",
      "28.285714285714285\n",
      "enter the figure : c for circle, t for triange, r for rectangle, q for quitq\n",
      "28.285714285714285\n"
     ]
    }
   ],
   "source": [
    "fig=' '\n",
    "while fig != 'q':\n",
    "    fig=input(\"enter the figure : c for circle, t for triange, r for rectangle, q for quit\")\n",
    "    if fig in \"Cc\":\n",
    "        radius=eval(input(\"Enter the radius:\"))\n",
    "        area=22/7 * radius * radius\n",
    "    \n",
    "    elif fig == 't' or fig == 'T':\n",
    "        height=eval(input(\"Enter the height:\"))\n",
    "        base=eval(input(\"Enter the base:\"))\n",
    "        area=1/2 * base * height\n",
    "    \n",
    "    elif fig=='r' or fig == 'R':\n",
    "        length=eval(input(\"Enter the length:\"))\n",
    "        breadth=eval(input(\"Enter the breadth:\"))\n",
    "        area=length * breadth\n",
    "    \n",
    "    print(area)    "
   ]
  },
  {
   "cell_type": "markdown",
   "metadata": {},
   "source": [
    "# 12 x 1 =12\n",
    "#enter a number, print its table upto 10\n",
    "b=int(input(\"enter a number:\")\n",
    "counter=0\n",
    "While counter <11:\n",
    "          e=counter*b\n",
    "         Print (e)\n",
    "        Counter +=1\n",
    "\n"
   ]
  },
  {
   "cell_type": "code",
   "execution_count": 57,
   "metadata": {},
   "outputs": [
    {
     "name": "stdout",
     "output_type": "stream",
     "text": [
      "enter no.12.5\n",
      "till what number:3\n",
      "12.5  x  1  =  12.5\n",
      "12.5  x  2  =  25.0\n",
      "12.5  x  3  =  37.5\n"
     ]
    }
   ],
   "source": [
    "table=eval(input(\"enter no.\"))\n",
    "end=eval(input(\"till what number:\"))\n",
    "counter=1\n",
    "while counter <= end:\n",
    "          e=counter*table\n",
    "          print (table, \" x \", counter, \" = \" , e)\n",
    "          counter +=1\n",
    "        \n",
    "        \n"
   ]
  },
  {
   "cell_type": "code",
   "execution_count": 63,
   "metadata": {},
   "outputs": [
    {
     "name": "stdout",
     "output_type": "stream",
     "text": [
      "enter name23\n",
      "enter marks in phy:34\n",
      "enter marks in maths:44\n",
      "enter marks in chem:4\n",
      "BA graders are : 0\n",
      "B graders are : 0\n",
      "Fail are : 0\n"
     ]
    }
   ],
   "source": [
    "i=1\n",
    "ta=tb=tf=0\n",
    "while i <=1:\n",
    "    name=input(\"enter name\")\n",
    "    physics=eval(input(\"enter marks in phy:\"))\n",
    "    maths=eval(input(\"enter marks in maths:\"))\n",
    "    chem=eval(input(\"enter marks in chem:\"))\n",
    "    tot=physics+maths+chem\n",
    "    per=tot/300*100\n",
    "    if per >=80:\n",
    "        gr=\"A\"\n",
    "        ta=ta+1\n",
    "    elif per >=60:\n",
    "        gr=\"B\"\n",
    "        tb=tb+1\n",
    "    elif per >=40:\n",
    "        gr=\"F\"\n",
    "        tf=tf+1\n",
    "         \n",
    "    print(gr,end=\"\")\n",
    "    i=i+1\n",
    "    \n",
    "\n",
    "print(\"A graders are :\", ta, end=\" \")\n",
    "print(\"B graders are :\", tb)\n",
    "print(\"Fail are :\", tf)"
   ]
  },
  {
   "cell_type": "code",
   "execution_count": 75,
   "metadata": {},
   "outputs": [
    {
     "name": "stdout",
     "output_type": "stream",
     "text": [
      "hello\n",
      "\n",
      "hello\n",
      "hello\n"
     ]
    }
   ],
   "source": [
    "print(\"hello\\n\")\n",
    "print(\"hello\")\n",
    "\n",
    "print(\"hello\")"
   ]
  },
  {
   "cell_type": "markdown",
   "metadata": {},
   "source": [
    "###### counters\n",
    "def marks_calculation():\n",
    "    ta=tb=tc=td=tf=0\n",
    "\n",
    "    for i in range(1, 6):\n",
    "        marks_maths = eval(input(\"enter the marks of student\"))\n",
    "        marks_physics = eval(input(\"enter the marks of student\"))\n",
    "        marks_chem = eval(input(\"enter the marks of student\"))\n",
    "\n",
    "        total= marks_maths + marks_physics + marks_chem\n",
    "        percentage = total / 3\n",
    "\n",
    "        if percentage >= 80:\n",
    "            grade=\"A\"\n",
    "            ta = ta+1\n",
    "        elif percentage >= 60:\n",
    "            grade='B'\n",
    "            tb += 1\n",
    "        elif percentage >= 40:\n",
    "            grade='C'\n",
    "            tc=tc+1\n",
    "        elif percentage >= 33:\n",
    "            grade='D'\n",
    "            td=td+1\n",
    "        else:\n",
    "            grade='F' \n",
    "            tf=tf+1\n",
    "    print(\"total A grades: \", ta)\n",
    "    print(\"total B grades: \", tb)\n",
    "    print(\"total C grades: \", tc)\n",
    "    print(\"total D grades: \", td)\n",
    "    print(\"total F grades: \", tf)\n",
    "    "
   ]
  },
  {
   "cell_type": "code",
   "execution_count": null,
   "metadata": {},
   "outputs": [],
   "source": [
    "#calling a function\n",
    "marks_calculation()"
   ]
  },
  {
   "cell_type": "markdown",
   "metadata": {},
   "source": [
    "#### input treats everything as a string  (characters)\n",
    "a=eval(input(\"enter the first no\"))\n",
    "b=eval(input(\"enter the second no\"))\n",
    "c=eval(input(\"enter the second no\"))\n",
    "#simple if\n",
    "#multiple if\n",
    "#if else\n",
    "#Nesting of ifs\n",
    "if a>b:\n",
    "    #a is bigger than b\n",
    "    if a>c:\n",
    "        print(\"greatest no is a \", a)\n",
    "    else:\n",
    "        print(\"greatest no is c \", c)\n",
    "else:\n",
    "    #b is bigger than a\n",
    "    if b > c:\n",
    "        print(\"greatest is b\", b)\n",
    "    else:\n",
    "        print(\"greatest no is c \", c)"
   ]
  },
  {
   "cell_type": "code",
   "execution_count": null,
   "metadata": {},
   "outputs": [],
   "source": [
    "#input treats everything as a string  (characters)\n",
    "a=eval(input(\"enter the first no\"))\n",
    "b=eval(input(\"enter the second no\"))\n",
    "c=eval(input(\"enter the second no\"))\n",
    "#simple if\n",
    "#multiple if\n",
    "#if else\n",
    "\n",
    "#Nesting of ifs\n",
    "\n",
    "#frist one was more efficient\n",
    "#takes less time\n",
    "\n",
    "if a>b and a>c:\n",
    "    print(\"greatest no is a \", a)\n",
    "elif b> a and b > c:\n",
    "        print(\"greatest no is b \", b)\n",
    "elif c> a and c> b:\n",
    "        print(\"greatest no is c \", c)"
   ]
  },
  {
   "cell_type": "code",
   "execution_count": null,
   "metadata": {},
   "outputs": [],
   "source": [
    "Q1 Write a program to input three nos and print the greatest.\n",
    "Q2 Write a program to input two numbers, add them, multiply them, \n",
    "divide them, find remainder,\n",
    "\n",
    "Q3 Write a program to input a figure like C , R, S   \n",
    "(C for circle, r for rectange and s for square)\n",
    "\n",
    "Check the figure and appropriately ask the parameters for calculating the area.\n",
    "\n",
    "Give an error message if something else is\n",
    "entered.\n",
    "\n",
    " (basicpay)\n",
    "Q4 Input Name and Bp of employee.\n",
    "calculate gross pay and net pay\n",
    "grosspay= bp + da + hra -Pf\n",
    "\n",
    "pf=12% of bp\n",
    "hra is 20% of bp but maximum can be 2000 only\n",
    "da is 20% of bp for bp < 3 lac\n",
    "otherwise\n",
    "da is 30% of bp\n",
    "netpay=grosspay - pf\n",
    "\n",
    "Q5 Calculate the income tax of an employee\n",
    "input the income\n",
    "if income < 3 lac no tax\n",
    "if income between 3 and 5 , tax = 20%\n",
    "if income between 5 and 8 , tax = 30%\n",
    "else\n",
    "tax=40%\n",
    "Q6 Enter a four digit number, check whether its leap year.\n",
    "\n",
    "\n",
    "Q. print sum of first 10 numbers\n",
    "Q. enter a no and print whether its prime\n",
    "Q.  enter two ranges eg start 100 to stop 1000 and print all prime numbers between the two ranges.\n",
    "Q.  enter a no print sum of its digits\n",
    "Eg 4567\n",
    "22\n",
    "4\n",
    "Q. print the sum of digits till you get a single number.\n",
    "Q Print Fibonicci series upto given terms.\n",
    "Q Enter 8 numbers, print their average.\n",
    "\n",
    "\n",
    "\n",
    "\n"
   ]
  },
  {
   "cell_type": "code",
   "execution_count": null,
   "metadata": {},
   "outputs": [],
   "source": [
    "#n=eval(input(\"enter the no to check for prime: \"))\n",
    "\n",
    "#47123\n",
    "#2,3,4,........24\n",
    "start=eval(input(\"enter the starting no\"))  # 100    101   102   103\n",
    "end=eval(input(\"enter the starting no\")) #    200\n",
    "\n",
    "for n in range(start,end,1):\n",
    "    half= n//2\n",
    "    div=2\n",
    "\n",
    "    while  div <= half: #2 reasons   #1. condition fail\n",
    "        if n%div==0:                 #2. break\n",
    "            print(n, \"is a not prime no because it divided by\", div)\n",
    "            break\n",
    "        else:\n",
    "            div=div+1\n",
    "            continue\n",
    "    else:   #will execute only when the whole loop has executed and condition now failed\n",
    "        print(n, \"is prime\")\n",
    "        "
   ]
  },
  {
   "cell_type": "code",
   "execution_count": null,
   "metadata": {},
   "outputs": [],
   "source": [
    "n=eval(input(\"enter the no to check for prime: \"))\n",
    "\n",
    "#4712341\n",
    "#2,3,4,........24\n",
    "\n",
    "for n in range(50,101):\n",
    "    half= n//2\n",
    "    print(\"half is\", half)\n",
    "\n",
    "    for div in range(2,half+1,1):\n",
    "        if n%div==0:                 #2. break\n",
    "            print(n,\"is a not prime no becoz it has divided by\", div)\n",
    "            break\n",
    "\n",
    "    else:   #will execute only when the whole loop has executed and condition now failed\n",
    "        print(n, \"is prime\")\n",
    "        print(\"the whole loop has executed\")\n",
    "        print(\"out of loop\")"
   ]
  },
  {
   "cell_type": "code",
   "execution_count": null,
   "metadata": {},
   "outputs": [],
   "source": [
    "a=0\n",
    "sum=0\n",
    "print(\"Enter nos to add, -ve no ends the input\")\n",
    "while(a >= 0):\n",
    "        a=eval(input())\n",
    "        continue       \n",
    "        if a >=0:\n",
    "            sum=sum+a \n",
    "        \n",
    "        \n",
    "print(\"Sum is :\" , sum)"
   ]
  },
  {
   "cell_type": "markdown",
   "metadata": {},
   "source": [
    "\n"
   ]
  },
  {
   "cell_type": "code",
   "execution_count": null,
   "metadata": {},
   "outputs": [],
   "source": [
    "a,b=input(\"enter two numbers\")\n",
    "print(a)"
   ]
  },
  {
   "cell_type": "code",
   "execution_count": null,
   "metadata": {},
   "outputs": [],
   "source": [
    "#greatest btw 2 nos\n",
    "a=eval(input(\"enter a\"))\n",
    "b=eval(input(\"enter b\"))\n",
    "if a>b:\n",
    "    print(a,\"is greatest\")\n",
    "else:\n",
    "    print(b,\"is greatest\")"
   ]
  },
  {
   "cell_type": "code",
   "execution_count": 7,
   "metadata": {},
   "outputs": [
    {
     "name": "stdout",
     "output_type": "stream",
     "text": [
      "30\n"
     ]
    }
   ],
   "source": [
    "print(x)"
   ]
  },
  {
   "cell_type": "code",
   "execution_count": null,
   "metadata": {},
   "outputs": [],
   "source": [
    "#greatest 3 nos efficient way of writing   less time (performance/throughput) and less space\n",
    "a=eval(input(\"enter no a:\"))\n",
    "b=eval(input(\"enter no b:\"))\n",
    "c=eval(input(\"enter no c:\"))\n",
    "if a>b:\n",
    "    if a>c:\n",
    "        print(\"a is greatest\")\n",
    "        print(a)\n",
    "    else:\n",
    "        print(c)\n",
    "#a < b\n",
    "else:\n",
    "    if b>c:\n",
    "        print(b)\n",
    "    else:\n",
    "        print(c)\n",
    "        \n",
    "print(\"end\")"
   ]
  },
  {
   "cell_type": "code",
   "execution_count": null,
   "metadata": {},
   "outputs": [],
   "source": [
    "#greatest 3 nos\n",
    "a=eval(input(\"enter no a:\"))\n",
    "b=eval(input(\"enter no b:\"))\n",
    "c=eval(input(\"enter no c:\"))\n",
    "if a>b and  a>c:\n",
    "        print(\"a is greatest\")\n",
    "        print(a)\n",
    "#a < b\n",
    "elif b > a and b>c:\n",
    "    print(b)\n",
    "else:\n",
    "    print(c)\n",
    "        \n",
    "print(\"end\")"
   ]
  },
  {
   "cell_type": "code",
   "execution_count": null,
   "metadata": {},
   "outputs": [],
   "source": [
    "#enter divisor and divident\n",
    "divident=eval(input(\"enter divident\"))\n",
    "divisor=eval(input(\"enter divisor\"))\n",
    "\n",
    "if divident!=0:\n",
    "    q=divident/divisor\n",
    "    print(q)\n",
    "else:\n",
    "    print(\"not possible\")"
   ]
  },
  {
   "cell_type": "code",
   "execution_count": null,
   "metadata": {},
   "outputs": [],
   "source": [
    "#3 marks nd grades\n",
    "counter=1\n",
    "ta=tb=tc=td=tf=0\n",
    "\n",
    "while counter <=5:\n",
    "    a=eval(input(\"enter no a:\"))\n",
    "    b=eval(input(\"enter no b:\"))\n",
    "    c=eval(input(\"enter no c:\"))\n",
    "\n",
    "    sum=a+b+c\n",
    "\n",
    "    if sum>=240:\n",
    "        print(\"A\")\n",
    "        ta=ta + 1\n",
    "    elif sum>=200:\n",
    "        print(\"B\")\n",
    "        tb = tb +1\n",
    "    elif sum>=180:\n",
    "        print(\"C\")\n",
    "        tc = tc +1\n",
    "    elif sum>=150:\n",
    "        print(\"D\")\n",
    "        td=td+1\n",
    "    else:\n",
    "        print(\"F\")\n",
    "        tf=tf+1\n",
    "\n",
    "    counter=counter+1\n",
    "    \n",
    "print(\"total a grades\", ta)\n",
    "print(\"total b grades\", tb)\n",
    "print(\"total c grades\", tc)\n",
    "print(\"total d grades\", td)\n"
   ]
  },
  {
   "cell_type": "code",
   "execution_count": null,
   "metadata": {},
   "outputs": [],
   "source": [
    "count=1\n",
    "#for three students\n",
    "ta=0\n",
    "tb=0\n",
    "tc=0\n",
    "td=0\n",
    "tf=0\n",
    "\n",
    "while count <=5:  \n",
    "    a=eval(input(\"Maths:\"))\n",
    "    b=eval(input(\"Physics:\"))\n",
    "    c=eval(input(\"Chemistry:\"))\n",
    "    \n",
    "    sum=a+b+c\n",
    "    if sum>=240:\n",
    "        ta=ta + 1\n",
    "    elif sum>=180:\n",
    "        tb=tb + 1\n",
    "    elif sum>=140:\n",
    "        tc=tc + 1\n",
    "    elif sum>=100:\n",
    "        td=td + 1\n",
    "    else:\n",
    "        tf=tf +1\n",
    "\n",
    "    count=count+1\n",
    "\n",
    "#summary\n",
    "print(\"total A grades:\",ta )\n",
    "print(\"total B grades:\", tb)\n",
    "print(\"total C grades:\", tc)\n",
    "print(\"total D grades:\", td)\n",
    "print(\"total Fail:\", tf)\n"
   ]
  },
  {
   "cell_type": "code",
   "execution_count": null,
   "metadata": {},
   "outputs": [],
   "source": [
    "count=1\n",
    "#for three students\n",
    "while count <=3:\n",
    "    name=input(\"enter name:\")\n",
    "    a=eval(input(\"Maths:\"))\n",
    "    b=eval(input(\"Physics:\"))\n",
    "    c=eval(input(\"Chemistry:\"))\n",
    "    d=eval(input(\"English:\"))\n",
    "    e=eval(input(\"Computers:\"))\n",
    "    \n",
    "    #Total\n",
    "    sum=a+b+c+d+e\n",
    "    \n",
    "    #calculate grade\n",
    "    if sum>=240:\n",
    "        print(\"A\")\n",
    "    elif sum>=200:\n",
    "        print(\"B\")\n",
    "    elif sum>=180:\n",
    "        print(\"C\")\n",
    "    elif sum>=150:\n",
    "        print(\"D\")\n",
    "\n",
    "    count=count+1"
   ]
  },
  {
   "cell_type": "markdown",
   "metadata": {},
   "source": [
    "### count=0\n",
    "while count <=3:\n",
    "    a=eval(input(\"enter no a:\"))\n",
    "    b=eval(input(\"enter no b:\"))\n",
    "    c=eval(input(\"enter no c:\"))\n",
    "    sum=a+b+c\n",
    "    if sum>=240:\n",
    "        print(\"A\")\n",
    "    elif sum>=200:\n",
    "        print(\"B\")\n",
    "    elif sum>=180:\n",
    "        print(\"C\")\n",
    "    elif sum>=150:\n",
    "        print(\"D\")\n",
    "    \n",
    "    count=count+1"
   ]
  },
  {
   "cell_type": "markdown",
   "metadata": {},
   "source": [
    "##### leap year\n",
    "year=eval(input(\"enter year\"))\n",
    "if year%4==0:\n",
    "    print(\"leap year is:\",year)\n",
    "else :\n",
    "    print(year,\"is not a leap year\")"
   ]
  },
  {
   "cell_type": "code",
   "execution_count": null,
   "metadata": {},
   "outputs": [],
   "source": [
    "#input shape and calculate area\n",
    "\n",
    "n=input(\"enter r for rectangle c for circle and t for triangle\")\n",
    "while n != 'q':\n",
    "    if n=='r' or n=='R':\n",
    "        l=eval(input(\"enter length:\"))\n",
    "        b=eval(input(\"enter breadth:\"))\n",
    "        area=l*b\n",
    "        print(\"area of rectangle is\",area)\n",
    "    else:\n",
    "        if n=='c' or n=='C':\n",
    "            r=eval(input(\"enter radius:\"))\n",
    "            area =3.14*r*r\n",
    "            print(\"area of circle is\",area)\n",
    "        else :\n",
    "            if n=='t' or n=='T':\n",
    "                b=eval(input(\"enter base:\"))\n",
    "                h=eval(input(\"enter height:\"))\n",
    "                area=0.5*b*h\n",
    "                print(\"area of triangle is\",area)\n",
    "            else :\n",
    "                print(\"Quit\")\n",
    "        "
   ]
  },
  {
   "cell_type": "code",
   "execution_count": null,
   "metadata": {},
   "outputs": [],
   "source": [
    "#input shape and calculate area\n",
    "n=input(\"enter r for rectangle c for circle and t for triangle\")\n",
    "if n=='r' or n=='R':\n",
    "    l=eval(input(\"enter length:\"))\n",
    "    b=eval(input(\"enter breadth:\"))\n",
    "    area=l*b\n",
    "    print(\"area of rectangle is\",area)\n",
    "else:\n",
    "    if n=='c' or n=='C':\n",
    "        r=eval(input(\"enter radius:\"))\n",
    "        area =3.14*r*r\n",
    "        print(\"area of circle is\",area)\n",
    "    else :\n",
    "        if n=='t' or n=='T':\n",
    "            b=eval(input(\"enter base:\"))\n",
    "            h=eval(input(\"enter height:\"))\n",
    "            area=0.5*b*h\n",
    "            print(\"area of triangle is\",area)\n",
    "        else :\n",
    "            print(\"Quit\")"
   ]
  },
  {
   "cell_type": "code",
   "execution_count": null,
   "metadata": {},
   "outputs": [],
   "source": [
    "#input shape by using WHILE\n",
    "n='x'\n",
    "tc=0\n",
    "tt=0\n",
    "tr=0\n",
    "\n",
    "while n != \"quit\" :\n",
    "   \n",
    "    n=input(\"enter r for rectangle c for circle and t for triangle\")\n",
    "    if n=='r' or n=='R' :\n",
    "        l=eval(input(\"enter length\"))\n",
    "        b=eval(input(\"enter breadth\"))\n",
    "        area=l*b\n",
    "        print(\"area of rectangle is\",area)\n",
    "        tr=tr+1\n",
    "    else :\n",
    "        if n=='c' or n=='C':\n",
    "            r=eval(input(\"enter radius:\"))\n",
    "            area =3.14*r*r\n",
    "            print(\"area of circle is\",area)\n",
    "            tc=tc+1\n",
    "        else :\n",
    "            if n=='t' or n=='T':\n",
    "                b=eval(input(\"enter base\"))\n",
    "                h=eval(input(\"enter height\"))\n",
    "                area=0.5*h*b\n",
    "                print(\"area of triangle is\",area)\n",
    "                tt=tt+1\n",
    "            else :\n",
    "                print(\"enter quit to exit\")\n",
    "    \n",
    "print (tt)\n",
    "print(tc)\n",
    "print(tr)\n",
    "print(\"end\")\n"
   ]
  },
  {
   "cell_type": "code",
   "execution_count": null,
   "metadata": {},
   "outputs": [],
   "source": []
  },
  {
   "cell_type": "code",
   "execution_count": null,
   "metadata": {},
   "outputs": [],
   "source": [
    "#sum of n numbers\n",
    "a=eval(input(\"enter no: \"))\n",
    "i=1\n",
    "sum=0\n",
    "while i<=a:\n",
    "    sum=sum+i\n",
    "    i+=1\n",
    "print(\"sum is \",sum)"
   ]
  },
  {
   "cell_type": "code",
   "execution_count": null,
   "metadata": {},
   "outputs": [],
   "source": [
    "#to find prime number\n",
    "n=eval(input(\"enter number\"))\n",
    "d=2\n",
    "while d<n/2 :\n",
    "    if n%d==0:\n",
    "        print(n,\" is not a prime number\")\n",
    "        break\n",
    "    else:\n",
    "        d+=1\n",
    "if d>=n/2:\n",
    "    print(n,\" is a prime number\")\n",
    "    "
   ]
  },
  {
   "cell_type": "markdown",
   "metadata": {},
   "source": [
    "#### start=int(input(\"enter the starting no to find as prime\"))\n",
    "end=int(input(\"enter the ending no \"))\n",
    "for n in range(start,end+1,1):\n",
    "    for d in range(2,n//2,1):\n",
    "        if n%d == 0:\n",
    "            print(n,\" is Not Prime\")\n",
    "            break\n",
    "    else:\n",
    "        print(n, \" is Prime\")\n",
    "        #if d == (n//2)-1:\n",
    "           #print(n, \"  is Prime\")"
   ]
  },
  {
   "cell_type": "code",
   "execution_count": null,
   "metadata": {},
   "outputs": [],
   "source": [
    "#print prime nos between a range    100    200\n",
    "start=int(input(\"enter the starting no to find as prime\"))\n",
    "end=int(input(\"enter the ending no \"))\n",
    "flag=0\n",
    "for n in range(start,end+1,1):\n",
    "    flag=0\n",
    "    for d in range(2,n//2,1):\n",
    "        if n%d == 0:\n",
    "            print(n,\" is Not Prime\")\n",
    "            flag=1\n",
    "            break\n",
    "    if flag==0:\n",
    "        print(n, \"  is Prime\")"
   ]
  },
  {
   "cell_type": "code",
   "execution_count": null,
   "metadata": {},
   "outputs": [],
   "source": [
    "def fib(n):\n",
    "  \"\"\"Print a Fibonacci series up to n.\"\"\"\n",
    "  a, b = 0, 1\n",
    "  while b < n:\n",
    "    print (b)\n",
    "    a, b = b, a+b"
   ]
  },
  {
   "cell_type": "code",
   "execution_count": null,
   "metadata": {},
   "outputs": [],
   "source": [
    "for n in range(1,11):\n",
    "    print(n )"
   ]
  },
  {
   "cell_type": "code",
   "execution_count": null,
   "metadata": {},
   "outputs": [],
   "source": [
    "for i in range(21,0,-3):\n",
    "    print(i,end=\" \")"
   ]
  },
  {
   "cell_type": "code",
   "execution_count": null,
   "metadata": {},
   "outputs": [],
   "source": [
    "#nesting\n",
    "for i in range (1,5,1):\n",
    "    for j in range(1,3,1):\n",
    "        print(\"i=\",i,\" \",\"j=\",j)"
   ]
  },
  {
   "cell_type": "code",
   "execution_count": null,
   "metadata": {},
   "outputs": [],
   "source": [
    "#multiplication table\n",
    "n=int(input(\"enter no:\"))\n",
    "for i in range (0,n+1,1):\n",
    "    print(n,\"*\",i,\"=\",n*i)"
   ]
  },
  {
   "cell_type": "code",
   "execution_count": null,
   "metadata": {},
   "outputs": [],
   "source": [
    "#fibonaci series\n",
    "n=int(input(\"enter no of terms: \"))\n",
    "a=0\n",
    "b=1\n",
    "for i in range (1,n+1,1):\n",
    "    print(a,end=\" \")\n",
    "    a,b=b,a+b"
   ]
  },
  {
   "cell_type": "code",
   "execution_count": null,
   "metadata": {},
   "outputs": [],
   "source": [
    "#avg of numbers entered by user\n",
    "m=int(input(\"enter m :\"))\n",
    "n=int(input(\"enter n :\"))\n",
    "sum=0\n",
    "for i in range(m,n+1,1):\n",
    "    sum=sum+i\n",
    "print(sum)\n",
    "total=n-m\n",
    "avg=sum/total\n",
    "print(\"avg is\",avg)"
   ]
  },
  {
   "cell_type": "code",
   "execution_count": null,
   "metadata": {},
   "outputs": [],
   "source": [
    "s=0\n",
    "i=1\n",
    "\n",
    "num=input('how many os to be entered:')\n",
    "while i <=int(num):\n",
    "    num1=input('enter number:')\n",
    "    s=s+int(num1)\n",
    "    i=i+1\n",
    "    \n",
    "avg=s/5\n",
    "print(\"Average is :\",avg)"
   ]
  },
  {
   "cell_type": "code",
   "execution_count": null,
   "metadata": {},
   "outputs": [],
   "source": [
    "%run sum.py"
   ]
  },
  {
   "cell_type": "code",
   "execution_count": null,
   "metadata": {},
   "outputs": [],
   "source": [
    "%%file prog2.py\n",
    "print(\"hello\")"
   ]
  },
  {
   "cell_type": "code",
   "execution_count": null,
   "metadata": {},
   "outputs": [],
   "source": [
    "bp=eval(input(\"enter basicpay\"))\n",
    "if bp < 30000:\n",
    "        da=20/100 * bp\n",
    "else:\n",
    "        da=30/100 * bp\n",
    "hra=20/100 * bp\n",
    "if hra > 2000:\n",
    "        hra=2000\n",
    "pf=12/100 * bp\n",
    "\n",
    "gp=bp + hra + da \n",
    "\n",
    "np=gp - pf\n",
    "        \n",
    "print(\"Netpay is\", np)\n",
    "print(\"Gross pay\", gp)\n",
    "\n",
    "print(type(gp))\n",
    "        \n"
   ]
  },
  {
   "cell_type": "code",
   "execution_count": null,
   "metadata": {},
   "outputs": [],
   "source": [
    "<=3 lac no tax\n",
    "<=5 lac 4 lac 20%  \n",
    "<=8 lac 30\n",
    "40%\n",
    "\n",
    "if salary < 300000\n",
    "   tax=0\n",
    "else \n",
    "    if salary <=500000\n",
    "        salary-3 lac * 20%\n",
    "    else\n",
    "        if salary <=8 lacs   ( 7 lac)\n",
    "             2 lac * 20% + sal- 5lac * 30%\n",
    "        else \n",
    "             (9 lac) 2 lac * 20% + 3 lac * 30 + sal - 8 * 40% \n",
    "            \n",
    "   \n",
    "\n",
    "\n"
   ]
  },
  {
   "cell_type": "code",
   "execution_count": null,
   "metadata": {},
   "outputs": [],
   "source": [
    "TA=TB=TC=TD=TR=0\n",
    "for i in range(5):\n",
    "    physics=eval(input(\"enter physics marks\"))\n",
    "    chem=eval(input(\"enter chemistry marks\"))\n",
    "    maths=eval(input(\"enter maths marks\"))\n",
    "\n",
    "    total= physics + chem + maths\n",
    "\n",
    "    percentage=total/300 *100\n",
    "\n",
    "    if percentage >= 90:\n",
    "        grade=\"A\"\n",
    "        TA=TA+1\n",
    "    elif percentage >=80:\n",
    "        grade=\"B\"\n",
    "        TB=TB+1\n",
    "    elif percentage >=70:\n",
    "        grade=\"C\"\n",
    "        TC=TC+1\n",
    "    elif percentage >=60:\n",
    "        grade=\"D\"\n",
    "        TD=TD+1\n",
    "    else:\n",
    "        grade=\"R\"\n",
    "        TR=TR+1\n",
    "\n",
    "    print(grade)  \n",
    "\n",
    "print(\"A graders are: \", TA)\n",
    "print(\"B graders are: \", TB)\n",
    "print(\"C graders are: \", TC)\n",
    "print(\"D graders are: \", TD)\n",
    "print(\"R graders are: \", TR)\n",
    "\n",
    "\n",
    "    \n",
    "    \n",
    "    \n",
    "    "
   ]
  },
  {
   "cell_type": "markdown",
   "metadata": {},
   "source": [
    "enter your income, print the income tax\n",
    "<= 5 lac  no tax\n",
    "<=10 lac 10% tax\n",
    "<=20 lac 20% tax\n",
    "<=30 lac 30% tax\n",
    "otherwise\n",
    "40%\n",
    "\n",
    "\n"
   ]
  },
  {
   "cell_type": "code",
   "execution_count": null,
   "metadata": {},
   "outputs": [],
   "source": [
    "#area calculator\n",
    "def areacalculator():\n",
    "    _input_ = input(\"Enter the shape you want to calculate area of: \")\n",
    "    area = 0\n",
    "    pie = 3.14\n",
    "    if _input_ == \"Square\":\n",
    "        side = int(input(\"Enter the value of side: \"))\n",
    "        area = area + (side ** 2)\n",
    "    elif _input_ == \"Circle\":\n",
    "        radius = int(input(\"Enter the value of radius: \"))\n",
    "        area = area + (2 * pie * radius)\n",
    "    elif _input_ == \"Rectangle\":\n",
    "        length = int(input(\"Enter the value of length: \"))\n",
    "        width = int(input(\"Enter the value of length: \"))\n",
    "        area = area + (length * width)\n",
    "    elif _input_ == \"Triangle\":\n",
    "        base = int(input(\"Enter the value of base: \"))\n",
    "        height = int(input(\"Enter the value of height: \"))\n",
    "        area = area +(0.5 * base * height)\n",
    "    else:\n",
    "        print (\"Select a valid shape\") \n",
    "    print (\"%.2f\" % area)  "
   ]
  },
  {
   "cell_type": "code",
   "execution_count": null,
   "metadata": {},
   "outputs": [],
   "source": [
    "areacalculator()"
   ]
  },
  {
   "cell_type": "markdown",
   "metadata": {},
   "source": []
  },
  {
   "cell_type": "code",
   "execution_count": null,
   "metadata": {},
   "outputs": [],
   "source": [
    "def calculate_incometax(income):\n",
    "    if income <= 500000:\n",
    "        tax=0\n",
    "    else:\n",
    "        if income <= 1000000:\n",
    "            tax=(income-500000)*10/100\n",
    "        else:\n",
    "            tax =90000  \n",
    "    \n",
    "    print(\"Tax is \", tax)\n",
    "    income=income+1000\n",
    "    \n",
    "    print(income)\n",
    "    #everything is passed by reference\n",
    "    "
   ]
  },
  {
   "cell_type": "code",
   "execution_count": null,
   "metadata": {},
   "outputs": [],
   "source": [
    "income=eval(input(\"enter the income\"))\n",
    "calculate_incometax(income)\n",
    "print(income)"
   ]
  },
  {
   "cell_type": "code",
   "execution_count": null,
   "metadata": {},
   "outputs": [],
   "source": [
    "id(income)"
   ]
  },
  {
   "cell_type": "code",
   "execution_count": null,
   "metadata": {},
   "outputs": [],
   "source": [
    "a=10\n",
    "b=29\n",
    "print(id(b))"
   ]
  },
  {
   "cell_type": "code",
   "execution_count": null,
   "metadata": {},
   "outputs": [],
   "source": [
    "print(id(a))"
   ]
  },
  {
   "cell_type": "code",
   "execution_count": null,
   "metadata": {},
   "outputs": [],
   "source": [
    "c=10"
   ]
  },
  {
   "cell_type": "code",
   "execution_count": null,
   "metadata": {},
   "outputs": [],
   "source": [
    "print(id(c))"
   ]
  },
  {
   "cell_type": "code",
   "execution_count": 1,
   "metadata": {},
   "outputs": [],
   "source": [
    "def calculate_incometax(income):\n",
    "    \n",
    "        if income < 10000:\n",
    "            tax = 0\n",
    "        elif income > 10000 and income <= 30000:\n",
    "            tax = (income-10000)*(0.1)\n",
    "        elif income > 30000 and income <= 70000:\n",
    "            tax = (income-30000)*(0.2) + 2000\n",
    "        elif income > 70000:\n",
    "            tax = (income - 70000)*(0.3) + 10000\n",
    "        return tax\n"
   ]
  },
  {
   "cell_type": "code",
   "execution_count": 2,
   "metadata": {},
   "outputs": [],
   "source": [
    "t=calculate_incometax(100000)"
   ]
  },
  {
   "cell_type": "code",
   "execution_count": 3,
   "metadata": {},
   "outputs": [
    {
     "name": "stdout",
     "output_type": "stream",
     "text": [
      "19000.0\n"
     ]
    }
   ],
   "source": [
    "print(t)"
   ]
  },
  {
   "cell_type": "code",
   "execution_count": null,
   "metadata": {},
   "outputs": [],
   "source": []
  }
 ],
 "metadata": {
  "kernelspec": {
   "display_name": "Python 3",
   "language": "python",
   "name": "python3"
  },
  "language_info": {
   "codemirror_mode": {
    "name": "ipython",
    "version": 3
   },
   "file_extension": ".py",
   "mimetype": "text/x-python",
   "name": "python",
   "nbconvert_exporter": "python",
   "pygments_lexer": "ipython3",
   "version": "3.6.4"
  }
 },
 "nbformat": 4,
 "nbformat_minor": 2
}
