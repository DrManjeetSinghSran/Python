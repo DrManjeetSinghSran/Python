{
 "cells": [
  {
   "cell_type": "code",
   "execution_count": null,
   "metadata": {},
   "outputs": [],
   "source": [
    "num1,num2=eval(input('enter first number:'))\n",
    "\n",
    "sum=int(num1)+int(num2)\n",
    "print(sum)"
   ]
  },
  {
   "cell_type": "code",
   "execution_count": 26,
   "metadata": {},
   "outputs": [
    {
     "name": "stdout",
     "output_type": "stream",
     "text": [
      "How many students marks to be entered?5\n",
      "enter marks90\n",
      "grade of student  1 is  A\n",
      "enter marks23\n",
      "grade of student  2 is  A\n",
      "enter marks56\n",
      "grade of student  3 is  C\n",
      "enter marks67\n",
      "grade of student  4 is  B\n",
      "enter marks87\n",
      "grade of student  5 is  A\n",
      "total a graders: 2\n",
      "total a graders: 1\n",
      "total a graders: 1\n",
      "total a graders: 0\n"
     ]
    }
   ],
   "source": [
    "#counters\n",
    "a=b=c=d=f=0\n",
    "n=eval(input(\"How many students marks to be entered?\"))\n",
    "\n",
    "for i in range(0,n):\n",
    "    marks=eval(input(\"enter marks\"))\n",
    "    if marks >=80:\n",
    "        grade=\"A\"\n",
    "        a=a+1\n",
    "    elif marks >=60:\n",
    "            grade=\"B\"\n",
    "            b=b+1\n",
    "    elif marks >=40:\n",
    "            grade=\"C\"\n",
    "            c=c+1\n",
    "    elif marks >=30:\n",
    "            grade=\"F\"\n",
    "            f=f+1\n",
    "    print(\"grade of student \", i+1, \"is \",grade)\n",
    "        \n",
    "print(\"total a graders:\", a)\n",
    "print(\"total b graders:\", b)\n",
    "print(\"total c graders:\", c)\n",
    "print(\"total f graders:\",f )\n"
   ]
  },
  {
   "cell_type": "markdown",
   "metadata": {},
   "source": [
    "##### add till a negative no is entered\n",
    "s=0\n",
    "i=0\n",
    "while i >= 0:\n",
    "    i=eval(input(\"enter a no\"))\n",
    "s=s+i\n",
    "print(s)\n"
   ]
  },
  {
   "cell_type": "code",
   "execution_count": null,
   "metadata": {},
   "outputs": [],
   "source": [
    "a=10\n",
    "b=3\n",
    "c=7\n",
    "if a> b:\n",
    "    print(\"hello\")\n",
    "    print(\"a is big\")\n",
    "else:\n",
    "    print(\"b is big\")\n",
    "    print(\"nohello\")"
   ]
  },
  {
   "cell_type": "code",
   "execution_count": null,
   "metadata": {},
   "outputs": [],
   "source": [
    "a=10\n",
    "b=30\n",
    "c=7\n",
    "if a> b and a > c:\n",
    "    print(\"hello\")\n",
    "    print(\"a is big\")\n",
    "else:\n",
    "    if b>a and b>c:\n",
    "        print(\"b is big\")\n",
    "        print(\"nohello\")\n",
    "    else:\n",
    "        if c>a and c> b:\n",
    "            print(c)\n",
    "        "
   ]
  },
  {
   "cell_type": "code",
   "execution_count": null,
   "metadata": {},
   "outputs": [],
   "source": [
    "a=10\n",
    "b=30\n",
    "c=70\n",
    "if a<= b <= c:\n",
    "    print(\"hello\")\n",
    "    print(\"b between\")\n"
   ]
  },
  {
   "cell_type": "code",
   "execution_count": null,
   "metadata": {},
   "outputs": [],
   "source": [
    "#add till a negative no is entereds=0\n",
    "i=0\n",
    "s=0\n",
    "while i >= 0:\n",
    "    i=eval(input(\"enter a no\"))\n",
    "    if i >0:\n",
    "      s=s+i\n",
    "print(s)\n",
    "#correct"
   ]
  },
  {
   "cell_type": "code",
   "execution_count": null,
   "metadata": {},
   "outputs": [],
   "source": [
    "#break and continue\n",
    "s=0\n",
    "i=0\n",
    "while ( True):\n",
    "    i=int(input(\"enter a no\"))\n",
    "    if i < 0:\n",
    "        break\n",
    "    else:\n",
    "        s=s+i\n",
    "        continue        \n",
    "print(s)\n",
    "    \n"
   ]
  },
  {
   "cell_type": "markdown",
   "metadata": {},
   "source": []
  },
  {
   "cell_type": "code",
   "execution_count": null,
   "metadata": {},
   "outputs": [],
   "source": [
    "#add only positive integers, ignore negative and 999to stop\n",
    "sum=0\n",
    "Done=False\n",
    "while not Done:\n",
    "    val=eval(input(\"Enter Positive Integers (999 will quit):\"))\n",
    "    if val< 0:\n",
    "        print(\"Negative Value”, val, “ignored\")\n",
    "        continue  # skip rest of the body for this iteration\n",
    "    if val !=999:\n",
    "        sum+=val\n",
    "    else:\n",
    "        Done=(val==999)   # 999 input would exit the loop\n",
    "        continue\n",
    "print(\"Sum is\", sum)\n"
   ]
  },
  {
   "cell_type": "code",
   "execution_count": null,
   "metadata": {},
   "outputs": [],
   "source": [
    "for n in range(21, 0, -3):\n",
    "    print(n, '', end='')\n",
    "\n",
    "\n",
    "print()\n",
    "for n in range(20) :\n",
    "    print(n,end='')\n",
    "\n",
    "print()\n",
    "sum = 0\n",
    "for i in range(1, 100):\n",
    "    sum += i\n",
    "print(sum)\n"
   ]
  },
  {
   "cell_type": "code",
   "execution_count": null,
   "metadata": {},
   "outputs": [],
   "source": [
    "#else in for loop\n",
    "for i in range (1,4):\n",
    "    print(i)\n",
    "    #break\n",
    "else:\n",
    "    print(\"No Break\")\n"
   ]
  },
  {
   "cell_type": "code",
   "execution_count": null,
   "metadata": {},
   "outputs": [],
   "source": [
    "for i in range(1,5):\n",
    "    for j in range(1,3):\n",
    "        print(\"i=\", i,\" \",\"j =\",  j)\n",
    "\n",
    "        \n",
    "for (i=0 ; i < 10 ; i++)     i 10"
   ]
  },
  {
   "cell_type": "code",
   "execution_count": null,
   "metadata": {},
   "outputs": [],
   "source": [
    "for k in range(4,8,1):\n",
    "    a=int(input())  \n",
    "    if a < 0:\n",
    "        break # checking for negative number\n",
    "    \n",
    "    \n",
    "if k==7:\n",
    "    print(\"loop fully executed\")\n",
    "else:\n",
    "    print(\"loop terminated in between\")\n",
    "print(\"k value is :\",k)\n",
    "    "
   ]
  },
  {
   "cell_type": "markdown",
   "metadata": {},
   "source": [
    "# Prime No"
   ]
  },
  {
   "cell_type": "code",
   "execution_count": 7,
   "metadata": {},
   "outputs": [
    {
     "name": "stdout",
     "output_type": "stream",
     "text": [
      "enter the no to find as prime47\n",
      "47   is Prime\n"
     ]
    }
   ],
   "source": [
    "#check for a prime no\n",
    "n=int(input(\"enter the no to find as prime\"))\n",
    "\n",
    "for div in range(2,n//2,1):\n",
    "    if n%div == 0:\n",
    "            print(n,\" is Not Prime\")\n",
    "            break\n",
    "    else:\n",
    "            continue\n",
    "\n",
    "else:\n",
    "     print(n, \"  is Prime\")\n",
    "        \n",
    "        \n",
    "    \n",
    "#standard two ways  flag  or  after coming out of loop check the end condition\n",
    "#if div == (n//2)-1:\n",
    "    #print(n, \"  is Prime\")"
   ]
  },
  {
   "cell_type": "code",
   "execution_count": 17,
   "metadata": {},
   "outputs": [
    {
     "name": "stdout",
     "output_type": "stream",
     "text": [
      "10  is Not Prime\n",
      "11   is Prime\n",
      "12  is Not Prime\n",
      "13   is Prime\n",
      "14  is Not Prime\n"
     ]
    }
   ],
   "source": [
    "#check for a prime no\n",
    "for n in range(10, 15,1):\n",
    "    for d in range(2,n//2,1):\n",
    "        if n%d == 0:\n",
    "            print(n,\" is Not Prime\")\n",
    "            break\n",
    "    \n",
    "    if d == (n//2)-1:\n",
    "           print(n, \"  is Prime\")\n"
   ]
  },
  {
   "cell_type": "markdown",
   "metadata": {},
   "source": [
    "# Else in for loop"
   ]
  },
  {
   "cell_type": "code",
   "execution_count": null,
   "metadata": {},
   "outputs": [],
   "source": [
    "#print prime nos between a range\n",
    "start=int(input(\"enter the starting no to find as prime\")) \n",
    "end=int(input(\"enter the ending no \"))\n",
    "\n",
    "for n in range(start,end+1,1):   \n",
    "    for d in range(2,n//2,1):     \n",
    "        if n%d == 0:\n",
    "            print(n,\" is Not Prime\")\n",
    "            break\n",
    "    else:\n",
    "        #if d == (n//2)-1:\n",
    "            print(n, \"  is Prime\")\n"
   ]
  },
  {
   "cell_type": "markdown",
   "metadata": {},
   "source": [
    "# def main():\n",
    "sum=0.0\n",
    "no_of_values=5\n",
    "print(\"Please Enter\", no_of_values, \"numbers\")\n",
    "for i in range(0,no_of_values):\n",
    "    num=eval(input(\"Enter number \" + str(i) + \": \"))\n",
    "    sum=sum+num\n",
    "avg=sum/no_of_values\n",
    "print(\"Average is \", avg)\n",
    "main()"
   ]
  },
  {
   "cell_type": "code",
   "execution_count": null,
   "metadata": {},
   "outputs": [],
   "source": [
    "#fibSeries(n):\n",
    "n=int(input(\"enter terms\"))\n",
    "a, b = 0, 1\n",
    "t=1\n",
    "while t <= n:\n",
    "        print (b,)\n",
    "        a, b = b, a+b\n",
    "        t+=1"
   ]
  },
  {
   "cell_type": "code",
   "execution_count": null,
   "metadata": {},
   "outputs": [],
   "source": [
    "#fibSeries(n):\n",
    "n=int(input(\"enter terms\"))\n",
    "a,b=0,1\n",
    "for i in range(1,n+1):\n",
    "    print (b)\n",
    "    a, b = b, a+b\n",
    "    "
   ]
  },
  {
   "cell_type": "code",
   "execution_count": null,
   "metadata": {},
   "outputs": [],
   "source": []
  },
  {
   "cell_type": "code",
   "execution_count": null,
   "metadata": {},
   "outputs": [],
   "source": [
    "s=0\n",
    "i=0\n",
    "while i >= 0:\n",
    "    i=eval(input(\"enter a no\"))\n",
    "    s=s+i\n",
    "print(s)"
   ]
  },
  {
   "cell_type": "code",
   "execution_count": null,
   "metadata": {},
   "outputs": [],
   "source": [
    "n=eval(input(\"enter the no to sum\"))\n",
    "s=0\n",
    "while (n !=0):\n",
    "    r=n%10\n",
    "    s=s+r\n",
    "    n=n/10\n",
    "    print(s)"
   ]
  },
  {
   "cell_type": "markdown",
   "metadata": {},
   "source": [
    "# Sum of digits of a number"
   ]
  },
  {
   "cell_type": "code",
   "execution_count": null,
   "metadata": {},
   "outputs": [],
   "source": [
    "    s=0\n",
    "    n=4567\n",
    "    while n !=0:\n",
    "        r=n%10\n",
    "        s=s+r\n",
    "        n=n//10\n",
    "    print(s)    \n",
    "   "
   ]
  },
  {
   "cell_type": "markdown",
   "metadata": {},
   "source": [
    "# Sum of Digits till single digit"
   ]
  },
  {
   "cell_type": "code",
   "execution_count": null,
   "metadata": {},
   "outputs": [],
   "source": [
    "def sum(n):\n",
    "    s=0\n",
    "    while n !=0:\n",
    "        r=n%10\n",
    "        s=s+r\n",
    "        n=n//10\n",
    "    return s\n",
    "    \n",
    "def main():\n",
    "    n=eval(input(\"enter the no to sum\"))    \n",
    "    while (n >9):\n",
    "        n=sum(n)    \n",
    "    print(n)    \n",
    "\n",
    "    if a=='S'  \n",
    "\n",
    "main()"
   ]
  },
  {
   "cell_type": "code",
   "execution_count": null,
   "metadata": {},
   "outputs": [],
   "source": [
    "#print a table\n",
    "def printtable(n):\n",
    "    for i in range(1,11,1):\n",
    "        print(n, \" x \", i , \" = \", n*i)\n",
    "        \n",
    "printtable(5)        \n",
    "\n",
    "\n",
    "\n"
   ]
  },
  {
   "cell_type": "code",
   "execution_count": null,
   "metadata": {},
   "outputs": [],
   "source": [
    "#to reverse a number\n",
    "n=int(input(\"Enter number: \"))\n",
    "rev=0\n",
    "while(n>0):\n",
    "    dig=n%10\n",
    "    rev=rev*10+dig\n",
    "    n=n//10\n",
    "print(\"Reverse of the number:\",rev)"
   ]
  },
  {
   "cell_type": "code",
   "execution_count": null,
   "metadata": {},
   "outputs": [],
   "source": [
    "# to take in the marks of 5 subjects and display the grade. \n",
    "sub1=int(input(\"Enter marks of the first subject: \"))\n",
    "sub2=int(input(\"Enter marks of the second subject: \"))\n",
    "sub3=int(input(\"Enter marks of the third subject: \"))\n",
    "sub4=int(input(\"Enter marks of the fourth subject: \"))\n",
    "sub5=int(input(\"Enter marks of the fifth subject: \"))\n",
    "avg=(sub1+sub2+sub3+sub4+sub4)/5\n",
    "if(avg>=90):\n",
    "    print(\"Grade: A\")\n",
    "elif(avg>=80 and avg<90):\n",
    "    print(\"Grade: B\")\n",
    "elif(avg>=70 and avg<80):\n",
    "    print(\"Grade: C\")\n",
    "elif(avg>=60 and avg<70):\n",
    "    print(\"Grade: D\")\n",
    "else:\n",
    "    print(\"Grade: F\")"
   ]
  },
  {
   "cell_type": "code",
   "execution_count": null,
   "metadata": {},
   "outputs": [],
   "source": [
    "#to accept three distinct digits and prints all possible combinations from the digits.\n",
    "a=int(input(\"Enter first number:\"))\n",
    "b=int(input(\"Enter second number:\"))\n",
    "c=int(input(\"Enter third number:\"))\n",
    "d=[]\n",
    "d.append(a)\n",
    "d.append(b)\n",
    "d.append(c)\n",
    "for i in range(0,3):\n",
    "    for j in range(0,3):\n",
    "        for k in range(0,3):\n",
    "            if(i!=j&j!=k&k!=i):\n",
    "                print(d[i],d[j],d[k])\n",
    "print(d)"
   ]
  },
  {
   "cell_type": "code",
   "execution_count": null,
   "metadata": {},
   "outputs": [],
   "source": [
    "#to check whethr n is a palindrome\n",
    "n=int(input(\"Enter number:\"))\n",
    "temp=n\n",
    "rev=0\n",
    "while(n>0):\n",
    "    dig=n%10\n",
    "    rev=rev*10+dig\n",
    "    n=n//10\n",
    "if(temp==rev):\n",
    "    print(\"The number is a palindrome!\")\n",
    "else:\n",
    "    print(\"The number isn't a palindrome!\")\n",
    "    \n",
    "#or \n",
    "if str(temp)==(str(temp)[::-1]):\n",
    "    print(\"palindrome\")\n",
    "print(str(temp)[2:4])\n",
    "a=\"hello\"\n",
    "print(a[::-1])"
   ]
  },
  {
   "cell_type": "code",
   "execution_count": null,
   "metadata": {},
   "outputs": [],
   "source": []
  },
  {
   "cell_type": "code",
   "execution_count": null,
   "metadata": {},
   "outputs": [],
   "source": []
  },
  {
   "cell_type": "code",
   "execution_count": null,
   "metadata": {},
   "outputs": [],
   "source": [
    "n=input(\"Enter number:\")\n",
    "temp=n\n",
    "\n",
    "#if done like this\n",
    "#temp=int(n)\n",
    "#you get an errr int object is not subscriptable as slicing on int not possible\n",
    "if temp==temp[::-1]:\n",
    "    print(\"palindrome\")\n",
    "else:\n",
    "    print(\"Not a palidrome\")"
   ]
  },
  {
   "cell_type": "code",
   "execution_count": null,
   "metadata": {},
   "outputs": [],
   "source": [
    "#to print an identity matrix\n",
    "n=int(input(\"Enter a number: \"))\n",
    "for i in range(0,n):\n",
    "    for j in range(0,n):\n",
    "        if(i==j):\n",
    "            print(\"1\",sep=\" \",end=\" \")\n",
    "        else:\n",
    "            print(\"0\",sep=\" \",end=\" \")\n",
    "    print()"
   ]
  },
  {
   "cell_type": "code",
   "execution_count": null,
   "metadata": {},
   "outputs": [],
   "source": [
    "#to print inverted star pattern\n",
    "n=int(input(\"Enter number of rows: \"))\n",
    "for i in range (n,0,-1):\n",
    "    print((n-i) * ' ' + i * '*')"
   ]
  },
  {
   "cell_type": "code",
   "execution_count": null,
   "metadata": {},
   "outputs": [],
   "source": [
    "#enter a date, check its validity and print the incremented date by one day\n",
    "date=input(\"Enter the date: \")\n",
    "dd,mm,yy=date.split('/')\n",
    "dd=int(dd)\n",
    "mm=int(mm)\n",
    "yy=int(yy)\n",
    "if(mm==1 or mm==3 or mm==5 or mm==7 or mm==8 or mm==10 or mm==12):\n",
    "    max1=31\n",
    "elif(mm==4 or mm==6 or mm==9 or mm==11):\n",
    "    max1=30\n",
    "elif(yy%4==0 and yy%100!=0 or yy%400==0):\n",
    "    max1=29\n",
    "else:\n",
    "    max1=28\n",
    "    \n",
    "if(mm<1 or mm>12):\n",
    "    print(\"Date is invalid.\")\n",
    "elif(dd<1 or dd>max1):\n",
    "    print(\"Date is invalid.\")\n",
    "elif(dd==max1 and mm!=12):\n",
    "    dd=1\n",
    "    mm=mm+1\n",
    "    print(\"The incremented date is: \",dd,mm,yy)\n",
    "elif(dd==31 and mm==12):\n",
    "    dd=1\n",
    "    mm=1\n",
    "    yy=yy+1\n",
    "    print(\"The incremented date is: \",dd,mm,yy)\n",
    "else:\n",
    "    dd=dd+1\n",
    "    print(\"The incremented date is: \",dd,mm,yy)"
   ]
  },
  {
   "cell_type": "code",
   "execution_count": null,
   "metadata": {},
   "outputs": [],
   "source": [
    "#to check if no is a perfect no\n",
    "n = int(input(\"Enter any number: \"))\n",
    "sum1 = 0\n",
    "for i in range(1, n):\n",
    "    if(n % i == 0):\n",
    "        sum1 = sum1 + i\n",
    "if (sum1 == n):\n",
    "    print(\"The number is a Perfect number!\")\n",
    "else:\n",
    "    print(\"The number is not a Perfect number!\")"
   ]
  },
  {
   "cell_type": "code",
   "execution_count": null,
   "metadata": {},
   "outputs": [],
   "source": [
    "#to find all numbers which are odd and palindromes between a range of numbers without using recursion\n",
    "a=[]\n",
    "l=int(input(\"Enter lower limit: \"))\n",
    "u=int(input(\"Enter upper limit: \"))\n",
    "a=[x for x in range(l,u+1) if x%2!=0 and str(x)==str(x)[::-1]]\n",
    "print(\"The numbers are: \",a)\n",
    "print(str(23498)[::-1])"
   ]
  },
  {
   "cell_type": "markdown",
   "metadata": {},
   "source": [
    "#calculator\n",
    "def add(a,b):\n",
    "        return a+b\n",
    "def mul(a,b):\n",
    "        return a*b\n",
    "def div(a,b):\n",
    "        return a/b\n",
    "def sub(a,b):\n",
    "        return a-b\n",
    "\n",
    "a=int(input(\"Enter first number: \"))\n",
    "b=int(input(\"Enter second number: \"))\n",
    "\n",
    "choice=1\n",
    "while choice!=0:\n",
    "    print(\"0. Exit\")\n",
    "    print(\"1. Add\")\n",
    "    print(\"2. Subtraction\")\n",
    "    print(\"3. Multiplication\")\n",
    "    print(\"4. Division\")\n",
    "    choice=int(input(\"Enter choice: \"))\n",
    "    if choice==1:\n",
    "        print(\"Result: \",add(a,b))\n",
    "        \n",
    "    elif choice==2:\n",
    "        print(\"Result: \",sub(a,b))\n",
    "        \n",
    "    elif choice==3:\n",
    "        print(\"Result: \",mul(a,b))\n",
    "        \n",
    "    elif choice==4:\n",
    "        print(\"Result: \",round(div(a,b),2))\n",
    "        \n",
    "    elif choice==0:\n",
    "        print(\"Exiting!\")\n",
    "    else:\n",
    "        print(\"Invalid choice!!\")\n",
    " \n",
    " \n",
    "print()"
   ]
  },
  {
   "cell_type": "code",
   "execution_count": null,
   "metadata": {},
   "outputs": [],
   "source": [
    "#calculator def add(a,b): return a+b def mul(a,b): return a*b def div(a,b): return a/b def sub(a,b): return a-b\n",
    "\n",
    "def sub(a,b):\n",
    "    return a-b\n",
    "def mul(a,b):\n",
    "    return a*b\n",
    "def add(a,b):\n",
    "    return a+b\n",
    "def div(a,b):\n",
    "    return a/b\n",
    "\n",
    "def calculator():\n",
    "    a=eval(input(\"Enter first number: \")) \n",
    "    b=eval(input(\"Enter second number: \"))\n",
    "\n",
    "    choice=1 \n",
    "    while choice!=0:\n",
    "        print(\"0. Exit\") \n",
    "        print(\"1. Add\") \n",
    "        print(\"2. Subtraction\") \n",
    "        print(\"3. Multiplication\") \n",
    "        print(\"4. Division\") \n",
    "        choice=int(input(\"Enter choice: \"))\n",
    "        if choice==1: \n",
    "            print(\"Result: \",add(a,b))\n",
    "\n",
    "        elif choice==2:\n",
    "            print(\"Result: \",sub(a,b))\n",
    "\n",
    "        elif choice==3:\n",
    "            print(\"Result: \",mul(a,b))\n",
    "\n",
    "        elif choice==4:\n",
    "            print(\"Result: \",round(div(a,b),4))\n",
    "\n",
    "        elif choice==0:\n",
    "            print(\"Exiting!\")\n",
    "            return\n",
    "        else:\n",
    "            print(\"Invalid choice!!\")\n",
    "        print()"
   ]
  },
  {
   "cell_type": "code",
   "execution_count": null,
   "metadata": {},
   "outputs": [],
   "source": [
    "calculator()"
   ]
  },
  {
   "cell_type": "markdown",
   "metadata": {},
   "source": [
    "###### dicts = [\n",
    "    {'name': 'Michelangelo',\n",
    "     'food': 'PIZZA'},\n",
    "    {'name': 'Garfield',\n",
    "     'food': 'lasanga'},\n",
    "    {'name': 'Walter',\n",
    "     'food': 'pancakes'},\n",
    "    {'name': 'Galactus',\n",
    "     'food': 'worlds'}\n",
    "]\n",
    "\n",
    "string = \"Hi, I'm {name} and I love to eat {food}!\"\n",
    "\n",
    "def string_factory(dicts, string):\n",
    "  for item in range(0, len(dicts)):\n",
    "    values = dicts[item]\n",
    "    single_dict = string.format(**values)\n",
    "    print(single_dict)\n",
    "\n",
    "string_factory(dicts, string)"
   ]
  },
  {
   "cell_type": "code",
   "execution_count": null,
   "metadata": {},
   "outputs": [],
   "source": [
    "#defining a function\n",
    "def sum(a,b):\n",
    "    sum=a+b\n",
    "    return sum\n",
    "\n",
    "def div(a,b):\n",
    "    p=pi()\n",
    "    return a/b\n",
    " \n",
    "def pi():\n",
    "    return 3.14\n",
    "\n",
    "def mult(a,b):\n",
    "    return a*b\n",
    "\n",
    "def main():\n",
    "    a=eval(input(\"enter a\"))\n",
    "    b=eval(input(\"enter b\"))\n",
    "    t=sum(a,b)\n",
    "    print(\"sum is \",t)\n",
    "    t_div=div(a,b)\n",
    "    print(\"after dividing\", t_div)\n",
    "    t_mult=mult(a,b)\n",
    "    print(\"after multiplying\", t_mult)\n",
    "    \n",
    "    \n",
    "    "
   ]
  },
  {
   "cell_type": "code",
   "execution_count": null,
   "metadata": {},
   "outputs": [],
   "source": [
    "main()"
   ]
  },
  {
   "cell_type": "code",
   "execution_count": null,
   "metadata": {},
   "outputs": [],
   "source": [
    "def isodd(x):\n",
    "    if x%2==0:\n",
    "        print(\"yes it is even\")\n",
    "        print(\"ok\")\n",
    "        return 0 \n",
    "    else:\n",
    "        return 1\n",
    "\n",
    "\n",
    "x=isodd(4)\n",
    "print(x)"
   ]
  },
  {
   "cell_type": "code",
   "execution_count": null,
   "metadata": {},
   "outputs": [],
   "source": []
  }
 ],
 "metadata": {
  "kernelspec": {
   "display_name": "Python 3",
   "language": "python",
   "name": "python3"
  },
  "language_info": {
   "codemirror_mode": {
    "name": "ipython",
    "version": 3
   },
   "file_extension": ".py",
   "mimetype": "text/x-python",
   "name": "python",
   "nbconvert_exporter": "python",
   "pygments_lexer": "ipython3",
   "version": "3.6.4"
  }
 },
 "nbformat": 4,
 "nbformat_minor": 2
}
