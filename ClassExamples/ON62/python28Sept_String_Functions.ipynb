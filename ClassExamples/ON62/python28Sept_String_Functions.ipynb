{
  "nbformat": 4,
  "nbformat_minor": 0,
  "metadata": {
    "colab": {
      "name": "python28Sept_String_Functions.ipynb",
      "provenance": [],
      "collapsed_sections": [],
      "toc_visible": true
    },
    "kernelspec": {
      "name": "python3",
      "display_name": "Python 3"
    }
  },
  "cells": [
    {
      "cell_type": "markdown",
      "metadata": {
        "id": "3xtAEnz8VSgt"
      },
      "source": [
        "## String"
      ]
    },
    {
      "cell_type": "markdown",
      "metadata": {
        "id": "mNETFDqncsQZ"
      },
      "source": [
        "#### String basics and methods"
      ]
    },
    {
      "cell_type": "code",
      "metadata": {
        "id": "dWtN_PhcVM5R",
        "outputId": "475fb923-13ff-4767-c0ee-f55898fa125e",
        "colab": {
          "base_uri": "https://localhost:8080/",
          "height": 72
        }
      },
      "source": [
        "name = 'APJ Kalam'\n",
        "fatherOfOpticalFibre = 'Narinder Singh Kapany'\n",
        "print(name)\n",
        "print(type(name))\n",
        "name+ fatherOfOpticalFibre"
      ],
      "execution_count": null,
      "outputs": [
        {
          "output_type": "stream",
          "text": [
            "APJ Kalam\n",
            "<class 'str'>\n"
          ],
          "name": "stdout"
        },
        {
          "output_type": "execute_result",
          "data": {
            "application/vnd.google.colaboratory.intrinsic+json": {
              "type": "string"
            },
            "text/plain": [
              "'APJ KalamNarinder Singh Kapany'"
            ]
          },
          "metadata": {
            "tags": []
          },
          "execution_count": 21
        }
      ]
    },
    {
      "cell_type": "code",
      "metadata": {
        "id": "PPjxvsbaVUEu",
        "outputId": "c34d9415-8c6e-4c3d-a257-e99dd745d2e1",
        "colab": {
          "base_uri": "https://localhost:8080/"
        }
      },
      "source": [
        "fatherOfOpticalFibre.capitalize()\n",
        "fatherOfOpticalFibre.isupper()"
      ],
      "execution_count": null,
      "outputs": [
        {
          "output_type": "execute_result",
          "data": {
            "text/plain": [
              "False"
            ]
          },
          "metadata": {
            "tags": []
          },
          "execution_count": 7
        }
      ]
    },
    {
      "cell_type": "code",
      "metadata": {
        "id": "tVTTIUBhWnmU",
        "outputId": "81295245-de51-46d3-f87f-577a6a10de28",
        "colab": {
          "base_uri": "https://localhost:8080/"
        }
      },
      "source": [
        "\"ABC\".isupper()   # anonymous string because it doesnot have name \n",
        "sent = \"this is my world. i will appreciate work of Sardar Narinder Singh kapany\".capitalize()\n",
        "sent1 = \"this is my world. i will appreciate work of Sardar Narinder Singh kapany\"\n",
        "sent1.title()\n",
        "print(sent)"
      ],
      "execution_count": null,
      "outputs": [
        {
          "output_type": "stream",
          "text": [
            "This is my world. i will appreciate work of sardar narinder singh kapany\n"
          ],
          "name": "stdout"
        }
      ]
    },
    {
      "cell_type": "markdown",
      "metadata": {
        "id": "CEj7XKHsciyc"
      },
      "source": [
        "#### slicing"
      ]
    },
    {
      "cell_type": "code",
      "metadata": {
        "id": "5P28ypQVW2uB",
        "outputId": "8d2b2f12-b6d4-4d3f-a611-7f1e7c7ec2cf",
        "colab": {
          "base_uri": "https://localhost:8080/"
        }
      },
      "source": [
        "#slicing\n",
        "print(name)\n",
        "print(name[0])\n",
        "print(name[5])\n",
        "print(name[1:5])\n",
        "print(name[5:]) # till end \n",
        "print(name[:6]) # from 0 till 5\n",
        "print(name[-1]) # last element or first from reverse order\n",
        "print(name[-2])\n",
        "print(name[-2:])\n",
        "print(name[-3:]) # last three element of string"
      ],
      "execution_count": null,
      "outputs": [
        {
          "output_type": "stream",
          "text": [
            "APJ Kalam\n",
            "A\n",
            "a\n",
            "PJ K\n",
            "alam\n",
            "APJ Ka\n",
            "m\n",
            "a\n",
            "am\n",
            "lam\n"
          ],
          "name": "stdout"
        }
      ]
    },
    {
      "cell_type": "markdown",
      "metadata": {
        "id": "Ph9WL3DlcfPb"
      },
      "source": [
        "#### string arthimetic"
      ]
    },
    {
      "cell_type": "code",
      "metadata": {
        "id": "ENoc_VZhYCzu",
        "outputId": "9e24162d-ec9f-4bbf-ffc4-39e3980259f1",
        "colab": {
          "base_uri": "https://localhost:8080/"
        }
      },
      "source": [
        "# string arthimetic\n",
        "print(name)\n",
        "print(name+name+name)\n",
        "print(name * 3)\n",
        "print(3 * name )\n"
      ],
      "execution_count": null,
      "outputs": [
        {
          "output_type": "stream",
          "text": [
            "APJ Kalam\n",
            "APJ KalamAPJ KalamAPJ Kalam\n",
            "APJ KalamAPJ KalamAPJ Kalam\n",
            "APJ KalamAPJ KalamAPJ Kalam\n"
          ],
          "name": "stdout"
        }
      ]
    },
    {
      "cell_type": "code",
      "metadata": {
        "id": "Cm0VEOGiZwC_",
        "outputId": "3ea6b68e-00b6-44f5-effc-5e2051ad2754",
        "colab": {
          "base_uri": "https://localhost:8080/"
        }
      },
      "source": [
        "# display characters in string \n",
        "for e in fatherOfOpticalFibre : \n",
        "  print (e , end =\" \")"
      ],
      "execution_count": null,
      "outputs": [
        {
          "output_type": "stream",
          "text": [
            "N a r i n d e r   S i n g h   K a p a n y "
          ],
          "name": "stdout"
        },
        {
          "output_type": "execute_result",
          "data": {
            "text/plain": [
              "True"
            ]
          },
          "metadata": {
            "tags": []
          },
          "execution_count": 34
        }
      ]
    },
    {
      "cell_type": "code",
      "metadata": {
        "id": "7TgYWq1haTM0",
        "outputId": "17ee83a4-f196-4ac2-e3fa-3cdc4e3def91",
        "colab": {
          "base_uri": "https://localhost:8080/"
        }
      },
      "source": [
        "print( 'ing' in fatherOfOpticalFibre) \n",
        "print( 'a' in fatherOfOpticalFibre )\n",
        "print( name in fatherOfOpticalFibre)"
      ],
      "execution_count": null,
      "outputs": [
        {
          "output_type": "stream",
          "text": [
            "True\n",
            "True\n",
            "False\n"
          ],
          "name": "stdout"
        }
      ]
    },
    {
      "cell_type": "code",
      "metadata": {
        "id": "HJigCSGUahoU",
        "outputId": "df1f22a2-bbe4-4025-8ae7-f83cfb4fbcef",
        "colab": {
          "base_uri": "https://localhost:8080/"
        }
      },
      "source": [
        "'ing' is fatherOfOpticalFibre"
      ],
      "execution_count": null,
      "outputs": [
        {
          "output_type": "execute_result",
          "data": {
            "text/plain": [
              "False"
            ]
          },
          "metadata": {
            "tags": []
          },
          "execution_count": 41
        }
      ]
    },
    {
      "cell_type": "code",
      "metadata": {
        "id": "7bJxWmN9a1xd",
        "outputId": "9058aeea-2855-438c-885b-995e4f9a11dd",
        "colab": {
          "base_uri": "https://localhost:8080/"
        }
      },
      "source": [
        "print( 'a' in fatherOfOpticalFibre )\n",
        "print( 'a' not in fatherOfOpticalFibre )"
      ],
      "execution_count": null,
      "outputs": [
        {
          "output_type": "stream",
          "text": [
            "True\n",
            "False\n"
          ],
          "name": "stdout"
        }
      ]
    },
    {
      "cell_type": "markdown",
      "metadata": {
        "id": "QsXI4kRpca3E"
      },
      "source": [
        "#### Enumerate"
      ]
    },
    {
      "cell_type": "code",
      "metadata": {
        "id": "3JWh4RcKbxvj",
        "outputId": "88e334dc-c503-46ed-9c94-dabf4cfd6e0b",
        "colab": {
          "base_uri": "https://localhost:8080/"
        }
      },
      "source": [
        "enu_name = list(enumerate(name))\n",
        "print(name)\n",
        "print(enu_name)"
      ],
      "execution_count": null,
      "outputs": [
        {
          "output_type": "stream",
          "text": [
            "APJ Kalam\n",
            "[(0, 'A'), (1, 'P'), (2, 'J'), (3, ' '), (4, 'K'), (5, 'a'), (6, 'l'), (7, 'a'), (8, 'm')]\n"
          ],
          "name": "stdout"
        }
      ]
    },
    {
      "cell_type": "code",
      "metadata": {
        "id": "XZ84VLZZb5Xv"
      },
      "source": [
        ""
      ],
      "execution_count": null,
      "outputs": []
    },
    {
      "cell_type": "markdown",
      "metadata": {
        "id": "8dW26pIgcl5x"
      },
      "source": [
        "#### format "
      ]
    },
    {
      "cell_type": "code",
      "metadata": {
        "id": "9-i8xO0lcn6h",
        "outputId": "bc4d28ee-716f-4f53-e7d5-905722431fa0",
        "colab": {
          "base_uri": "https://localhost:8080/"
        }
      },
      "source": [
        "a,b,name= 100,200,'Kapany Saab'\n",
        "print( \"{0} has over {1} patents and {2} journals published \".format(name,a,b))\n",
        "print( \"{n} has over {p} patents and {j} journals published \".format(n=name,p=a,j=b))\n",
        "print( \"{n} has over {p} patents and {j} journals published \".format(p=a,n=name,j=b))"
      ],
      "execution_count": null,
      "outputs": [
        {
          "output_type": "stream",
          "text": [
            "Kapany Saab has over 100 patents and 200 journals published \n",
            "Kapany Saab has over 100 patents and 200 journals published \n",
            "Kapany Saab has over 100 patents and 200 journals published \n"
          ],
          "name": "stdout"
        }
      ]
    },
    {
      "cell_type": "code",
      "metadata": {
        "id": "9q5y1Kz7c2rj",
        "outputId": "cf42feb4-1492-40d3-b46b-daf1cc10b432",
        "colab": {
          "base_uri": "https://localhost:8080/"
        }
      },
      "source": [
        "pi = 3.147634576\n",
        "print(\" value of pi is  {0}\".format(pi))\n",
        "print(\" value of pi is  {0:b}\".format(12))\n",
        "print(\" value of pi is  {0:e}\".format(pi))\n",
        "print(\" value of pi is  {0:.3f}\".format(pi))"
      ],
      "execution_count": null,
      "outputs": [
        {
          "output_type": "stream",
          "text": [
            " value of pi is  3.147634576\n",
            " value of pi is  1100\n",
            " value of pi is  3.147635e+00\n",
            " value of pi is  3.148\n"
          ],
          "name": "stdout"
        }
      ]
    },
    {
      "cell_type": "code",
      "metadata": {
        "id": "uK-4NkVjdy3M",
        "outputId": "76347202-3029-4933-b901-5405b16d27d8",
        "colab": {
          "base_uri": "https://localhost:8080/",
          "height": 145
        }
      },
      "source": [
        "names = ['Kr. Vinay Pratap Singh Singhania','kapany','kalam','Dham']\n",
        "fee = [235.90,231.43,8738.222, 908.98]\n",
        "age = [34,67,23,67]\n",
        "\n",
        "print( \"|{:^40}|{:^10}|{:^10}|\".format('Student Name', 'Fee' , 'Age') )\n",
        "print(\"-\"*70)\n",
        "for i in range(4):\n",
        "  print( \"|{:<40}|{:>10}|{:^10}|\".format(names[i], fee[i] , age[i]) )\n",
        "\n",
        "'''\n",
        "> right align\n",
        "< left align\n",
        "^ center align\n",
        "'''"
      ],
      "execution_count": null,
      "outputs": [
        {
          "output_type": "stream",
          "text": [
            "|              Student Name              |   Fee    |   Age    |\n",
            "----------------------------------------------------------------------\n",
            "|Kr. Vinay Pratap Singh Singhania        |     235.9|    34    |\n",
            "|kapany                                  |    231.43|    67    |\n",
            "|kalam                                   |  8738.222|    23    |\n",
            "|Dham                                    |    908.98|    67    |\n"
          ],
          "name": "stdout"
        },
        {
          "output_type": "execute_result",
          "data": {
            "application/vnd.google.colaboratory.intrinsic+json": {
              "type": "string"
            },
            "text/plain": [
              "'\\n> right align\\n< left align\\n^ center align\\n'"
            ]
          },
          "metadata": {
            "tags": []
          },
          "execution_count": 79
        }
      ]
    },
    {
      "cell_type": "code",
      "metadata": {
        "id": "NjIFr2ake1Ah"
      },
      "source": [
        ""
      ],
      "execution_count": null,
      "outputs": []
    },
    {
      "cell_type": "markdown",
      "metadata": {
        "id": "maCMs49Pgu8-"
      },
      "source": [
        "## Function"
      ]
    },
    {
      "cell_type": "markdown",
      "metadata": {
        "id": "5ovvAm_UkcUT"
      },
      "source": [
        "### Method definition"
      ]
    },
    {
      "cell_type": "markdown",
      "metadata": {
        "id": "Qfq4K_yKgz-u"
      },
      "source": [
        "* to have code reusability\n",
        "* to reduce code repeatation\n",
        "* to increase Modularity \n",
        "* must be properly documented\n",
        "* naming convention (use hungarian notation or camel casing ) \n"
      ]
    },
    {
      "cell_type": "code",
      "metadata": {
        "id": "FzC3PndcgwQj"
      },
      "source": [
        "# define a method to add two numbers\n",
        "def  myAdd(a, b) : \n",
        "  '''  This is method to add two number and display the result \n",
        "        myAdd (10,20)\n",
        "  '''\n",
        "  res = a+b\n",
        "  print(res)"
      ],
      "execution_count": null,
      "outputs": []
    },
    {
      "cell_type": "code",
      "metadata": {
        "id": "iGlY3NYSh8sH",
        "outputId": "29590a3a-83b5-4b35-8b75-4857148b9575",
        "colab": {
          "base_uri": "https://localhost:8080/"
        }
      },
      "source": [
        "myAdd(100,3434)"
      ],
      "execution_count": null,
      "outputs": [
        {
          "output_type": "stream",
          "text": [
            "3534\n"
          ],
          "name": "stdout"
        }
      ]
    },
    {
      "cell_type": "code",
      "metadata": {
        "id": "Ax8CQygUh72Z",
        "outputId": "89d11545-defa-41af-a27c-ca42aa25317a",
        "colab": {
          "base_uri": "https://localhost:8080/",
          "height": 35
        }
      },
      "source": [
        "#to see the method documentation \n",
        "myAdd.__doc__"
      ],
      "execution_count": null,
      "outputs": [
        {
          "output_type": "execute_result",
          "data": {
            "application/vnd.google.colaboratory.intrinsic+json": {
              "type": "string"
            },
            "text/plain": [
              "'  This is method to add two number and display the result \\n        myAdd (10,20)\\n  '"
            ]
          },
          "metadata": {
            "tags": []
          },
          "execution_count": 83
        }
      ]
    },
    {
      "cell_type": "code",
      "metadata": {
        "id": "7r3KGDtRimiJ"
      },
      "source": [
        " def myAdd1(a,b) :\n",
        "   res = a+b\n",
        "   return(res)"
      ],
      "execution_count": null,
      "outputs": []
    },
    {
      "cell_type": "code",
      "metadata": {
        "id": "0r-onyeLiztz",
        "outputId": "be61bfb2-63da-4549-9502-9daa5cb3b7d2",
        "colab": {
          "base_uri": "https://localhost:8080/"
        }
      },
      "source": [
        "x= myAdd1(12,43)\n",
        "print(x)"
      ],
      "execution_count": null,
      "outputs": [
        {
          "output_type": "stream",
          "text": [
            "55\n"
          ],
          "name": "stdout"
        }
      ]
    },
    {
      "cell_type": "code",
      "metadata": {
        "id": "VOI6hd7mjU8o",
        "outputId": "c4dfc242-5dd2-4739-eef0-dd3576c3a00b",
        "colab": {
          "base_uri": "https://localhost:8080/"
        }
      },
      "source": [
        "x = myAdd(23,44)\n",
        "print(x)"
      ],
      "execution_count": null,
      "outputs": [
        {
          "output_type": "stream",
          "text": [
            "67\n",
            "None\n"
          ],
          "name": "stdout"
        }
      ]
    },
    {
      "cell_type": "code",
      "metadata": {
        "id": "ZnFWXrwXjdBu",
        "outputId": "105a35c1-87f4-4204-e397-03b0be927c4e",
        "colab": {
          "base_uri": "https://localhost:8080/"
        }
      },
      "source": [
        "myAdd(  myAdd1(10,30) , 50)"
      ],
      "execution_count": null,
      "outputs": [
        {
          "output_type": "stream",
          "text": [
            "90\n"
          ],
          "name": "stdout"
        }
      ]
    },
    {
      "cell_type": "code",
      "metadata": {
        "id": "y01W4ZlPjxSr"
      },
      "source": [
        ""
      ],
      "execution_count": null,
      "outputs": []
    },
    {
      "cell_type": "markdown",
      "metadata": {
        "id": "kyKZdtzUkWaa"
      },
      "source": [
        "### default argument"
      ]
    },
    {
      "cell_type": "code",
      "metadata": {
        "id": "t-2jYXuYkYnu"
      },
      "source": [
        "def myAdd(a,b,c=0,d=0) :\n",
        "  return(a+b+c+d)"
      ],
      "execution_count": null,
      "outputs": []
    },
    {
      "cell_type": "code",
      "metadata": {
        "id": "U3uALD1pkscY",
        "outputId": "1fa4abb6-9db1-42c5-de10-ad5ac31701ab",
        "colab": {
          "base_uri": "https://localhost:8080/"
        }
      },
      "source": [
        "print(myAdd(30,20))\n",
        "print(myAdd(30,20,40))\n",
        "print(myAdd(30,20,40,50))"
      ],
      "execution_count": null,
      "outputs": [
        {
          "output_type": "stream",
          "text": [
            "50\n",
            "90\n",
            "140\n"
          ],
          "name": "stdout"
        }
      ]
    },
    {
      "cell_type": "code",
      "metadata": {
        "id": "zOPWercck5yG",
        "outputId": "30735a1b-c440-4ecf-adfe-b0d118dbdf36",
        "colab": {
          "base_uri": "https://localhost:8080/"
        }
      },
      "source": [
        "print( myAdd(100, myAdd(1,2,3,4) , 90))"
      ],
      "execution_count": null,
      "outputs": [
        {
          "output_type": "stream",
          "text": [
            "200\n"
          ],
          "name": "stdout"
        }
      ]
    },
    {
      "cell_type": "code",
      "metadata": {
        "id": "EcYWNw9elN4g",
        "outputId": "14fa149f-b00c-4a80-9f55-626ab502b09f",
        "colab": {
          "base_uri": "https://localhost:8080/",
          "height": 135
        }
      },
      "source": [
        "def myAdd2(a,b,c=0,d) : \n",
        "  return(a+b+c+d)"
      ],
      "execution_count": null,
      "outputs": [
        {
          "output_type": "error",
          "ename": "SyntaxError",
          "evalue": "ignored",
          "traceback": [
            "\u001b[0;36m  File \u001b[0;32m\"<ipython-input-98-54cb047fd7a0>\"\u001b[0;36m, line \u001b[0;32m1\u001b[0m\n\u001b[0;31m    def myAdd2(a,b,c=0,d) :\u001b[0m\n\u001b[0m              ^\u001b[0m\n\u001b[0;31mSyntaxError\u001b[0m\u001b[0;31m:\u001b[0m non-default argument follows default argument\n"
          ]
        }
      ]
    },
    {
      "cell_type": "markdown",
      "metadata": {
        "id": "39mGQ2JniGVX"
      },
      "source": [
        "### Named Argument"
      ]
    },
    {
      "cell_type": "code",
      "metadata": {
        "id": "pjhGAQALlVYz"
      },
      "source": [
        "def showData(name, age, salary):\n",
        "  print (\" Mr. {0} is {1} years old and get salary of Rs.{2}/-\".format(name,age,salary))"
      ],
      "execution_count": 45,
      "outputs": []
    },
    {
      "cell_type": "code",
      "metadata": {
        "id": "FfkDNKEjiKBA",
        "outputId": "3878c45a-0a09-446c-953b-cb10b6cba09b",
        "colab": {
          "base_uri": "https://localhost:8080/",
          "height": 72
        }
      },
      "source": [
        "showData(\"Ram ji Lal\", 23, 90390)\n",
        "\n",
        "# order of argument is not important if arugments are named while function calling \n",
        "\n",
        "showData(age=90,name='APJ kalam',salary=343434)\n",
        "\n",
        "showData(\"Mr. Ajay Bhatt\" ,salary=90909, age=46)\n",
        "#who invented USB - Mr. Ajay Bhatt\n",
        "# one USB port can have how many devices connected - 127\n"
      ],
      "execution_count": 49,
      "outputs": [
        {
          "output_type": "stream",
          "text": [
            " Mr. Ram ji Lal is 23 years old and get salary of Rs.90390/-\n",
            " Mr. APJ kalam is 90 years old and get salary of Rs.343434/-\n",
            " Mr. Mr. Ajay Bhatt is 46 years old and get salary of Rs.90909/-\n"
          ],
          "name": "stdout"
        }
      ]
    },
    {
      "cell_type": "code",
      "metadata": {
        "id": "A4LuIxAkiKIc"
      },
      "source": [
        ""
      ],
      "execution_count": null,
      "outputs": []
    },
    {
      "cell_type": "markdown",
      "metadata": {
        "id": "Cs-UAnvZiF6e"
      },
      "source": [
        ""
      ]
    },
    {
      "cell_type": "markdown",
      "metadata": {
        "id": "z1ol1UyWlnUR"
      },
      "source": [
        "### Call by Value/call by reference"
      ]
    },
    {
      "cell_type": "code",
      "metadata": {
        "id": "vwvHXV9Dlp4v"
      },
      "source": [
        "def changeMe(a,b) : \n",
        "  print(\"Inside Method - a = {0},  b = {1}\".format(a,b))\n",
        "  a=a+10\n",
        "  b=b-5\n",
        "  print(\"Inside Method ->a = {0},  b = {1}\".format(a,b))"
      ],
      "execution_count": null,
      "outputs": []
    },
    {
      "cell_type": "code",
      "metadata": {
        "id": "OZEabQ6jl54T",
        "outputId": "e570e52e-1e73-4e0a-cbfa-04ab2a22577c",
        "colab": {
          "base_uri": "https://localhost:8080/"
        }
      },
      "source": [
        "x , y = 50,60\n",
        "\n",
        "print(\" main - x = {0},  y = {1}\".format(x,y))\n",
        "changeMe(x,y)\n",
        "print(\" main - x = {0},  y = {1}\".format(x,y))"
      ],
      "execution_count": null,
      "outputs": [
        {
          "output_type": "stream",
          "text": [
            " main - x = 50,  y = 60\n",
            "Inside Method - a = 50,  b = 60\n",
            "Inside Method ->a = 60,  b = 55\n",
            " main - x = 50,  y = 60\n"
          ],
          "name": "stdout"
        }
      ]
    },
    {
      "cell_type": "code",
      "metadata": {
        "id": "KkWN7gH-l-pm"
      },
      "source": [
        "def changeMeArr(arr1) : \n",
        "  print(\"Inside Method Before - arr = \" , arr1)\n",
        "  #arr1[2] = arr1[2]+10\n",
        "  arr1[2] = [1,2,3,4]\n",
        "  #arr1[2:3] = [1,2,3,4]\n",
        "  print(\"Inside Method after  - arr = \" , arr1)"
      ],
      "execution_count": null,
      "outputs": []
    },
    {
      "cell_type": "code",
      "metadata": {
        "id": "poK_YDcymyGJ",
        "outputId": "64c5559c-460a-4920-ecd3-5c64bf650de0",
        "colab": {
          "base_uri": "https://localhost:8080/"
        }
      },
      "source": [
        "a1 = [12,23,45,56]\n",
        "print(a1)\n",
        "changeMeArr(a1)\n",
        "print(a1)"
      ],
      "execution_count": null,
      "outputs": [
        {
          "output_type": "stream",
          "text": [
            "[12, 23, 45, 56]\n",
            "Inside Method Before - arr =  [12, 23, 45, 56]\n",
            "Inside Method after  - arr =  [12, 23, 1, 2, 3, 4, 56]\n",
            "[12, 23, 1, 2, 3, 4, 56]\n"
          ],
          "name": "stdout"
        }
      ]
    },
    {
      "cell_type": "code",
      "metadata": {
        "id": "GvUGeU5bnHfR"
      },
      "source": [
        ""
      ],
      "execution_count": null,
      "outputs": []
    },
    {
      "cell_type": "markdown",
      "metadata": {
        "id": "_qAfwT01nyl8"
      },
      "source": [
        "### Recursion"
      ]
    },
    {
      "cell_type": "markdown",
      "metadata": {
        "id": "YFCF5CV0ZklR"
      },
      "source": [
        "![image.png](data:image/png;base64,iVBORw0KGgoAAAANSUhEUgAAAmAAAAE1CAYAAABAwFwJAAAgAElEQVR4AezdfYxnWX3fefKH4/8SFCl/gBTZEkRrhUS7BkvRajabIO0iFK1HFtiRkYwSx1nJThSi4Gz8EMMaLIwTT1jbGUFiWDCEJJineMEwlnnMGjYzDtjDEIYwDmF6zMMw0zDTM9M93TXVdVev7z2fW+f3619VV9X0Q1X3udKpc+95+J7v+d77u+dd33Puvc+YxjYsMCwwLDAsMCwwLDAsMCxwTS3wjGva2mhsWGBYYFhgWGBYYFhgWGBYYBoANi6CYYFhgWGBYYFhgWGBYYFrbIEBYNfY4KO5YYFhgWGBYYFhgWGBYYEBYOMaGBYYFhgWGBYYFhgWGBa4xhYYAHaNDT6aGxYYFhgWGBYYFhgWGBY4NgB2cXt7On/+fJ0R+09tPzVd3Nk5NmeILvuFY6PoVVJkv74fJO9KqNVfI1tbW4vIJx5/fJJ3SejO2VJ47AwLDAsMCwwLDAscAwscGwCLLQyitnPnziVpMsCO7ea2QOA84FWwtbOzXBub4Ovmttjo/bDAsMCwwLDAcbbAsQEwA6hBtvd89RB2EC/LVS2zycPSp3Xelquqx/Vqp+/rUfafpt5+RIGv8nh13lHXyWJzurW2jvMPb+g2LDAsMCwwLHBzW+DYAJjTAMJ+//fvml760pdML37xi6aXveyHl/1bb711GuHmtoFrwjXg+hC/8IUvnN7x9rfXLzjQtXjCOkC7uX/io/fDAsMCwwLDAsfRAscGwGrg3NmpQfVPPOMZU8Kf/M7vnIQcj3jXNjeTLfa6DqTzjBWA9Z65zgsmb2zDAsMCwwLDAsMCx8kCxwfA2iDJywEsso31X7HEzR3X1HRbH5ipyOf9xect18peABbP2M1tvdH7YYFhgWGBYYHjZoFd0rnOmmUADYBl0TW1+v3rrOaezWeg3yves2LL2Kte0i9X/0bP5yG1Zb2Xa+K5z33uAmDyylYb1oBJH9uwwLDAsMCwwLDAcbLAsQMw63riAauppTagXm+jBYSOGl9O/8vJvVz9q51/Of0ul38l9ANhPGHZAmDazhY9cjziYYFhgWGBYYFhgeNogWMDYDFOD2D9wCo/XhD7WfeTJyUzLaVMPGb2U4espKd+ybRWqHlXHO+1RZcAQA30WXPUySCrL7OXPOkrMra3l6f84uVRJv1MX/bStWR1ILJfu5vyokvy0k4f26+pwNZO6RmPU4v78xA79HYnP22tyO5035QfvVJfHABbz4stxGMbFhgWGBYYFhgWOI4WODEAlkE8wMWYGcCTtgy8DWaS368jC0SoT2bKHOTkRIfULR12dpZ3liU/cskWkr7eRg8a/X7K9XWX/A4qNqWl7mFjsmxL3HSXFvv2QJW0qtMAVv56X2N7fUmd2KcabOdRvvoALu3ILwBdA+TouAnAInPEwwLDAsMCwwLDAsfZAicGwBgxA7PB2iBsQM8An4G6BwDlsvWDvvTUk9+XS/lNcWQrv+wHXDpgiTw6BhY2yav8DtLiPdKv9FW96luT1ctb6ndQtqmdg6alT8qnj+lLdCs7du3Jl9fXZVv6r9ctuZ1N1EnfomPaEQfYkpc4NhgAFouMeFhgWGBYYFjgpFngxABYBvoYOIOw4wz+GfBzXIN7B0vKZoDPvjqpF9n7xcpGfg8Z0UcecAgcOa79DloiP2XSPnk9dARC+nIpGxlXKtaG9stma7oGVqObsulX337sIo0sW+nepmjXZUeOcvIWcGvlq/6G86OebQBYmeHE/ck1cRjFU+eg8WFkj7LDAsMCwwLXwwInBsAYJ/DRA0EG/Xe9613TbbfdNr35zW+ul7kGFnpIStn1OLCw3wnIoF/yGgBEzn1fuq/a9lLQ6EhWDxyp37exDCYgo4Mebbz//e+bbr/99gp3fPjDC9D18lO/l9nvJ7+X3efvtV8A2byH+mCLDO2X3Aain/wPn1y8XbG5Mur1ti8ZTab6OYfSe/vL6+X09ezboksPYElrRVYieX1YyRwH19wCOReHaTh1Dhsfpo1RdlhgWGBY4Fpa4MQAGNgxsAd6eiN5K7onJ/PC1te+5rWVbZDPm/WBQuoXRHQg0cvabz/1lIk+9oGX9p/97GfP0NXWMxXING9OBo5eftLI7aHjJ37ix5e+kOvYlvKREX2k91vK9XGfv2k/uvb2rfrNAxVI0mbKAF669e2//hd/sb5i8KM/+qP1JQNfM8gXDbzB/pEzZxZIBWkgM6BKh8imY6V3DzVE77S3AmA5n50tlv53eUmLrBFfWwvE/okP2nrK7xm363RT/kHbGOWGBYYFhgWupQVODIC5sQZSGMhADQp+9md+puDHSzlBlnD69MNlQ+XzVGVebRHj9tBTnpo1L8mmG7k0mzhA4pjXDfwBsMrv1p45pmvkVYH2J2l0sYGTwJz+8ILxrv3BZz9b+SnfqhfIpG7yljgDUuLL9a9B4E++8pXVrjYCQ9pIO4EiXjk2LbBt9qD/LbfcMj3zmc+sPPmB4uzf8/nPL3qTyXbPf8ELqkuxqXSybL2nrBL28oDt1c890iNrxNfWAsv12a7Hg7a+Xu+S45xn8dq1ftA2RrlhgWGBYYFraYETA2CMEgjoYwM78DGwZwAv4Gk3ZB4WZcQBisQxNHnrN+1Ljrvpsx4E7QdGgETJavJKjw7ayFzf0g6wsYEX0MJzl7TUiezluBvEIqfi1veUP0j/yORJ1HY/ldoDUPYBrr7yaKUN9dlCGnuTAR4BmnOjP0Jsr172lVfPljT7BXs7O5faodmx94AVRG9vTzvTfC63pouTsNhjZ6fy5PehGh1/rpkFVq7T7veQc9IrIm2a/C7mT03V+bw4TZW8Pd8PUi/X4aZrvZc59ocFhgWGBY6LBU4MgAVGesgCAoAh4MOoGXBjYDfkpIsDT325DAryAUDasi8v9dJ20ipjmspjBCIAwXre0n7nFVOmZK/pJk1/eO30Le0FLvaUDcQ6+eRk69Ptrx+nnD6bNtS+9XRpW5tpN3V55vSX90pa7MW2gThQaiNnkdWVTT152iMva93Iq3ZbnyI/7UfnAFgNwufPLoP1+e0L05O8Z9NTixw2kf5UYdmFaef82QpPTluVkoH8qHF0GvEBLeBn2QKbT9PZ6amd+enfhlztfDqvZ6cnds7VOT371E6YrM7ftO1ab9fLxWm62IUDanJNil3uuromSoxGhgWGBY6VBU4MgLFaPDBf+9rXCnqs9Qr4ZMF6yjz44IO1MN46JXmm8TKQgxtpPDQ2nhkwIQ0MmP4KqMk3eAci1AUgypPNw2M/egRWSnDntXMcmEksjdxMPWo/cqylcnz/V75SoiLXsTbTr3iaAl2PnH6kyjsGLAUe588X3ChLV4Ec+fqpfW0BWe1b16WMtEwxaj82AD48dfLSrkbZPh6w9Tz5KRs5peg0lS7aVTfnTx7d0m/H+wGYQVj5nLeHntxeBmznXZvgS6gR/MLWNF3YKiiLp+xyg+R++YGJo8a5Jo4aH7Vd9Y7a5kq9TV7XLi3nenPsnMwABpwDYBenC5UuDyjLA2Dnzl6cC13YqmvCeSldGnzVtcJTdoy2XDtUsr8pPkbqDlWGBYYFroEFTgyAZWA1iAMmAzZvTR/bN92lTKYFUwbQZJMn3XcnwVTWLEkTgAg5Njd2g7fBH7DlW5UpK44nZj8PWMnKgNRNvYADUEf39b44pp/+0AEUWWOVsom1C0bpGp0DX2zVr8uK3vr86le/quALjKVt+f2+BfS2wFN0ZSP1ArWJYx+AaH2e+uJ4xHpZ2XduydN2pikjT5mAV2JpttjdfpVvHhVeEBu5BvMMzm3cKy+JdAP6U1tzKM/J2tqhqnfAtAyw1zPOtOth4+ulc4AYaGV/hq/myeIB5eHaPl/n8Ynyas4Q5rwt0Nn218/XfBWMv8MCwwLDAsfTAicGwJjPgGoQ5iUx+IOTABCPC0AKqIl7YOLNMUgDGYN8oEsMXnjIyEi66Tjl45EBHhbGaw8saJsccq1BAy0BsIAQnQMNNTh004R9GXBDVzpEDmBZFt+3etqSD5z0X779QFPgU5vkB6zUAUb0VScgl6cr9VPdHp7oozxPYuTpD7DSnmnSLJTPpa0s4NLeemBXEBx7alOIXXi/yNXHbPKUCfzFlvLl9QAGoOZpx2l6dJqmr+3sTPduf3v6nc98dvrqo99agS2Dt7IJjjPwHz2e15wdFn5SvuxwQNhbLxsZ6c9hY/XXZR72mAzt7h3vb2PTw2zf6+63GgBzfnOelOEJq7T19811Nsx1NOJhgWGBYYHjaIETA2ABqxjRoNx7YxxncFfGYK1O1jUBh4BED2Cpk8EdVIAHg3u8YOQBC4BgjVPAwyBlyxqmfQGseb+qQgdm/TEdgArAA0A2/QqARFfp+pZ0faQzoOrtFJj0ZGP6F29edHcMcsTqkwMu07a4BuO2fitTjGL10p4y7JKnTtmb/YAkQA0ksn3J7NaDkQGClQGBsa9y2siWPlT9DsACIA/vPDbds/ONCq+4803T97z5R6Yfe8/PT5/cOjV9a9qqdUTzWqI2JblzrtLkgbZ4WEZ8NFvEhoeN2RtQCfbVf3hnWs4ZOFu8XW2Kcp6SnM8p7xkv2tPx5OUaG/GwwLDAsMC1ssCJAbAYJBBiMI6Hh2dKegbrwIU6gZMFwLa3y9MVKFAGyKirnn3gAgYCImQDE3UCEKCBDoJygba+bbJXoKF5ptKXxIve29uLHH0L3CgHkAJL0uUDHCEASO9sSaNzdFrifFS788ipFy9U/xQke+iDtm3gUF/ZVXpsl3ztAmN9oqd8W7yH4kWP7gPpWc9HPnsrQ35sQ8aKLdcA7I+3nyjweuuXPzJ99+t/cHrW7T8w/Zl3vmT6q+/6+9O/Pvsfpw8/+Jnp49/6LyOcABt88NQ3LzlPvJg1Tbx4wi62hfnzur69AMx1A8wOEleh8WdYYFhgWOAaWeBEAVgGc7YxQAfADNoW5tsy8GewjucKgCW/94D1kJPBPlNbwIqcAJa1VMr3degBWI4KYOqnX2Jyeg+YtuiQ/vAoZZovXiV11tvn9ZJGZ3CkfiBJO5HX9yVyA2ApE/0cpy0Alk062wWOpaeOdO2aKlUXENrU6UNsCCKdV3nZsp+46ncA5mnHf/aJ35j+yq//nek5v/I3CrzAV8KzfumvT3/ul2+tAM4Skjbi2TbX2w45L4mjz1947Q9P77z7IxPI5g/NVGT/lOvT8X4F0HK9jXhYYFhgWOBaWOBEAZiBPDDBOAZqEBIPWAb9GM7g33vAAlj9Wi9lAwn2DfIBMLDjOGuvwAzvjg24pL14mzIFWQXan0BDPDrJk548afJtIEV/TEEGjlI27egzWLKmCrgEMhe42dlZnkbMOq+0kTYDSzkWx1baKTu3l9/2uvcA1sNjKd+Bl7zeroFYurMh+dm0zdYBysC0/q+XW+qsAdgrPviGyUBt2jHerwXAbv+BSpO+X/iuX33JdNSwn9ybIY/d9POocWwU++fYObRvKtn0svVfPGFA7MxW+96opx/be97WY9dLAGuvONfUiIcFhgWGBa6lBU4UgDFMoMd+7wGzADybMhm449XhAdsEYAGQXjaQAgOgwQbAHAOwtJ+YzIARcLIZBNJ+JXR/5GVLGWn0EHoA63Uz1RgwBF3aTz/Bi3oFgM1zFA+YNVnZyIve0iJfTIfYSn/6cvZju6wrA3Ypk7zqR+tf+pY89qdjpknTJj2UDYCxc9aARUb0Txwbxh5WAJle5CUxUBvEA1+AzHqwn/2Dt1Z43d3vnkY4fjbI+RHn/Dhv3/+hn1sBMOvDwJf1YvGG5enWXB9Hiftr9yD1Uz5xPHCb6uZ63ZQ30oYFhgVuXgucKAALCBi8DeygK8AiT3q8Rk6p/YBIpiClxwNmsLf19Qz6GdhBAbm8UQGcrAFTDyioGwArAGpPYZXg7slN5QTyStcGKknPTTr9qWm4zouUNgCVsmRE9wAYD5g+s43y+gd4tKFfacN+Ha8BWTxp6i56NTjTljpZZJ8pSO1Fbtmj002d6BnZbNTrEkDLGjAQu+4hU77f0l7Ok2NrhH7zzt8tCDOIm440hfWSt/10DejgTLBGTKxsH5J/veJ33/3Raa9AT3mJ9yp3NdN7W23a1/bTsZ3zIqQPZDmPATDnMQ9T5OlH14XrJ2vD9ov762fTvmso19Wm/E1pqRP4iodtv7Kb8kbasMCwwM1pgRMFYE5RBmNxPwUJxjLY50bqOAM/AAMVtn4NWN1Eu/VGgALIgBegFpnx3tRTkKcfWdLJ81qHAJrjTO9VY52niazoph3HYpv+qKdda8B4vGzRLwAmr+R0C9QzdZgpSPWUST94qwJU2iGTvdgvm/zI8d6uyBD3OpNFR3bIdGxkK0tPQKhf1VabXqQLG8WrmH7T0xYPGcCLB0x6AK0KtT/Rpwewe7/2wCR47QRAMJhbF2Zq8gN3/e50172fm8OX7pvuaiEPMYiX/JQ7SkyuekeN7/1cnXcyotNB4yui/xHajX5Pt/1Pff6usl0vzzlcBzBPus4vu7gwvzl/59zyBGT9VhpI9fsum1yje8Z7fKqqh6v99utany4s7TjO9a9er0+u3/6aHvvDAsMCN58FTgyAZcCuG2jzHsUzBUoCPXXTa1N6TmegwjRibny9ByyDfeQDAl6YwAJ5tn4Nk1clAAZTgWAl03L0iBx17OdYHFny9CNbIARsgBvtG4iyKQuWyKeXPmkb+AGWgBY9ynPWvG15r5g66rKBflg7pqwpVW3GdvK0rzzPIZjST/aK7rGDuukb/eQ7H9HFE5W8WpnWJLOfotW38l6sTZlq10aeUOe7s5W8nMcAmDTrgZxLYAkGQFfAy5oy6YBR8LWAhJ2HHp6E5B01jrzrFR9V70319EH6erypbNLWyx7lWB3BueLRNK3cA5g1YF4j4t1gPiVVny7y+aJpa3kFhWsjwHOouH1HdD/I2pRX12e9sd+E6Bw2llsDw7rIx59hgWGBm9oCJwbAnCUDvhteBn6wYWA36BsIasDe2VmAQlmwBCo8hefmLA1QqCfY4mUJiASowIbyNrFj4JG6YlDBG2RfOynbx9G3MjsvHvCis40O9skBFmBGm0v7OzvlWVpv37H+ZKqVLgE6/ZUnjW6Bq7QBxLLgXTv0BE3pf8rzaEUPkKO+dtm/zkkDYnlkBmBTX3+AGPsGuqpvrZ70gBros8nvy1Zi+7MJwKTRhSzXQjxiYn1kkxq0G9iVjS5sTTuPXahPEhnUlwHdoH7IQNenG7zvaj2QKc21sTG0d2DlhaVHjQ/b3758YKiPe0g6UDp48VPbnupTQ49eeGwBMOv4TEEWgE1P1fkiE+jML37dfRVFXVfxRB0i1h+vskiIl60/DmDtFW8qK43sQFndgxqM9df02B8WGBa4+SxwYgAsoJJTZAA14IID3iLHdfPtgEk+SFDGf9XyU493CJz0dcg2gCfPQG5TxkBok2YKU13lHCeNHvRcdFlb5yVdKJlra6WiB13JBTPpc9oWa0vbdBAcq6uv2k+fqpEGrcqkT9GbPSK/10m9yCE/fTRwKC+AWpCWtmpQaV4wepCd9sTk2eQFlNK2NDbnoQPSAc/oH91yLCbDFg+Ywc0gZ9DPuTKAJ7Cb9AyCBm3HvgUp1L663QB82P3IPmqcT/FUvA9srZRr37ak6wwF+SD5hrh90mcjoE1nq++BkE1xgGSveNbh7Pzm+umQcfNo5fy5Nni67jr7hfKAeahiBcD8FMFzW33vpazz/uyBij36WJ/2C3tB1UHStZMQ26WeY9ewa6xC5wnrr+mxPywwLHDzWeDEAFgNkm3he05T0gzitgBCf8NbL+u48gNHDSwiIzdK5QI+KS+2pd3ARNJqoG9yk5ayVbH7k/YSd1kLGElLfqBDTOZe6WlPvFKn0yv9IT99AkF9e/bTVu138kAiLxhvVWykTGREv+jSy01a2nWsHnlZe0Zmn5865NjSrx7AMuDJdx3kkzZZmG2sBi/gSxxQ8i4pYcbrWf5R/patusH1sMdHaVOf2Ga2j57NIHbUeNeGM8isHO8HcPLa9NvRY9B4ts5EnY2dRxcA8x43AAbIrAGr/lWbDfQaPKs/9301BkGX00u9o4RA3YHlt38Ecg0f6byPSsMCwwI3hAVODICxdrwmsbyBZxmoA1Tdf5rKFRQ1r5j9AANZ6xCT47SlTMonlhYgSJy8HJsOzPQbsEjYlCav1qc1Hfs+Bmj0MbKT7zh9Txz9U4Zeyq2EBnAZACJXn1M/5aX1++QK0kxrCkudzv6xn2Hc6wLAkE290rUGz134A168X1m/lrJ0TN9mCfPf6L4OYDUYZkq3tV1OkvbB7dIfgrV1QqTl0zdPF8B6/Y6036bfSt9N+xS8JP38tLP10IHDtPPo3mUvfn3aES4n76Dl1uVcrt6FL8/tt3JPnvni9OD9H63Xinii1etFANhjTz64Um4n9fr2yEi6/fW86LJXvF/5Ps/+uozkt3bPX3x0FewGgB3p5zEqDQvciBY4NgAWaMhrDmLsZYDfBBKH8Tis118/vpys9fKO+zoNoACDqTuL162nEgvWRgk5Tmxtmmm3y20BoT3jXpcN++RH37TVH+8pt/VbnQK6BlqmFgFQTUM2oClYalN6pv94lvJdwGoTeO08OgfAd/ZivUIAmHqoINdA6dXZc9G92dyxsllr5jgerWrnEH/i6zlElatatDx23RN5K9Cl35lu2z4/bT12qiDl2/d/aBK+/t9+q0KOz3z9A9O3/ujdFcDME6f/sMo/cv+nK5aWso+cet+U8tLUO//AHUt+0s7e/+8mQXlpZAmR09er/W9+bNHrwYfumO6/573T+W9+bCkfXaK7Mvbpdub0pybHfZD3jf/6jrnMQ3fUvvxeD/1Q5tEvv31phzxBffn0tZ9+9H1Pmv6TIy9p6kV/+dL1M/JiB7H2nKN45nLuXN/Leb2qV9MQPiwwLHCcLXBsACyeDuuLeIUAQe9Z6mFhk0EvBxCpv2e8CbD6tA1Q08uiEx0Spz+Os78ARvdZIGmX1b3X44j7pVfrQym5BmSX00GdeNRyXkxB5qlFC8Wr/9ZSP35mGXQ8nViQU2vo7M1TTbEJEM3Uozbi9Ytd0q449tW++gAQvEUfZU76FgBbprQ6rxfIZM2yaAMwAz3QOPONt02PfPVd07mvvnu68I0ZvMDD1ql/M1187KPTzvl7ClLEwva376xYWXUe/NIbp2+f+vXp4oPvmes8+J7pyfvfN+2c/3QBCFnylDn3wFuqzPbp3y5II2uW9+lqi0xl6UU2vQQyol/qiEGMID9lQY/wxEPvmZ7443cusuyff2iWoywdqt79n1500K729Ul7+gGayFOePRxrO2mpc+6+ua4+AE1lU14sPXkpqy69lNeWEEjliaup1e5pTfeNAWAn/Zc69B8WePoWODYAlq70HrBAgbzATsodt7jXtfQNKIGeNvVWN96muP2AQ8Dsavdp3Ybrx/u1H/ipvu3sLA8JmDYEQ6YZ4ZXF0QVgp+6b7vil10yf+fhv1WseZNaTa55eO3+2+u6bfrXovtlCG7EJ3S7xfrb1eimTKcj99D5peUcBMIM/MAImgYDACzD7xAd+cfre5/7p6Zbv+64Kt77oLy37v/r6v1fQA0wAjfJkAJQ3vOrl04/80C21Dz4ATSBMe+CIR+un/+EPLXJf8bdfXJ4fsuhDNxAUEEsdcumjrrQAEPnqJAT4HNMr5UAO+KQnoORteue/esWkfR4p7elT4AikscmdH3tT9YkNhLf+2qsLTPVPWW2UrqfeVx6y1/yTH1v6xlbxoNET3KqjvHrCoQDspF2cQ99hgWGBK2qBYwNgBlwg0gOYnm4ahAMO1zI+qNULxLIeqsV9XfBA7/Qt+5ftS4Bur/gAHrpej/X9g7SvTuDHfvWVPjs7y6dhYJj3aoGvH/+e505vvPVF01c/9P75dQ/bM4Q1VKvz7Qm2evVCe8Chb2PFNq3fuR6UC4DF5n0f5J/E7agAFq8UKAhElPfoofcUmGQd4p/6jnlNolgALMAEoChfEPb1D9QaKvnf/We/Y/rCZ393gTDlgI2yYAbY8UKuywVmAauACljRFpChjzogKOV4lMpjF+/VA2+ZvV0PvGXxqAXQgA74eu87fqF0ICv6Ss/UYMAPYAHRlEtMDzAI5gJu6gAt6fKzdlMd9iJfGSHQNgDsJP7ahs7DAtfXAscGwJjBQNpPQTq29YPu9TXX3q1H14KBprfSjuPhyrQaUMgU3Kb+BST2bu3wOdFrr/hyEqPvAkXdGi1QxvtlupH3y7oX4PWWv/a90+ue/5zpC2943QJg5JQOPqDMNt3UjLzYiD5ps+qs2UybmYIseXsA6OX6ddzyjwJg8byAlwQeI3AAloAHkDBdbHF7piEzFQmqTKuBI+AEuJxDdQAYL6Y0eQEVgAKewAlQIff0w3fXvjR5oCceM4BIFzICNOSnnDz94GUTeM+E8oB9dV7HRkf94qUDbcoFpBLTN16qTFHql+nGlOH1snie1wxASn/Dq15eZeihjzxf6YdpRGvMyFYW9IGw2DfAm/MADsGZdpcpyDZ1bBo5v6Hjdu0NfYYFhgWurQWODYBlEPWCTzc+W9YD2a/8vbw/HfDsZb6rUr8b9HvPUOnb8qLPOkTmJkyvfgt8Je7zrud+9NSPxZadh4++FtVb7+KpM/D1zr/83On25z9n+to73lpTk6YcbSDDRhYA86RY7a9985FN027Va9626LDiAcu10Z2T42bDudf7/306AGbgD4ABHoAAWgCD35TPSFmIH/CyyL3g5PRvL/AFiEAGqBJ735t/iuwDkCw85/1yLIA1skAOUPNEK7gCH3SITtaTkS9PGTppB8yAQNCiDHADQiCr9tsaM/KVlQau5KtvGtMDLtEnAKZveRDgjvfeXn3gwSJHmehLH3KUFQCY6VHy7r3z7dU3aeyYso7ZNrBF9x7A7PPCrQPYSbwm91loIVgAACAASURBVL9iR+6wwLDAUS1wbABMB/opyCzO9l+7pwk9LbhfsJB7v7BfXXn71ZV3ufrRsZfTy019+elT9vs6x3Wf/vQ20PU6po/6L8gzIAbAxLxhqRM5YuVBQS9DOe1IS3pfN/te3ZE39rt2FihskJaBTnyStqMCWLwwoMA+oAEpYAV8AAefsPL5KhDCwwMuQEI8SupYRwU8wJE6CdLUI59XC1gpy7sGRrQpL6AD2MAHYEvgSSMPODuP2gBkQCjeMXppxzW0V+jXYoFJ8Af8AmA8WwFFegnAipeLvsBNn8Ge9uiqTbZQD5zRk248dtLoyF5ZSyddfxePXFu3FhDT5l4AdpKux6HrsMCwwNWzwLECMJ4NA3Ju+uuDQNJPYpy+JE4f1o+TfhzjXtd+n66Ok2ZA4/niAQNgvAnS0qeUy3Hq57jP7/c35fOkFGzFA3YTAhgIEEzXga6EAo2vzx4w9g+w2hcAC68O+AFUYA1YAJB4qtifV5rHC2hlnZYYgPBISScja8KcJ0ADWgJfvGSuA3n+ucoH7HmeAmCALrqJc74TJ43eYEj7piHVB3e5zgrAvvmxAi9AJIBGOgrsA7769kCdPP1hA23STd9qvdkDdywA1rcP5BKcg7S3CcDqCwwn7B+Cqzf0DMnDAsMCxwrAeMBAmM/w+HzOCCfDBv1HlD0Vab0M8BKsAbMg/9EvfrG+yZiyV+rcmqbupylP+k/6KB6wwBcQ6PfzpGIWn/PegA6AFc9PDxOAZh2kQBvw4dkCOgEwQBMIkw5ayFI2niMAyAsk37orecpYf5XjABjdrfki5+E7P1Xrs+yvB3nSeLQKGh98T+0DMP0jPx4w/YkHjGzla13W+XuW9unE0yYdmAXApNNNW2xCFugL5NmXzsY9gGkvELbuAQuA1RT86sqDk37ZDv2HBYYFjmCBYwVg9N/kzThCv0aVa20B67tqUNmaplP3LVOQyyL8hx6uJygzVehdVgakqtPWhl1O5UwrKkfO+hqxy9U/CflHBTCAwRsEMgJh0gABz1YtvL/w5YIGU42OgQfQAFdgAVQBDeAhHaT5AH1gpGDq9G8XeIEvAAJc+mlHdQFQ4ATUAL4sdgdKFuvzOJEL1siN/gAI3AjqiXsIA2C8UvRMP7UV7xuZ/gEgJ+vKlGMXddQNfPJy0YM3TFnAqB795dEtoNcDGAijkzTwFQjTzmUBzMMn1kAOADsJP8eh47DAVbXAsQGwDMz9INv3fMnvp5rG/urap+toj3oIwQeSz59dATBTkfUU5EMP10L8+gD28u2+9vIwALa1to5rrS/9tZD9XBM5vhHiowIYCLDwPmAUEAMnmUIDH8v05Ok/XCAIkIA0MsS8ZOADpAEN04nSAAe5PDzkAqQsTDdVqZzy3kwfrxB51l4Bo4RMKYrVk65cntZ0LE/cT0Gnfrx2gInOATDp5QHLG/JNT7YpR/LpS0dyePasNbROLd6vik+9rwCMHNCoP2QI0c+rckAaOANd6WsALF63jR6wAWA3ws909GFY4IpY4NgA2Kbe9N6wTfkj7fhYoN7Svj2/hiIesH9/y/NqLVgAbOexC9Pkc0Tb55fXT9T7K3wr+QAegQCX68KW+PhY4elrclQAA1+8SJ44BGG8WUAAMAEgoFSeKW/Av/Dl8hhZ2wVGeLDAB6CJpwiw1BRiW8hvP1NrQAzMALdAlIciyC1PW3uSkVdJWeCSBfWgxxqwl73sh6uuz0mZjrSQnrcr5RIDpuwnzjQqKOK9yiJ86wH1JzrIA5z6BqRAJX216YPyqF9dfVWmYI037psfqzaV1UdyQGXq85opEyBlaxA2AOzpX/9DwrDAzWSBYw1g/YlYBt81z8hIX/vY9vWwjzfZTxfn7zF2HjAAZiF+AIz3y/ky8F2cLlT5ZQpy+2AesDrfa6+a6K+Tk77/dAEMdPF4gQHwwesVzxHPjQ+oe60EDw/AABXADIBkijHgBrikC2AjQEVm7/niTXrpS19ScskTTEUCoYANyHFsehB8Pf8FLyjvFmgCVpVnGrR9+gf0gD6xNOvIEvKkonra0h8wSQ8es+rni/5SyQV1ZAM5/WULT2HGDtEX1GXKks55zYbyyuQBAjGZ7MFO4Gt9ClK60HvA/LNQa8CGB+yk/0SH/sMCV8wCxwbAem/XAlXdQHvFejwEXXEL8H494YWqO+dWpiD3AjDw5d1f81ciD+n9ApjddZFr5Yp36joJfDoAxgsGCIBTphozTWg6LQAiBmAAhmcIUIGOAAh4I4c3zTQb2AATZDoGQm9o04pk9SGwJ1YOLKlTQNLWg/VlohOPEr21nfVgdLDPKwcqBfs8VWTqQ2RFTmLp8vVP37IGLbrK78sCK+3HA6jPWVeWOkBMmjxl9Sm2EguBrwFg1+kHNJodFjhBFjg2AHY5m60Muv0APPZXgeQ62AOACTxb/Rqw9SnIvIgVeBWA7Zwrr4AlYJc9vw28LnednPT8owIYUAmsgJMAGPgQeJIqWIhfH+L+dIEMUAh4AIiawnzgLbWgv/YblCgTr4/9TP9FJi/TbpjbCijVe7TaR7NN1cWrVeWbPgAMYHmQICBJH0AUqKRr4Ix3jGds7lff9u6+fgIw5cif+31PTZUu+93HybWvDe1pVz97+eqwgcA2gUE6DwA76b+8of+wwLW3wLEBsH4AvvZmGC0+XQvkE0I9gOVN+JmCBGDOc31+qHnMfAuynoa8jALqZatrJVOtXXryT3IcAFugFtcmeFlxLZrzZfNHCyR4rwz+oEUcQAiAJa41Su21EMooLwAJQd0CnZZuP+ADRECcWKjF+jxt7W37yeclI1ubykiv41Oz96rKde/Nkpf3hAV+QBuwCRiu6NbaDmhqh4xAZrx0tXbNC2bb1CkgTRmx4yrT6tMh+XRMm/ZjP7Ey0uinjP2EAFiOxc6NdXH1dYhpe0xBnuQf5tB9WOAqWODYANhV6NsQeQgLBIAPUWWlaKBosqC+vYZi3QNWeRfmRx4BhunDirMebEXiTXbQQVZ6Xjbt1gyBMzBWkNsAzBQj8DDgB1qyDwqSZr+HA+nJt5+wKS0yUkas3H5l+3xw1euUPGnJAzjABvSlPcdgK6CY946lbPQhpwelQ++36VX1olvidVlJ7+OVMmS1hfzW1nnnGVgGYbX2sXmoc47Fs/e4Txn7wwLDAjeDBQaA3Qxn+QB9fDoAZgDhmeEFOyiAxaszDz5bYxC6DICBr5rCrXLnZw9Y+6C06TXelvIANQA4afu8S9G5plCbByuveABZvF2eRgx0OgZwKZ/6R459RSAwdti4ecj0A3glrANY/cPRIMx+wgF+oqPIsMCwwA1mgQFgN9gJPWp3ANjRN14t/+GfrS8ZxAO2PgWZJx8zCGXtl+ObflsBsBlI2StesLJPK8MD5oPnT5754jLQZ8A/qTGoorunJJc+PHRHARfoqneLnZ7fkC/f6yM21ungZ5FzDdKiS9rUD8F5iver1kh20BX4Gtf/Tf/rHwa4SS0wAOwmPfFXttsNwHYercX1mwDMtwDLS9bWfM0TkbuL76+sPidQ2gJgsczuqzpAGO/XrgfMVOT5Gth5WG6k4DoBLfp019kvTD/2np+f/vzPvbDexwVuHnvywcX7V+8du/j1qeocBzt4D5pAF31Yg69NACZtDifwmh0qDwsMCzwtCwwAe1rmG5VnC8yLwq112X78zLIGbN0DNv+n37w7bUrt6Ux93kjWj20yIJf3iwesWx9XC/QvTvUJJu9Uiydsd43R7IWMN/KkxB7KePTCY9XXvKjXMQB7ydt+enrOr/yNiu/Z+Ua97uT89vwaE0/SshcbXde+Zo2XOIFHuCB5q7zCvbdr/VwPALuRfsmjL8MCB7fAALCD2+qmLRlI2is2gMyD4dmp3nbffQty5VNE5eXhudmaxxz//I///8sG64PyOoAFvhKbtfUQQwyZ8ryM9q9XXO9la9BYOnlaFUjuE9N1eRLWQxoXtgrIANj3f+jnpj/3y7cWgDn+6qPfmp+knbYKxtTzGSzrD+vp2qPE20+VfmWz7Xk9I30PelznoX3hwfmovrYHTNbBK8c5b+L53M+/hfF3WGBY4OaxwACwm+dcH6mne0FXn24AMfjVE3qPXZh2Hnp4+Rj3CoABrgxU9tsniMi62bd5EM501AxRgapNAzQQK3uz/fZTK4u5U/6kxDn31SfXxIUZrj65daoA7Fm3/8DiAStm354mXjAv/63rkC26T1PlerpWcfSvpYxtKrk+FO8JViDXnR/nZFNYZIydYYFhgZvGAgPAbppTffiO1uCWF7vmvVt7xPUxbq9I2AfAVjwFHYDV05OHV+/GqsF2NYLvQli8IwEpHS5IafGyD2CzhuwaxPHw9PFlT8Zl9Kr1bV3XTUF+/Fv/ZQXAeMCeePzxch55f9z8DrnZJmwBW12zVyMu27d/FNbBLudlWaPXnafKu4w3LPIua8NRYFhgWOCGssAAsBvqdB69M4EtEgqUmqhz57gkdv+Tz6ALuOq//PYfvvrK7jUFWYvweclMP/KCtammrJOJ3Ohxsw9KgbG9vGCAo7dVvCrxih02Tv294pyf5Oe4j51Tx8okXt/fq34BpGvCy3q3t6eHdzYDWIH+1lTeLwBWdmgesMi+1nH7qSxwnOPE0UfndveTO+JhgWGBm9UCA8Bu1jO/od8FVN104Pnz1mvtApmBMdslgBSgOnXfxkX4nowEYbVIX9nlBZTzYnKye6C4RH4avkli/c9gvR4zwSZbKWe7XnGdwwZgvR7xcK7oFY9f7xlzXbS1bT2AfdevvmR3CnJrhjTTj4IrKZ7AFfmHtMNcN+uxDhuX2S/5Q2ZCkeUAsEtsNBKGBW5mCwwAu5nPftf3AJCkDO4A7P3vf990++23Xza89ddePd3xS6+ZPvGPfrzC//PfP2v6f1/wnCUkXbnIu+2222o/cdJHfHl7HzcbvfnNb55+//fvqivK9QPmA16Jc7nV9RUPXt7034EUqPrWtLVMQfYA9iQh27MH7IlaJr8LYCU//yMcNj4ksGkrwGc/nrj8dgJec5ndudWkl67jz7DAsMBNbYEBYDf16b+08wbOmubx3cHtp6Y/+Z3fOf2JZzxjie1vCn/qO54xffef/Y7JqyfW4QuISXvLX/veSTkyI/cgsje1N9I2n4fraZcf/dEfnc4+tbMAfHmndnZW0grOlmc3Z79QPFiBGJC1F4A90WAHfF0CYL037Sj7fg6HBbdWPv/ABLASx/OVeDf90t/eSBkWGBa4uSwwAOzmOt979jbQlQK8X9IM6C972Q9P933pvumez39+Y/iDz362vB93vPf2gqwAWOIA2Hte/oPTw3d+qsqSdde9n1vCXrJH+mabHxe7uC4E18lLX/qSeUqwPbgBxlxH8Qptgq9+CnEvAMt7wDwVOb/5ayr46hfh57q9XjEA89qKANbl4uul52h3WGBY4PhYYADY8TkX112TGkR8z7FtBkyeqp985SsrJf/l14DanoaU4RUU3lDu0yumGr16IvCVWNrX3vHWekVFLcC32Lo9uRZPST9Q30z7Buuybd6XxbZtam4l3u+J1OQdNd7U3lracl106UkDYLfeeusCW0kPgDne75yyAY/rfE2sesB6AHt4Z5p4yGoB/vqnmtLodYj1bRN0UUX6epyy10HV0eSwwLDAMbHAALBjciKOkxpgwMDpkX8AZmrJJj1bAcNyvFVg9egXv1iQ9cZbX7QCYKYleb+++qH31wJ97wmrpyXb+1hNJRnAbtbNYJynHU1VZcA+jD0yoF+vOJ7S0j1v6W+L0HOt7BVnes4TsSlzZuupZQ3YOoAB9uV9cofwOu1nm8PY+umUXdch4PZ0ZI66wwLDAifTAguArd8Y6ka6oU/r5fJf7YailbRefi+5qZ/yOT5IHB1SN20kJiNl1uWlznr60znu271EDobZ5ZhLsvdLiK6b4v3qHSSPfXggVqYit6eaWvqJn/jxEtH3S9l4LKo/3l7+xS/WFCMvWDxf//6W55VHzPTkF+7+3IoHzHyVdzYtL9Tcx3tzkD6c1DLsGgATl1XYor1steyb62ZDDFrmcxN4u/bxAmDnfQ5pfpt9fSqplJ9fT1H9am/vp3N/bJ8ntQBsZ6euibwJP4vwTUHygC0AVh+Ad3Twqb9Nv53+ur7a19D1bv9q92/IHxYYFji4BRYA8ymZ3Pzd0HhAbAYBLxgUW9NRN7vcZH0OpBbDzjfFGjC6tjMoVG77Ltq83wrN9+C5cgaWur3WLXZuHxgYptvgXImtnpt1DeDTUzUlkWkJAusG3/6jpof/qE1d9IMaDw/Z6ilT0yVtemUBkfn+Xu2o3w7ruF74mPI+iTJdXB0I0ydx2vYqrPnVWosM9bzZWx9rS732TiRp0ZOuQtabLBrl0zRiOjV7zedgRfGyTepX2VaeHstgr6PndgFM+YKE/kWsre9llHPT9MjpR6b7v/KV6c6PvWkCXiBMiPfr9MN3z6+haEZkb3IBmP5XP01DNTs4ByDvem6x4wwM84MJ9KlrzysR7LP14g2ctc3xpry5xOpf5ykhfT5o3UjKud4U0yc6V357DQQbp3zKOM4+2cnfL84asJRXv+S0qTl9qWuoHSunjGtH7Oqaw3xFW4SfN+H3AGYNWNVdvv+4q/9++qmzV/4s8dr/jT7XvuXR4rDAsMBxsMACYBnI/Rc6v3xzHlzAF/By5CaqXP1nC8K2z9dNMwtj27i69Gu+wcyp+Q9/5abTQKqEBzrqYG47gnJznttvMHFu98adJ6ICUtrIAGJffU9PAah6W/W5+Y3tYCNAU14YA0KDJW0XhFEF1OQN2x2skBuASd9jI3aqAaYBUT0dxqORglvzYF4fFt6+UDrSZeljs0e1C0QadCWObcXZrz7XuqpqvWRVXm/nNuA5H/Lov6tSe6Nlym8CsG6dUtklEHZums6dvTh97Wtfmx68/6MFXaYehS+84XXlGbNOTB3Tj+U9MyjzenQfnGb3AEj2FxjOBXENY/av0K1503yd26ZH9aUD07y8Vnbfl/3UzvWa851/gParc5i8Xt/U09Ze7aS8+CB96AGM/KV+7NfitL3E7fflt9T/gwPANnnAAmD1O9g5t0DVIm/sDAsMCwwLnBAL7AJYXqQpzk3RKwnajXF+5JuHpH1MOYP0NANaQEZ5oQb3NijZ35XjCaY5BIgKiprB5hs3BeZN3ZLVe4caMdTg0DxC/c0bVBRILeA0lQeMF6zS44XS1dZHIFAdb7K1XgNPVAkQtamTgFAgJNX0U17WsyR/9h42vdoamVqMTsf2BFVvwwzqsYMy7EDHiqMPAOoG/9g552Apu6vgbIMmR/Jsu/m8pb1QmYHVFKTBWr/6tmo/tiZoe6rF+F/47O9OT3z8w9Prnv+cXe/X6VOVF30Wu7eppzreylTVtIDBsYCvNXjQb5CVmM3YJ7F0Ww9ildD9Ub4PgZyyaatv/0r1nyywFZ0SUynXWsqkL3vBWdeNZXcvAKtLdjbHUnZlp13HuS6q/DStfIy7XwM2AGzFeuNgWGBY4ARbYBfA3AgzSPvYrSnImiG4WDfDTBNVenuTeYFTu7nyYoCYCm1wrxt58wBloDfYB8DilQo89eAUm7oxgwkh8uomvUzPzZAYT1Ti3Pgd921Xegdg+kA2T1QGAWk9FGaA2jWQGhdmIGkeoLRbAygvUZev/Qxq8nkQV0D2wlYNjLFx39+SZ0AmJJDcBi19Sbu1303JgiX9ESIjcdLF2mL/AKU0G331ewGwDvIiJ3FVaVBJDk+X1014MatgbZg03/cz8GtDDDjtlxesg5yS2x0HTnJNXO1Y39eDNl37AaL6JmFTJPoFalImdXLuo/eK7GbXHnayL47M1ImMw8a9DpHPzuSnjfRD2fRBXl9Xu5t0OSyARUauocR1nW/P8BoP2ACww57tUX5YYFjgJFhgF8AM7m2cN9abTioQaQuzDaxu3HVzXrxiM6jUE23lGdsFi3lwn7kBJCxwR3jn9cn0oRgIVNkGGLOMrA3Z9axJ70MNEOR2spf2tGWqZftCecEMLDUAVSebLi0fIMzwM3v15r42D8Gy5sQi47PLtJnypXMHdRRhr8DNKmA2DyIFTeFGn3a1OM6AWEmtTwt8df0s8Gm2ygDWe9Hoz07yesBKWTEd5QHGQKOjWff5PWDlAYunK+11kFKG3z5f67tA5CNnztS7ofJ+sAcffLDS6Mb2AJRujnuQkZbj2CBQcK1+THTYFKIHm2VzrugrrUClTddV/ZamrON+W5HfAEw+u6XfffnITr0+7zD7vb7qRW6/r4zNecp+JXR/NumxF4D1Ze3n2lqPy67tHqQpv8UA2PoaMHJcO8Dd9T22YYFhgWGBk2iBBcDKK9MY5qEn57VBvSfIbdkUXmJrNIBF3f/ARwMKUJGborKBj6rYQ0rdbM/XAmyDdgBMnUCYm3JAJjfsgILjQFjpoGLWNxkk2wefyVAu9cVZ8A0yVYsnrmCwvi/XoKrZQ52Ck5qmnAGMTANBwYv2+r41AJthaNcGBvF4CUu/WkM3D9B0KWXa2jA2EGoQNMa0/i1xA6F1CNNG6dtAgp6zHvPi/cqLR429GnhpIABGQsHRtOsB69uxn4G17DBdmDzEAUzJKcCdpsl15Pyzr2tHneQbYB3rX8KmH1D1p0HBpvwrnZZ+uW6yr430yT5QCpCtt68vgSj7JaeDtpSP7CXuyqgTOIqsyFH+oNsie8Nar15OoJdc7dj6/kaHyl8D1Co8zQ9reBFrtsjpdci+K209pH91nV0GwLQxX+UXFn3T7oiHBYYFhgVOigUWAONhcdNdbrbbs3cLGBg8Pf6dkAHV4FuemRpW55tq3UDBQmMGZYWCqg6Sqt72+Rq4C8B2TEnNnLHIMK21wFM8CTMo+FvtdyDiBp8bcwCHxAUo2gd8feh3hr5p+uPtJ6a7H35kuu+xC9U+MABJttK59S2gUtNlvGGt3SUdzLT1WHMvoucqgKWvpV9ro+CrQQobCAAXEOpTAUorW210054rQMa+vT2K6Uwxzk8aaptWZC717IDVFgJhhwUwU4wvfOELp+e/4AXTLbfcsrKf4+f9xefVW/U17tzVIM/UW1O9HV+++hnIezCoE3IN/hQkZLq1wYZmfesw+r34xS+qPqavYuHZz352PYSg/OnTDx9KW992fO5zn7v0PQBDSOCk4gMCWPWjh6Xt7fqKgT4seW1dWNqgf84VyLQt94M62gXvyGjJy5vwc5zfTn89Lr/rdp0u1zI94wmc+W9fD9gss12z/pFr95u0PeJhgWGBYYGTYIFdADMonj9b8OF+9tq3vG36u6+/bXrZq15b4X/5Rz81/YNf+1fTP//N35r+6OJOQRWwyX/KAa0M7G6uQIJfRKgbcqDFf9lZM9SgaPbSdOUosazzanBzcX6UPNBTAJZyHWzQK0BBSKACXAWAxCBHf/Ttbb/z0dJTenlyONEeP1OgEK8SuUL1pbWrLChzqL8zFM6Dg3ZTTExOnnp0cUjjJfrUqQdLj9ia3dn/d+79o7JzLyMDWg1eBmM2VSDg1Rdunqp1AKsLs9Wrgb55C2eY3gVW9bIGbL0d7etrbHLv1x6YnvnMZ1b5fOsxMRlCjtUDlbU1z6GPfqcMEOk9TEvZucZV/bsCYM0LpkEvo41+fX/6NP3zQeront/GQfR//S/+YtkHINlSBwCt6HREAANU4Iq+tuiWtuhMf/lAzOeF6tpoAFiV7PdQ1+miXsBZ2fqN2Nl0XeYalde2+l21p2H9Yv2T9PFv/Zfp+z/0c9P6FGRVyT8NA8BiwhEPCwwLnDAL7AKYG1oDKsD00l/+59P/+vO/sATH/8M//qkK0t/9h/+5AKZu5G0srYXr9r0iogEYr1kALP/BVx03X4Nvuwm7sdeTgo7JEAttXUgGJPadB7jZi1IyujbtAof6z70t5q1zEpnT1vwuqjaFCr5e+Hd/soCHrvPAtPsiydlTZT3XrNbK04xb0wKt2igoyQL77dmbmHryyS5Aa+D1tZ2d6Zc+8f9N/9P/8doKL/7HvzD9b//n/1U2Z2u60Wl3+m62BzDMVGa92mHn0QKh5VxotHmW2A8IapeNo0/OVd5IHzuTwb4GRDUNrPUi1pwPcdvkK8feX330WwuAGejV2RR81kidBcKaQnd8+MPVlvZ4k+jRg0faXI8DBNIDPvZdL0v9DhRSJh6XBTK6MupHbmJ6B058GzN9A2bZl+49aDb6x3ukzf76Tbq2ecrkWScHgG677bYCH3EgKL8buuy3aWe9X9qSTjf6C+lzdMpx8gGYftT11Brs245N+jS6+xTRfDpnb7j8tLH8nhXoriVtux4EurouXE8ALO8Be9btPzC95G0/Xcd+D0Tk+i/du2tyP/uMvGGBYYFhgeNkgVUA8+LSnZ0CpgDX33rzm6d3fPEr05t+7z9O/+I/3Tv9z697Q0HYK9/2bycAUdvW7P3hAcq6MaAS7xfvWN10t+bpSOny3UjF6gk5BjKm5YS6wV7YWp5KVKZuwO2GnbLqkztP3c0DKF0iM+3Pg99WeaKU52V61Qc+Ul4o/SGnBh4VrWfbeqhu9umLfF4r8uhnsBD0UV4ArR+8MuDWYNTeq5a2v/fv/YOy6Yv/6b8sO7M1O8fudIp3MSDmHPHUGaSsvTIYOdZ+2abrtzo1wDUIUFc5A1l0VkY9trTNkDIvMDco51uQ/cCpnMFSTSAGFniuDMSm65Tt4Y53VXkeQDqUTTpABmDxwJATKFBW2GtLfsqw+1K382Atae3pzrmPu2ueUj/t9HLtB8DAJW8SeamjzZxvadknq8o2/XMdSLf/yf/wyYJWU7fpP0+gKU62+Nmf+ZndvnSep+jYx9EnOulf9Hj1q1+1wBe58pIfuygb+/dTqYudunOgjT7Qw3WyC2Curafm8PjjM4R10NVfR+TU9dkgrMB8uli/43jA1gHM9et6F9LfzChkbwAAIABJREFU3hZjf1hgWGBY4CRYYBfAeL+2LxRAGPRf8i9+Y/off/a2CWjlv07Q8GO//psFDADB1FkGb3XAjKm8BMfqKFOD8bmpoM0UJg/ar37oIwU//+73/tNkCgsQKJ/6d33pvhkotucnJKWbMrzr3s8tN3hp5AAXAUw5Ji/Te+SnHJ2s+5KnHLDkhfrgqW9Wf6Qpq34NYDuPFmDRmWztqwu+QIt+Ky/I+53PfLa8QfIMsuVpAnXb88tHyyN1cao1Zzxewsv/+RvrmJ1iAzYXtGXAYevYjI6CNGXks5t9ZdInZQxi+hvAoje7xh76ro662o++8/qrrRqUeXhsBWgZSJuXCHyR7S34wMlAbD3T/FDHPBWcfQOtaWC2qK2tMwStvQcs65TmQrvTcTnu4wUEukXsCzS0NJABfjeVzTqz9YF8KdtgYxOAqdvX6wFLevQQpxxdAkb6HGgFPQAoNrTff4Oz16fv//o++b0esSt5AazokrqBsHjATCXHkxcPVl+n1yXpZJuC9M/IfB3Pv9m67nqI7q4fIKY+6PKvA08t3dkHXB0EwFz70SH9GfGwwLDAsMBJsMACYAZJN2I3M4Mxj4ypMWuRQIGB2UAJQqSDBovXM/C/6t++t6YtTZvd8rf+95o+s6bJQK+MKTGDP9BR1zQm7w8AUce6p099/q4qGxkAQl3/TdOJPNOF0nm65GnLtB2P3fe9+jUlUxlwImRaTyxdOyCMPMd0+L5XvLpAE2SRQyaY0gbvkhioKEcH/WYTIONYX9Ln9EUZg4/BhF3z1B87ABnQQx7dgaNBq41DBQvxrDEdL4o+05d89tcmO4JLfRHYWhq5+mUak34AjK0MVspIYw9lBH0mnwzAV1tbA2dgBWCuixUAM3i2dXf66Q34gQgAxjO3+2Tk2eq/PmVADvi4pqTxBgUAlinIDqpmpS79W3o12Al4sHn21QgI2e8Ha/s9YKznRba4B7BMDZKnfsGd307TNwvwc7yutXQ60ZMskJRF/ODnXe96Vy2Y79vpdVmX5zjXWdoUOydsGvBK3PczthGnrPOo7Wwl+wAesKwBcz79Zl1vYsd7bXQJgM3+23l62rUSAPtzv3zrMgXpOlZn9vjO3te9ZI/0YYFhgWGB42yBBcDqLtkGVTc5g7KBHlh5QtDgDFwAgwFeOu+P0MNBFuoDnQAD2DCwKwuSgAGASFlAYM2LdkFQoCZQ4CaubmRKB0XSAARPHZ146wRy5YERfQCT/+BdHyidyQBHBgeQxaOnPrD8zNbFAi2Qo/8ALu2YeqU771KAh57S9EW7bKLP4IYO7Fbb9vzNw/L8nNsFWXXJ1S59eMeAiSHLAAPa6rxszbBHdzrT1XkICKtPJ3qzA++lMnQwjUU227Ib3RJAJRtlvZm+KQeUwaC1ZgZlAEZGDaTxYDhoL+o1IBqw471xLuPR2J0e3X0NRgFLm+5kE/VBRwCgX4gOJADAXpu6gk3ZBUA6YEiemKwFmFoZ8FF1uzqRG9lsAGAyBdnrVGXXYBEApu4iv9MvOoGvPLxgHZjpSHYAsTZyqn7rZ2RW5tqfpe9Nlyy6F7/2Na9dQEw1ZXtIlRZAcx7Bm63vZyU0AEqfo8+f+o5n1DozcgFV/oHw281UofT1kHWEYH3WZ351h2sfgFn7FQC7Z+cbBXT1j0qtWfXewba8IcqNeFhgWGBY4IRYYAGw+WWq89oKg7mBGZgY5EFFgoEftIATkAOYDPxAwqDvOMFxIEEaSDHYAwTQoD7PDy8IQNOutMBfgCAQFAADDtJ4dsBPAdS/fe/SLhkgS3s9XKVNdbUJNvSFTsrSURmAQm9rsegEPANL+k1XnkHl9OVjjz5Z9dQV1BXUK5hpnrQCqnMzyJjC1S4wVB/gzAPoPE1n0BJAmXND39hbG+roGx1yLuIN5FHLOagBcHqqysQ7lvNEjnI5T+yuDW2BL5qCAVNh5JSOay/V5QUzCPPSBSR4Qnh01BV4VAAMwKjyDb4CKQCj94CBhQUmOija9JsqEOjWXQGGQEHJb94mdVM2cgIX2qrQtZWykUV/fQGHgaT0z9ona7fAM5kAL1v6oY+2tGlfHkAmJ+u9PEUZ0MsC/egWnSJ7PdZu5EdHtreBYnKFAGjqR7f0x4J9bSc93sqUjx7RSzoAc961D75cL35fCbkO12O/RUG6NY2paz8vYs2b8BcAK/gH5WfnH1Nz2ka/EQ8LDAsMC5wECywAVk/NbZvKemy6d/vbBUGgCnCBDF6kGvD/6b+swd9ADU54t8AGQAEsBn/TjILjHrgM8IDJgK++AT3/hRuYwRiZPEtkAi1Tff5LTjrgAGZu2G7cytEr65jc8NUBSbxFydcH9fRNPTKVAV7K8F6BEXqlHjgDKcqATGXiCeJdoguASp/F+qwemTxOs9fo/DIFx85k0IfNyOYpAz2meXkIeIXAl8GopoYvzhAI2pwTNhXsawfo6TOd2EIgn01Aqv7SLeeQjjlHYnbOeSKLfsCv94Bl4HSe4pUTO9ZHa4biActAHiDrjzOtZvCuAb4NngAMLCgL+GqQX/MYbfpBLTCws1MQB4R403iW7Ce23wd6aD+w1MOEdnq5jgNg9AvIpF+O7YMoW8AlgFmJC2DP4BVQkkffTPmBHToDoIBPdItOkbcepy9eaRE9ySUHgEXf1IueOReBZh6zTKOmbB9Hj14vsgGYa801B5Y8xSg+aFgv//4n/3O9hsIi/L/6rr9f8vy+bbVw3yJ83r4BYM0qIxoWGBY4SRZYATCDAgBzA40XCkzwtgANA75B3LEbrZshqDHgyzP9FU9Z1kQZ2EEXkAFz9tUBVHXzbJBhwLdpG4ApCwxAmYFFeR6wgE3+U9amstZCgRCDQw1uWzOEgT1tqifWL2u3AAXQAEBkKAeEyOA9A1f6ClCit3SDKk3jIdR306D6KyYrAYABK4iSqTiQpQ3tsQ05mRLNAvhMQdbUzfZ2PRBA90AXuBLYHBjygLET/Z0vOtFBHigDnQAs54mc6Exv5yznCYDVIFdTO+dr0AYfsdcmAGNzAAa4BOUDO6bSejAzyNuc+8C3c3/P5z+/AJinKOdro61t6jxTVbn7ExjggeOdCgwlDnSsx7xs2eIRIqvf+uMAmCcU9Un/gBPvF9lpz+eX+nrk6Uv6U/q2KUL7C2Tt0XbV7aYf12VH37RBr/SVngG9vGdMXtLU6ffZT34W/7NLbJN2EqcfYv80qOfc/rNP/Mb0ig++ocJPfeotk5DjV9z5pmkJrUzy/ubv/cqc19IdC//db/749Gfe+ZJlDZj7jjb9/gUQWddkeyp3fYpzHF867bvJJjmvfVznuJvi7/Ps93LW88bxsMCwwOUtsAJgvDOmyXiBAmBZ6wWgDPoGcYN8YAVM8eSAFYM8GAA4nlT88IOfqWAtB+8SiFAWWAGq+s9159FpEjoAU04gG8D4oSufKTTp8RCBB7DE26OsJ6nq3V0oqUEYwNGPtA+6AAsQCrAAIjq6qbOB8qAtfVYHnGpXPbrIVw+k6bcAYGID78aaB955TRevG7jRF/oCJHAX6KnB8MI86BloBG2Z7gRMeTWFc6FN50j/tRdAcl7Ioz+7aIO9nRvABrQAtDLOk6c9nasc8wqSZQMHBlbwQXc35GXNTQHarqcIAAVM5j63pxe3pwWuAik8PDWwd4vgrTmKBwZELHDWeY42Xc4ZJOgKiIAV2BDz+uRYWgJPVUBpAZA1yKm+dg3y0Hmdg34W7CjfIDJwpn+m/lb633nEOnGH3q02N6wziyD2ZMN4Henae7h6DxhZymeLDfKusLx2JOco5fq47A4sG4DpO9D+K7/+dyZThl6eKli/JdjnyUpw3JdL+aQpB7wEaT/2np+va9U/Mu4Hfod+p3oRXfLOvhUXbZVoN4Oxv+q+7u3Rfs+V1DyK/kF1/xEX5EpvL8d2DvyjWBDc3uvXXx/Zr3Oz9s9F8kY8LHCzW2AVwNoUGEgIYBj8ARk4MYjzrIAGT9NJN5gDEWkBK/XlARYB7Kgf2AFrjpVzE/Vj9hoDg/8K/H1gfjJPOeVBCADUzgwcW+V5AiJ5GrDuEDuP1torMnmVAA9oAUsAEMiAIzcWOukTD5823FDc3AGJPmlP/xzT1U2HPoBMOllkq6sdIXAKWvSNTuJMeyqjPHjSBjBUR3rAEFSZCpXmHACn6Kg9Qb1dAJuqT8qzofy+b86TtshhP2W0KdYfsMce+mgKlK4GYAMrwFgHL8e5uYpt5Y1o+xnUpRvwwQ+YIw8c9Jt6prziTeJNC8T0INbXyX50cEzflFc/OpRe8To1b1RfTt3I6eO0IY6nqk+zT7Zpvnj59M+m7char3OU49hDTPcc67NgA1/aZ8ds6WfWgDkH2eieftkHXuoD6X6LjKSlX3Sw79omlwcNKJkuBGIJjhN4tLK/X6xcAjk8a36zpuS15/cPDmpzLdb5HaB1FPhkT+ex/437/QfA2HkvAKup4AFguRJHPCxwKAvs3o3du+q/oPM1GMcDZvA3QPuB+iGCAOBhmpBnywAORnhbwAqPkTLABDABtVpfdm5+lxXY4YkhQz2eGrKEQIhpM/lkkSMAB/W0YQ2TmwNg066yWQPmP2QeNfmgzBQbfQTwRYZ2gY766Q84Ay3l5Zrm6Tx6kA9G2cCNinx1ldU/HqZAHRnsJo3XDdRYeK5eXvPBzNoFSrxYymqDLMDEHvH06RdQCzhqh7513OwYezgP9CVPGZCrr6ALyMk3JUomW8pXji3UcZ7ZLEMYCDPwxgPW35zX4atu3g20alBukGNQF6TxehncyQMISe+vVlNf8nsAkx/A6MtmX9t1bT7+eMEEkFOf3e0nBuM8RGJp+lY6NC9c5PRx2kisH4Al7VVf25S3qUm6R391CsLWvFaRdZSYHQKV2u7BKPAKggChvgs8dmLQG/30QXq2yDT1qwwPJPk2fV3fFhs1ADM4q8f7x5vqdTIJH/yDT07v/6M5vPXLH1n2k7YeK58677z7I5Pw7rs/WvLo7Lp0nfo9FoC1T1nVNdke7ljXt/rRfT+VviPs2mCGrd2nlANV9U/YdHF+b1+NDd0NwouWu6daN9k8aZuuoeSNeFjgZrbALoC1zwLVWqXpqQIi3hWDuptdXNOAADAAG9AEJgCJgTzeHDABFnhoDP6e4qunLLdmKJIOBMCYQJ52QAsw4f0hC1yABbLAGKAg2xQkUHAjpgdZ0qwfy7un6AQq6FjtvPo1ixzyDb5kaJdM+utb/Wddb5mf35lFN3DnZl8DVftagLakk68/9CRHDMJ4zPSlBqsGJDXNWq9umL1VoIgMwBUZATL9B0g8V/FmSYvd2ENwrA/aEgfm2Iwu1s0BW09jOlcAT1sCfdVXh4eKzdjEIFf22Vr7FmS7CS8DcDdtlx9RDwb2A0+mBzM9ZrF27KKdBB4YC/EDFuJ4aCJ/PV502d4uLxTIC+ilvRwHQBwDkkAGHRc5G/qkTWXpmS36OwZ0eeUD2VlQL08f0k7qHiUmIzqmfuwUcEr/1uO+/9lnG0BKpk0cSDbdmrS0UQntT/SITq4ZcgGYvqvfBzDmBcWCdE96JiRdmfU8x2BMHqh2LeR3P0/PP7X8czcAbBeoDguXs01nADMDYBlHrvc6x/0/EQGx9bi/QMb+sMCwwIEssApgBTW7i+t5TD5w1+8uT+i5yRnEwYU83i3/lfoBAwA3U2lgSAAXypcHzPRmW+Ru7dFv3vm7VZYcnipQpCxZAhiTTh658iNffVOLgCHtKQ+efBtRMJVGt9TRDn2UK6CczhasJV8M6NxwDMh0MOVBPlACYNK2Hz/TXtEwv8/LGqroKSaHfvriRrh0yBq3FgIlBrL0lW6xafW5LYa3ro1e9Jae4BgwOtYuyEoZtiVLzA5ZG2NqtaDv7lmOetFZX+mS/3oDYAbWfgpyGXw7UKm0QGZ32bGlTb4BN2BgrVG/pRwItA6srqlujVJfdn0/+oAg02zgjnzeNPviHCfmrQIb+qi+LXL6uG+r0huE1fXR9Atg5bUP+pi0kt8PXr3AQ+7HS6Wa/ejt2Do3QJUAYgXnTpx0uiWNncub1+lnXZzywCdb306fFntUvLNT55ZdnTu/CXAnAKeDBHUEZft69p1bnku/d78FwW/d9br8vtoTuYEPWdkf8QFsAbqyfrZ96Lx+l/NNIae+N/futOT8M1/KjJ1hgWGBg1lgF8DaOopaA9W9w8fNrm507YYWIDBcG9zdgA006qWuPEAmqA88TMGBl9OnTy3rrNQHNsrVf7Q75+q2agDTDlDS9ux52n1lBZHc33N7u/XJ4wHbufj1qgnSBDdg8nIvUa8W/k9nq92CJQNxIKl951E79KcHQDEAlEa+Eemj2z503V6noQ1eJu3lRaZLgxpu/zGyQdnDmrC2Zil9BUfacxxvlHpkEpFzQX/51V/vnVoGpbntWaf5ycvqp4ccGnCaYi1bT/P719SNbXi+MqDqO7sbtA8CYMrbCg669Vdu4gJICAAAJVsBQABoe7sGWgMuHWzqsZHra6+t11d5AFDXS5MfCNKWdPn9Jt0WOX3cl6syfb8CoNvb5fXJAwRgh87kRI91OUc9JjP9ESewGcAFUJtiT5jmQQHngJdK2fQ9wEjfeO/ITr79flts1LxyfovkmgYF8GzcB3Jc9zsPPbz8AyOtD65nwW8nHnN6Ca7LxSvrvLZXtGhL2/W7bS+Rdui3eNj4poY01/IafNW9DZx3967cZ9yHci9i5yX0F8nYHxYYFrisBRYAy024oKZ92NkN2Y8uN0BlanBpA5GbX/L6m2IG9AzuNRiZ1moL3LUBHpRLWXngyRRoyrnB2tduAQ8Y8QmX9p4sbSrjxu0mQF8yBPK1WzeHrBNpQDYPjGdnmGo3GG3U+jEmc1MBUu1t5v7bzk1HBl1Kn/ZCV33oYa8GgPZG+ezHBonpzQ6C/dzcAm8FcufOlS72taGfyglL/9o0V9mg6U6GMplO7dsEvPpiS1v2Aw2Vrt0GJQEwMjYFuktnK6Hf+oHbFB3vC3m9h0V5bdve8fa3l8cKUJA1n6cssO4l7+5HJ22RkzbBWOonTS3lcw0rYwMCkdPHu63sLvBXRxlb+ttPAeYVDpFNh/Svl3fUfXL1p5dPVunVebPSx7TTL8Lvy0Y3MXjjJeQdzLYOrNVWroXFFvNU9bz4f76ec10rX5DUvCr18lQvUBVM59O5QVMgqNqwTqvBu/6SIUhjd7+EBDZO/lHj9Peo8VHbTb2jtnsl6tGhzkO7u8TudR9cOzd+qSvw5ScvUbn2u7gSOg0ZwwI3gwUWAHMz9EOcoWZ30MsgVgNTu1kGhty0cxOUb1+cm0pujIBJupu5AXuePpghwU3XDbbgZ2cGsICJGGjMv/AZfOqmPc0wJ5/sulG0G4H/5NRxkwAlpb9xlnfLjWIe60vXGnxSz9OAgTZnPjcVXpgGeZKW/xQVaOvBckOSb38dyHIhaY++ZYP2pnt9YPMCNQJau7n5ZZAngw0DYfbJWuAidcVND7pEn75uFcmNs3kI1cl5sk+utg8KYKDJ9JWpOICVgdKUUj89B8QiX8wmdMsi8UBa+r0JAEpA+6NugqTszwPK3I+Ur/Odg+aty+FSb01e8uNBAolZxO/aAjZslKC/NYDt846vyDxqTFdb+pg410KOq0zrT69n6qac2DnTh9jfmr2lfgd2Sxq5awBmyjf3keio/HwPcdU18Kq4XbBrHpSCsEXuDG+lp9+vX07dg7wFf/7HzO/HfWf+4Rw9zj3rqPH1bv+oeqde/pHKfcf5660ZOF5PWwo1AOvPe11A48+wwLDAnhZYAMyNzY/R5kdWYGXqob9Bdk++ROJcp61vAiSTp5Ta9FduuN2aAu0YKPzglVvq92UazCmTH7wf9lJ2uRF3911A4UPXDZiAB29PvFfLDaYpvvTv3DzFV96iGSHnEvqtcTeW9p94H+sDnQI5qa9P0uQVVMV+TRZ5+jH3bdcLRrbBq4KG7bd+lq6Lp2x+PDz1q1/qZvr0wuwFMumYKdw6h80+i0Hpo047Z3QqHZp97OtjAExy+t+KLLDjOC8AzQDutQyALGAiduyJvH4jE2zxvKSuspkKW4emvu7V2K/z1p/vBjDpR3TMayeSLs7Uqv6QE917u14NnclMW/ZX2pt/0vWQRXSfgWhXE+Wtv0u+2KsoAnS97MhXJ+24dvIpotwv/BNiW7ys7XpTZ/4d19VdnuMq2H5nqV+xOgntdyNd/YT8DvIb2StOuRG7p14ach/rQSv3UHHOZ13X7Z9b6bU5RwPAYo0RDwsc2AIrAFY3vXbPWwAlN8D2I3Pj8yO0iXMjzA25B7DyagUqarBvP9T6fM18E1C/2m0wEDgju0J7ZNxNg+zFAxVAUo9uHYCRqXxuIJl2k5Ybhf4VKG7NXqKAWvUt0LQSz3C09LN9gidyZvCaZZbcBk/Vt+i6dqOKjrNeHXwto84MqNrIwLVbZ3dsmnVu9bd3v8Wn3wWBnX1K9DLYnS/PI5vWee08Hdo7DIABJl6svE29BxOwArB4h7KRHy8X/U17pQ4Z8m2BgNS7mnFdb2vwlfZMM/LkWeNFz8BKvH7y6Ww601bnpJumjJyrHnf/MNS1XmA/rbyHLTrExsrxYKZv4ryotvrSXRd1nN8mW7V7AZvUFKRrrT0gk9+fuM5jrn+/6eZhIc8Uu+O65/S/myZruWa710fkd7ULDPNyBb8Pcg4TK3slwmHbTfkr0fbTkdGfp/zTmDT/xLmP2OraXluT6tzZnL+EOWX8HRYYFricBRYA629yfnyCH1Sltxuh44BG/djajbTKNVix72YQGfEMzTeIGQj6+2p+8ADADcl0nKCdkpvCzVOTNWKS5zZmj48b/AJ8zbM26zJ3Ie3M/ZzBI+2I6bf0Y2mz1a1BpiWmn3nCsYHjrvfq7AKKAcH0PWJ3Yzd+bex6wuay8+Ji9TPQ9Odnt35sMMuIDWd5c1oGKHLsy2NnIUB7YABrN9lcVOxVNmvTTPZBluksU1im64BVwCtwon7gK4Dl2KCvDhjgdUneAgpp+CrE6Yu2VkL3z4Yn8ejI26d/gv6lX9GTh4m8dU/TVVD7EpGlw8yuK3nOAdsK6V/OQV0b29v1xQJ9AtN0j/7OQ85zhC72atcAILX+La+b8dv0CSzBFzG8tsXDH7l25du3ke94vlfM13TyWpF27c7X8PJbbr/F+o2k4FWK8zvaN2aL3BMPE3dgua/8q1SOrZfzwaYS2v1Cev0OW3rOb86beP1auEqnYIgdFrjhLLARwPz+hLrp5qAeiNkFq71+dNJTxY83YU7Lf5pNfruh7P7YewDrvDcqN2AAWeAsbcyw0bxZrUwPLrmh1U263URqAJrmD14HwpY6TbB6ducb0+x9m1Pma2BX7q7naYGwNn1IJv0iZ5a1oe8LtM7Tl+qU7XMz3O3sXLndHKPjnB3b7sYFWnlarkHXrM9umYKw5uEIQOihfTdeno16CrK70eZXkGsgxxnQpQdC5Nnvp7FSLgN88hInPXV7vdLW1YqrT+sQ1p7GlBfdtV8DU2er6B0gk9+Xv1o6l9zm+doLRmJbcfbVy/Fyzlrfo2v6JL/fyk4dgMcD5loEWsDLi1e9xd7b8X1oW1qejvbEr6BsQtL6dOUznb5fPC83yLKDER/GHuwa29uf79k+g/bUcm48Be5+0i91yHWe+1Wuif46yX7y9opT7iBxZByk7CgzLHCcLbAAWAFFm64IEFWam2ybaghMuMnmRyDuB/UlvYOrkmdA79Yx1Y+2PS4unytbqIXlJCYvr5Lo1oUlTxw2CSjluHRvOtQUR9tP/hzvgkh/E5E334TmG7n9eIyczD6/phu9fX/RZJYMvgrq2tmPXWqABFZrIcBT7TR7V5lZ3Lr4+XhNhvKBvngqy2NokX+bviU/Yd3z1YNO9NkPwJY+NMjKgnl9zbZASoOXDP4pk3bStgE/+27wKR95Vzuu87QBwOiUQAflMgA5DqgEuKpsvGdrU3hXpQ8BsCZc+2y36OxaabAoXnRv6ev6K6O+87d+DlZs1PoYAANawMtnhp71S3+9vuVo/1+f/Y/T+5/8zwViytjvj6WNcP1scNDz4TU2fud1b/Pk+fb80FNdEx2Q18W2Nk70Zdb3U76P+zKb0vu0sT8scBItsABYAGa5YbfeAJNMB86gNY/9BnE/woKhApbZC7Xyo1kDhMBBDzsBpQBYFp8v8NG8PdqbPV/IbJd3egjDKtV+g63SLQC34tHancoI31Rfmveuh695bRiNL1SjaS9lAmCBmQVK0vdmx5V0aclv8WL3HOdm5piSKR+Fc7wWx/40DmiJoz9h+toHbdsSZ9/ge1AAKwHN/gZsoYepHsS00+ep2w/0+tBv6wDQ512p/dhtU6yNXgcDUHTs00FNbNj3L2lXSte95PTt0CvHYvoEDtXv93td5QXO0se+vbLPGozKNwXpCVfeLh/fzoe0E0v77tf/YIW/8NofXtl3vCmkvHhT/kjbbLej2OVytv7zP/fCOgev+OAbajo515drZbnvtntWrpu6Vrq0/Y77a8z+etnk75We/BEPC5wkC6wAWIFWA410wtCdNVL2A0xu6nWDn8fu5v+5WGnzjX8mhQz0VT5QQXj7j11+AUI8Xlm0H7DwYwRUXj3R3hHmR1hA0sDEcbik9G51Z/3a4vn26orqg/pdBTrU04D61IFaPF95Z1H/Kovdcnnicxfq5JV+MWJ7F1JsUe21tJW+dDrZDRTXOah3ka3CU6Bq1r+DNP0noMFr2S86tfToR7Z2bPN5293fBGCpV6W6c2QQ7zeyAl1u1v0gX33u2kvd3NTlA4S6ZnKd9cKvwr4218N6MwET6Sv9CcA2cIzeysUruC7rih+vecDYMlv0rvPb3pcnL/a2rz85D6nn/PWglvSyUyCs2Q2oe3jiJW/76ek5v/I3LgGwZ93+A5Uu7zDhu371JZOwXmev9PW6zcqGAAAgAElEQVRy4/hw9o69AnE59mH073nzjxSEmUqua8XDE9teiH0pMK3/li53nGsr8Xr5y6Unf8TDAifJAgcCsHieDgJgNejXgKT0/NQiQKhBKRDAQm3AKLAqWpjT5neMnS+AKJBZrDnLK1jrAazdBOTWkBMoqLhbnzWdXXnibwGw5fH28+21DHODbgDV3wLS+aWRS5327ix9ipcpaq7AThI3AFgPY9oqsAkcNX5aBzDeODqpm3bZr+zbvH6LHLKantRYoLClV7luqrXKdFNl1bcNHrDUq67F1q2fdY67F6DWTbSTqVgG/ZRtVRdY6yGgh4iUu5bxpkGg9G+gFV30xRbgrPPZBiXpfZ9S52rE0YPs2Nkb6B/94henO957+/TwnZ+qN9GXPu2p5L5OX6/vZ52r9T6vASsPmKdETT9+/4d+bgJcAg+Ygftv/t6vTK+4803Tz/7BW6ef+tRbat9xv5/j9TTpI1xdG6zb3HGfBsCcS56ye3a+Uf+s1BcL2lPxdQ/KP9i5L7Q49zo3pL5c7kl+L9JXtnZfzv0teakTmYmTP+JhgZNkgQXAovSmC/qSH0cK7xNHzuXqruen3rropK+XXy/XH/d1+v2+TPb3knuQenvVjeyjxv1AHhggq9fp0G3n5rhBKQDRD8g8J5mCTPuJN1QfSdfZAvF0RY06l6fum3719X9vet3znzO95+U/WJ8Dmh8Wae+B6zyRqXe5uK6BDR4w34K8697PTe+8+yMFTBbg86BYA/bPPvEb07vv/mh9W/aDf/DJ2vetUvu+Nyu+XEg5cS8r6fvVV16+OGG/8ofN2yQzeiav1/N3PvPZS/RRrq/T6yC9r9/n9fuRK+29n/u/V+rsJSNyE6vrSeYc91DNM2atXr3f7dw8lW1mov7ZjrfaPSb/6LWnxOcvh8xfH6l7Vu5D7R9xMpZ0db3P0IxHm/Xwj6d3kQXAlgee2vKKQ98HL3eRj/xhgWtggUsA7Bq0OZo4hhYo+GpeDgN3BnOeDU9BBrzEYzt+Fgg4Z9qQB6sGvVP3TT/+Pc+d3vmXn1sQxgtmdFS+phfXHA8H7Vl/PRj8gDoPmFd1GMBB2OvufvdkzZB1YWDLp47yrUqg9qnPz9+v9GqPGyl84e7P7dkfeQn6zB7s8IXPzvZZt4PveCYttsuxWH4fkkeedjbVSZnE0Ue8nka39//RJ8uryZNpLdhdZ78wL1vw7FH7hFx9RaP3dmeGo9JmGitIMyvigSqflGsP3Lh+FoBq4DYfz5+n82k5swF5mGp2ls0FlRv3pIP+ake542aBAWDH7YxcJ33cEG0G5n5/kwfsOqk4mt3PAt3argxIAAxw8X4BsNuf/5w6Lu9Bm4I0mG1a57VfU/IKwHg8GpADdR4wbfpUE8Di0TF4C94tdvr0qQogzWsNBPsJvpJwtcJebeyVfng95r6t1pP2cNlDnLb6eLf8rm36/OxHTh2fObPIZGvveFvseeZM7SufNLEy3q9XNm8fS+/z7acNMu1r6+6HHymPl2nlrMXzxKSnIQuI2ifRXAeNnQqWeKsKytoSCdeMNK/HSLllOUV7z9zyIBaw66YgLbdInfKAgbHmdSMja1gvd82O/GGB42aBAWDH7YxcZ33yXyk1DMwA7Cdf+cpFqxp4s/4n01BtIF7JS5kRz7Byle1gwOq9YKZwwJD1XwEw8XTqvhpY64GSzvt12XO3fo5z7lu/XCf1LcjWrgH83q89UIGHxqC+/fiZ8qy6xnzTtL5rylP32IXyhkg/qSHTZTyP/fQZCFm8Q571efzMyru0pp1HJ2Hn4tcrrvOyNdW5Kw9mXvSszNZDVUZbBdE+9dbqi3mKhMrfeXR67MkHa19aykXPlBGnXpVrMrXtGGhZ88WTyfsVD5i82UsOjZoe0+5LqJfvfu48Ove5vRtx8Zhd7PqsD22N7nxdnp/7v/XQrl26fipbtpjO1gRkHgJYblJjZ1jghFhgANgJOVFXW836D7Z7cs5g7gbLs+FTQt5yPsLJsIHPPpk2Fl7xt1+8ANhb/tr31nHynU/7V+K8uk7IqukhfPD4mQrAy6CaN6i7rgzZPCHluchaoKt9gV9l+Twz5Z1prhr9NOXGQzM/OnOhoOGJ0384PXnmi9P2t++scOb0pybBcfLkJ12a0JdJWtJTVvzI/Z/eWL4vk7b7OPlkJt3+6YfvrmA9mfCJD/zi9OBDdyzt0PXB+z+66NvLUV++OHKTLz7/zY8tIelpO3HSxdLEkVfQWt8bXl3cf5VP9RA/LHDFLDAA7IqZ8sYQxOvVe8F4Ngyu4hGOvw36c+UD2d/9Z79jeuOtL6opyH9/y/PqWHp/Lvs6ffph9+uLCTw27busSKuelHvswpzGS3dxBq+8qd20U0GbvP28hPG47RXvV1feXvWSfrn6++V7utsWmCzP4kxi6RNP09Zjp6av/7ffms58/QPTt/7o3dMjX33Xbjj1vunb93+owKbi5J16X5X/xn99x/TIqfctQZkq1/If/fLbS9b26d8u2eRf+MYHqj3lnrz/fRWknfvq3LYypUeTQX6f5hhsJdCb/PMP3FFti++/573Txcc+OtHvzDfeNj3x0HtKx+iXWNnI1j5Z6Q+dYovoQ1/loquysRuZoI89y7MHc9fOTzsjIxoWONYWGAB2rE/PtVMuA5QW3cxseYeVvLGdMAsAoQtbyxow8GUN2BMf/3BN74CFo6z92ssKuWZWIKStM1sWT7f1PzxfzVFU64j2knk10q/aQB34KqA838Dg7PK6GKCwc+HLBUSgAjA98cfvnM4/9I6KA0iJzz3wlklQBpyAHACiLshRH6wEUhxnHwwFxCJPvHXq35Q8ZcGSti8++J4qqy4QEpQtOAKBgb6vvmsud9/bp3P3vX0F6OhHXgCMfpFFbnRLGvmBMTClb9pJPfln7/931YZYiH7ywNwCYO0ac9315/ZqXDtD5rDAlbbAALArbdETLC+glRuZrtSalrU+Jb+P14qMw2tsgfIktYco6jxaxPzQwwVc1n6tANhDD89rbIqWwFBcOAdX+pJz3z0EQAovqi3vEwNdAS+x+smvncv86dvbtH+Z6iuD86b6Tzdtt/2gpVcunF3atWYKgAWaCkoaYIEscBTYcAy+AA24ASmm/mr670tvLGgK1AAt+4EbZQJg4gBV4ItsoANo5N9759sX2fYBjiBfWTp8+9SvF6wBL3JAW79PRzLJu/Njbyp5Yt6xgBUZ5AWsTD+aUlSGzsr3+kYPcexCJ/vrABbAXz+Hu+dk7A0LHE8LDAA7nufl2Gi13NQyVSMe7v5jc356RfKEWAHYha1ag8XjtQnAYFce/Xc+D7ot576/HnhIL7TvTrYXGAe4+jhosqmtRe7atXVi0rfbqxRqsfnuovT0ma1NmYGpHir6/YKj5hXjnQIkO+fvmX76H/7QZNpYeOe/ekV5ouJxAj8gh1wQo4x1fzvnP13gJB+4gLTAF/hRVrnIFZuuBmGgDmCBQOCUtgqimvctHjqx8uTd+qK/tCLvlu/7rhkaH7pjRQZd6GC92o/80C01Ha79977jF+Y1YQ/csYBgQDMwGCg1lQtoa/F+e4qyv47768b1luNN195IGxa4XhYYAHa9LH9C2s2Ny6C+hLVB8oR05YZX86gAdhjDLNeDa6C7Juan12ZvWg9d/T5Pm/r17qaubt7ltCJ77Ro79nkgdFn71bxftQh/nm6Vtw5gvZcHJAV2xLX/9Q/UVBs4yTq9QEp5xniVHnpPTeEBNXnKAiuL1UFY1lqRr07gC2xZ4weSvKg3gUcq3rR4uQJi6oNCQbt0DChGnidhb7vttnoAhC7kg7rekwameL/om3WGyvpaA5Ckc2xDF7oHAi8BsB3vCNuaH3To/pHorxfXd44Pc62PssMCV9sCA8CutoVvAPl188qAuTYw3gDdu2G60AMYOKrXPjQPWN4DVmvAHnq4VmHFA3ZYA2Qw6wGMrASglf2UybE4aXmbueP1NTxLG2vX27FMzxOQbR1Y9Sef3Umed1k9dmqekmtTjv20YwAM0IAMgAOg4iF65jOfWRD21l97daU/+KU3rnieeMle809+rIAGBCn3vc/90wU5gRieMmunAkvKAK4ssg+wASDppvoAm5iXS/0AHRiTRk9eOQDFAwaswCDvVjxs9Lr42EcL1kCbfgOteMz0jU6ATH36mmpkEzEv2DqAqV8esJ1Hl3V2ro1s/XUiLcfJH/GwwHGwwACw43AWToAOuYGtxydA9ZtGxQBYpgMPAmBLnUNYaf0aABw9YGW/QCRzcO09ZdIq3VRdgiX5a4uoL2njOINYg6yyZRbjt8cMFvtun69XMtSaqLbGK1OO4qxzqrT2JGGmFAGKd/HxgsUDVp6vB2f4AS8ASIhHKR6zN7zq5QU/YAYEATVlyAOEYAlkyYuHC2QBIe+ME7z2AVDlFRBiACSoG88bfQNp5AI8OmlTORBVa8ge++iSB8J4yQJgphZ78Kr1Zt16NPahZw9gmU7PNZNLuT/u95M/4mGB622BAWDX+wyckPZzA0t8QtS+qdRcBnvv3ZoO5gFb6hzSUrkO1uMSEwgJfImT1t5wPk/M9QUOqcAxKx7oFC8vSW2L8CvNVNmZL86L8LsnHANhmXKzSB+sAB4eLADzjre/ffrZn/mZAqcAGEiptVQP3DF95uO/Vd6mwJcY1PBMAStep6y7IlN+5NnXhilInidesEBa5PVg16fxzoEx+vbeMwBHJ/WEda+dKcl44Xwyia7KmYIkp19f1q8Bk85e+r4CYNvn63rPtbh+aSRdPLZhgeNkgQFgx+lsXEddxs3pOhr/CjUdmIpHal8PWAatZYrsaEr0g9tyDXWw1YNX7bdmAizxXhyt9eNTK9OuK949b2yvTnsh2qPlbQJYga7EPDrgp6b82rQfIAIlgImnyjvWHGeaDoQI6vBS3fHhDxdYxfOlfk0FtkX4pguBz7Of/ewqB6S8YNl0ZTxoc51PF7iBK3lerpvg2Et7b7311poaBVZ5r1k8X6YzgVRkkmM6EwTSAaxlqlSfTCPqYzxgNV36wFvmpy4bcIGw2EoMVvcDsOU6bJdHf40enytmaDIsME0DwMZVUBbITWqY4+RaoAAM/BzEA9YAbAGkK9lt04kXd31cy4BIt7bNvq+L9QqMJT+ZJzDWB31aXnC2ePqmGcJ6D1hb2wSgwJcQTw/vEWDhFQJJPEQgJR4rcGN6MGuiAAtvWbxI1l0FfgAXQMv0JmiRRy7okQ/SyAzsZaoRMPqUkacMxd46n88l+QxQHZ+/pzx6wAoUgSuyyAaC4AugyacDXfRH+8/7i8+rj4WTo7z2ec147Mpb99A7Juvc9K/62OxUNmtPfWYNGB0ZPvew9etpr/QTeJkNlW8wCwwAu8FO6FG7M25SR7Xc8am3AFiDq/08YLOnZp4ajOfsivRkDb4yyRjdxEKejuQ5Em6ErfqYDovjCazOnV3WgIGIeHQCYI6lA7A3vOrlBSSgBFgJPFegBkDxVFkDZsE+WAE5KQuoTCE6tiYLFMWzBtwCO969ZbovnqQAHIDiZUu7z3/BC5b9pInJoSe44tUjO2vB6GltlwX/gCp9owsoo5t1bSX7lvlYmr7Ri0yAmScsYyNxAIzsjQBmjeHaVOO4t90Iv64bsw8DwG7M8zp6dZNZIIBj/VF9xLl90Hn9PWBf/dD76+nI3lNTda+DvdYHyuugwpVrssFWphwrDoCV528GsJqyay83BRkBMYvTwZSpvDw9CEp4i4RMLUrLovYACSgBUkCrvEXtk0JkZW0Z+AFnkQ20LK6v11Vc+HLBDwACbaYItdO3T4ccRxcwpU3wlWnF6CdNmzxf9ANp2o8HLn1KO4mtW9OvvOKCfeLBE2f6cU8Aaw9r9Cd2AFhvjbF/nCwwAOw4nY2hy7DAES2Qt4GDrwKwc/N3GANgeQ3Fw3d+qt6QX99rrDmzaXpq+6kjtjqqLRYIbC1kuzV/nHtJXwWwTCEGLkCKAKAKli58uab5rP+6/ytfqbVXoMW6K9OEyhR4tXdxBU6kBerieQI0WdyfJyuBEAjLAn4AxKsFyMAT75K260lJ048XvlwePFOGHiZwHMgChKBMAGKmGbVjilPIG+5590CY+qY4T58+NT1y+pGajuQR87ABQKWvpx9NQeqD/byyYwDYcsWNnRvAAgPAboCTOLowLJBF4AVf7YPYPoS9DmCOfaIIgIG2Gb5234o/LHk0C/Ai8npdnC7Uuqlak2RmNQC2fb5gBmCYPgwkxUMlBlEACqjUovbTnypIivcpXiJeLACWtVKeDgzQRa44aYm1a9oxC/zJi2zwZQoxTzPSk3crepHXA6J8AVABr+jWy4xs+ppWpC85AAu88aApk3Lq5snN6Kxs3yfHQrUNUrce2rV396qS/iwOD1hvjbF/nCwwAOw4nY2hy7DAESxg4H9i51y9kHIBMK/WevzMJQBmChKYAYMCMPV2zrWn9Y7Q+KhSFjDIXwJg1iKtAZipwgAYr04PYDxFICeQAcR4kHiYeJYE+9ZJATBgYp1UACyvmwgsiQMymdLTBhgCW0Ds1a9+Vcn9/9m791hdkvK+9/nH/yZWpPyBpciWILIVcpSALR1FxEmQEgtFOSMLnMhIRjFxImFbGevYji8cz8SMxcXxeOLLyHY8BAzhOFwnDhwzyGAzCSRmbCADGIiHwzGDGRjPDJ4L7M3ea9ZeffR5qn69avV+37XXXvu6Zrq1a1d3ddVTTz3db9V3PVXdzRMGpvKWezoApvGVEPYrrXvqAonkWA8WHcn00ECO1cWzF68WnekAtpRNPjHPWdovjj0CYdojPfDHkwZ6y/YrgK2/xhNmgRXATtgFW9VdLbC0gMEfgPkkS60Be+JsfQR7K4DxgPUnJcHXCmBLi178MQ9YeVqmswUEzRPWXjBbENafggQtoCJgA8IyvSYdnIEgkGEfhJ174n3lmeKdAl6CKcXKv3ipa7xoI9glrab0eN96IDdBPeoFR2DtgA5fen3Bk3QQpW4BRMknplOmJLPvmHzwBaDAm/LaHiB0nj7aZj8yy0b9XWfZD4SxTR4eaO9caw92bPN0bUu/+Ku8llgtcHktsALY5bXnKm21wFW3QAAMhNXTjaYgwdjeY7MH7D8/79nT7c99Zh3Xup4z7dH9ArDhw9xXXfmnSIUFYCBsAWA8M7kW1j4BsPLs9JexjgAGUOJhAir2wYlYGbADRuznPKiyD7ISRvjKvnNASFxy//RNBUE8SoEhccCw4G6AwZTxfUhyBGnkFVT1NWyBJWl0czzm0wb1qHfpvQtgidO+tIkc+86dB2Ddy7gNtLalP0VuvbUZJ9gCK4Cd4Iu3qr5agAUMMF7rAMB4tni+8hmZB974uskCfAAmdmwRt/PWzwCwp8prIK7l3RAA25+GbBC8BDBTZwBCABMBDDHvzwgswMWxfPZBScAkXjNlAjhgK5CizCjfOV4rceApEASIwFK8X/bJB1vyqzOgaF+6OqMTOcqARTEdRlAjIx62xPKmrWRHl8hybgxkpG1lv/vf0V5D4XNW/ZUf20BrW/q1vF/WulcLsMAKYOt9sFrgKWCB/kBjAdhjn/70dNdrXjF98rZXTu//0ZcVeP23b31mQdjbXvJdle58PRE57Ra8PQVMcE2bMAIYIgBeDb6o5eqcqkX4Xp9g+gyIiccAkMpDdn+DJPtjGu8ReJIGZHLeYvlRTmSMsfPymR5Ud8qDGXLlFQuBusr/+bvqXD7YnfKJq2wHSrIiV1n1RDftdlx1P/LBikunPp0aPZSPDHnHdtmnp9i5eg/YCmDX9L5fK780C6wAdmn2W0uvFrhsFqjpw0Ha6dOn62j8C97+xs00jOxndyYABrRMOf6Xv/mMCXyNMU/Yr9zwHQVgxQYbBa6JF2WBPg0W8Kpr1l86C87MRHpAwvSvqciEHCdO+jJ2fgzL897pBUjE4/4y3yhjub/Mm+NHHr53evvH/sN047tuq+BYcD6vpUjeyxHTayknuo7pPLgFvtt+Exd1AdfMqwWuvgVWALv6Nl9rXC1wngXAl1dCiEfIWkLYeQWT0Ga8avrRFKSpxtf+/ecUfAXAAmGmI3nG6nUUO9P01a98JVLW+LgWuBCAmSo+11/7wWvTP59Ti8h3z9TasSdrMri/xmLvsVrDZx2fvOVN85WBxdOWppArj29N7jw0nTnX8qeceP9VDdb9JQwPCNB9Z6p7z4Mc9IheoPHhvSemGz/0q9MzXvOPpr/2U8+f7jn1yZbn7M505syZmsaODpvi0mnvsQP5SqdFG1udTY+2uL7ryl4Je49VG8kU+m1/3Ku2llstcE0tsALYNTX/WvlqgfMtEBhzZoSyEcxSqtLi/dqd6unHehXF/feVFyzQJQZeYmBmDVitFasF+5G2xse2QAewvHYiU5Kb4tQBqly/5vkMShyM69xCdiuffB1SOswUkAG53d26Fyrv/F1KZQJg4iaj4K6Lo29tEX92Z/rU7p9P/+wDvzB94y++cPrrt3x3AdhjZ5+o4tUG7z4LIPXpV+sKwVwBHUhMvR0oc5xXSBAWyJxlpkzOHVDs1Lx+cV3D2K/ZGp04C6wAduIu2arwU9ECgSsehWwvfelL5xdV5oWVh8XeJp7z3nTuxZaBLuCVxfgv+5ZnzZ+VSf413v/sz5WwRT7fcyVkR+YNN9zQPGm+bNDf8yY+fepcmwItOlxCWAexeMECYMD87E5BHAArD9jt33kQwPqrTMAT4AssgrjwGzjiUWtgOMBfB7YC0P6+NOBVENY9gXmiNPJLaGB0gMfy2OVHs8arBU6QBVYAO0EXa1X1qWsBU401gPUm8nw973ntTeEvfvF3TwbXC4UXvOA7JkE+ZX00GYBlCtKaMGu/AJjzyZv4QvLX8xe+BttslGtzlHibDOlj+TFf4Hu+hwIqQCr74r4FdjbFDZ8aLAGnj+99qTxg4xRkXnniPm3QFMlb4lGHbfsDtgXhol9JVW6f7Ob9uc1bql6TVwtcrxZYAex6vTKrXk9LCxhMMi313G/91vrMC0NUevcybNwvr0Ob9jE9ZJyyxsuTkMCL90uw9ssifYOyegyw1tJslHlYfeu5gzYbFtyzJTCp0F90O7+Y9QBBDB6hOb3f9oGlxJW8pI/9Tx19wzd8Q7tXZHHtfRPURVYehC2LSncP9OvIi3Rm92wd13RinyoEWjOADR4w68Lq+6NZk5b27/Y6U1+vp+pKngOfaOpt6GvQ1F2eL3qZnlVmt3nG5vZEtjjyW7PX/1cLnCgLrAB2oi7XquxT1QIGm1rQ3D+MvbOzM3vAshD/sLYbqAygWfDsiUig5dNDnogEX9Z+WZxfANanmCr/gTU2h9WynjuqBfY9N40WCh7GwgGH8lCdmUEosOF+iIxMxSVGU84FUIgFYLxgeaDCefdT5J1Xf9elZADxLL7v6an7q9N0YA1YFuE/vvPk/D3RyBDbUnasMx+LL6Dqfyxojz8A2vRkq5gM05YjY9lP3iLJ2K6KbLFvE7f+v1rgurbACmDXyeVJpzWqk7SxI8v5TWkHzx3swg7Ln3KXM47u22Tm/Ca9NqWNf+mm7HFkKzMOGFtl6eQ3bMkfGTlO1uVx0hPnvHjTNq4B2+gB69+721h2tz1BV4vrPRz30MP1qgnv/Hrlc59Z3q9699dDD7fvQRr8+/qceELWuK1lumg7DN8hrHtj4SGcr5fLzuyBiMRzhiXAtGsEQA67dwCYtWA2njcwLj94T7nAjZf2pncoIOq6gzDwk3tbnlNP7s0A9sxf+KfzGrAA2D5QkQmczs31qTey5CPPJk1dgSoAlvORQccE5ZKfFHKzkRHbJG2NVwucFAusAHYdXCkdig5Gp1nTBXmarac7lw5b55qni3RWBzvA1gnqkOopo+GJo+rsBjmRN8c6xmGKIJ21zs9+8mVgSg+ujC2dfDrQpkP/S920RA32U/1V3kqQ3Drh6lD7QKSteRTe2Xlr2dsUSa885UqHXp5+mcaYO+sMcuzaO/avTk+2D1j7C7zX6dy8OTjdPlhdaZki6Z6CXIO6Nn1QoI92C9EtdiOjpe0/Uk9XbaSLc8uQNWCzTofs1LUrD0Q3lC8RPXG2vF0+tPy6X7p5uuvtt9dxfYy7N5anrfTqsst+3qo/vJrCPXeltwzUx62n7tEBrsnJurqcO6rseI7k1/bodiE5+W3M+TuEpd7Ytu6JnjgC93x+ar8T1yXXZ7xGkSdOXQGw/P7cU/ZLZp9qdMnriwk9rnMS63fRpq9z/5LrlJda5CnIEcCk53c36j3qNuq3TF/e68vzy+Mx/3gu6WPaur9a4KRYYAWw6+BK6eys2zGo19Y7TJ0LKJM+d3bDWp85ffiLtjrd7trPo955RJy8AME8YAdOhg6VGunIaUS/uVw8ML3jLr0GAGsd97mCkAMApGG9eQadelUC6Dz3WAeTNhAYAAwdNXz06YiyibJVZ1sjEtnVjgEcq429PBlzm3vd9GsegPZ0Fjn+AtdetjbgGvSqLtAVHTYAWOQbgJb1jjYr26URefqrD85tQLx0ACvx+c817VOMjzzy8PTJez823fXud0/3/fF906OPPFpwpY0HBv+9vQKWiBAHRA4bYMf8l7LPXmWzYwoJJGa6tq5hl3UU/bUVdEaHGd4A/QA6h6k31llletlRN7oISZMv10Kdo4yyf5/WO6xe55YAVv2Asu6D/tvxWzGlKLjvyi75XVVaP9g90/8o2Qxgd+/cP325vGX9N9vbuUnHS72um2SuaasFnioWWAHsOriSOqm5UzQQemx86BjTiek057UUvWN23DrtFGjwEoCqwd+pgFZffE1mQCcgUabo+ZyfO/HBRpEb8EmtBWKpo8NKDTYGVo4sGaP/3l5NbaRdB8pWrf29Qh2kogfICaARWMf9L/XoJU174qEa64jOqa8GII/SnznV5Nb7ivISyub9WAKSeqTNdu0GUK8Qe0WR1A8AACAASURBVIhTT2xf9jAAd2CUhyy6pnxiel+MB6xZt//vOpxtrwbQNhAmPPDAA+3dX84PW6BFnbboOWS54rup+7gVpXziyAExI9QkfVOcsnVfDBmUz7kh+bxdUKWsOm0pMx8vQGXMG2GRMZZf6pO8YxwAcy+5/6tMvw/qpuy/+3a/+fV071hu2Px2+x1Mjj4JaGURfjxgAMwifHn8Hv2B577dtsUO286v6asFnq4WWAHsOrjyBmRrLQRAJcwjeX+fTwAjHXQGcXF1ft2zYl9aRNgPACSWZ4SUGcD0oQr2FzfKtwzRQ6cqtONWbFNd0hLStnTI5WUAgr1Og4b69rVvHTz97NXA0qf47CfdOYPBPCD0/NKz2WffA4Oxer0jks37VGTq5g2L95F3MjYztVMAFgMn7hXlUDzaIwOitDq3ARxHW8t/MQCW61FqMCHPh3i3eXYeeeT+Gb7G6cXYI7Hy6q7gGvf92PF6jemZNriv4mEK/FxIb2WTN3HkXais8ykz7tc1iQet25FuM/AudNYG22jz/FbqxCH/BcDcQ3P58T7oZf0OhFm3ukeGn1zvOeIVHp+CzItYAdif7n51//d2AQA7RO311GqBp7UFVgC7hpd/HjSXnaBjo3QfRE3TPfG1Byu0T4w42cEmj4FnoHSqyyN//It3BBh/ueqsCwZAUh9sa7py8MgESBIHEsZjMvbrWYBHBw3nLdxVT23AJy+LHNrifNOrQVXqq0Gj/7VtgEmeDCgGCgBW+mfaJXYtczbPFV2FeBwLwE5LawMTGWQbwFN3YvartWNTe9FlCVLHhi31JA6EjgBWNg+g5joOXqiLBrDcA8MUNlsV6A6P8gML6YkzYOcecGwLxGxo3nWflDZQdNwfFa/29j8kki7NBqhy/iggNtYRwGK/0cZjHalH2lJ+YC7pZEeXsVzkiQGYF+9WnxHv57CEIdCVe3m83+3n755qhz/mqu9pnxnKGrAAmE8R8YD5zWWZA7nrtlpgtcDFWWAFsIuz12XNnU61+q4OJDpfg7Y4UGPQ1+G1VwacapDRNdHx8dRUJ23gzIhvGvDcPhjFQ1RPHNUi/f1pioKDPiUZAemg61iHXIiy/yRW8qlf3uhqvzrjDj/2BfXrsJ3XbmoqI85x7XcPUfQt23SgSBszIO03dd8DVgPH/olWwW57RYO6bTxhFhELyZpjYMbebEKW65A2ALCm1z7kklfXsYNU9CU3Nhlj6fKXjRRmJ4nd6+hcybxID1jKjDaK3oEA8aOPPz7XnQE+MRmBrlmO++IqLMKvRm/5LzbZcrqS0wbwQ9+UCQQtyzp/IAzQGYBKGbY4bBvrSr5NZciNnvU7t9bQ5d/ZmW0s3bZswwFdF9Ao/wxgRC4ALL+53A9i8qTnfq77cvSmA7A+Pa/v8SmiTEEGwJStKch8q7I0X/9bLbBa4KgWWAHsqJa6AvnGTrU6ZE8cPfD56fe+/L+md93/Z3P44P0PTvc9cXZ66Gv7L1asRex9sSywiQeoOn69aZ9aswsA2tTZME2Xv3J7Z73MEw9R1ngEiORrIENy96R0hqj0PhVaINQ78VojcuZULXIGMaYv/FX9i7/93umeP76vQCiQ0qW2dwORlbb09rR2DF62GTTbYvqyaWCoCZtBqga/Lgdwfebc3nTvw49O7JvgWKgt5QePkjZqQ1Nsfxq0gG0/eRjc4jVrXjflG3z1zCnT1+jQ3+Y6XowHLGXq+gdYI6vHFuELIxwENqwRs1D/7v969/TxT3xizhN9Sqlr8N/4GzlsH1jSPQATVZfHSV/KYhfl/+AP7kmW8hwGmObExU7kJPnBBx8s+5GV8Lk/+ZPZniNY5TpU2u7unJ8OmSYmXxvkPRAWAJkpyHY77T/9GBgby+4DWPst++3lDxD3Z/3mBwBbesCyBmz8HURm7LDGqwVWC1zYAiuAXdhGVyxHOu8MyBa83vLa10//4Ed/fHrOD/7Q9G03v2L6Wz/249Pf+de3TC/5+V+ZXv+e9xWIlULlYWpPBIKjQBgPV8FZ70B1vA1u4r3RxfZF7kMeYHMwNHDjmWkyGkjo4As2uoervGfn+sMBPAUjgMmsjp5GN+up/EX9Q7/076fn/8CPTD/w6lsPeKIUMSDV1EYATOLppkd0ZLsZzoY1XKVb13GGIjqYWjxzqoHp7lR2/NUP/H7Zlb3pIrz4plvqGhTsdq9ka8O+58rAw4aCNsUDOeqTc87X9Sn7tvcZNcX7W9D7NSg7D54NNj8OgOVmVT6DPVuBKi/q9FkjxwGLxGAh3xT0/jFPSwbOyLoWW34fR4l/5Id/uN4Er522tN3+Jv2XMm+++aZqP5Cxpe11sOW/AzJ2d8vG7JvPAo32fPlP/uQExGyBQnqlHueSX/mPfuQjcz5l5D0v9PvF3Uhv35sMSPkDSnr7LcXLnGn29seAvPoGeR/ea6Gltd+se1e/kkX4mYLMU5BjP7C8f7eYbE1eLbBaYLDACmCDMa72bnXgvWOtzm6aph9+/W8WeL3gZ39teuEv/8b0fb/+lukf/5t/VxAGxHiNHugdbwEFthg8XAAHvNS56dTU1oydmkEB7Bl063yHq/oLu0/91UL17t+pabEnzhYv6Kjr5YsGt8Yz8+L5Ou6wUi8BLeBq02pkGwjAJXgCL3QEk8/73n+5DzsaAaQKvnamvXNfLN3zIWFVKlfwOLWnFguM1Hu6vwXee9Rk7F6ugkNTaHm6EeycnsqTyM7g9h/+9M8U8H7vHXfMMAYKC8DI6uvUyIptXDftYkueigKyvMYBqxTwddt7F9veY90j1gb2XBvr+prCbYBlJzAntgGhvFyzEg75b4SMDOqus33yXvSiF9YA7QPf89Yh2jEAywejfW8QgNm09ShbBvrARZUd1y4FCDvMBSbkS9lN9cyQ038nyT/Wc+ed7yg7AZfy8G3QOe0oeRt04f3TfgBl4xGM52q07VLHyJPn+7//ZaUHOcKznvWsGapcR0BNP1vaH9meUI39lQOSo13GeqJDpfW+IADGq8tjJdZP8DYntp+QPPKNIecTywe4xo9xNw/Y/m+j4KuvI41ua7xaYLXAhS2wAtiFbXRFcsydZx9YDOb++gRc33bjzQVfv/vY16pzFP/Qm99ZEAYYdJhgRhmAkjVN/oqtv4ADKn3wB2RtinJ/qkE++UEVzghcZOrR8QxWO/vlvvDYl/v6kfbXM1BJGXIEsCa9dJmmGgAMAgI95NEG06rS5MsCfWWdDziyk7TIUp7GgE5a6rRPjwK2DmX22YkHqnnhWv6ff8tvFeTyMAKvcQAy9fueT31mlk2mkPpjY/bJNuonn+NK6zDM/toXOzkXIJXuuLWjeSjKoza8hiJeqtS3Kc5ALm/yZwDnfYl3JQDmXMqQN3rACsAef3yuZsw3J27YST7XDPg5zn2e7JU2PP3n/LYtZcX0FbTNdKONLKAYcAEh2wBM/kBbdJAGcsEX2FLe9J9jMPfqV72q6jnsv9KxQyWvlXLKAyoQRx/2HO0fQCa3rsPeXuVVVr4AmPN0LVsCrQFC61yHL/sBsBvfddv0wtf/xGUNf+/N/2p6xu3fOX3LHd9Tb8IHYHUN3LSjJ/yQa0nHdVstsFrgoAVWADtoj6t6lM5bbEAHI0CLx4uHBhjo6AzQb/2ff1TTkqbLpPsLFQwo85r3/4/ZS/aCH/uZ6abffHvBjcG93nq+22DLOidyedJAnnp41MASWaY/eaUAimP10ivpYEW6NVKmEOU1jWefXo7jofvlP/xUyY+XyRSqcvTmYaJnpiDVrw7HZGmTwYYnCaSlLu0COM6/8dN/UvCkjLpf9HM/P/2nD/xhnQdeAq8V0DHlCdrYgzy6/N1X3lZlyJNXW4UAVwDvPR/+SOmrDiH2ZYfUQ3/tdk5gX3bW3sCD/K6huuUhSx7A53oG3OQHYMJRpiBBuOCfgTqQYWC3gQGDOkgxwPPS2Mq+dvpXF8Z8N9xwwzwFmXu0Ch3yX+qb5Q55cy5g6JT92GbIemC36h4g48BJbdjbm+FLGwNgy3w5TluiB89Z4A30xD5J4zUcbRo5YxyZaXdieUbQIlOgYzxrBV8d3qSlXrpkLRr5tmU9c1qd35m+6a98Xen/12/57gKlv/pzN1QMnEwdWkCfRfRiaWN6zi/THZPxzW95WeX3LUhTkuVV5unuLzJ2D0bXUnj9b7XAaoELWmAFsAua6MplqE7VANOn/wzS8YCBDsegQJwB3sD94Z1zBSEG+OQHU6YsM7hby+Q8gCIDnDgHvExvAhBlAAwwAzVZfwZ0HIMCwALIeN5Gb5F9adaq0Ul9All0VY86hORzTlvUQxf1K6MuXidywIv22XjgpKdN0sEK6OO9EoAX+cIIj8qyK/gS2jqsBkHqoTf4YZtMWWatl8EErGk/u8k/1kNHemsLYGMfebSVbQX5tZd814BNldPmhKzvA5O51pmCdG9cDICNAz8I03YemXheMrjzgDknvxAYMeAn7/Of//wCsMg86sAqX6BD2SW8AA71BciYPnrUBV/8N/8+OoTUm+q7V01W9km7RgDbpm/Zpbdbvf64ueUVt0zWj/GExQNlH4Tecccd+6C60C2HpePSSzXYQT71ZnoSgLkuSU/7l1OQycNeQuqRP1vsA4Ke86y/VNePB4zHalvgHdt27rD0b//1fzEJ5HunnCeya7lBXw6wAliuyhqvFji6BVYAO7qtLnvOdKAGRJ4IAz6gykDOs8WTxCtmUDeAG8gN1qDFwC8NeAEFsMLLAt4M7iAAsAANgAISnJNPAEo8HyCCTB4ZYHLTO9s6M+l0Uid59CAPCKkzAASIItN5ckCTPKZP6aQuniKzFsCELO0MgFlrAurUo35ThwbI1A3atFlbtEtb1OMpSnWzBVnKB6zKQ+W1BH0xsTYGREEQXQESWAMLzZPU/qq3D5xALP3J1BbXxLUAmI4FXq2//fJb69rJJ781bgFgXrQAJzvQVx5tU44uQJdtgJ/7whYACySNNyD9xpCBeRzQeVKACTmRBTbca7YAkf3lFGQ8ablHW4mD/+dc9A18yTXu0ynH9mfZAwAelNyOlvKlVvv29qYsmgdgoHIbgM0yBnAjJ08Z0gscASO2YTOyPc2oLlv0rYPFfyV/gCKnyVRG+cBmdAR5eVAgbVFmnEqlQwAstpUnbYkK4zH92YCH+d0Pfni68zN3T6/77HsPBGkJOZfjTfnHPG+9932TcM+nPlbTqrHJDIeHeCqj7xqvFlgtcNACK4AdtMcVOxo70lSSDrTi8tZMM5iAE3AFKOwLwATExDMFRAzgIA2cCAZyECA/QAJLypGTacDIKMA6216oqCygUSc4AivqARHgRnmAlDqAorzigAyYcR7kBcBG3dSX6T7pIIZOdDZwjJ4t9as74Ai05Bnbol46ymuf3vRsANcXVvXvTVo7Jp9zqZeugMfmGswAdjaL15tswEg38BVw1HZtYF92IZMteLPoQrZpTDZhD+fVLb9zgv3AHEiLtwyI0ScenqMAmDbUYNg9OxaTG5AN5qa3eHQcg414knIfigNgAZrcmxlox7z2c36ON8AKEAl40U0I+ARuxEepI0Cj7je/+c2z5+uNb3jDlEX4IGRcAzbr1oFWWUA06hCQ4/Wy3X777WUnx3RP3jq54b+qo3vV5E1bAl4pEkByHcgNnCUfvV0f9nfdrR+zFaR126Y9kTkeu87Keo2Ne8n1BEvv+ujdh4YPfuKeyiv/Mi85Cc7zkoJHfxi5R/2B4vdceq4AlsuyxqsFjmyBFcCObKpLyzh2lpGUNE+pAQSDsgHeYM0rksEeVBioDdiZUuR54a2SztMkAAEQpWwADBAETMTx+AAPdWZqDjQoC+iAAtjZ5AELGAXAeJQAHa+KAUhbwBIdQIoYKJKpjniWwIzzvFYgKuW0gw70lideO+2WTxucH9us3fRJu9VH93o68lx7CtHAKA00Ra94nTLI1SDfB2sDjHYBL/KUcV1ALdu6Js65ZvGqyRPd6M+r56GFTE9GZ7oCT3qTpRyPmWuj3go7O7PXKveLePR6jfvV3NOePpgOeId4VgzmphUN8OUBq1z7C8BBgEHVAB5IC/S5RzdtuXfnePACBSpSLsfsbBPH1qknecd4lj3oEFChp0Xy9AZhjpcAVnV1MKBD6kr9zgMK3iky6CQAIFAXeJS2bSsd066uZ9LUY2oxtqcjuXSRJ3Lt28YpUO2KvWb7LSCn6ulltd31c4+DMPX6CDv4dpzgeEzLceLkS5z0xO5nv0O/DfdrbZ767e+xS9IarxZYLXBhC6wAdmEbXZYcY2cZgUkrAJuerMHcoMzrw2sCuICWQV8AMYEi6SAgQBBPkcE+012AgQwDfjxDBUt9qstAD8B4agr+Bk+N43S0pspAAt2SFgAzpQaO6olJ4+tue5M/75U89FN32pS2K0emBflgD3XQRxtBjLLqk8eUnb+0tV2680IgM23WbvXQl07tdRCk+npAm97jHSyQuvHmeY2Wislv9mj57KuXPG0ATHTLFKR0+4CUXqBTHjrRTZtBmPP0I0NwLnCa62QdHk+DOkvb/oRlBu7YTDxC17jvnIHauiUDvcBrYZA3mHsSzwANNjIFaYDP4C9OOeuixi0gcCCtw0DuYVN2AYjICdAlTroY8NgCRaPs7Ee2ONCiDvJ4+AJIaXMALOU3xWmLOGAjnzqyJU/O5zjnx7h0HKZS5aUX26fdYnqb7k9byIj+rpFysZ/rPuab9TgEwHjA2BUU+UPI+qx6AOds8zqqS/AKFMEfX0KO/VbooazXvVR+3q3TU8khq8pNT1Z/oR8oAOvwtQLYeFccc78vDdhW2u993Z5aFlgB7Cpez+qsx45+GMSseco0moEagIEYaWBFGhgBENKcM7BLA2PSDPY6xkAaiJLOswUIAE3yyZPpAx2pvPKBE6DhGBjJz+ukHvAjneeo4OrGm8tzQxZwqAFl/nh4m76jm3rpT9+qc3cqeKETAKtpwF5O+2pargOLstqqXdpHFzqK0xbn6JX2aw9b18Dm1Rdf+UrBGCgznQiUYg9l6RQPmzb7659OvFLygSrytRPQ0kk6AFM+5KTeUX8eLzry8mm//I5HXekc+wUyiKR/1m3V8eBhMlg7H3gROzboB3JuvfXW2cPCe5HpTFOQAQoxG2VTFiyAo7qWHeqSP/nUNQbpbGzaDgSBASH7y9g5niBbyelTeDmuE/2/6CeOPdTDw6OsDYAFcrTVlnJlq8FDNeqdc4mrIJ0GfaQ53rZFXl27oRzYClCxK2DkvcsW+zqOrmmfacq0Lbqknvm43wNJZ2P1GKRzX+S+XMb1EAaoLb9ze6Fw6dW9WCWzr0utMb/+sGrrVJ3LHwpZu3ogTxp4lePxj5GTtl+milHF/XdhNw/MNPZq36nVvlz32fat2Pr/CbPACmBX8YLNP5peZ47FAMzADGzADgADA7xTgCdTc+DBIG56Sx55neOtAReCKTFrO8CBvKbK8roGEAASQA2vjYEQbKibPN4Z8pLHlB0g4rkBaPIpGz3BIYigZ/Udu1NNcVinIx8AUycAMWWqQwE8IA+QgRPlWwfTpjZ4sOQX6B5IEfMq8T7xHqk7bRYDpnqBaB8wDES8i+xrC2iSD6DI0SZ6Ki/OYn5AZj96JI/F88qNAGZgNeCSob3g0Hk2ojM52m4qU3vIErK+hv3T0Wawp3MG5PEWrQEYAHUoyFSV43iHTDNmgAcG4zQYAMuAT65yjtkq9bknIj/el1GHKreAMPXRRTDlKWQ/MUizTx9x6oi8sQ7yoqcYUAaysog9usUDBuycG+VGRuoYf3PyjSH1J208zv4yjrzUk5hH0HoyHsdn/41nz2DsPoneBc5dB/uuDYhy/ZZtSD3RreLhGiwBrAZp98gATzM5Aa3+3cd80WEc1Oe6BvnLdi+PZ716meX5q3GsDbaTFpfS43Xa/5uugdYM9o3StK/tdau2ZveDNTpJFlgB7CperXRsqTLHYnAAuAABuIgHTDoPCcCSLhjQDewAyjEIA07gTAA2yoMv+Uw7KpO8QEAAEl7dABzAGnDjXeLxIUMeAAK+1AFc5Bs9YEBKPdLjyQFCgC/1kAdI6JaeA4ioI0AJeApCzrW25pw1J9Wv+hTRuQaUgTd18EalLSAn05VVD69a//yRAV3HBRTpy87yB+bowYbqrSnBDrQBMOeThz2EeOHYNiAMXpUhByCCTW1Qlg2ck0ddrgcAdR3rr925oz3fA+aecZ9k8A5gZaDmNQEo3l0VCEhe5fIyUC9ltRnw5XMuGxkgjictecgQxnzJLy0Dr7RAgf3oYD96SBvT6RAISb6cTxnpYB6YCJ4OLH06gCqfRfkgpMCuez+X9ZFVOg9gEf1jx8ozXIccizdtkTe2YykTFILbAKQ2xHajTFO/2gjc6F6e28GuKRM7p26/iwAYeezjXq/PYfkE1/zx7e5R2eDdaoN6exGwP1ouNvCmCSkX3ZbHSV/GyXfpsS6mLSc4SXHsl5ju9l2XudOslrUvZRgXhPqjd7yJ1v0TZYEVwK7i5Uqnkyrr2PqR6VytuwAwpuRAkdjA7ZwfGpAyoDsnGLQDZmDCgC+ACoO6vLxVfqDWZ4Ewac7JI8gfD5Dz6ggYRR7IAA/qBHW8NfQiRxqZvHEALBBlAJfX+UAOeAM+NQV5unmFnAc76tVG9qCrIB3YJL81KKBDXgCoXvBEvpdPgptMV1ajrV05c6o6MRBWL47sAwRd6aKtI3RpM5jj5dJOdfEAAkj1ACb24NGzL/Bk1SL87iVMe0FowaN18bv95bV9KlceQV3aSMZRAMwgH/ByD7GXtPFN9wZiU3QCz0v2Mx0mls6jlM1gTy4AcB4wkDtu6lpudf92mDH1B+DIFgDHUodRn9HLBig21SfNvaRN4EVIeyKbTJ4v4OJ86h91HXUfdT6wP0wzBqAiw/G27YCMDqTJy6baAIi0NxDJ9mTmWkY+75g8gDJbgPS8egaIlHcJYA1D2rdKA2INSNoLikFb3XQus3fmVV/RPhQvX4DsqHHK08X+xcYp/3SNrcVdhk0A5mLlOq4QVrfZif5vBbCrePl0Lumc0kFVZ18esDaFBzgACEjgEasOcGen4AbggALndOpe2gmcgNYYgJkfp87bAJDBTXllyRDId5zpQ2XG82QmrzhDMv3sgxT1K6dTqNTeoZOjPNCJHHopCKaUUa+0BjtP1DRsvGDS6Fub+joQKCc4rw7yxzroVi9Wzfcgh4Gl/pjsa82ie9pHx9jD4mSLmA2QYzvUk/z01nZtEKSPukjTgVrcDAQdxw5iQXl62OreGDwvjjMlWOcHCMg9JDblGgDJAB8YASTLtBxnmqvuvy4bgAEY02c295gtEFAHC12jC89TIG+sN/vL2LRhNnYmRwgMitWf6cXonTjycryMtSv6p54xTn1jnPNJG4+zv4yTV2zLfTp7r3q6KdlcJ9c1m/yxL8+YdsVDJg/bOD/Ws9yXL5DqHm86+CEM3yPtL0z1h4iBnm0K/CyiHxbS5zdyXhyFt8WLKbQqL2/Y9UrHhzygog+9UGALea5ZPJ2t/sK1CWAFhOlV1+jsTvMy934ibWp977YLs6ZfzxZYAewqXp10nKmyjv2YPHF49okGOB0cdJ9AowYng0l/s7s0ecGXcskXKKkfZX/Sqb5/6D1Ypn7kx0g2a0B6vXkaiqx5IDzXvFCypl4xOAwgVsUq7x0rOegKbEgzIIMOACOWtQYG+XtHUu72Pl1iDZy86UxSjzh10C86VhvOtWlPEKO8c7Ne3fOkvLpLhp1u35bYpmSAXulnGjXesvqgeLMb/QWAVltvM1snf/56lS9v3qcPewi8EPIeeDN/t1k9sdY7/xoUO+RsBbAOFwZRNs1aI2uIEgCWfbF1SPGQACxpvC11/wyeLmvZLBYPPGhr9GkNb/8rV/dPv4ekaisvGNAQk2Wtl+A4AdzZl5/u4k11pD560p/OY0jbpOVpUQBIf+dsDUT6wyEReJnjskWHLG0JOKYaOkjTZvoBLCAmry1tl8eWc9KVzfnUs4yrUAewv/h1bRF+vL0tPlUgVvu7Z8oTbF9wT7ZvpJ5pvw/39baQijbFyuQHtKm8c5vSL2Nas1OUOFlx6d7X5S01rz57tK8MBczthdGuoVCQtunarGnXtQVWALuKlyedZ6r0w6vQQQpY2Qp6OhDlr6F4hnTULa31eUDHMYgAWSOAVUfbXdvylEcgP2CemQ4QBT8FgG3qQbrOnx42darfIdDrye1H379BCEB8nqQBWOsc6KNecTp9pbMvfwYAOoAXkFLlgIGKErpHBrQpR0Z1RN2jZr9Apy8qZw/2njdy6NqBruzJ8xMY7FOf1e6+5imDJFlpd9mkw2jqKF36h8/pL8jvfOXXgbJjtwP95zb0BrJ57gd56T4CmDTXr65F91hVx92fQKxrW7Wc702TnDVggMUGsrTVRqa2ggQv23RP2XJ+lC297uPcuwOE0ecAvA1r1qJr9M9x6ldX0qKP47HunE/9KZvpPZAJAJXPlmuY48sdly550rYLV+eoo2R2jdcugKg9o66xvzbYnEtIPcu4VzkDdn5fBuX5d7bL47wz/67qHu8AljwZxKv/OILHaJlvqdfVPq4/5rrX+Tj7y/ZczeP5j8P+R7ZfZfr7xLqJ9MH61Pot1Lc4/cF7ZgWw/BBOWLwC2FW8YOmUUqUfUYXegfvh8eb4gdl0lPbrBwfShkFKPsBGpoE9W3X+NUC3v7xHl3Z19vmrs39+h2xyGjS0abNRHv10RtEFVNDTwBjd4/0RB6iUCUjZNzDo5AMo4ur0y2N2ptoNWshggRo4/aWnstODRw6gAbdeV73rqL+riD70AnNksZG4tj71aF9HJl/0KpDr4Ntz9+tw8C/3wJc48KXOavPeY9PezkPVJio7X3niTdSB9uuifQ22u8ewTwGVPQNXCwBznbNVvj5dl7TEI3DIp528UIE51L9FZgAAIABJREFU3qSmRysRADDtBWB4aSzkV2bczrt3Ry/YAErRTb226JA6x3R1J13e3N9JU+eYJn0O3R7yZJqS/uOrHmY53aZjey7X/mgXU7jerG/LdaA/sIr9Qdg4/Rp7sDdPnvPyWvuWc+LUs4zTjng4/S7qj6D+h1f+sPGLsV+ycs8Ofwy5J/0eTmqIHU5srNMwfdx6tvM9hr0r5IOv6zj0tSuAndirPq0Ado2u3dyRZlA517xLflxCDR7DD7K8J1m3sdvyggsdZ3XUHazyF5MfcvbnX3V+3T3e/4uqyxn+ghzBL4NecVSmL7vnI/kahLUORNtUQT8dhn1lyZEvbayORJv61Kg4AOYv87LBqHNdq1PzX/byVll5ugu/1RkIawBrUEkbyl7DOgv5BSJKVuxogG/c2E6aMeoznK0TbJ6ggrfuRYsOo5xZRi/vOHXNuktQf4ea7GfQzvF8z/T1UuPxPEh32Kh7oqROBVOZpuMBY4uAV+Kcz1oqC/Fzros5EI11R+/YeFs8tyP3fG/vqOuBSoYDMm0jtCkn5PNBI4DRKflr5wr/B/yyBs4DArxcHo4wJRo4AlfOxcNVdup65gnI2D8gB+Bs59l7uAecVwf55YF0P/ZX23hARvB0sPfblbTdtg4zXmN3ZPtj5AobaRW/1QL+qHNt9C36o9p6X1R9SO/fgLQgT3ne+1KJ9frFaCcrXgHsGl2vuUPNYNSn+AInNeD0H50fZsAk6dLAT/5yHX+kLf/+QD9DQCtUJwz+CUyQv3wDVOTyUJWeXcfqITpsKBsd5Kx8i2nKEW6iA/3lD8QEfqK/cwVW6jboDjrLQycdTzx2TgdkxKmzyT3X2mCty6xtm6Zt9bQOL52eNkQP8QhuWdhPrmuU61EANq4r69eMrCofmQGwPpUw2z7t047YuQ+4FwNgpftwLwOTpFl3RZYBGhCUXbXDC2r7lm8iygMCAJhtG4SRfbEhdaWdc/kOVzm/Ka68Q74RxPIpIgAEhEDLNr03yb4caWwMrtgvIBaYEkt3DUzvVvs7fFY79vYOPCUpvycl40VLntleC9vTPwDmdnKPWq8IvF5571vrKeEXvv4nprt37q+HP5xz/wrWJGaN4xq3tZ7Xyg6uS4Lroo/LetL0S/qqAFj7HfcHfSrD5biTVxlX0wIrgF1Naw91zZ1pBt0+cAcg8oNLHECqH12fmrOf9AKM3TMFHOlcxzien4KqvnBz3A8sNHChaCOD0jOwVgNgW6sTbgAyygaUAmYBDPns5zxgoXcAKHL28+9DZeqWx3Qe3aodfRGx/VluIIgdxwEqgDvYKjYT00Mgq+03kWSUTbLAtStKhwAY++X6RA/tIEvnaapULJSto0vsKe4DMYuzS13fDQA23DpH2h1lGfRNPQIDnhZbBnf7gZks1q8F+qMuA/ik8gM2Hu29ZT/lEiufbdxP2jKWZwlV2ggiAZi2ARzTfdnkF47iYUuZ48apw9QhO3rYARRZVM/rWE82bnjdRtqkLaYmgRoYDhyP98M2m9M5XjbQBbSA17fc8T3TM27/zukvv+mF0ze/5WXTfzz1+xXu/NofTWu4fm2Q63TPqU9O737ww9PH977UvF3dszn3qS68/m7D7/O49/Fa7upaYAWwq2vvuba5M81A139IAYLlwK5glfFjA2BZH9U9NbDBIJ/B36A/Alj2nU8YAUz5BiQNQGpdE5kG1A4MpVMnDemNSRqA6QQq9Px1srvQyc3asNK7LxqtjqQPxAVp81usmy7SOvcMnq19/asdMgS+7C/c9nW8SKdPQmyWOAAcKGM39VQnV5zZ1+R1iA20pV52kT/glbimVLtXL3bKdRDX9c29cEwAKx37HVbXrdvWIB/gygL71Jc4IOA4MFFt6Wu5utgDUeoQX8p2lPJjHm3R1kzPjXVfC+9XdBPnGizj2JSu4EpeaSkrfdx3nGuWfCV/A+DKm1dcGLB5uwJe4CtB2jNe84+mZ/7CP52+6dXftYbr0AZ/7aeeX9eo4Pk1/2hy/H1v++npia89OD9kVH1l6zJa/3yJvz/3z7pdGwusAHZt7F61HuhQAzDi7hmZ4aEDRKU7B8KkJb13/CAioBWQM7gXAA2AJi3nyUpQX+qYy/QOv86pt568aWCm+uSjzAGg6/mSDkDmNQtTf0Fq140dyBIHjAI00cn5Bkdt6iRtsHZCKFt2AK19XjcwpmCC477JQ4bQMrTH9WOXnAvIVjvnvzb7wwbTqRkMlat6qy0N0qSlPZHrOPZOHU2HS/eA1X2RBm6JAwJ0BV3xtMhuwK/B3j0xdOpHkbulukOTY69DMw0nK/8CvOg8tiNwphgYK1sPbRnEXZbdtCF1RSi7BhDpNO4nT+zqnMD2QgBNvpRLPZti91SmIN9073unb//1f1Her4BXYgD2jb/4whnADPJgLMG5bSF5tsXbyl2N9G06naT0ADGdA1+uG8+lNF4wHvXqh4YnIps3/nx4zz22xte3BVYAu4bXZ+xMazDuC9IDYBmsm9doH46qXMCpe4mkGeR14BX3H2nxxeCJItP5kjFODXa4GAFM3tKhQ5j9eLIysFXawqsWSAv5ALPREyRdWsnu7ZAiSGsyF96sfp3k0cLk3wezJnW2TQAsHjEZO2A25NqvbwawgsZmZzqoJ0BL7gx0feGrNqR+ceVZ3k+9/tSZ9pX9PD04Q+DlA7BRjwzy7otsSctx4njB5LWf4235U+6ocV2bAYaWx4fJib2Sh45LvdLGZXrKXEo82jRyon/qE88Q2/8omvP2J0XlSf7RxmN75nZ0WxVU9t/gXOdwrI54wKwhet1n3zv9H7/9UwcgzED+zz7wC9PLP/q6OZimHI/X/X3bXG1buBbCj3/wtXVNbvzQr9Y1BGGA7Pe+/L9qPVj1jaYi+6zECmD5hZ3MeAWwa3zddKgZ7Aud+g8roDF7lQBFH+SdC8C0gb3BR6UHqjItN3i16nzvuAsmwEEXMHuRhgEysCCOPgEST2VGh5x3rgYXcvuWtsWTVJqWJ23fQ6Vu+qQ+de1PBR4EseSJ/joixZPfcc5FL/IEx/MA1u2cvLMhAmxdn33YG9aysWnBV39JbGycQXGU3dsWHUuHwPMQM9c4ONNzXIQfex4WKzPLGfalGezJH70xBvp5sHdNhmmvyEnZOnmJ/8X2EbM8Tvq2WH768goFYuTNvrbZClgG2+b8NrlHSY9tx7ylf69ntGPqE0cn5QK09nm5Uqba069X8ig77sdWm2Ly4gHz+asPfuKe6a33vq8Gc9NXPtXFK2Zw5yF710fvnt55z+9UsP+WD7X9pK3x1beHa5DrIAbRrh34Ekwtg2v9SHlFe7/iHtKnrNvJtMAKYNf4uulQ/YDiCclfNtLntHqKrykamBjBoH6Uo1fLOLQAsJane2kGyPCLVmcNbF3G+IOegaF72LIAvV6L0V8VIU+gaQag2BWc9NdPALRZdnSIp24BYOrxxA+9a+tyyBICTuqTJwCWdGXUxU7qjS2rPUApoNYNI710G/QiS1qzeQewfj72bz3iPvSRO4Y6P6wdG+tIW6o9lwhgGZi1exzQI7sZsf0/Akwg4MBg32FM2qbyo6yL2R91VG55fJisGnQWNqJfplADOmlP5KfcYbKPco6uy6307/dj3Sf96Uv79XWDhx6e9h56uPbdpXQT/Hay0U/+uhcWECZP2hdbbYsDYMp4EtRTrAZywPVv3/8b043vuq2gDJx5IOCT936sghfEypvjS40j62rHl6r3aJNx/yhykz/xYWW25fFt33s+9bG6dq6J6+SagS/eSwDmicjqi7yaJGuA+wu1cz+Jq48Z+9rhpHPt/JB4ibuXW94lqnOiiq8Adp1crk03cX4s285dC9UzEEW3K6VDBpqjyo9ey/zRM/Hy/PVyHP0DQvSKByyDc2ySvNeL7k93Per32R8s4c0FXw9/6IPT+3/0ZdMrn/vM6YE3vq4toB7WB8ZmVXbLYJk84vHa1z7wG6AwU5Dy+j4oCPNEqIH8PR/+SMUGeS989R4yebw6Q3B8qYG8yL0WcfSPHjmOLtIPnrt/brMHU9hB/Mgj0odzjzxaEJzyvqSR/Wa7lp9dx/LugdHWyvBOxt7yOp98zuW8vN7ZBsCs24sHLK+mmP8w6n+Ujn9k+MMQ7M9fJOl/YOY1OtLbi3rbH641++CmyYNd8ebHi98fytnWfx71/h3v5XV/3wIrgO3bYt1bLXDNLBDPTTxO4gAYpQrCurflvME4U59rfD6oXAWbBMAMafWpq7M70xd++86Cr9f+/edMgkEv3uuaqo8HNgPmOD2+Qefxxsz1H9PyGop5cJ7aC3gBCG8UGLPPUxhPnIHbvnvL/lMp5KGftCleaYBi+cC01z4HxhuZ5RSeNFRObMG7wF4CUCrvemYXdqc6L+8syxc6+ifJKr0/iFTTzTz9Xo7bH0Yi28fSfT1DnPqAkLrAWDxgAOzOz9xdekV+1uI2jGoeMdexAdjwEXZ/GPjaSJ8RIbvVmQeQ+tR48sXD32cm2K15bIfZi/HGG+7fA8nrwZEssALYkcy0ZlotcGUtMHoz7BsYAZj3QmV67cpqsEo/rgVmAPMePmB1dmf65G2vnG5/7jMr8IIZ+DJt3fL3aesjDmAF4IPHi64FYh3KAZh3oUnL/SI2+IMyHhfHAa4Z6Bcyj2uD663c0jPD01Nh73QByN65L05CgAaUBIak7Z397Hnnv/b4p+f8laeX2Xni/oIoafYju9IBmWvME8XLRLa6B/njsX3lAJypY6+hsIbPFKT6Izv1i8/bj/xeR2SmjeKAY+RVDAa7JzfXkx2Xtsw58WHnxnzr/mYLrAC22S5r6mqBq2qBcYC1b8vngezXYHsBz8hhCm8rn/TDyp6Ec2nHtvhS27BNrvQMQkZZg7x1X6YdAdib/vdnVSytvFN5sW/WGhqZ+6B3WB0X0j8eMPni4bIPwNxPM3h14Brrkm8GsnhZT1q8WHtZ7Rneu1f2O7tTcPPIw/dOjz/ywenRz/336auP/M8K2Rc/+Ln3TX/+ud+eHnzortpP2t6Zj8/HSVPe/hjIFlJefc4nJj+y7Cf/F/+/35qEHCvvZay8X9Ijbywj71i3c+P5KvPQXdXGnIvOdayND91VddLP9Ks/FtyrvIe8heUx3DJNvg9oZeH1v4u0wApgF2mwNftqgStlAYOGTs9m4BynIK0dWcP1awPreQRTfY99+tOzBwyAmYKUljzL67gtfcxn+tBx8ood82y5V7IGDFhlc84Gvi60jUB2IvcXAAYMgMMBQNg9UwAGPADWlz/z1unM5++qfcfCmT/73enR+98x7T7y/0ynv/DWOpa2d+a/V/6kyyPM5T5/V8ki8+yX3lnAVDD1xXdOj3/xnSWLvNP3vaFkp+7dP/9QwY8yj37hzdNXH3pbxWR/6f99Y8EROQfOfeHNVbc8ZIu/9rl3VB1Jix7On3vifbM+2jHqpQ55tINdwFnzBGbx2H7c/tA4/07aln5+zjVlaYEVwJYWWY9XC1wDC8RDMVbNA7bpu4LjNwbX/b9Q3668nuzwF7/uL0zP+7ZvLPD6z897dsXSrrSOvGA23ots2c/9VZ6h0ZPaPV3J/1SJA16JtbsWoJ/9bPNi3f+O6dTn/lPBUuDlsc++YT4GMqDoQ7/7q9P73/mq6U3//sYKn/v42wvEwFRgjBwyBGXk/dSH3lBgA6jI/fP7f33auf//LgCTz3ly3/7Gn6ngWFn5hcgnWyDjq3/6pjmc/vxrKw2YCY7Jlw9Q0TN6q0M7wJZ2yW8/uqkLsAGzArA+NZt1dPUC7S0eMPfLCmDH/9WsAHZ8260lVwtcdgtYp2OwsPmu4Mt/8ifr+42+D7iG69cGvrGZ4Dq97SXfNU9B8oDddtNLLvn6Rf4Y557wvUn3Szyo7h+eMVtBF9AavGN1YvjvRHq9BpDM62ey2F578tBDIKzWSp39bHl7QAdYCRSNcMPjBWBe8X993/RNf+XrZnAG0Y7vevvtJQPEkPP4l15fwbFyQPt7/snzyvMEbADXuQffVh4yHi9ABNBHIHdMrroBFN2EgF1Ai55nHnpjgZjzIMo58tVlSpIc8ugb8H/Os/7SAZ2VozcZyqtToJ/1YB4MmBf4H7JOcbbtcC+tu0e3wApgR7fVmnO1wBWzQAbOAx6KDmKHDZxXTKFV8JEt0DwAO/1TW9O098TZeQqSB8xaMGvApBvUKn9j7INTZEeosUAp67MWQBVvV4BrFLfpHipZCxljmZO0vwkExvaVzfvi+vL0/OmbymsEXArCPv/aAhtAAmR4pAJcv/jqHyxo+v7vf1k9FCMdaAEWQARkTPOZ3gM/ATDrvATTnDxPYudBHBmvftWrpttvv3168Yu/e5ZbU5J9ypJuATB1ASX68Yip1766C85Mm/75h6bX/dLNVT/5L3rRC0u+OnnD4mUjN2UBZCCupi8f+eA+gHmohOewL8QvGy5uisPOLbKuhxsssALYBqOsSasFVgusFjiqBdrA1NbK8MCArTwFmUX40/339fcvHXycn5dmExwdte41X6bAslapWcQ1iQdM3LZT9fRh1lRl2k4smCY0rQh6rIkCWZmqA1gWu/NIgxtQlilDcMPjxOvFIwnArN8EWGDLlCTIAWg3/vMXzOVrIX5fAK+scrxjdCAbaIG2eMUAEj2ci1ctnjt5Rmg05eieA2XKADWes0xTAq/AXWLy5zVg9bm1ZrW6p+enIfcfCGLjLNJvv4Fu5jU6sgVWADuyqdaMqwVWC6wWON8CI4DlKciLAbB9QDhf9ppyYQuM9g8IiBuAtYm0JuVUvcohAAZKAEwADKDwDIGTGYAeemPBCygyvccLBsBuu+klBUrSAdg4VenVMZlelPcn/s9/MkOQcqYD6cCrJQAzXrDIBUzAjycOBAIrsUXy4jFY1A/UyCBXvW98wxsKpJQDktqkbQ/+8a/UVCUPmDYqF/gSy3sAwDCtKezOr7FtPIuOVwBrNjru/yuAHddya7nVAqsFVgv0Rch5VH8FsKt/SzQwaB6wQIJ4BLAGETsHPGAArKbg/vRN5f0KgIkF5wXeJJ4pXi+QBLbiGQNqvFRgx5oxD80AMIEXzJQg7xQIAj4CaOOZAjy8YPIoR3aB1kN3TTd8x/9Wx4BKeoAux0mb4e6RD1YeD2KYekz+2QM3gGaAU9voA0J5v0YAM/VYS7/6m/FdVTZNAGH2VwC7tPt9BbBLs99aerXAaoGnuQUMREarGoysmbnAFOTok2mQkCmyp7khj9n82D92DRxsAjAvOY0HzNqpABgIMT0HSHiKAJgpSd6oeJYCP6YRyVCW5whgAams/wpMATIeJeez2B/82OfdypotkASoTEPysnkvF+BTD4+b4CGLl770pRXblwa+eN/IB4Cj5+0FL/iOebqTbNOg2pL6xQBMO7cCWH9X3egBGwEsdm72P+bFe5oXWwHsaX4DrM1fLbBa4NIsMAJALVq+KABra2ouTYO19DYwCDyUR8cDEHkNRV7fYBH68HoHYMSjxcOV6TmQA2CyfgswgS3gUwBmkf3n/vv85CHwevbfeHZBFe+ZaUagE88Tbxhgi0cN2JFNXuX9s99tU4HeaJ+30/dvOHpJqjfqe5O9cyCOvp/8yO/MnjIgZ7pSHUAOgPGo1Xqyz981t8sUpAAIxaAyU5Blr/6gyEHQ6h+P9wSqd6/1J1HXO/B4FlgB7Hh2W0utFlgtsFqgLFAAVouW+1NjFwKw+kZgM14AYTXl5bFAQcEmMCiYaIvwTbWZcosHrJ4i7C9BrfVSfeE7IBJqmvHPfrdg59Zbby2gseieHNOJypg6BDrSM63oGLxZgM+rlqcNrdcCac4LPFnqoROvGgh0HugJphWzL+aRE+zfdtNLyrMFLMmSF4wBOYHHL2XAIAgLZIJH8CXECxYAK29iB7DAbfMwHnyIxFVb7+Hj37srgB3fdmvJ1QKrBVYL1FqY+ePIZ3cuPAWZJ8yG9TWrGS/dArwxeRbyPM+M7zD6+HV/DxjoAh2AJwAmNu0onTcob8wHR0Dr3BPvm+688x0FOWBHeqYrwZXzYE1e5xxHfj73Q2aeeARGPFSADRjJD4qAHShTR9aTiR0nKGsfgJEN6vLuLzo6lu7TQjxsgA2ARSd6Aj6er3gAgdkMYP0VFK6Kb5jOHzHPa1Qu/XKtEqZpWgFsvQ1WC6wWWC1wCRYYPWAIYNsasJo+Al9YoHsX5vgS6l+L7ltgBrD+aaL5zALAgFHAQwy+TDtm4X0WwecdYEAJ7IAcQAOQAEzyB9ysIcu0nn3TjuAMVI3wBZ5400ARL5mgjninTC3Wx7d9UFvo7xSr+Oxn27lKa6ClDjLIBVsW9psmzefMQJ889AWN2ssGAn0LQrVneA9Ym7Zt04x1j894y8rrdjkssALY5bDiKmO1wGqBp6UF5vUxZ07VR7Wn05tfxFrvZLJ+5/RUwUtT6xMv/XgFsePfPiMc2I8nbJ6O9G42Bt57rKbkrNficQqAALA89QikeIeAV7xM8TqJpYEZQAVo4gHL4vZM6WVarwCsP2UItjbJHOWrl5fKtCYwmp9S7IAIlGpKtH97sqZSvb/rofZ0JUgc5YFF+qq7PHP9dRTaSzbgK29Y3oYPwM5+tnkL2Sx/KJhq7E8+smXsfPyrtpZkgRXA1vtgtcBqgdUCx7RABqVMQfqU1NID9srnPrO9FHMEsN2z01f3Ts9ANg50x1TlaVus4GrwzgTA+GkKwupt/1yTDcAytRhPFUgCUoAE+JQXqj9ZyJMk8E6JgcyZvlgewCmjbGSJE4Adj5MY/HhSMXIid4zBF/nkKkM2IBTKQwWSvvT6OlZHHhJIfnUAQ56wyFWf9WmgLrLAl31tJUN7A3LlARsBLN5aINbDCmCX76e2Atjls+UqabXAaoGnmQUM9jUw1RRXm13Mp4i8BT8f4+YBq28z8nj1Vyx9LbYavAxJWuOjWyBAEK8M6JqnIj2lN/kE1KkCMFN4eQ0FmMnTiQEpEMMjZDpSbC0V4BKDGOlgBfQ4D2LsA5lAzBz3Jy3BEw+VsmJypIkTTDkKFs5HZsrQic7Olay+dk29QEysTE0t9rfl19ORHiLonjIy1A+80mbgqd3K0xm8nTcFOa5T5ESsm/38hfhHv1prztECK4CN1lj3VwusFnjaWwBULcM2o8z5+jfzvHtq9IDlW5AAjHcMGQCEr05PVnhy98kDH9DeVs+afgELdO/MOO1Y16K/LPTMucfqG4dLAFt6lAI/gIUXSgAt8WQVQHVPWTxd8UQFvFJOHM+VcgL4CfhFrngEuxGKIhOA8VSRSUbqIJ/OjqOz4wRwJR2c2Q+syQ/AMkUK7tRhET5PIWDNGjAvF473K2jbQOwC12Q9fUELrAB2QROtGVYLrBZ4ulhgBqoFhG1rv/zxChic9ryvqb+GIh4wH+MGYPWx7N1pAl2mHwVPl1W5GuG21bKmX9ACGwBMmXZtuvfLe7XOfLyeDpy9SQ+1aUfAAlQCM6AItICdhMBaYAbEyB8vlHVfgRpl6rh7x+QrsOrQ47y88kiP7KQF7uIFqzVr971h8umh1ENH55WN3spHdkCPvvIVDHbvHfmBMHEeEnjk4XvPA7BM4x64z9f79YK35FEyrAB2FCuteVYLrBZ4WligAGx3t/765wEIkG1rvPMAiodFsBZsBLD/8jefMQGxeQrSayrOnJoeO/vEDGAW468ehW0WPmL6oQDWrs/euS/W04PWgAk8PgnxNCUGaAVp/X1h8WQ5P6c7N4bujQJDgnPARshUIG+ZqUtQBLySDyAJKasOr5FIIEPZABiPmSCfNqiLh6zWc/UF+zN4dZ3T1ugkVl7swQTBayt4wOqrDnVvN4/tCF/xgh3xyqzZDrHACmCHGGc9tVpgtcDTywLHAbAMTjXNNXjAeL5GAPMaCuvDOL2U4fviXVidCZfhHlsA2CiRrXONshDfC0q95iHBk3+8P46du1DIKyJSflMcGfXW+jOnCm4Cgc6pM3nq/Vv99RL26fL2j/2H6fve9tPTje+6bXr3gx8u3eo1FP2VFKMOkRO5ZI86VfrOQ/X2/DGvffmSRtd6OrfuzmbF/JGxD15ZYTdaed0/jgVWADuO1dYyqwVWCzwlLXAegHUv2LbGyl+D++6Z6bFPf3p6+EMfnL76e++e3v+jL5sAmDVgPGDSvvDbd9Z5HjLramoRPnBYt0u3QADM1PGGT2vWdc1rFLwyBGDUC3HPlEcy657qZa3z+ZatWMRDFvNaqDOtrIX906nZ+xkvKICp4PugXR/X236mnJOnvKYLXaR9avfPpx//4Gunv/pzN0zP/IV/Ot35mbunh/eeaOvYzn1xrrOUoltvi7hAP20opVt7eV7ziaGdnaE9/R1p9aDCdKp0b8Aa5GLQQFeLc/7SL9zTW8IKYE/v67+2/jJZIB38ZRJ3xcWcNH2vuEG88Xv3ybmaWq/Vj8b9OUPfYUff5hMAFujK2i/eL+G/fWtL8zqK2256SU1RPr7z5GSpc+BtHdCWlr24Y/ZL2FRyXJw/LygHbZ0rlA0cRY54uR08194QT0jLu1MPWriP3BdJq+m8ehLzIMS0yhvEZcG72NrAj+99qTxf3/iLL5y+5Y7vKQ8YACtI2nusdP1agVvzoKauuUG9YUkP8AUM6832HQ7rHq78HdSGd6ntfyzenqdJVwBb3hOXcrwC2KVYby27WqBbIEDTOrPVLCfRAgEwg2A9sThN0wMPPDB9/BOfmP7gD+7ZGD76kY9Mwod/77fKuxWvF+gaAxBz7q7XvGKW854Pt7LbZK/pm21+HLvkOm2LjyNzWebu/3r39MgjD89Tyu4hwBPPUotHgGn7wMaevkPsCVkAxgN2PoA12IdDPKiZwg5oiZcBbB0AsP7wh3Ry1DuWjx7RLudWALv8vdoKYJffpqvEE24BHdAyXKhJY/4L5b0ezkffTbrk3BhvyvdUStPWbPFTlwjhAAAgAElEQVRGOP6RH/7h+vSMb/F5q/i2kG/1+VTNa//+c2bPVyAMgPGAeUs5GfnG3zZ5a/p2W1+vtnFNv/7rv74ArAE8hGlPYGaKs8FM7rSsBWwwBaiEL0878xTkCGAPfa2/mf50g7URwPYlNpmBpnis4oXbFMsjv5DffIOv/bffR07iZTvG+tf9o1tgBbCj22rN+RSywDjgalY6nssZXy/m2timPOm3ATY35b/UtmySeTFpl1r/hcqDrgR56ebFqS960QsLmN74hjdMd9xxx3nh9ttvn8ZgivFXbviOWvs1wpdpybe95LvqEzfyj/LG/U11rGnn2/16s8mb3/zm6VnPelbdK5nibCDfIayvF1vehzxY8WYBqq9OU01NZw3YRgDr68nKezU+xNHXwakjQDUCU9IaPAWxWrwJqPwGtslatmM9Pp4FVgA7nt3WUifYAsuBX1OWaQeOh9cRHEg/ArxcSzMdqmuAI4+aH9aW3fPXwlxsuw7V5bC6+7mLre9i89PPFKT1XvZtYgDGszFuOZ80g1emmizEN81oujFrwPI2fGvEPG1WU50Z/6ZpevTxxyNqjS+zBQIdAZGGO2fbaxamFrdzveJtt3rSAzmL2CL75z//+e1ecW29760/7coblum78d7JurTcP6YEA2B/uvvV6d++/zdq/VfWgD3gt9DXw5OT6cMDS9VGvUZbJn1MOwBqixPDYWw4xsPpdfcSLLAC2CUYby16Mi2g87qa4VpYadm+pQ45n/Qcb4uT77jxNrlHTT9uvUctNy60B0j1lNg0zR6weMcOxP0+ygDqEf77/vi+WozP25XF+GJPRXoX2Of+5E+mM7tnC/Q8lRYwOKod1nzH++0GHmLv8+IASo8DR8s43q2+Fn0WA7ae/TeeXQBWTzz2JzELmBZ/4NFlvI4lpL99nhfMwxlLAPuPp35/+sy5vbbuq391AbDN+hz1Rl/kix6L5PMOY7/EYwYy1u14FlgB7Hh2W0udYAuk0xnjNGdMu5z7kX+14k26p+7luaSLl+dyPOY5zn7kHDc+Tp0XW4Zu5a3oHj/HmYLcJivtAXCAyisAeME+edsray2Y9WCC11B88t6P1XvAwF1zgDV3hnIGtnU7vgU2gcEBaZsAa/hD7EDe4XdQC9gtYu/hvOvUL5v74HnPe15NQSavl+26zgEyMNbKx/3ZAUquDmDO8IIFwLyCggcMgJmWtEC/eVv5v9o75dw65KZeuhx1C2BGRuyYOPf3YaB3MfUdVa+nS74VwJ4uV3pt52yBdCpjPJ9Mh2oQ7h9N1ikmbzqi6rjyXqHhyaOcF1fH1ON0aOJsdT4Hh8Sb8s36LMqlnpzPNMUBz83ubk2D8fRIH3WaxS0GrDm977QyLHNwk35A39jz3L4No1vF0ocQuyVP2pM4teVYPG5Jj2ti/3jM1fZb2TYYssOBrX8yaASw6HQgnwPXWPmzOzOAmW7kBbPwnvcLlD344IOllvbydNRrBDqKLdtxXh1rwqEWOOw6V8Hxft4gabwH/WaEAM0y3nSt3EXP/dZvLQDLJ6bka4vx9+/xVrbdc3Uz5N7pAAbWRgADX1sBzDKC/tuhIyCreAGW7lvb1rivI4sNx3i+52O/DbZbk45vgRXAjm+7teQJskA6HyrPnUr2DZ76RE+M976xpofO7q/JMGDWtJQ87ZvKk3c5peOrFyHqBPvaqtbR9rec19jeOkj55DH4tqDK9ig4vVSvUw2IOFd1d12dd6yTV9752rre5PsLufTYa1MW8pd+Z5t+DnXy/ppug0DTqeqNnMTpeB1nv+Iz9YRX1RN9e7vIlX2Wx2Zd/3iY6M1+qUZeg0+m/uSTRw6ehNLfZ3467M4Xqj/B1Wx3rq+1ae9WyuP/Bibl1FE6pR1Ve39KrV+70jMwtjtMQQ7TjdEhca556e5TQw89XMBlLdiN//wFNSUJwLyiQJtMQYJf5UGb8ml34lGP3K/ia7Wl7oJ2tugQX3pu0Kts0m12FJ3lzzaX7WnV/uH8ss5RN+foWHnG8q49fcRJH+K6L6pU+0/eXN/E7kWh5HQbpNypJ/cKwKwXLG9oniqM3vmDbKgjvycy/A7cF2S7R/IaigCYN+F7OtL5sZ9Szu971HesYt2/vi2wAtj1fX1W7S6TBarj6rLs57j2dZJ6sr5wtl6s6c3S005BQmClynQA02nqMHXOM/B0+FJOeuXvg30dmzLob6zWyQasMhjLI7069V6OjBlSut6t7E5BmDLVkfdMNXhZXGxQn0Frai8L7XnyV7Z2FZz0N2RXvalMXGNib0uHrNgpcFPt6ufsg0IAVoOC9MgzADmuJG1v8GjgkqVs1U7Og7t08LWPacPj8h2qSsd++arOelnk+QDGZrFt7NsG4uTdh9NK7/aPB4x+gjaOoezdB1nXEThmGtJb8e96++31fjDf2NOOBt29HWdOzeCl6bFBIKfSAgnDPSv9Sm9p76Z6RsCpfNFxd7d9cNw19qZ1bZp/E5sktbS021EAfcxd9uh1SF/qlvKJo19k0GFMi04lZ4Pc5K0HMpbntadfi8iJTtaAeUWG+9BvIMELVMHTYeHhvfb6CXmFehHrh351esbt3zl981teNryI9eAfiq0v2L930uY1PhkWWAHsZFynVctLtEA6Z2LSgc7785RQWwDLM1MQdeZUDSg65Ky7mP/6PN0Gi8gIZ5CdAboN+vsMUiCRz590jwwYEoCEDj3wNoNOQVA7T262tt8+QaLcsq7o0+Cxl/cdwu7lO32qeaAyWMg/AlgNLtPZDlStDQGXQCR4S73OCfNxpj0CbjjxK4/PAMKDB2BrO9u8XGVjXq6Aye400dOmvew3Qgyd2Yn9tCOhrnV/O33p2svNug1gKC+ZdU/0wbauwwLAVDVe21zjslMHjwzc9SmYhx4u8OL5ivdLmxMKUPrlzEBf9eb+7OAyn7uKAFa2UN8AG+WR3Gl20s7oGtCqtFzzrnvsMcqZZQdieqyddTk7uAXEkh4ZuQ5LOWNdytCLjGxJc5x0MrPvvOO0J+WkzTosdC6d3DOu49mdeRG+tVq/9+X/Nd35tT+qtVvWbx0n/LMP/ML0l9908E34AF69qdNvRtrYN0T3Nb7+LbAC2PV/jVYNL4MFdNjZ0nk7tm8gByr+QvUEkmCgbNDV/pr3fTbvhSrvWKcbHbOOPx4fANAG+eZtyYDf0jv4dchKJwpaAmCtdPvcR85XR9sX2TpfHW2Hg3TC0nXC2hCQaiqem3WrOiQCx1PNy8b7BDajX8mTp8CgfRMu9pjzqKF7B5vt0tbl9F6zNhuU7et7dc2u7CWd/dhUW3m68l28eTDtHrPSfb5W+/WNbaVfgvS5Lb096mttOOhhdDpyyubqyQA3TEHmXgl4JZY35eSJ7oEw8GVfLYHHmlJt5pkBoB+WTSKv7BYg64N/8l3JWL1pV2L12de+Oe750mbXM7BSv5XYMm3otorMqmdoV9obKJLP5rjK9Lzn6dd/2+qOjNhHWuSlDZGb+kfoim7SlD1wbqy/t71kdQCzCN+LWP/Bj/749Nd+6vn1DUeL6H3P8UJhzKeswPu1CcDcR3XXWs7QX6WxAliu+MmKVwA7Wddr1faYFhg75nS8RNlvg/P+1BlA+MJjX24gZqXTk20tVfOMTX2QaYACegIp9jPI6yTJbaHV01RvnWc6bketzFQDNOgTlDug8/I7bIGw3hlnaitya8DPR4Hrcyj74EUP8rULjBXgdM8YcWTQAYQWjAZSaqBrU3aFUAah7vkSz9DTdTMoyJcBw4DWQPHJVmdvuzrYQH2mX9ifrRuodUDNde+ym7ftIHT1YaksUtnl7YnJX3bN9GU/rf2yVRsS93oyBUle7hvxEsAM1ONgXWsIAbMnHM+cKgjQdvWLc53UGcAcy6uvgKJ7YFJ3zHAl46prAUt0G99XRn/62QDYCDkBsgOwtpCnfIUONWkredIjL+1e5j+gY3+HW8rS1fnlFthPvkBi9EwdKXfe8RYAS115DcULX/8Tk/Dtv/4v5vd4ZS2XtISkJc4Tj8tyf+/N/6o8an4buYfcf/TLfRid1/hkWWAFsJN1vVZtj2mBdJKKV+fdO2j7BsUEIPD697yvwi/+9nunhP/0gT+c3vOpz0xehshTBhZ0hgUOHSAaSDVZ1UH2p5IagDTFq+5aC9ZG/0BDygZYWke7D27KOTd2uAZvxzNsaUWHg4YUfX3Tbv9L3lopf9nvni3Q0c5bXvv6endVQUBgZQAwegnOFywE6npdBS393Axg/QWU/jqns7aI2yL0BrTAT3UfvP/BiW1//i2/NdvdcQO/J/enKTsQBaiqrn4tyR4Ho3ZN96Equsde0Su2H+O6PwKTCw/YeO/kOoyDNPkGdW+2v+UVt9RnjHzKyFvSwQs952nXDlhkBja8If/7v/9lFe5697vbDdP/r/tmA1QcyHSZDqquAFKPI9r3D2+99dZqG1210/cVbdrBHuIRwpyLnc6Le5uU0f4Xv/i761uZyoCygNlcbvjdjml1zfu0I9uxO/1e/pM/Wfr6TmN0jL1Th1h573BTTtCutEc9yZPrcMBGdNptT0FahP+me99bL1H1LcdX3vvW+qbjyz/6ukmQJuQ4cdLH+MZ33VYf5CbjUw98vrzErZ/o93a3ResDSsX1vxNmgRXATtgFW9U9ngV0mNnSiTq237wSzZPle2vP/4Efmf7hT//M9Ld+7Menv/3yW6dvu/Hm6e/861uml/z8r0yvef//mD68c64AwcBda6oG71HAIGCUxeo1VTDA3gwrrW/vXHFuBqyAz6xz9zTNA38/HtuQdojVV3X36UL17T1xtr2HajpXf1G/+KZbpud9778s8FFf4MaA0+AyXrys7wJj+0BVdhw8YGXj0ExZ9ezsSWt/vbfWACIerrf+zz8qm/7jf/PvZjuzNTsDwzZQZsozi+X3obJNhY7p+54l7YlHMoNW2bzs3doQyI3KYm0oGO3AFw/YbPctXhBT016y6nM0BuHxe4WOpQOzggb3AS9N936VHXd357fuKwsA4slJmbJvbogrGEefsV5pgOYbvuEb5ralnabdbrjhhoJMZcbNNSwPE7stoG5sD0D1JnmyXv2qV1XeUc6s0/g7HuAQqIEs04D0im6JyXUts81w1d/9Jl35XDftHD1kzo86zPtpbwcw5cHSO+/5nektH/qd6V0fvftIwYfZE1KODOGeT32s/fHS7xl1554tPQabpH1rfDIssALYybhOq5aXaAEdVbax08p+gMfTSNZwAK4X/vJvTDe9873TD735nRNIkAYQ3vjpPylPmCm8AwB2AKa6d8r7ffYeq0FIHZmuTAeaenOcOOkGfgN1juOpky9pQCMhU4bOtbyNqwBPyd5pU60WCn/vHXdUW991/5+VXsqoq8IMi628c6kjELasP+UbhKp93wNmOtH5rD/jTWTTF/zYz5Rdv+/X3zLbGhQajGwghA3USUY8j701bT1avUOp5Yut2MG1zDTm3K5uy1wHOo22bPbv07+DB+xQAOseM4A1DvgveMF3zMdJ9w3DtEvsHirgG966Ly8I0XZbeYE6+FXCVfgvv4v8brzDLPBFP7A0HgMP8BOvFRUBl+PaD7iOEDb8JuXRZnJ4otR7553vmNcIlj7KDmUCdMp+/BOfOA9+6ZjvM5JLb9ck2xIWARhQk085HttxS32lS4Ay+pzdmV/E+sADD9RLd7WDd9ALeOl3lKCMfMqJHQP7gkG3w6KPoUu8jaOu6/7JsMAKYCfjOq1aXiYLzJ1nBoQeG+BBiilGHjAQ9qsf+P023ThN9RkQnhkA9sOv/83KBzHipbFm7L4nzk73Pvxo5TX4G+TB197OQzVwSPM5ESF5gZA6gYD6pQvy8hoZ+NWT9AAWT11kRF7yOFaeXGk8dgkBD3omTRwZ0mvY7509nciKbPXSta3X2k93PvWCijZQtqlaeQNCYEMd8XrxNKpfHTW1O021/i5eKLLSht997GvT3Tv31xvB1UWXUna3QYpjsuVnV28Tt5bN4n4AluurPrLklUdT4y2zL19tu1N5dgzeAbDxNqx7aZiuNDjyBBk0m8wGnUvPigFV3gCWAVR46UtfOntgeMAM+LP3qN+nY/3L/cBO5DofaLCf9BE82nVaStp8bCoVQKaeyInXiZ3obcu59vto3iPp2jPqEWgl1xQkaAIeQIg8tit5AZ062m9X9AcsAUIgZ1NXtrwklUz11LUbvF/yBcDksZ4LgI0yIkuc8rGv+yN18Mx68OLRRx4tGbx7CfqJ7IuBVR0/8mjdz+O5nI8Xse4FHrf+xHTZuHu41b9uJ88CK4CdvGu2anwJFpg7zgWA6cCABRAAXyAMgIEfcGbA5zECDGJwUx6Zaaqphh949a01naccr85Nv/n2AoH2xNupGWKkZ+pPPfatfzLoq5/3Jx4gQMLTo9Mms9I/9ZlZlmPlASGgcUwmsLC26od+6d9Pz/nBHypoNJ0qH+AQ5HVOyLQq3aVbg5XXVQATU4XkOgduAjraQi/lBLrwbLEhcGJTa56at6qtIwMm1tXV1O7NryhvIn1AminTGtz7dKkxRX3y8z7SlR6uAc+kc+TxqtHZNYid5GNX32ckl33pxgbOJbDRPX98XwGYPPQm02AnWJNkQNYW4bz7JwBm3ZvXfCw8FO4RNghc/cWv+wu1xikQE++XWzoes3jA1AVWapC/AIBFXsAng7XYFhnZr7h7TwJElfGQ/+Y6ui6RDSjZSGCvTO9Fh9Q1lx+8YLGLsgAKgEWWGCyl/Gz7oXzapU56BNjUlfrE1q5FrjpL5rC2i67Wjm3ygG2yz6xLbDHt7APY8PBFPYyxe6bu7/pDpD/c4p4gdwzt3jtX913Sta/1TW3avO5Beg+vWZG2bifTAiuAnczrtmp9TAssO84c6/AMhuACTBjwf/kPP1XgBb5M0xn4ecAAAQATQJp0cPCin/v5yVTa333lbVWexww86XjBgmOgJK+B3zGoAQqVb5qqbnlATwDMmhJp6qZHPFKBEXD1gp/9tXntFPgi23nTqPbBkTq1T3nH9P22m19RMKON2gVg5PPXNxChN9CiM+gBS2kL+fJrszrYLHYDbsYFg0MNhP2dXsqTp166qRd4AtVcgwYleVhgqvx0VYdYvWxBDo8efWIfMkGW9llHlkGPTWL7URZ9pYMzsuii3XQx+G0FsEzVZi2eMVDY2V9UT5ZB1T3GewSsQEAggVcutlFf1pvJE08SMxbIXADA6GrjUQl4BJCciyfKuexHdhW8wH/aQF5kln26V8q5tI291DGed0yH6OVcNt5C4HPzzTfNXi/eJ+1nM+erfG8/OZsCeakja7ekpc4lJNZnoboSyQ/S4nkbPWDat9ykHQjn9j9FVHl9EaE/qeimyHS8P0bm6fN2p9UfCLWeMes1pdvvX7WQ3x+BpNTW77O5eLv0SxXX4xNggRXATsBFWlW8fBY40GkOnaganAMOAIyHxmAOLqwBs2+wBgEGayBhmgtsgQFeJNNagjVigEh+C2oBD3ghUxqI4qUSyAIHhiRwRBaZAEw5AKGuyJM/U4sBRfqpl5zS64HPF6gAMxBpys05nh5ww9NDB548eeiuLfShH6gKkJALMKUpo27AWPl+9tdKftpNjjYCGrprVA223aOlbuXZMOAnH29AG2D6Kxnk9xLcc4+VHPqPIfWQo7y2xW50HNvLrvKALnZ1PaOvONcVrLF/oCmgESgymNaA6p4BAQOAuXdqoFeZwbB/R9KA6Z4iiycnHhgDvc3AT0620RuUaTTnqr5+rybvMlZHYCNlEqct8UwlPeBB/lE2bbGNdbm+jrUNhAEw8tQlPXWnDnEB1eB9Mg0JfExlmooEP2wBkkZYq99uB7DoO6alDufUEdAUm6KMjp5yTDvGMkAwIGk6MWvA0u7Umbjqdl3cC3vtU0TqsOW6kh8Qqwdx+nu7TI3nAZ39OA+cuJFacA8J+cOghK8Alktw4uMVwE78JVwbcDEWmDvNAb50cDww1lzFA2awBhOCwV1s8DbYAxhg5DUOzhnEDfq8OQnAh9fItJg0UEJGvGo8I4BERy0WwB95gCcApPPmHVPeOfXTkdcHgEkPGOmktQ9oBTiAjjqBj3L6dXUBLgAGpHjxQAoAA4rSeJfonWNeJXXKB8YiN+0NIAHF6GnwpH9NlxhvpgZgdAv40St/3Rty6EZH6+YMUs4DJdDF/trL3uph3+idayUdANNLWV4tNnPeNWWr6BzZ9HWd6lH/wQtG36MCGLvbatDvPDMCiAHd4C4GFjUFpUBfv2Y3029gxAJ0EBGoyn1blWz5j70N+AGrwI/sBT2Bx4VHZ4SQLaJn6ArUyJd6ePS0TQBQ8kTmrP8GD1jyBXpAqvxZU5anFmcZ0X8AxrJLh7Lok/xjW0YA9hqNbAE8thrXgOWBgsPsnnN+w27bXON+C6eKFg/rtpptWq6lZ8zvpX4zHcH8pgNf6qutQ35ntBn2Dla4Hp0EC6wAdhKu0qrjZbPA3GkOACYNBACgEcAM+OAFMBjAeZoM6OAJrJmqk27QB0OCKUUxOABSBnYDvUFeXgAAGgy8tWYovfVOW7SvHMjgAVMX3YAR6CADXOmQpakHDAEUuhtEeI6sO1Je/QKZ8plitF6K/gEwMsGNugTl1G+aD1RV+7pHjN7a4px0wb42p93qEcApsJ2nW/p3NkEcmFMve5LH9oEwANYGxVMFuUCU/eOZo1tsqf6AFoh0HaTJS6+8T0wcoM41is5sI78py6wFmwe83d1aVA8QMjDW/bPwgLmEbDoP/H2BvWlcIJWBmRxelsCX6zRuzsVLwyuUzYCd+zZpm2L1gztP4YkFU285FgvSeHcCQJtkLdNGmHN9lLdYnjeJzgLv15iPfHmlaUPss2wLcCJHfpu8Xnlhi7zZ7h22IkPe5El+dUq3xYsVyONdU5/zZKSMY3mzkB8M2wJ1dXDIf2S5zuxg3z1hiyesH9bvfkyLhytTk34H2hOvl9+1+3HeAl+Arnth64+WOcO6c5IssALYSbpaq66XbIG5414AWP6KBQQGZwN5PEdvvfd9BTIGfwM9SAMrvEQFBj/7awUVpub8dW06yzmABkRAAmgACIDCNCFQEnS0OlleNYAjXwDMsXVgyivrHEhQNzgCOvKCOmlk2cAAmeXR+s2315RfwARgaaPypvDSTvnZJoCkXQBUveBPuoGA7gV+P/trdV5bx8AG2k1vkCrUoDJ8s1Ee9ZJNRzIrj8Gnv5WehxEkgjS6aKfrwX6AUVleNLbRdsE5cCevwD7StDkA5rz6o7N910qcdXiuRd0nHcBqUM1UUu6bYQrSYMs2yhVEeHjgj++bF3Qrb2DnYRnhKwAGTNTHSwMUeMDklWYroOj1VsKG/wIv6hICHDke03Ku6tjw/cMN4huwDHkBU+SQnYXt2kKXEXDICxDZD9RICzzZD6DJE5skf8kLfA1AGhlz3B9ciAyx9WR0FYAde47nY98RwDzNSqYt16EOtvwH0ANg5cE62yCwZPdpZrWOIQA1AtkoXr35Y8AfbKVPXyc2ApvfzrqdTAusAHYyr9uq9TEtoFNbBp2bPgy4gBOAYdA34IMDMGG6DgCBEh4n+cAYCAAo0kYYsC8PMABSgEPghSLT4KvjdE4AQPLHczZOowEsniw6jQBGH+nqVg+Z2qB9gUR6KF8etJtfUYCingAYmYBG/eygPI+R9EALO5BPLl15iwCQcmknmYJ6yWrtfmJeBF+Xqz/kAIrIT91kkKuM4Dwwo2PsTgf50h66sZU62VMgQxn2YGvywZf22wdlo12VjUz1AigDXgY9A14W4ds3sM73zgLA2vXsN+XZnQIwg3jAx3ulrOvKww3yCzayyc06JXl5l2yBktRbiVv+AxD0TQBFguPEAMTUnlgdNahvkbctWRl/aATugA35WduWcpGdWFsCXOKki7MfOCMjUJm2j7HzdTyUDVg5VwC3u1vevni1xFXvsO5urE95ebQHtJFvi851sOG/Aq7dM+cBWN0vw33TvF2bIazEbvBuQau0s6by+/cfRwAD9aXDBt2OkxRZy/g4sq6XMtqS9ix12pa+zHcljlcAuxJWXWVe1xYYO/La7+uwDLy8Lgb2rFEyMOsErSMCOwb+TJ3xCsmXJ/oACXjg9eJRARGABBgoI6/pNF4YYAB0eF/kV498kScP6BACT/Sih3wgQ146SQtAaA99ySQbcJChXnl5fuSlG08ViKM3mcoBMO2SP/qCGmWcYyMyTPHFFqnDejGASRYIawPOufL6uCFqAN5p7dQ+oMt2bENHcugSGwUS6Z3pYHnsB+DkAVHqJTO6kKscSI4cHjGy1RHb0jlTleN9kRs4AJbjZZwyNeAH7vsidF4wXiawExAjD4SlXMDD4G/KUD6eFDBF5hJClvXnOHJSBjTYBxjOkVPw0T1EI3hExhiXfoOnybmUIY9+2pYF9PQGL6ZRx7bZvxLbXAebn2v3Zk3FuYnPtmk87QeGXv0BquhWNznQMdspr32vdOj3Z9afeQIzNk18aDt2p3p4gB1Iq3u/PG2OTs1PQToC+mJtyPUtPehyzC2Acalxa2umcPfjS5V7pcvP9mvGn6d60we1i5329Os+eBXpdynbtvZdSOYKYBey0Hr+KWeBA51378D9/gAGT4opSPBh8K7Ocqd5qkCTdMGgLa8BHxhlwAcmPERkgDDAAsJAgik/eYEBGEiQPwvAQZM8OTfKBiwADwwBMOeUBWCApzr0U+dqnY+1Z/KrS8harQAcnQAYGdpJps6KDLLoQbYYlLKDgQ48ACznlCUbDImjj7bUtMrpBl3pnJS1BfLoyJaxXdocGwInNmdLaWmHfXnFwEu+lJVHIFca0IynS/7IkQeMsRE9qn0Bjkw99c8DGVS3bXUv9fwG0+Wxcga10WOU9V3ShQzCYnVZfxTYUX4Etq16dN2dj8emDabtOGmpq/Taa+vWkheAsKsAACAASURBVG+UnXZU7J74ylfqNKgRSvcOV87RG+TQHZylPLBM3aP8S92PXhV3j5b1jQVWHaaypi429RsvSDPWZqDuU4WxQWC5YK3/po6iq/JZ6zd7UH2X9Uw+lbVT19lvzO/Lb4AK+W3MAHFMDjhgj/whcBFx6o8+2+JLrWdbefWr8zhx6Z6LxH4Jw2VOe+ZzPU/VufjGbkvr+vRrRPxh6ZG/jKPWtnh7z7KtxJq+WuCEW2DZCdSPsv9FbFqwpmtuuqW8SHVOT9lfChow0VHraA3uoIb3BZQIBnQeqEzH6XBBiyAd+CSv/Xx2hzx5AFHOAwzHKWMBtc5bPmCiLsBjkKvBzpOVe3slM2XiUeLZopPmWO+krHrigavLyg67U8l0Thn6Z+ACVmnPsi08Y9pCv7Jb71Q9YSrQy+ANAsa2Rk/1kRF9tBEYkklXQd54Dx3LLx8gTh7gxW7gKzLopO2un3zqSnn5nKefbYyP5AEbIMo1KBk9rUBld7e8W/kszrgQvDIP3iXrv2r9UfeOBAzoFL1SZhkH4ADHGICREEjKOQ8IbNuqvgBp95pFl5TJtXRsyi7yAWZ0dV9mP+UuR1z6xSb9HXO550zJub/TZnqB2LrGgTUL/vv9SVYgMevweCO1N7+rC+ms38gasPrcVvdEs1He6QXG1OUOoUvdK9Z08cAFQC4w0NNjCQIX0u0o5/2uDwubZIzX4FL2N8m+2DQ2FfRTaYf9pCemZ239IQb9kACM/d9se3HxEro2HW9rzwpg2yyzpj9lLbDsLKrjBh6np3r1gc7UwG/Arr+odZB+wbv765QcGvB0pIGJDPbKtR91k2FfPsE5QV7wph6hddRtP3mkJ584IKRj4bFxTKYOp/2l3TpyuklXXh0J5Fb+vaYLvVKH/ep8hraSm6cmDRI+ryKPzoosZcmjj2MylGEr7RHkNyAmBFCUUVY5bUv7HGtXeR57POaJvuLYIO0NGJKVfHRSF73kS7o85JKRNuSGnzvpaZrXgOXcMs69JL2uYY/TTunyGMgDc8DAJk1IOWkGcX8A2ACAe0w81lMnN/zn0zcgzzSaQJYA+LKfY2/dB/O8V0uwqrrBzaLeOh5ecxEdxWAuAJbXPMzlu4dwg8rHSootEtfvt08jspfrrH3RB1RljZ77MN4896bfuvvZdbCZVlXO8Sa7bFKYHh4aYdu6tqfbNZdeylCoe7bca0L9lvtTywVogxeGXhcb6FX1HSOusocAGPUrzxaPmvPqPm6srN/ncYN6/c6F0kEfNHjB6J4843n1pRwdLtbmF5O/WfD8/1cAO98ma8pT3AL1gx86k/nH6p1M5x6bPTQGZ1uBh6mE/iQfKNFp1w/Q52f8qrvnqJ1rP+x4ffzQ1TG/dqL/9QUAAIGQH7OBm7gEHbWg05ZGTg1svcNqCu4DGDny0j2di3LabPCpAX/3bBWjKzgRDEQGkYKm3qbSt7eLXFpZvaLtZCrfdprC5IxtHMsoZ+AjX9DOKj+0jb2qjb2dI5hId751sq1+x+qowbIPAGl3Bjo6ZVO/w9Eu9tlGvrovQMchU5DyjFuV6ffSqK88Zev+hKPXP2RRvgFe3nGQBw6OAcC4mH3Wpdcx1r1p3/Qfb4/6xNqcNF4daeq2L33bNtti+J24Zml/2hr9xjf9zwC28Chuq+ti00eb23cP0CNPFdMl8AVEgWm7b9p9njJ1z/eHYdzTroGNN8+1sFVdFwBIeciaAawvZ6h773T7TZC9r0O7B9utuVN/9C3fB5ZF9keJS8dcJ/2C/YuJL9C+ssNR5PntyLctPkSv1qe0fvU4+/lNNxufawDGwEK/HuT2bmzuYKtvrit9af+xuftwW9gmfQWwbZZZ05+yFjjQYfWOq+Chfp3WbDRY8NsFLfVrzVRB66MLRABATR9Ik7nDis5b8IMPJMg3w0n/XI0fvw7DX+f1Zuz6/Ejeg9U6UiBhox+Z4w9cR1edfOXYqQGIvlQhV9k6j536p1HUExk1eHbdyzOw19YwdXFzJxVwKojaO11tp8tcnoze9jJhf7loQYb8PdQg09uQfKUsj1np3aBWfSW760xfdceeBjvXMNfGeeda50ttxNuglhyDH5n/f3vnH6tZcd53/+N/U6tS/wDJsiVjOQqpWv+Qooq6CVJrIatZWdiJbMmoobiSlShYdVzbUKAGC5vEmNrJyk5gA4bQZPkZFwJYGBtak5pNwAZsIF7qmiX8WC9rs4t3l7uX975TfZ6Z77zPO/ec9773x3t/Pkc7O+fMmXnmmeece+bzPjNnDvmI2TLoFpDU3C3uheL1IQ/7WojVCpUOWfuK7X4qnRhQg21oO3Vo0wR7wACPFGW0KR9lWMjUhvDc8Jd08mVUVrHgQbIUc96XkyzSBVEqK1kqo7yUlw05xz7ntHHef8eyzp9qvGXKvxYxdSrY/aF7bDisbzLijTJdyg8e7hfuI/4m7d4s9xR/fyZrMDD45W1VXqBo29mnN/VzT3Jdub78XfOjSfcjb1HjhWbonOkCpBP4sSCduGdXE2QLdGR/ubHKTxNzV/ug+vrsM026l7ey/Ww/7GrPUz2fGk9Yfe64H7LUt9oNG3Af9IU++QFgfZaJ9G1rga6HDH+EeAd4YwkvGHnygzJ7hvh1bcN8ZBzwAC3pHBSIAXLo+Pgj1C9a7RPbH3+Z7yHjCjyQRyAfMgAnqrJflJknCmTkfJSreTWUUTxUGm6xB6M8bzZEkz1YdEDUZZ00lfDWWOmY8rkMe6SbEtZh5HopRx7ap/r1K5JODb1kX84rcE77lFdZbEJnjhoE4IWNzg/9kIXMbCf/4M8PXIMdhpXKsg7Kb2VT7nBpmwJ6y3ZqK/VqM5uVA/Y9gHHsz7dlGIbjTUAgTPloG/CFd0ReGb/EQb7nsiTlIR9zDLFZldNTt3Qg9sDg4Yl9O1cAk7ySS3rXxnkvA13Qj+E80tl0rfwLBrSfoU3ya1N+Ha9FbPoVm3Av6b5k+FZ2vvCCC/LfZvlxoHuFe4E7ye4x2W04NFgD2gi0g2VB2LwdfL11n3tq4UgFMH5woA8v6Xz7Z/+Q/uL4d9O7r/5IOvu6T9u8RA2DEwvG5LFdSQzI6f7f6FgARDvQZdp4NXpTh+AVmwK8BGSSzvPJfsBy2flxyPNieMLykB9Y5lquZrPndLkf633hjvtkB4D1WSbSt60Fuv5A8iN5IXui6LAHoyE8Dc1Z918giwcswdLoj9glqq+e86efH8x0EOr09TAnL3UIDDIM5E6Bcx681NEhQ/VKHvUhX8CXz2d1rFx56NiDZ26ulqdN1G1QWTxWaKwHqNlIcymseQv20LIyCBuMPrhMFUqvD8Iy6d6MUqATPdEp1zM+94b61Bmp/cQCBM7T0VAX+YhJY2NfD9vc8Y9sIpsR59Lkzq+jcyx7WZ2CjgIYXKtpAQyQotOm8ycwmR5g8Wl07HrDETt4MJGHjDyUpyzDiLSxwtOETiLfd9kmskuN3bCqwIi6fRkzpPuPsrpX2Qdm1DZ0ZGhPHh/SSSNoYj/11Lom6O2qXNau6Vc6OO4n7mc8h7IfMfq18+GwK+kArt2LBfKRxxCxytMmfVYJxXx97b7dgcMj6Yx3vcnKo8vjwxfTtT/+Zvr1vb+f3viFXemf3nh2ettNHzUYe2D+gL1ZTB72iQm8bbySoPI7OcZuvv2T7Orz5YWi8/Xl+bTSYPeEhmkdeOle6bu5A8D6LBPpO8oCpVuubyzBGGw83Om8czdPrrwZ8NgHdUdpOjfKS+nc8bPXFTw8AQQc20bkAn/Ilrf8cetBoTytbPNKufLkHwFHBo9aH/kKJLVwI/nUTx2mQ+nQ1UFjAZ0XRBGTpvKKyevzINPyFeNV8HS6U9baMzLwCFDJV69OcRWWsrIR7aQOHUuXXC5flywl/+/ByAOYz6N95Ep/vEN08B5UBCdMjkcWm4cvIEj1aeI4ZQAE89DorUpXj+qeZax2KWZIDkABLAm+jUAL7dbQo8AO/QTQa62r6VXuQ+4hFpUV7HqIYl9BOhNja9PN3VsAnGQQMx9P97js4Ou1c4LbQX6BAtl08IDXKbvfZ+AFfCm86ctnJ8IpV7w3h93vsxhImxRqfpVb51i6bbQeS9WPnm0e0t78+Q+YfbkmhLdedGb6lcs+mPYdfyK98urBOg+P57We7XgydbxU7O9vPcMU+3PtfgBYa5E43pEWMIjA81HWBbJOuswj8vOmMI49hFOGMjr1dstpdAv5j5k9gsCDfWSw+bw1HZEopFCAwpfpggnOj8ko5QxgyrmshybSZ6CyJlAXnVGZzG7K+fLl153l6QAw8lNWbRwDMNcOdpWHfZUru4uAzXSTHjXTOJySB1kGaeR19Um+bGfy3HnKSA+JFxBxPAnAkDkWygKleIEuueRi+74hniM8KQAMG3AiKMFrVvVKyYYqyc8cpLFhTOqRzWcMYmPtaepFf14QYAiVTxEBibSTNHm7yIOuAkvJs8av4j9vJ5MpexCXrwigD3phQ2J0076P2Qe2/BC73TspJSbwIwf40kbb1I4au/p1T+FtA05Z6gQAE3T52AAAeCogQMx5f7wZ9w1snM6bUUfBrQFuh67ezto//86rbPhYsMXTQM9tYn+sPG1s+flbKb//dN9MEweATWOlyLPtLdDZeZeOXx0yD9/cd+e3abrgC0N5qKqg1GNBnSfWw10PdKvMwUfVsYAS+W0jj99UBmW1X+Fq5Imz+oBOlwcxvh7pQBrixs6VeqsehX0EWJZOnmw0q0e7Jst7yKS/16XdVx5idw6dFBbZDp09tDT6qF1etK43adMCmPdq+eE3YAt5gi5/Dvn2woEDHdKUX7HSOFZb2pg8q9laeXbsIMOASnp6e7o5VAClQMzbw3vEVqqj9KN8qxt2oT427ImtuQeZB8TQPvcaG3noXu1aaH4ji7OWsq2eyGrTpEeNZaOFkQeMeUWXP3pz+g/f+ZJ5uxh6FIT95l0XpQu/d2361IN7tlRAZwXpfv5DX00KStvo+I/u/1qnXbke6EYbuC5ck1++5sMJAGP4kqkI3lPO9fXH3D/5ub445tyiv03dFyW2G7DjvwCwDqNE0s6zQAULEYLr4K1TL7+FKlyUXzv8odaNMmxa4LFMVLeHteZTSW7JKgDTA73Lg6U6qo7m8WmGziR3QixIqbE6VA9hpYPzgDNq/2IIQ1+1mXzIrnBVbDEmSx2o7Fb0lR36YtkAkbKVj61O2dhfw8J/tTz1ufPSV3ItLnPA2J8WwMhrnhJXVmnEbIIw7avjRzftt4AmCFv0gC8QJBvkGlb+v+T0xdKP89pIE3ChnzbSDdiW6HyUf5rY12s6th3cIMMX9488GHgqmBxPR0oHq8tu9ek+4H5ivbvyMgKx2bq0h3a0EEb51k7I1vAzz4h9Tz6Wbnz0m9bhMwEfDxIxgED6TQ/dm25+9L4aSNuqwbeDfdrRpvljnVfsz63VvmxZ5X3/h9W+QBgAhhcPAOMrJVyzSVt9Zrofez6tfW7pHlJ6n+wAsD7LRPqOskB9wBcg6Go8D9n8ts4IMuxBXBjEg4b+8EyuZOqhj6CSpnyqD6AhKF3H6jz0R5+PVfFInsnx9Wnf1am6fF51KNRXbVEyUqfq50HFvs9f5agOXwH1sykuhzUqZdReOsuuoPNt3Nqnyi076Cnd23aRRefY13kPE9MCmNnDLR0hPfQgBlRaiBG8qIPXMWXZlz7SzR9L/nrE1CuoMl0Gg6qf2i3daW9tZ8k3Cx1Vr10r7q1yIYEvwOvIU0+l4fyhNP/KAQuk5Rc18htxZnN+MKCvFc770hUQE5QprY1NB0C4/H0wBMl8M964Y8iZodk79t1rHT8emPNu+Yx9nmzfj/YboAFphAd/sG9VQXJWG6NHnwzp6M8rbbPGtz/9QLUrX9PA7qRxLWyO3hXvrR4w3oTUkj1cT55XY8ftxV90zA2YlzDSlw+0wG6+ORcVsIQAsG67ROoOswB/PjxQtenhqmPFAAgPcoGI0okNjopnQqAg0OqLa74iiHpHUDGaO5bTRkNt0pf8yKjyi6tcMjhn7RKItSBU0tt6JZdYHUzp46y7UlupxzadbOU7173ZyNnYykmvRm/pr9ja4MBPsnSeWHlMbvmPNKnWf96BLHU4b85yAEz1+vLs+2PyACuCLp1DN5+XY0BGaV26q771iKUHdbX7bf3oSvvIN6ut2ov7SUut4AXjxZjhkfTcXbenr+x6T7rniktTOrDf0jjHvcBmnSvcVt5atr+TRl+1UzBsdZa/73afN3TxgAFgLEvDmn8sAAuEASh4vIAA1gFjmQ7eeuW8Fsxlzh9pxCsJvmzf/lJyKeeDz4+uCqP0A+nw4c0UZLui00uPVv34NBUBfW997M/NG/mWL/22ARgvTfBM1/XWvaBju4/LB96ZN2g/MHxsL2Ppm5+LY+C/bwsA67NMpO8oC9QOXECijlN9SEknH/BVAYx096kbPZj9H7HgyKDFu7D9m3lYu8zTomyuR8sk5EnzJrv8OtPFIS/B6jBV+NhvXhdI8xqki8kvk+klSw8ZyaFeeaCqTVSZ4mIL5Kmcb5uy6RwG0j6xbFRjxz81zYEoaXVT3TVhBL6+Dk5zvFSsMk7cGDhMC2Aqb/Ys+tK5yxskILGHeQuSbjgNOWYDl+ZtonoU65yOZxmjuzxd1GNtKm2tOhdA8Xpo8Vufttr9Wh/Q5O4JlhUAwC5/x1vSnt94e9r9jrcYjOGd4O+B+5TN7le1Z5C9k1wr3z7LV6BMdu6KuYf4m9EQpFHeibyuIPPi6PgBLwL7pBn4md5z9qUNjhXQow061xfr7xiw7NrvK6d0IKGGUr/kEJMP28gzyNAuAVsr4HFcaZCMSTGyOa+4L6/psPBCGpZAPt5kR3/SnnzoegMw3oTEK8l6bW1b+mQvO928YkBZ9xYA1m2XSN1hFuABysPVIMV3fvpVzE9nN5G9Alhxr/BAZ1cPaHXsPLxUTia1esqB8tVOpAyL0Fn4YHLV2UiQgwzVATR5ABNE2cO0wF9RuXZCPFylB/VgC8qprKtu1NmVTq+Wc2Cp/Do3CcCki8p4kPP7Ol/tVBNyZ6q6Vho7cSsCMLvOXH+Be7kXkKvrbefKB8kt3a3FpfrN/s0aYXTGdv17vC+qWzJWEk+U7+aoca9oE6yQho7a0Idj0tdCN+TKhto3W8rW3IsnsmeRjpRhRwDsr8843QDs2Lfvtk7b7uuyyLEAjHsT8OC+0TYmuyROsg9lkQGA/dLrX5e/eMH6zOW7lLwIIBDTSwHUwSfObNhqMJfvG/c35O/9JffLfbHSe1/lNHeOuKZp+Rs+9aQfe/akO27LN7x69Kl0+KVH07HD3191WCs56HL08IMWpBeeL3Tl+IX/93XzgjEfjyFJlqJYy7qRRV3chwaLBmG6u8bjALBxe8RRWGDTWIAH3ko231mspPxK6+2ra63l9dWz2nR18oIMjuUBm2RTfy72m6U5+qBxNenNDyRgRkOK9uZiAbAbf+00A7Dnb7g2DQ+9lNf4A+ZYGV2QW37wrPS66Z5DB3nA/P3TC88VHjN8Sc5Gx/yt8sOr3UgnmJ1YnmF4xCDj4DP3pZ8/c1eae/Yei19+5m8tBnJ8+skX70jHn/mr9PKB2yz9Z0/fbPHRF+5IhLmffis98/itVY4/T5kX/+8Nlo99zhG/+kzeRzZpyDjx3M01L3LR4eCheyywr6A0xcgfHP6bMR1pAzI49/Jze022rxMdaK/abMekHbgtYRcgrM4Law1ajgPAegwTyWGBsMDOsQAdqDZ5dkjTNw51zjqgDgDQ+YhnY4GlAMl+q9hiwnM25wsPGADGMGQLYGjItV3OD4Ml60/JVt23OWBusV3qWaos5zd84/YvUwq6AEzn0BVPogAM2ACsAB9AiGNgCJg58uPrbZ909kkD1AClwc8fsrw6d/BHX6llgBwC+QEgA5vn9hoEAUMLB2+xcGL/9VYvdZMXWcf+8UY7h07oYbBWynKOvMgmr+U/dEs6+uJ1VgYdCeQB1MyL9sIdVS/qoE7qnzt0Q/r5gasNzmgT9SGfAKxRXgDmny3tdQ4Aay0Sx2GBsMCOs4B1kgWsBGAYQR4wvguowMTqCOtrA9l+qZgFVJmAz9wvecCeuOry9MQj93ZeM8lbzvVUGR8zsZ6vHbASPpsfkuV+WgrCNvwPbhUAZmDz7B4DGaAEOAFqgCpgBSABpPBw3XPr7vTQt75qAQ8T8OKBhvLADJBEfvLKa4WMY4duMfAhH/sGdcV7xtwuAE1wRcx5oIr8J57dMwr7rx+DJvLQDspQD/BF3Q9/++umM7LRFzhTXvIblD1385isALANv5tDgbBAWGArWYAO0oMX+wwlsSq6/4RN7OdvXW5GO+B9Qi/mYeH5Yg7YLed8IL35n73e0matM/XLA4bXQxPWt8TfwSoBDMAhAF7aB8SAMIDm1hs+W7+Vqeu06z3/3CAHDxcw4z1ReMjO/49n2XWjLMfIEUwBX8AW5778+d9LyOK63/hn51cAEywRj8HXs3vS/IH/UQN1Wygy8dB9+j//Vr1vkEu49L+eV3UQZKq9VUZ4wLbE7R5KhgXCApvMApqvA3xpDSjWc+KzNXxOKMLmtQHXiG9xErP0BB4wTcK//xMftY561tfvyiuvtE8Y6d7R7T1pCEp5NjxeJYABIkCIhh8BHGBp4ZX7zIOk74cCNh6YACebR/XcXoM1PEqUGc49XqHq2j++xI6Hc39rXi/gCxhDFmDkwRog45yHQfSS1wrvmuDLhjAZxnx2TwUw6pBcwP2qi8+xIO8m55Av8KIeYGwSgNknr3oucAxB9hgmksMCYYGdYwF5v2zOTpkPpsnUOtdnjaWGl+L86ifm99l+LP3kfBrOHR+bAwaIMQfM3jjkbUNN/q+T4EfLmNRzyuPisXomHHiI1zDkdgcwPEwMuxEYwgNsgBzSGT788G+dYZAEeDHpneE9hoSBL+CJfbxOgBcerDPe9SaDNJXj252AD0CEfLxqgJLOswCuXoCgPHKAIoLpduC2DE2a8M88tGfvsTSGOgEq5OKJQy5QR10Ml+J5IzDcjOcO3RiOlPwAsAl/DHEqLBAWCAssxwJAl8CrXb/KOmhNwFfn3B4rPeIR7KyFLWTnvnghf4rIQOvA/rFlKKaZhD8Jvuq5vroLsHO/dMGW7qfl3Ifrnne5HjDWVTv6lAGWDfGVuVHeu4S3CbBiKPHtp/0Tm0MF6BDwcAFQQA0eLvIpr4b8gDPOa8iSdOAHLxmykQMc4UHj4+vkxwMGVAGBxIAW51kaYlIgD/UDYMAXcDg8+WOTAUSypATyOcfcMGDNPHwHbzFd0EdesJgDtu53b1QYFggLbHUL+I6SfXm+lN4FYGpz7aTXAjZCxkR4k819rGskANMQJG9DCsDMO6Y1xU6WNcpYhsIvTtxje1+X9seueYEzznkQ6wIyld9U8SoBTABinq9n99jEeibXMyS58Mp9FgAig6Kffss8XMAMUAMYATk2fPnzhwyi5NESfPE2MuADJHnIkzw8ZAIwG8Y8eItBGPmBv3aokrw+cF7zx4AwwA6dADj2mQtKHsCMJSYAMMBTuhAHgG2qOzqUCQuEBbaKBcY6045OeKu0YyfpWa+ZlhBhzWMWN13CA0Y5rWu1wqX2qpmrDs09UzNslR0AzH0ObJHadYmKNLYMBcN3wBcBGMIrxOR45khpbhTpnBfMMBQJzBA0pwqY0ZwxvGNMeBd8MX+M4UCGLpHhoQfIA5SQI4gSgJGP/Mzjwtu2VADwgCh7c/PAbQZ7Xvapp55qcGhz0Er7vC6dAMaXAlgepWeLOWA9honksEBYYOdYoK8jVfrOscTWaamuTfUyBYCt/OJN6QEDJfw6YC2AcWxDcOWNSHv7cH9eDwxPEvCF50nwhYcKoCGfPGaAkABNIMbcK5aBAOa0FpeAhzr1xiReLA9geNUAOoYT9Wki2+e4SQPwNFkfmdQnuehjc8IO/41N8Acumf8VALbyWy5KhgXCAmGBsMAWtUAFMC1kugEAhum8HtrfciZdAwCzCe+s+fXidTUAKQARw3rAFPCFZ4t9JuTL8wX4sE/e++/4nAEY87kY7gO+GK7Em6W3LPGoAXrUBSghD0iiDEOe5k1jGPK5m+scNOS04fRfPT0RSAewKMvcMupluBGZ6Ixc2kB7/BuQ6CsPn4BwbA5YeMC23J9CKBwWCAuEBcICU1hgDHg2CMBQU3oQb8ltFQAGeAi+gA+BkeALQNIbi8DM7bffVj9jBNQAVUAMsfaZYyXgwksGFAm+bIizeKgoj+dK6/UBSnjayI9O5AWuqJcgz5rAyqfzMgBlmejPvDHOMezIW5q8cAAwAlyCMEAM+dQFEAaAbck7P5QOC4QFwgJhgZVYQOBjZTcQwFai+6Yqs0oAA7oEI4APkEIa8KXlJgAavlTAkg6sME+wNwrL9yMFWgxFMrQH0AA8GhY0uCtgxir5gBFeK2See+65Bkyf/9znqlzqJgBp/eHxusYY8IU+ejmAFwHuuftuq0f6AmfAIfClZS4mesDS8c43Y3XtYw6YLBFxWCAsEBYIC2xdC8wQwLasZ2vaq7kGAKZhRLxBQBQBoJGXycd4oAAdYptbVb4Nqc8XKdZEfoOwslI9w4RXXXxO9WZJribty8vFxHzy4rkCxJjXBRzKU8U+aQTgDgDUCwKtLMkkBsIAMOlIe3s9YAFg096BkS8sEBYIC4QFtqwFZgxg2xrCVgFgAhB5rjRJnnQ8VUANwKSYfeZsEdgH0vCe4e0CbDQhX1408zgVSGLCPrBEGcoqIFtBaeQ5WspJhrxV9nLAs3tMFvLQlaFEygBu6IY89pGnmEn+AJi9YclCr8/uMQ9dANiWfWqE4mGBsEBYICywagssBWCslJ8GY2FaqNJQ57T5V92WDRBA27DPfFpYXDvrpZWlNlKaT2l4pC7ECnzgTfJvBGofqMGzxPCebY0WFAAAIABJREFUxeVTQxzzdiIeKkEVwEUQHGlumUHUgdsMlsirdMpKdpVfVq7nHAGw09AlcgAwdFMdAB/n8bBxDn0llxgolKw5Fostq+hLBrE8aoqBPZavYN4YdjJ7LbaopcQQZI9hIjksEBYIC4QF1tcCdUkJJrZrfa9mH40EAwKiV1NeOHf4yklbB4yFWP/nvzjFPsqthVjTiZRs3a/BXOIzQSypsJBOWgcJeOzULbd9BKeddigesnxNjtuSDscOfz9/WqisBSbo8jFwRpDnyR8rTeDSFwN3ChrmVIw8gMfCc3srBJJfni3kAlZM4jc55fuP8l6Rj3T0Rp7qkq4cK10A59uIfPIY6PFm5gv5LcoKYAZhnVZNAWDddonUsEBYICwQFlgnC/gPWHvwsm8rssr8hLcL5bWxLxcAWQf2j32M2wAMMDtRFmpN8+m1+eyXAMNePnrU1rai3t7QLLTqAXCr72M/QJSAPaw9fB2gCYLXlByAPXOfza/C41NBSEB0IK9835W+3DSghuFMQIqyxKQpMMeLdACJ0MrnvH2H8oU7zCuGpw1vGmkE8ustzLbsVMflhQPswBIWhACwdXp4RDVhgbBAWCAssDoLAD98UkifFUKaYKwXjAYD82YBUSAV3+zju358gujGXzvNQEwesPxpqeO2Wv7c4KQNtTHcln1hq9N9q5cGwnxo2wOwAmD5ehy3oTVsDWTgCfPfWWyP/bmufeUnnhTs24xHn7LryzWmbuJpyvt6Aa5bH/vzGvYdf8L0n1T3NOdYDkP5qA/7AKsxBNneTXEcFggLhAXCApvKAt4LZkOE8/l7jQCZeWWch0qKK13eGTo95ukIwICwJ6663DrD4fwhAwe+CQlsAGGqcxLg7YhzeLuKfbG9gtKwMxt2M6AYzGW4YHhNwWDjeHptiBsS8JgyqPwUsa6hySY/3rhyXdGDfYWqV8lH3ldePZjuPvhwevfVH0lvvejMdN4tn0mPD19McwtHLKgMx+wrbveVT7HVufCCDc3WtLkMX9iwb4shyD7LRHpYICwQFggLrJsF6nBj8Wqp4goBDsAMvBgWpHNjcv2hl9KRp55Kx759twV9jJsYACP9pYcetDxpMJfyh7nn85ywCd/qqzps4yFIhhozwOa5dRWyzEeY58gJIogNiMu1sO8cGozhS8zDmKuJgTvKt7HSlM5x9mjimsvz13IeQV9Or+XKx9dfGr5iAPbre38/venLZ6fz77zKAOzY8ESt19fBvo7b/SqbPNiggl4p4+5X3UdtHADWWiSOwwJhgbBAWGBdLZA70+KFKd4W0giA2cSN/u7A/nTLOR+wSfd/fcbp6X+/M0/CJ8YL9pVd7zGvGAtq2ge7S8dqE/Mp797yq3C3naHLt80D2MLIyyWgGYFGuQreoVP2/fBl1z4yJgXKTLT7IHssa57iVdJ9wxApwV7GGJwc8+YZPJYXMAAtPGBvu+mj6ZTd7zMP2JODnycDMG+T5ew70KIugrWH/QlzF7FmANjEv+w4GRYIC4QFwgKztoDmfVlnyQefB6/Vzuv5559Pz/zkJ4nYB9KUjvfrnisutTlfgi/eggTGCHt+4+0GYYAaZfb/aL/JOnjw4JhMLz/2R/aWnWWT5dqN/JOC5PbFLx9+2e4JwR33CfBVwW0h+6kAMHuRQFCENw3v1ImUeEP2yMmRBwwAwwMGgDEcLdnLjdu/DeqXDEFnm0fHAWCyRMRhgbBAWCAssGEWUKeKAuwT+BSMVjqfFLNCOSura+gRCBOICcD4JiD5kKOVztv9SXXEuWy71g7elu25tTzWfD0Nl3KfKI1hVA0WegDKL1jMG4CRAU/X7U8/kBiCbAHM5Oru914+pbUxeUrwXlrVr6HLPCeuLZyPA8C67RKpYYGwQFggLLDOFtCQjeJrrrnGgImPLfOdv0suuThddullY0FprFbOUCPAhfdLQUOQV118TrrwggusrJfl91vZHEt+17mdnoZt1sI+XTJI2717dzrjjDPsHjj2i19U4BH4eGgCwF5dFOZtVpnyd80BsyHI9Jotu6HbXUtwcKz9qeKymK1wcPQigiSPxwFg4/aIo7BAWCAsEBbYIAsIvBQLwBgyZFO6V8+8ZcNhOnz4gE22Z7gR+JIHDK8Yw5MMU2rOF8NRKnf8teFY5+tl99XZ5tnqxxoyG4FDHkYTuLTtI788PHmO2HiOFlbGz/YfMY+Lsmzsnzi+YMCMJ80AjBM93qnsActatSCmc8sBsKzF6P+2TZ3HDsCyXfRSwEiO3wsA89aI/bBAWCAsEBbYMAsIsBQLwP7u7/bVeWGcY8hHy1MQEwAw3nS8/xMfHfOCAWSk86akhbIoK2/wmZyuT+80FqDOWYamumUfet2WXdgvL1EG8jJgOUllqM2gg+FhFm1luYmydATDbgS7Ni7WOmttuj823dtFX0vV1IfX0gOYwEfacSxQ1NB1tzcspX8cHOt8C/JnrCFXAB99/L7p13P9LV+jO/nRR5CaoVbajscBYOP2iKOwQFggLBAW2CALWOflPF0ewKQSeWySvl9fiQ7PLUWB1wsvmNYBA8CYyG0eMN6IYyV8wC0tjDpbTdzuiFX3rGKBw4bGelPRtV9g49s9Agt5d45PfMNRE9H7YoM3+zTUggEc14S5XVos9w8+/nEDMBbb5drnazbK6wEMqJZnk3xMys8hD0/2AdgxhiDLG4vECrRb6d4GSrd8xWMnMBzTp8JtWzofB4B12yVSwwJhgbDAlraAOpG+DmQzNk66Ku4CMHm8DMKKt8GWlnDrgeEF05uPz911u8EZpEXnTN4MX7lTPjq/xDIXdMIOSmaxvxmuBWDlw5hOrQcMexQvGJ6wDGVjJZZ1QHlAyd+z2l8KwKzuPCJqa8LZW4+G1dkrJ88cQOaHIN/4hV3j64CV5SOQp2vM/lLBD4l6CDMQW8IKAWBLGChOhwXCAmGBrWYBdV6Kt4r+6MumuAvA6By1WT4OWUx1kGyeEHO9gC4m5Gvuly1jwFpRZZX27B3JAFaHm4AK5/2w/QJeqm9W8aJ6Wz2WOvaAuFTenvPYBD1a4PCA0bafvDbrimvC7goC1xM5WvOtrV8Axhyw9pyOTS+rey4vO1EADEg0d2fRywOYFmKt64A1ACbZ08TeLv5aTrIdZQLAvOViPywQFggLrMAC/qG7Efutyq0O7fn2uM2/1sdtfX3H1MumuAUweSaUR0ORdN54tRi2Onz4pfTEI/eme27dbctYcMzwFYChT87YcFiZu8Nk76W2tbZHK2+p+tfjvHQCOPK8JQxTQgNWy/X0TKW/q4NraVA9n5IHsE7AK8LRVEOOgknFevkCbycLsfqV8OtbkOXeQ5xsof0u/ZWHGJu1xx7cusqTFgDWZ5lIDwuEBcICS1igPnSdB8KGPDjW5NzG48CDmY7BOgflKXHu7sY9EXQ6VVZZ78iOu7wVRd+qV6m7rxnogr7qqNSZqPNoOzyvR1fesfNlVXVkdW2qw59HJpviRQBGe4oHjBgAY5MsQAzYYuHQ7z3yiMUsAMocHzpn+7Zf+UAy84ysoy/qUacAr8auU7aKZvSf1d3cJ8tKc/df1V1p08jVfcX8Orsb8sr1NpzHp5u4hg6Q2uus+3FZOju9jPMknz8C7Q86AKw5zyWhXv/mY/47yviIbpLfD2DjF9bKjCdNPMI+2E33oY9z5d3FA8C67RKpYYGwwE6ygHvg8/DVA1wm4AFPZ1877DLkxQP9GJkowFt1wxO5A1vIr9FzSh0DkEOnj/cFGGBRSIpZ57WQ8/F5YQKenDp8Ur5VSD7Jol7yUPHou4YMv+TOy3QtE8wpQ93UacBCnjIRXR6h7DkY1Us7rH7yyhjEZXkAsxFeCl8/Jwe53VpOwHQrHThgYLIASuDA2cE6eAdeuaaUPID5zp3zAg3bL6BE+5DFcBUwRkBXs+dwaHBm1qD+Alxms1I3+SVbcVuvZVjj/6jDb9LNt5Hz0o99u5cKjPp0bGC2lo0EtQXIKGv3QWkz97Tym70K2LMvkJANvI5d+8onfaS//d1wt5Q3Vilr53QNWmH6e0wNgPl8Lo9PZh+9TZfyw4Y0jvsBbDQJ3/KW+6OVO+lY93Bf3FU2AKzLKpEWFggL7CwL6GFevE1iDh7abOqw7OHKG3csZcDK2gWYgBzWkwKeeKWdYx72kmOdJbLK6+kCMBv+KtCCLMoSrKQ+Gl3OC8CoA7n5QZ8/BAwwWScHrNm//HYf+bIe2atm7SAPAHYipVdePWheIfQhr3Va6aTBoQHi/Lytx2QnT4zgCpvkTnYEgMAW6zYJvtQ2TYq2Tr7Uizz0p53UrU5L9tbN5wGMNNOvAyjU0ZPn8R/8ID3wvx6w4UdW0scTxjAkm+BEgMB1YaM8eVjugjLEymOAUrw1lnnG/6mNapOP0Zf20D4C+1ojTW1BPXQX9CBP9y95OEcgTWWog88AyV42ZGuAnWVVnYrtu0ygdbpUL3kkHy8kNtVGHl0LpflY9ZE2NgTpMvk8LtnuJe4nAn8z9mPB/mYWZgpgXodp9wPAprVU5AsLhAW2rQV4mMt7NHpgj5qrDkx5DEgGKb00TOnm7/8wffU73x0LpD360ssGaHRmdSvfpMvAMZ9Brni4yGOdvXk1slfCQA9GKBAGTAFGGhqyeTIFyMwjBkWVD0tbJ1uO2VenZLoUEOI03jHOa86NygORwJ55+IpukqGOFX1J4xt7muBuXsCyiCbyAdPqCdMaXKV+gK1dAgD97HqkcQ+YbKhzFUxYmmB+3oYbWZn+9F893ZYt0Gdw+FQOq6mzqrrJLl4jtcHanpLBh8q84Q1vMCBTHtUpHWYVU08NxWNFO9Fx79696ayz3lPbpk8AnXbaaelDH/qgtV96UYZ7lnK6p9RO3ctqk9KBXWS+453vNBjztqo6TQAwXQ/qY1MMmGF/dKz2LNfA57NC5T/Vx2EAmLdM7IcFwgJhgW1mgfrAbzxgaqbOW+eVqcV+We9/5WT62B//Wfq3n/hU+tf/5bL09t/7mIWzPvnZ9KGLL0vfePLpCjAGOMWLpE7RwOTkvC2NkP1a2aNlnWLxZuGpMq/ScGiwIu8Y+enc0K2olCHyZF6Y1HTnRAE4ZDLkaOVJK6uOA0EVLJ2XCwCTR86gjwJ82BhkK+sxkUfDm0AYHjUbvsTr4jyEGc7KxGq8jaV+4AwVgV42OnGLS0ffesDG8ghQbBX8l+onawRRgAkgxbFgBUBDd0FHrW8wMI+S8gNxtm6YAwlTbMb/6T4zmHEwJjuobaeeemoi6FjghBevtq2BJWQCQNQhO6r93Ed4wJC3a9cuO4/Xirl0ltfpYgkd/yFLcCfQItu5555rconZyMf9rzzSx4uUHUgLAPOWif2wQFggLLDNLCDPjh78FWg62mmwUDxSANg5X/xK+nef+Ww66w//NH1s7x3p49f9pe3/+//239OZv/sH6dCrGSroGAEOoCWDS46twxzMGYSxjw5ADZ4hYAn4UVBnRYeJzhrCw/tFp1bbAcgIvoq3CXjSnC/yo4vAxwCsgJANHVK2ABiv7vNNu+H8IYup2/Sxie3ZS0Z70NfC8ESZ7D5f0nIeDc8CdXjyzEMzOJmBsNhZQKB2Cjz88JXPo+vF0Jkg6/3vP9uG5YARoIKhOp0jJq/kU63JKB/+7gIwn7eouSiSHtPkVeGuMj7Ny8Lzhe7od8P11yfgiPYBSHiW1D7gSeUMzstcJkEZdds95mAJMMI7SPqZZ55p+9ibuvgeI9fJ6yX9fezl4/FVfq6FdON7nrp2Xg8vR/sqz3EAmKwScVggLBAW2IYWqOBSfulPA2BAx9MLw/Q711yT3nXJpem8q2+yY9LuPPDTCmF/9Z2/r6DDkCXnnx8OawyYAEd4w6iXIT/yEcjHUCYreAMuebI8YJPPcZ5zyLDhyQJ31tGpEQx7zuVVy4cLLxgckR/5ACT7QCLH7CMbCMNDgWwF2ouXCx3oIBEvHZGDLhyjp016TydNJ2TS5ofnF6p9yAesAZrYXps6aOSzTQKwWqbkBazIr00eFo5vv/02AwFgABDQ5sEBUAM6yIMHzHuTlL8rFiz4uCufT/N51Vadb49JB2r4aDjAJS8T6diLduINQ2/irjzk1ZCgylEPMCcvGjGgB4QpDXmWfwoPmLeldJIcdAP0DOaK5xK5vi1WUflP9uEwAMxbJvbDAmGBsMA2swAPfHBAIAYYEBwbjDqP8u05gATwAMAYfrz4jm9WwADA8IrhAWMYElgBkL581zcTw5PvOv8SC+//whfTxX95a3ruyM/MIwWYPHjgoHnSkEk+8uNVY70ivFEEoAxvG+eVj2PqBYS8FwsYsuUXhkfMiwVAUccV9/+fhJdOurB/3TfuM4DCwwW0MLTqh1UZbgWoaBBDl+gBeEoG7b1sz3UGDNQDzGEjbIN8ZJEHOd94+BGzCZ44bRXAylDkUgDmO2pTS5O7NcwGOJQJ5oIBvDKk0fnjJWLjWJ4yYIHhS855qJCOPlb9bezzdO23+XXclbdNQ1cF9GNf894AJtoh2JL+glHyaqN95MP7hadL4CUA1bw586QtAWCqj7y6ZtgbfeRVrEOQ5ZqgB/qorPSy9FIf+wFg3jKxHxYIC4QFtpEFgC46wBbASBOAkcf/WmfoDrgAQACwf3XhlensP/la+pO/f9Im4zMsCXAATnh/MtCl9MWbvm7pQAtDlsATkEM64EReyhh4/eGfmkzk/O7nr7S6gB9ADLj7l5/8lMmgXmRRhnoBPuCQOWd0vIAQc7AMwtJxgz3Aj/zIpozJ+ORnDZ7weFEGnYA/zhFoI8fAE9BEoCxtoH7ahDzO47FBB+xDHuqivPIAYTZH7uFHDOjM1qVDRnWBgjrzdghSwGJxARJ/fdj3MnkzUgCGB8znxUbUJw8Y+TQHjHTJaW/5MR0coPTl9+X7yvo87T4wJb0FVuRBRw9gtNXkN/PpZFPJoKy1fThMzI0DlhjOBFCBJeRIvtfXEnv+owxygDjk4JXkGJvaEGQz/67PVqqPagLAeowdyWGBsEBYYKtboA/AaJc8YnRelk+TxQuAMawmAAMwCIKNf3P5VeZlAqqAO+ZR4ekCSij3rSOv2nmGLwEiDdMBMaQBc+TDWwWAIAFIA9CAHsCGc8gT6ABzeKCoh/pwVdkbimWxVYYa8bghH2hieJSyeKnY3/fkYza/iw6Q+VPIRwcC+tAm4I/8gB56A4LSlTQ6YeCMuoA46XrDUz+xupCJt07ptBtYs063gQYPYG1nrWOBBd4XbfLucMx5yQEErrzyygp43vsCLMhbw5uAkuuBRfIVm87Fo8M+eQmWXtri62Bfx8TKJzmS2xWjT5cni+uEx462EWuT/l3HpmPRD3sATATK+GFJedikn2LJ9DF5WRYDTxrDpWwMh7YA5sv07ft6WgDj3KTN/83yQ4nADyB+VOCFnmol/AngPanu5Z6LZSiWa7HIHxYIC2w7C+ihrdiGH7sATENbHQAG0AAWeHnkMQJWWKKC+U50AHiXGOYDguQFA2qAGCAHGBHUII+yeL3kcQNe8EIBegBNnks1mmN1xu/8Jyu/70f7DaSALzbgDcgB4IA06mRY0DxlJ/JwIh0bnjLK4N2jXuqnTbQHfQE3ymqZDXSljZxnSBN9kEl56uKcdKVtBNKBT+QwJEm7yW+d7jIBTGUEG37JD4CAAGzIQ0QMJCg/5wQ1ggVAhOE3NuWzg47/rH4BmHTXEOFwWGUjx8sShFm68551VGFJtENl5LWSPIYQgS/0BlbY0EsbZS3NTbznWOm87Ym3StCEfOaCIVdbbWfRVemKpQswiB3ZkMNxAJistDgOAFtsk0gJC4QFdpgFBF40m86mBTCdV8cmIAIe5AEDVAAQJqEDGhwLWDjG0yRgwfsjbxkgwjF5ABHmRgEuBNIJgBDnAR88ZJQRwDCcJ3nIBNAANX7tA15qE0CFh4rzlGW+mG1a7oJOeeGIgSLtQlfk+UA52oQetBWvGfLUTuAOwASyaC9gqXPEnCeoXQAYspbjAavXQOBSwEJAIaASFDCXTYCCd0abeaAKNAFiTLqXBwwAEfRInsr5WGCiugE8eZNUJ3FXoA626glz0OTr8Pvy8lEGnXkbElikTuqgDWy03evNsewheRxLnrWj2MKXo10EtVOxZCj2tqQ8uhFYJFY21RCkykyKfT1dHjDO9238raq94QHrs1KkhwXCAmGBTWIBARbq8HAHwIiVrlgPfh7sQIMm4QMXeIjwdAExAIiG7AAYvFV4nMgHlOAtIo0YTxfDlgAWE9uBJuCFoUbOAT2UIT9BAMU58gCA8roRkwaAoZ+9zVhWpwfu8DwBP5RFFhP0eUOS9rFvHrCUTFfqJaA3bSHQFtoAyAFgQB0ghw7IRDZACFTRHgEYHjIC+QgMn6In88WwFbqa7eVFKh2shg4Zgq22d+BFmsDCOt1Sjs6fDSDR8BwgALAov6BJx+SXt4ZJ6WyAxaTN6i91khfIoD7kENgnAGZt+oUXXGCQIhlqX199yPdwxLG8X8AXHiza4vMgq6udykOdOk+adECO0tmfRkfJlP6U05ww9JsFgFW9ytQA6uZeNp3RO4YgdTkiDguEBcICm98CPNRbAGMQzx7spbNtAQzQwOMFdAAlQAVwJe8R4AOAAC8ADXkAGNINas6/xGBO3T3nkaWhOskHmuQBY5881CUYohwB35ctfspLb/MZxAAwPFtAEnqMDRm6tcYoD8iRjzZRxusCaAFYqpeYgD60kfaoHPUQgDfpyvw0dGGOGO3FltoqAKwAwARdgAMdMIACSNH54yFirpM8PtSn/Kqbc/JgATbI6Mqn/MQCAMliCBTIQxZDe+wDgYpJA1QYmpO3Cj0lx8v2+9KFNNpHfd67BOzpHDEyCX6jjOzbwpI/9vbzMr2sdl/tpyxBbdKw7noAmMFW+dEUANZeoTgOC4QFwgJbwAJ0Ui2A8eFoD2C8HUn35j1geHbwBgEnLDcBKOGtwtsDxAAneJTIhweJoUZAhXwMNwJbgAneHibSkwd5lAPAKIccwRHpDE1KFhPebQkCPi20AEaV7zjCEScW64su6Im+yGCf4UNgTnWgO2CFHnisgCvKUS/QxRAk9VIeOR7AAC7K4BFDDvJpM/PTrMzDjxiMYFdtAgTFEz1gguHirbHr5qDDv9WI98lDhoBBUCLA4S1AYIEJ+WzAxKSNOmtww3we9NQWAZGfp1bLFjmT6vK6UI7hVA09oi/tUzuQo31ilVW7dR6ddA6Z2pcekqHjvph8XXln6QEbs13xdJEWHrC+qxTpYYGwQFhgs1oADiihBTAe6niVeMDb1gCYvEp4hwAqBeCD4UCgBrhhzhN5NReMYzxEABaeMaAG+KKcZGiOFV4kzgN9pCFHc8XISxpDeniYmPDPWl55cdbXrHPMi7HmFwGYh0W9lEMOelMny10gH5jyOpCHII8eMMUwKUtJIEu6cp58ABlz4Wg7OtFO5VFMWV5KYNK/IEz2VewBTLeNzi2K3Rwmzvm5UX4ZC+R40CCvAAIvGQAGOLAZoBW5qt/HVtaBIPOVgD3eosSb5gNpOkfMECSbvEVqj5evffQVPJGf70IKvlgyotWj1VuykeNBVPKJlcdAzsGY6vV5+/ZNjwJj1DVLD5jabPEEAENX/p7jLci+qxbpYYGwQFhgM1igAJge7oCBD6Tb5gAMwAB+BEUABvt4efACARnAEKCB5wj44jwx3iWGAoEYzYfCq4THCDlAEOkAEfAFyAFVQBLeJdVFrHzk0VuXeNTYpwsa/OKorbjPXC95pygnGfLMCfLQQ4CFPgAg+kpXAAy9yKP24znTCwB4DRkWIh9w6esiH2VlG70uIPsq7gIw3SbKw7EAyvbLulaAFIFhSOUFCuSpIU37kqEJ+6qD/JM2k+HkeOhT/QIlHSvG28Zmui/hAZP+wBFBMoA6YFHt8PqoffUcYKT7t9Qrr5zyoI8HLr8/yQ6ck62oQ+UAsLWehK8fScQ27Cj4UuyAWsPbzDEkdC1D8fjwxbr0itqoa6LjWcXxFuSsLBtywwJhgW1vAT3YAR3NvyJWumJ+gRPafCqTQWlUTsfEyFDMsCdBaV3lOW9zwMraX+bNK14JdSzIU1nFvg7p3dZDXuVTHo7bQAdsddkaTPm8r0f5kYGuy/KAdYCEv9EAEgEKniYti0AeQUK7zzHgwNChXwNM3ikv3+8b5JQOH9nM8dJSDNTLPoE5YG06c8C8Pl5uuy+gwaa8Pan24bGTrU3Xcp27wKqVOYtju+ZuuQsPYFoJn3p1H2rf/8hhv9p1OKwLsdpH4/ms1isns6eaG53V7sqXFIAt3ZMGXu7HFPceHll+CH37Z/+Q3n31R9JbvvTb6fw7r0oVwJynk/rXYwsAWw8rRx1hgbDAtrSA7yhWve8hqd0vHpJFdZR8GWBGn1JSh6YOscbyEnTFbZ19x60uyqf00gHXOjlfIEUdbz1uOjrS2RR3ecAkQzcUx4CMoEMT6YEUFhU1QHFDal6+AAgZbExsZ50w4EhDddJF9fnY2lHapnTTTzbps4VsVWKVnRQjV2894lUDFLs2taXGjY27yqw2DTsIEpHFMdfDzwEbA7DGZrpfFUsejMWwLu0FbpnLyC8Qg7CTeSkOq6/YGW8vwdhMAFbW7BOAsRDr2dd9Or358x9I593ymQCw1V78KB8WCAuEBTbCAnQUaxbUaUtme6z0Nla+8qKAOjHiRbp1gZfSJGepuKt+B04GIK7TrzpIrspz7PJx/XSseFoA07XnkzryDjHENwYFBbJa6EJf8gFeDCEyZLZr1y6DMdPdeUZUj4+VRzor9nn69s1WS8inLDCINwm4pH0ACR41TeinTtpVodHZdjn69Ok5TXqtu8AXZdBZS3sIwMjnrwv72UOc52pRjuOcPvoUEW01qASsWLsOzCofsWef+51yeMGKc6zO6cQGgBnTAACw37zrIvOAAWAZ6lE+AAAJEUlEQVQPzB8w75jJLg1dL5uFB2yaOyvyhAXCAmGBDgvwoF6zUABF1Ugux9rvi+l81AmtCMCWakcLT8o/Qee2HYKN2gYHCT6v2kvsAYxyOicZdlzkMNFenT2AwlAdQIYHhQnvBPYJeMb0pqJgAOiinACOuiXfdqb4jzYij+A7dJODzWTHxm5LiaYc62gJvmgnc9vUnnYfT55spPYtVcdanReIIU8eMOwqAFM9AGOF4fLmccGqCmC0gTZSXi+W6IP0xAwp+mP28XQpcF55mG/Id1Rvf/WH6W03fXTxEKT7MaB7TbrOKg4Am5VlQ25YICyw7S2gTm5NYnXOHm46oKOrLg9dfn9RXnm7mpgLtSiv9BA4+GPtO5Cw8q4NVWbx8FT48GVdp6f8Pp4IYJJb5m75uVECFcGUYjpyAks4ACYatgQa9AYk58kPpJkuU3ioWtiyguW/SedMvuzRFw8G9tajb4P221i6syyF2uZ1meW+2unt2s4BA7havewY8iovtmQIyx4w7mUAjHbe/vQD5q0CoP7i+Hdr0DGeLQWlEft9yl37428agJ2y+33jQ5DuXuReXo8tAGw9rBx1hAXCAtvSAhOhpa9D7UjHOJIlQ/UdK93HHrr8vs9j+w141bfIvE6CKB/7836/C8AaaBxrD/l13u37PLIFcReA6bwBXdGFtxcZOmTSPYGhOsXsawkI0vAe4U0CukxGASxAgNXkOS/vl/fQSMeuuMvj1aWnL1uvTbFDPaZNxa6KAUa1x8fs6xi92WcYlTXQtLXAo/S1jGm/93wJtAAw9EE3vJG69uRnU/tszHA+Dx3mIcQMYEAZAMa15Tunv3LZB23uFvBk4Yr3plNKeOtFZyYFpfn4jV/YlfPufp8B2Ju+fLZNwmfZFt4Mlm6mVwDYWt4eISssEBYIC6y9BcY6TQ8my9zv0kyy/TmltbGHLr+vsm3+Cl4CMq9v0/lbJ+nP+/2Sl3qow2+qU2mLjgt46DyxZCjuAzDL68oLlEhnX+XRHQARbKkcsSBAMWkeIrQveZJJvkmboKIrP2myp5dh6d6uyufsS350kb6tfKWTjzaTl7CeG8O6Y3Zz3sPWjhwrbxeA2Tyv+dEkfJY/4e1Fwi9f8+Ea/HHXeeVl2NHvk/eP7v+azQsDwDZiCw/YRlg96gwLhAW2hQU6O862I5XHpyPdd6K+4za5pfMl3W+ddZa8Hr7Y17ZIdgEvnW/jzjq69JeOAga11b39J9mS2XdMOnl8PC2AUaaFDR174BGkqOMfy+PsrPOL7NZApikrT47TXe3wbVFeH5tNXL3KL1vV+mXnEpOPtkh/xeTX3Laa1qOz12O1+9TrPW1qv+wouxOrTWoDxx7AGIK08uUj8RqCZCFjgOnC711r4fyHvmrxpx7ck9jXMed1zDmFsfN3XmXp+558zBYuln6rtcNyyweALddikT8sEBYIC6yxBWqH2wU5U3SgAq+VqtXWv1w5bfn2eFp5lGNT7AGslVHrAEp67LZW6W3d6328VDvWW5+1rg8PVH4TcqFee/v9UIYgmQN2x757053feyDd/Oh9FjhWUBrnlUf7xMrnYz6L9eTzzxqwyr5r3a6l5AWALWWhOB8WCAuEBWZsAXUAffFS1e8EADPPiTxtjUfI7Nam6bivjM4TT8oz6ZyXsZP3sdGkMMk2ZYkIW5S3fDC8eskcgD34g30JjxWBtyufePSxGjjuCj4Py4z4Y94UZYFcFnK1Ifkpfugs9Xe43PMBYMu1WOQPC4QFwgLbzAJt57lRzUMPNsWTPGAbpWPUu/YWkPer64eEhiDxVrEWGJPmWSiXhVkJw0OjfaWRz0LJw77KMESruWrA19i6YWvftIkSA8AmmidOhgXCAmGB7W8BD2Ab2VqBl2IPYNUDJk9LmTslb0nEgzq/aqvZQp/OsrcRnbeMuWECMCCK+WHmseLaa0FWVsdXmE/ptRLwatn+4LUCWQujTxiV+WXAFwu06n5b73s/AGy9LR71hQXCAmGBsECnBdQRKvYA1lnAecv6zkf65rcAwIj3S9cdeDLAKgD2S69/nX1+iPS8ThjxggEnrbMhxHIOGR5AgTsWcc0fKMqr57OCfpZwcuxbpOttqQCw9bZ41BcWCAuEBcICnRaoHXAZivQApnMqaB1t6WyVRqx0n7ac/dWWX05dkbdYAG/WYHTt5MWSB0wAxpuWXJ/8yaF5W79Lw5ZK55xPs+uZWGZihG4CMKWRv2+j/Ky2ALBZWTbkhgXCAmGBsMCyLKDOTrEAjAnUfrNOtZkv5s/H/tayAB4rNq4rmOTnZfEJKd6CZEkLAAxYklfLvGDAFR6twZylk6aQ5TRDj4NUy782zIvx9lnL32d9eVaTHgC2GutF2bBAWCAsEBZYMwsIvBQLwPi0Dm+sEfgItUJ7rPSIRzbaKrboupbM+9I3MAEwDVUyVwwIA7QEUTrn4auCHHwnB5jztMlT1nUDC750L3blWW1aANhqLRjlwwJhgbBAWGDVFpAXBEHq9Pbu3Wvej/abh3H8uh1nF2DM3yO2qOtwaB6xvptP91Hf+Y1ODwDb6CsQ9YcFwgJhgR1uAXkbZAY6WtL4luDu3bvtO4J8SzDCzrQB9wCb5oDpPiHeqFXsvQ4r3Q8AW6nlolxYICwQFggLrKkFvIdD3gv/+RqBmYDNjgus1TQtUxGxQeyWsItbeqJeU5emzypxs+m+0L2ieE1vxHUSFgC2ToaOasICYYGwQFhgsgUEW8pVO+MZvommuiLe3BbQtyYFY9wb2t/cmvdrFwDWb5s4ExYIC4QFwgJhgbBAWGAmFggAm4lZQ2hYICwQFggLhAXCAmGBfgsEgPXbJs6EBcICYYGwQFggLBAWmIkFAsBmYtYQGhYIC4QFwgJhgbBAWKDfAgFg/baJM2GBsEBYICwQFggLhAVmYoEAsJmYNYSGBcICYYGwQFggLBAW6LdAAFi/beJMWCAsEBYIC4QFwgJhgZlYIABsJmYNoWGBsEBYICwQFggLhAX6LRAA1m+bOBMWCAuEBcICYYGwQFhgJhYIAJuJWUNoWCAsEBYIC4QFwgJhgX4LBID12ybOhAXCAmGBsEBYICwQFpiJBf4/3mFT+zp5LlkAAAAASUVORK5CYII=)"
      ]
    },
    {
      "cell_type": "code",
      "metadata": {
        "id": "alp7K2_EY49y"
      },
      "source": [
        "# recursion is calling the function itself\n",
        "# non-recursive function to cal. factorial\n",
        "def nFact(n) : \n",
        "  res,i=1,1\n",
        "  while (i<=n):\n",
        "    res =res *i\n",
        "    i+=1\n",
        "  print(res)"
      ],
      "execution_count": 8,
      "outputs": []
    },
    {
      "cell_type": "code",
      "metadata": {
        "id": "VuhmD6n6bnMl",
        "outputId": "1f764ffc-39fc-4ed9-a30f-ac7615c91333",
        "colab": {
          "base_uri": "https://localhost:8080/",
          "height": 35
        }
      },
      "source": [
        "nFact(3)\n"
      ],
      "execution_count": 10,
      "outputs": [
        {
          "output_type": "stream",
          "text": [
            "6\n"
          ],
          "name": "stdout"
        }
      ]
    },
    {
      "cell_type": "markdown",
      "metadata": {
        "id": "GZuzAF5Wawwv"
      },
      "source": [
        "**recursion is :**\n",
        "* method calling itself\n",
        "* uses stack \n",
        "* return statement should be precisely written \n",
        "* can "
      ]
    },
    {
      "cell_type": "code",
      "metadata": {
        "id": "Gz15ucONY45D"
      },
      "source": [
        "def rFact(n) :\n",
        "  if (n==1) : return 1  # exit condition is most important in recursive function call\n",
        "  #print(n)\n",
        "  res = n * rFact(n-1)\n",
        "  #print(\"==\" ,res)\n",
        "  return res"
      ],
      "execution_count": 23,
      "outputs": []
    },
    {
      "cell_type": "code",
      "metadata": {
        "id": "wwZrjzkwc4wH",
        "outputId": "cb4e66a8-1209-409f-9a9c-a8111b9123c5",
        "colab": {
          "base_uri": "https://localhost:8080/",
          "height": 145
        }
      },
      "source": [
        "rFact(4)"
      ],
      "execution_count": 24,
      "outputs": [
        {
          "output_type": "stream",
          "text": [
            "4\n",
            "3\n",
            "2\n",
            "== 2\n",
            "== 6\n",
            "== 24\n"
          ],
          "name": "stdout"
        },
        {
          "output_type": "execute_result",
          "data": {
            "text/plain": [
              "24"
            ]
          },
          "metadata": {
            "tags": []
          },
          "execution_count": 24
        }
      ]
    },
    {
      "cell_type": "code",
      "metadata": {
        "id": "QCmNaCsKd5In"
      },
      "source": [
        "# binary to deciaml \n",
        "def deci2bin(n):\n",
        "  while n>0 : \n",
        "    r = n%2\n",
        "    print (r, end=\"\")\n",
        "    n=n//2\n",
        "\n",
        "def rdeci2bin(n):\n",
        "    r = n%2\n",
        "    if  ( n//2 > 0) : rdeci2bin(n//2)\n",
        "    print (r,end=\"\")"
      ],
      "execution_count": 40,
      "outputs": []
    },
    {
      "cell_type": "code",
      "metadata": {
        "id": "QLY68aNEeNX_",
        "outputId": "a38cf5d1-782c-4eb3-9f60-66790460e4de",
        "colab": {
          "base_uri": "https://localhost:8080/",
          "height": 72
        }
      },
      "source": [
        "deci2bin(12)\n",
        "print(\"\\n rec\")\n",
        "rdeci2bin(12)"
      ],
      "execution_count": 41,
      "outputs": [
        {
          "output_type": "stream",
          "text": [
            "0011\n",
            " rec\n",
            "1100"
          ],
          "name": "stdout"
        }
      ]
    },
    {
      "cell_type": "code",
      "metadata": {
        "id": "-Uaep2sKeNUq"
      },
      "source": [
        "def fact1 (n):\n",
        "  return (  1 if (n==1) else (n*fact1(n-1))   )"
      ],
      "execution_count": 43,
      "outputs": []
    },
    {
      "cell_type": "code",
      "metadata": {
        "id": "-Q4JXOBBhd2q",
        "outputId": "8e16b5a8-9ce5-41ad-fb5b-3f368ccd164a",
        "colab": {
          "base_uri": "https://localhost:8080/",
          "height": 35
        }
      },
      "source": [
        "print(\"factorial of 5 is \", fact1(5))"
      ],
      "execution_count": 44,
      "outputs": [
        {
          "output_type": "stream",
          "text": [
            "factorial of 5 is  120\n"
          ],
          "name": "stdout"
        }
      ]
    },
    {
      "cell_type": "markdown",
      "metadata": {
        "id": "XMM52lRDn0XH"
      },
      "source": [
        "### Variable arguments in function"
      ]
    },
    {
      "cell_type": "code",
      "metadata": {
        "id": "Ov9iq1MCeMr0"
      },
      "source": [
        "# fuction may have only *vararg \n",
        "def printVariables1(  *vararg,arg1 ): # cannot have method like this\n",
        "  pass\n",
        "  \n",
        "def printVariables( arg1, *vararg ):\n",
        "  print (\"Arguments Received: \")\n",
        "  print (arg1 )\n",
        "  for v in vararg:\n",
        "    print (v)\n",
        "  return;\n"
      ],
      "execution_count": 60,
      "outputs": []
    },
    {
      "cell_type": "code",
      "metadata": {
        "id": "W0ek9PKJY6Ml",
        "outputId": "f5a6b7e0-7428-4d15-aeed-4ec1674c0635",
        "colab": {
          "base_uri": "https://localhost:8080/",
          "height": 316
        }
      },
      "source": [
        "#printVariables(10,20,30)\n",
        "#printVariables(1000)\n",
        "printVariables(10,'Ram','Gurjit',334.5,8000)\n",
        " "
      ],
      "execution_count": 63,
      "outputs": [
        {
          "output_type": "stream",
          "text": [
            "Arguments Received: \n",
            "10\n",
            "Ram\n",
            "Gurjit\n",
            "334.5\n",
            "8000\n"
          ],
          "name": "stdout"
        },
        {
          "output_type": "error",
          "ename": "TypeError",
          "evalue": "ignored",
          "traceback": [
            "\u001b[0;31m---------------------------------------------------------------------------\u001b[0m",
            "\u001b[0;31mTypeError\u001b[0m                                 Traceback (most recent call last)",
            "\u001b[0;32m<ipython-input-63-cbc799a7dc69>\u001b[0m in \u001b[0;36m<module>\u001b[0;34m()\u001b[0m\n\u001b[1;32m      2\u001b[0m \u001b[0;31m#printVariables(1000)\u001b[0m\u001b[0;34m\u001b[0m\u001b[0;34m\u001b[0m\u001b[0;34m\u001b[0m\u001b[0m\n\u001b[1;32m      3\u001b[0m \u001b[0mprintVariables\u001b[0m\u001b[0;34m(\u001b[0m\u001b[0;36m10\u001b[0m\u001b[0;34m,\u001b[0m\u001b[0;34m'Ram'\u001b[0m\u001b[0;34m,\u001b[0m\u001b[0;34m'Gurjit'\u001b[0m\u001b[0;34m,\u001b[0m\u001b[0;36m334.5\u001b[0m\u001b[0;34m,\u001b[0m\u001b[0;36m8000\u001b[0m\u001b[0;34m)\u001b[0m\u001b[0;34m\u001b[0m\u001b[0;34m\u001b[0m\u001b[0m\n\u001b[0;32m----> 4\u001b[0;31m \u001b[0mprintVariables1\u001b[0m\u001b[0;34m(\u001b[0m\u001b[0;36m10\u001b[0m\u001b[0;34m,\u001b[0m\u001b[0;36m11\u001b[0m\u001b[0;34m,\u001b[0m\u001b[0;36m12\u001b[0m\u001b[0;34m,\u001b[0m\u001b[0;36m23232\u001b[0m\u001b[0;34m,\u001b[0m\u001b[0;36m23\u001b[0m\u001b[0;34m,\u001b[0m\u001b[0;36m234\u001b[0m\u001b[0;34m)\u001b[0m\u001b[0;34m\u001b[0m\u001b[0;34m\u001b[0m\u001b[0m\n\u001b[0m",
            "\u001b[0;31mTypeError\u001b[0m: printVariables1() missing 1 required keyword-only argument: 'arg1'"
          ]
        }
      ]
    },
    {
      "cell_type": "code",
      "metadata": {
        "id": "m4V1HY3MY6U2"
      },
      "source": [
        ""
      ],
      "execution_count": null,
      "outputs": []
    },
    {
      "cell_type": "code",
      "metadata": {
        "id": "FeslqEJHY6RO"
      },
      "source": [
        ""
      ],
      "execution_count": null,
      "outputs": []
    },
    {
      "cell_type": "markdown",
      "metadata": {
        "id": "6QnPP8CBn3wc"
      },
      "source": [
        "### Anonymous Functions (lambda)"
      ]
    },
    {
      "cell_type": "code",
      "metadata": {
        "id": "NiC32KSYY7d1"
      },
      "source": [
        "sum = lambda arg1, arg2 : arg1 + arg2; \n",
        " "
      ],
      "execution_count": 64,
      "outputs": []
    },
    {
      "cell_type": "code",
      "metadata": {
        "id": "atXJ8ZOoY7ar",
        "outputId": "d1d90e41-cad3-4e48-b304-32c8241443d1",
        "colab": {
          "base_uri": "https://localhost:8080/",
          "height": 35
        }
      },
      "source": [
        "sum(10,20)"
      ],
      "execution_count": 65,
      "outputs": [
        {
          "output_type": "execute_result",
          "data": {
            "text/plain": [
              "30"
            ]
          },
          "metadata": {
            "tags": []
          },
          "execution_count": 65
        }
      ]
    },
    {
      "cell_type": "code",
      "metadata": {
        "id": "92ua9IjknKnI",
        "outputId": "c2fbdac1-bd2f-430b-fbc3-354c73e3ecbf",
        "colab": {
          "base_uri": "https://localhost:8080/",
          "height": 72
        }
      },
      "source": [
        "# using lambda write code to multiply three number , any parameter if zero shouldnot be multiplied\n",
        "#mul = lambda ar1, ar2, ar3 : ar1 * ar2 * ar3\n",
        "mul = lambda ar1, ar2, ar3 :   ( 1 if ar1==0 else ar1) * ar2 * ar3\n",
        "print(mul(2,3,4))\n",
        "print(mul(2,0,3))\n",
        "print(mul(0,2,4))"
      ],
      "execution_count": 69,
      "outputs": [
        {
          "output_type": "stream",
          "text": [
            "24\n",
            "0\n",
            "8\n"
          ],
          "name": "stdout"
        }
      ]
    },
    {
      "cell_type": "code",
      "metadata": {
        "id": "UHzVsy_tnKiR",
        "outputId": "2a07dd73-ebcf-4af1-e4e3-2ea3d1e8bbdb",
        "colab": {
          "base_uri": "https://localhost:8080/",
          "height": 72
        }
      },
      "source": [
        "# example 1\n",
        "names =['kisan','RAVI','Amit','aarzo']\n",
        "print(names)\n",
        "print(\"without lambda : \", sorted(names))  # sorting using ASCII code A - 65\n",
        "# sorted order of names acc. to lower case\n",
        "#names[1].lower()\n",
        "print(\"with lambda    : \",sorted(names,  key=lambda name: name.split()[-1].lower()))\n",
        "# orted(iterable, *, key=None, reverse=False)"
      ],
      "execution_count": 76,
      "outputs": [
        {
          "output_type": "stream",
          "text": [
            "['kisan', 'RAVI', 'Amit', 'aarzo']\n",
            "without lambda :  ['Amit', 'RAVI', 'aarzo', 'kisan']\n",
            "with lambda    :  ['aarzo', 'Amit', 'kisan', 'RAVI']\n"
          ],
          "name": "stdout"
        }
      ]
    },
    {
      "cell_type": "code",
      "metadata": {
        "id": "MApTyRKwsar9"
      },
      "source": [
        "# example 2\n",
        "#filter(*args, **kwargs)\n",
        "# filter(function or None, iterable) --> filter object\n",
        "\n",
        "#Return an iterator yielding those items of iterable for which function(item)\n",
        "# is true. If function is None, return the items that are true."
      ],
      "execution_count": null,
      "outputs": []
    },
    {
      "cell_type": "code",
      "metadata": {
        "id": "ZPN_jWi2saoA"
      },
      "source": [
        "#function to check vowel\n",
        "def isVowel(str ):\n",
        "  for s in str : \n",
        "    if s in ['a','e','i','o','u'] :     return True\n",
        "    else : return False\n",
        "\n"
      ],
      "execution_count": 85,
      "outputs": []
    },
    {
      "cell_type": "code",
      "metadata": {
        "id": "zxQHMGBnr_gr",
        "outputId": "60e7d109-4241-47c5-f964-a10dddb1db95",
        "colab": {
          "base_uri": "https://localhost:8080/",
          "height": 145
        }
      },
      "source": [
        "test = ['a','t','d','i','m','a' ]\n",
        "for t in test :\n",
        "  print(t, isVowel(t))\n",
        "\n",
        "x = filter(isVowel , test)\n",
        "print(list(x))"
      ],
      "execution_count": 89,
      "outputs": [
        {
          "output_type": "stream",
          "text": [
            "a True\n",
            "t False\n",
            "d False\n",
            "i True\n",
            "m False\n",
            "a True\n",
            "['a', 'i', 'a']\n"
          ],
          "name": "stdout"
        }
      ]
    },
    {
      "cell_type": "code",
      "metadata": {
        "id": "OzA3Bm3Jt4Lb",
        "outputId": "9132c1f1-597f-467f-c21f-2a8fa90a376f",
        "colab": {
          "base_uri": "https://localhost:8080/",
          "height": 35
        }
      },
      "source": [
        " marks = [90,45,78,65,34,88,67,79]\n",
        " # ouput list to have marks greater than 75\n",
        "\n",
        "\n",
        "x = filter( lambda x : x>75  , marks)\n",
        "print(list(x))"
      ],
      "execution_count": 91,
      "outputs": [
        {
          "output_type": "stream",
          "text": [
            "[90, 78, 88, 79]\n"
          ],
          "name": "stdout"
        }
      ]
    },
    {
      "cell_type": "markdown",
      "metadata": {
        "id": "74h8D0HbnwL9"
      },
      "source": [
        "## Excercise"
      ]
    },
    {
      "cell_type": "markdown",
      "metadata": {
        "id": "S8TmbEE4n9ov"
      },
      "source": [
        "1. create a function to check the passed number is prime or not\n",
        "2. create a function to convert number to word format  e.g. 123 output one hundred and twenty three\n",
        "3. write a function to check, the given two strings are anagram or not. e.g. listen and silent are anagram\n",
        "4. function to calculate the count of vowels in the given string "
      ]
    },
    {
      "cell_type": "code",
      "metadata": {
        "id": "XpbrQXpwpNLt"
      },
      "source": [
        ""
      ],
      "execution_count": null,
      "outputs": []
    }
  ]
}