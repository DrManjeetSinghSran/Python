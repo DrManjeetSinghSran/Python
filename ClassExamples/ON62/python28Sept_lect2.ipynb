{
  "nbformat": 4,
  "nbformat_minor": 0,
  "metadata": {
    "colab": {
      "name": "python28Sept_lect2.ipynb",
      "provenance": [],
      "collapsed_sections": []
    },
    "kernelspec": {
      "name": "python3",
      "display_name": "Python 3"
    }
  },
  "cells": [
    {
      "cell_type": "code",
      "metadata": {
        "id": "rUDIif8m9N8x",
        "outputId": "60ae1416-dd05-4d0c-92b2-3364dbee18ac",
        "colab": {
          "base_uri": "https://localhost:8080/",
          "height": 108
        }
      },
      "source": [
        "#python is case sensitive language\n",
        "name = 'APJ kalam '\n",
        "age = 28.5\n",
        "print(age)\n",
        "print(name)\n",
        "print(name, age)\n",
        "#formatting\n",
        "print(\"name :\" , name , \"  Age : \" , age )\n",
        "print(\" {0} is {1} year old and {0} was president of India \".format(name, age))"
      ],
      "execution_count": null,
      "outputs": [
        {
          "output_type": "stream",
          "text": [
            "28.5\n",
            "APJ kalam \n",
            "APJ kalam  28.5\n",
            "name : APJ kalam    Age :  28.5\n",
            " APJ kalam  is 28.5 year old and APJ kalam  was president of India \n"
          ],
          "name": "stdout"
        }
      ]
    },
    {
      "cell_type": "code",
      "metadata": {
        "id": "SdCYAvN6-eAg",
        "outputId": "da15a5bd-e97a-47b9-cc4c-d041b0f96801",
        "colab": {
          "base_uri": "https://localhost:8080/",
          "height": 54
        }
      },
      "source": [
        "# to check datatype of a variable \n",
        "print(type (name))\n",
        "print(type (age))"
      ],
      "execution_count": null,
      "outputs": [
        {
          "output_type": "stream",
          "text": [
            "<class 'str'>\n",
            "<class 'float'>\n"
          ],
          "name": "stdout"
        }
      ]
    },
    {
      "cell_type": "code",
      "metadata": {
        "id": "MXUWniDaAHI_",
        "outputId": "59c3e97c-4199-4f75-cef3-b2ca46083a8e",
        "colab": {
          "base_uri": "https://localhost:8080/",
          "height": 90
        }
      },
      "source": [
        "# to accept data from user - input function which return an string\n",
        "x= eval(input (\"Enter number : \"))\n",
        "print(x)\n",
        "print(type(x))\n",
        "print(x+1)"
      ],
      "execution_count": null,
      "outputs": [
        {
          "output_type": "stream",
          "text": [
            "Enter number : 10\n",
            "10\n",
            "<class 'int'>\n",
            "11\n"
          ],
          "name": "stdout"
        }
      ]
    },
    {
      "cell_type": "code",
      "metadata": {
        "id": "m2UOwjVWAutJ",
        "outputId": "adc5864b-0e17-42fa-aac2-85751a9379b1",
        "colab": {
          "base_uri": "https://localhost:8080/",
          "height": 225
        }
      },
      "source": [
        "#del method deletes variable and clears memory\n",
        "print(age)\n",
        "del age\n",
        "print(age)"
      ],
      "execution_count": null,
      "outputs": [
        {
          "output_type": "stream",
          "text": [
            "28.5\n"
          ],
          "name": "stdout"
        },
        {
          "output_type": "error",
          "ename": "NameError",
          "evalue": "ignored",
          "traceback": [
            "\u001b[0;31m---------------------------------------------------------------------------\u001b[0m",
            "\u001b[0;31mNameError\u001b[0m                                 Traceback (most recent call last)",
            "\u001b[0;32m<ipython-input-19-eca7b6efadaf>\u001b[0m in \u001b[0;36m<module>\u001b[0;34m()\u001b[0m\n\u001b[1;32m      1\u001b[0m \u001b[0mprint\u001b[0m\u001b[0;34m(\u001b[0m\u001b[0mage\u001b[0m\u001b[0;34m)\u001b[0m\u001b[0;34m\u001b[0m\u001b[0;34m\u001b[0m\u001b[0m\n\u001b[1;32m      2\u001b[0m \u001b[0;32mdel\u001b[0m \u001b[0mage\u001b[0m\u001b[0;34m\u001b[0m\u001b[0;34m\u001b[0m\u001b[0m\n\u001b[0;32m----> 3\u001b[0;31m \u001b[0mprint\u001b[0m\u001b[0;34m(\u001b[0m\u001b[0mage\u001b[0m\u001b[0;34m)\u001b[0m\u001b[0;34m\u001b[0m\u001b[0;34m\u001b[0m\u001b[0m\n\u001b[0m",
            "\u001b[0;31mNameError\u001b[0m: name 'age' is not defined"
          ]
        }
      ]
    },
    {
      "cell_type": "code",
      "metadata": {
        "id": "8qwGsUDgBi8z",
        "outputId": "0da5a0c6-58ac-4730-84ab-5d461a72407d",
        "colab": {
          "base_uri": "https://localhost:8080/",
          "height": 54
        }
      },
      "source": [
        "# swapping two number \n",
        "a=10 \n",
        "b=20\n",
        "print(\"a: {0} , b: {1} \".format(a,b))\n",
        "a,b=b,a\n",
        "print(\"a: {0} , b: {1} \".format(a,b))"
      ],
      "execution_count": null,
      "outputs": [
        {
          "output_type": "stream",
          "text": [
            "a: 10 , b: 20 \n",
            "a: 20 , b: 10 \n"
          ],
          "name": "stdout"
        }
      ]
    },
    {
      "cell_type": "code",
      "metadata": {
        "id": "PQ70Y7PXEG7E"
      },
      "source": [
        ""
      ],
      "execution_count": null,
      "outputs": []
    },
    {
      "cell_type": "markdown",
      "metadata": {
        "id": "RZiJdNW7GLVn"
      },
      "source": [
        "## Excercise"
      ]
    },
    {
      "cell_type": "markdown",
      "metadata": {
        "id": "vsIR9kdLGNVZ"
      },
      "source": [
        "check the given number is prime"
      ]
    },
    {
      "cell_type": "code",
      "metadata": {
        "id": "Oh2GHi3ZGRxQ",
        "outputId": "67d0cde5-0f06-48d2-daaa-3d8035887ce7",
        "colab": {
          "base_uri": "https://localhost:8080/",
          "height": 35
        }
      },
      "source": [
        "n = 9\n",
        "# prime no def : numbe is divisible by self or 1, its prime \n",
        "######### Logic to check n1 is prime or not  ########\n",
        "cnt = 2 \n",
        "a=1\n",
        "while (cnt< n) :\n",
        "  if (n%cnt == 0):\n",
        "    print( n, ' is not prime')\n",
        "    a=0\n",
        "    break\n",
        "  cnt=cnt+1 \n",
        "\n",
        "if a==1 : print( n, ' is  prime')\n",
        "##############"
      ],
      "execution_count": null,
      "outputs": [
        {
          "output_type": "stream",
          "text": [
            "9  is not prime\n"
          ],
          "name": "stdout"
        }
      ]
    },
    {
      "cell_type": "code",
      "metadata": {
        "id": "Z0UaoExjHbJo",
        "outputId": "695de10d-d1c5-4496-8c78-ba64143448d3",
        "colab": {
          "base_uri": "https://localhost:8080/",
          "height": 35
        }
      },
      "source": [
        "# implementing above code with for loop \n",
        "n=15\n",
        "a=1 \n",
        "\n",
        "for cnt in range(2,n):\n",
        "  if (n%cnt == 0):\n",
        "    print( n, ' is not prime')\n",
        "    a=0\n",
        "    break\n",
        "\n",
        "if a==1 : print( n, ' is  prime')"
      ],
      "execution_count": null,
      "outputs": [
        {
          "output_type": "stream",
          "text": [
            "15  is not prime\n"
          ],
          "name": "stdout"
        }
      ]
    },
    {
      "cell_type": "code",
      "metadata": {
        "id": "hS5VEtiWKRuf"
      },
      "source": [
        ""
      ],
      "execution_count": null,
      "outputs": []
    },
    {
      "cell_type": "markdown",
      "metadata": {
        "id": "9yDOW2IwLbfX"
      },
      "source": [
        "Show the sum of digits of given number\n"
      ]
    },
    {
      "cell_type": "code",
      "metadata": {
        "id": "cFC4Gx95LfMv"
      },
      "source": [
        "# n = 231\n",
        "# ouput = 6"
      ],
      "execution_count": null,
      "outputs": []
    },
    {
      "cell_type": "code",
      "metadata": {
        "id": "FS7Mrd2rLnO_",
        "outputId": "0670afba-378a-49f5-b011-243e39698c40",
        "colab": {
          "base_uri": "https://localhost:8080/",
          "height": 90
        }
      },
      "source": [
        "n=876531\n",
        "#a,b,c => a=2, b=3, c=1\n",
        " \n",
        "print( n %10)\n",
        "print( (n//10) %10)\n",
        "print (((n//10)//10)  %10  )\n",
        "print ((((n//10)//10)//10)  %10  )"
      ],
      "execution_count": null,
      "outputs": [
        {
          "output_type": "stream",
          "text": [
            "1\n",
            "3\n",
            "5\n",
            "6\n"
          ],
          "name": "stdout"
        }
      ]
    },
    {
      "cell_type": "code",
      "metadata": {
        "id": "Cxs6Kp7NMzdJ",
        "outputId": "4c43bbc1-cd96-43f7-ea30-4506ba6113b9",
        "colab": {
          "base_uri": "https://localhost:8080/",
          "height": 145
        }
      },
      "source": [
        "n=9834\n",
        "i=1\n",
        "while i<8 :\n",
        "  #print(n) \n",
        "  print (n%10)\n",
        "  n = n//10\n",
        "  i=i+1"
      ],
      "execution_count": null,
      "outputs": [
        {
          "output_type": "stream",
          "text": [
            "4\n",
            "3\n",
            "8\n",
            "9\n",
            "0\n",
            "0\n",
            "0\n"
          ],
          "name": "stdout"
        }
      ]
    },
    {
      "cell_type": "code",
      "metadata": {
        "id": "IMedbdS_OS1a",
        "outputId": "1c9c7d36-282f-4c5d-f4c7-edddf5057f62",
        "colab": {
          "base_uri": "https://localhost:8080/",
          "height": 35
        }
      },
      "source": [
        "# code without i variable \n",
        "\n",
        "n=19234\n",
        "sum = 0\n",
        "while n>0 :\n",
        "  #print (n%10)\n",
        "  sum = sum +(n%10)\n",
        "  n = n//10\n",
        "print (sum)"
      ],
      "execution_count": null,
      "outputs": [
        {
          "output_type": "stream",
          "text": [
            "19\n"
          ],
          "name": "stdout"
        }
      ]
    },
    {
      "cell_type": "code",
      "metadata": {
        "id": "E9ZvFatuP7vg"
      },
      "source": [
        ""
      ],
      "execution_count": null,
      "outputs": []
    },
    {
      "cell_type": "markdown",
      "metadata": {
        "id": "h-jXWKKnF18G"
      },
      "source": [
        "```\n",
        "*\n",
        "* *\n",
        "* * *\n",
        "* *\n",
        "*\n",
        "\n",
        "   *\n",
        "  * *\n",
        " * * * \n",
        "  * *\n",
        "   *\n",
        "\n",
        "    1\n",
        "  1 2 1\n",
        "1 2 3 2 1\n",
        "  1 2 1\n",
        "    1\n",
        "```"
      ]
    },
    {
      "cell_type": "code",
      "metadata": {
        "id": "D1vc0hZWGDqS",
        "outputId": "2b86d8b1-9443-4155-b245-37020b0cfb39",
        "colab": {
          "base_uri": "https://localhost:8080/",
          "height": 72
        }
      },
      "source": [
        "\n",
        "for row in range(1,4) : \n",
        "  #print (row)\n",
        "  for i in range(row) : \n",
        "    print('*' ,end=\" \")\n",
        "  print(\" \")"
      ],
      "execution_count": null,
      "outputs": [
        {
          "output_type": "stream",
          "text": [
            "*  \n",
            "* *  \n",
            "* * *  \n"
          ],
          "name": "stdout"
        }
      ]
    },
    {
      "cell_type": "markdown",
      "metadata": {
        "id": "1hlAjaibHveI"
      },
      "source": [
        "```\n",
        "b b b *\n",
        "b b *  *\n",
        "b *  *  *\n",
        "```"
      ]
    },
    {
      "cell_type": "code",
      "metadata": {
        "id": "ee6Yq_2sGP1a",
        "outputId": "b392f2ad-7866-4d84-fec3-3b7130fd3663",
        "colab": {
          "base_uri": "https://localhost:8080/",
          "height": 145
        }
      },
      "source": [
        "lines =8\n",
        "for row in range(1,lines) : \n",
        "  #print (row)\n",
        "  for s in range(lines-row):\n",
        "    print(\" \" , end=\"\")\n",
        "  for i in range(row) : \n",
        "    print('*' ,end=\" \")\n",
        "  print(\" \")\n",
        "   "
      ],
      "execution_count": null,
      "outputs": [
        {
          "output_type": "stream",
          "text": [
            "       *  \n",
            "      * *  \n",
            "     * * *  \n",
            "    * * * *  \n",
            "   * * * * *  \n",
            "  * * * * * *  \n",
            " * * * * * * *  \n"
          ],
          "name": "stdout"
        }
      ]
    },
    {
      "cell_type": "code",
      "metadata": {
        "id": "6q7ouq6ZHEu_",
        "outputId": "9b9496c6-e865-444c-a341-2a122f593ed6",
        "colab": {
          "base_uri": "https://localhost:8080/",
          "height": 217
        }
      },
      "source": [
        "lines =7\n",
        "for row in range(1,lines) : \n",
        "  #print (row)\n",
        "  for s in range(lines-row):\n",
        "    print(\" \" , end=\"\")\n",
        "  for i in range(row) : \n",
        "    print('*' ,end=\" \")\n",
        "  print(\" \")\n",
        "# reverse pyramid\n",
        "for row in range( lines-2 , 0 , -1) : \n",
        "  #print(row)\n",
        "  for s in range(lines-row):\n",
        "    print(\" \" , end=\"\")\n",
        "  for i in range(row) : \n",
        "    print('*' ,end=\" \")\n",
        "  print(\" \")"
      ],
      "execution_count": null,
      "outputs": [
        {
          "output_type": "stream",
          "text": [
            "      *  \n",
            "     * *  \n",
            "    * * *  \n",
            "   * * * *  \n",
            "  * * * * *  \n",
            " * * * * * *  \n",
            "  * * * * *  \n",
            "   * * * *  \n",
            "    * * *  \n",
            "     * *  \n",
            "      *  \n"
          ],
          "name": "stdout"
        }
      ]
    },
    {
      "cell_type": "code",
      "metadata": {
        "id": "FRB4NQGwI8N0",
        "outputId": "79d83eb4-4ae0-4904-efb9-623ce4a1f7e6",
        "colab": {
          "base_uri": "https://localhost:8080/",
          "height": 126
        }
      },
      "source": [
        "lines =7\n",
        "for row in range(1,lines) : \n",
        "  #print (row)\n",
        "  for s in range(lines-row):\n",
        "    print(\"  \" , end=\"\")\n",
        "  for i in range(1,row) : \n",
        "    print(i ,end=\" \")\n",
        "  for i in range(row,0, -1) : \n",
        "    print(i ,end=\" \")\n",
        "  print(\" \")"
      ],
      "execution_count": null,
      "outputs": [
        {
          "output_type": "stream",
          "text": [
            "            1  \n",
            "          1 2 1  \n",
            "        1 2 3 2 1  \n",
            "      1 2 3 4 3 2 1  \n",
            "    1 2 3 4 5 4 3 2 1  \n",
            "  1 2 3 4 5 6 5 4 3 2 1  \n"
          ],
          "name": "stdout"
        }
      ]
    },
    {
      "cell_type": "code",
      "metadata": {
        "id": "l-U9Gd_DKQ1c",
        "outputId": "2082c14c-bb51-4a19-8d8d-57084cb70ff9",
        "colab": {
          "base_uri": "https://localhost:8080/",
          "height": 54
        }
      },
      "source": [
        "# decimal to binary\n",
        "num = 35\n",
        "r=0\n",
        "for i in range (0 , 8):\n",
        "  binary = num % 2\n",
        "  num = num // 2\n",
        "  r=r*10+binary\n",
        "  #print (binary , end=\"\")\n",
        "print(r)\n",
        "#reverse the value in r\n",
        "while(r>0):\n",
        "  a=r%10\n",
        "  print(a , end=\"\")\n",
        "  r=r//10"
      ],
      "execution_count": null,
      "outputs": [
        {
          "output_type": "stream",
          "text": [
            "11000100\n",
            "00100011"
          ],
          "name": "stdout"
        }
      ]
    },
    {
      "cell_type": "code",
      "metadata": {
        "id": "sqTv9K1mRO-G",
        "outputId": "8f5bb7fa-673f-475b-f3dd-891ed7ae53c6",
        "colab": {
          "base_uri": "https://localhost:8080/",
          "height": 35
        }
      },
      "source": [
        "bin(35)"
      ],
      "execution_count": null,
      "outputs": [
        {
          "output_type": "execute_result",
          "data": {
            "application/vnd.google.colaboratory.intrinsic+json": {
              "type": "string"
            },
            "text/plain": [
              "'0b100011'"
            ]
          },
          "metadata": {
            "tags": []
          },
          "execution_count": 66
        }
      ]
    },
    {
      "cell_type": "code",
      "metadata": {
        "id": "rrnyePbqReOh",
        "outputId": "1ccccdad-c7db-43f4-8979-a1d83ec07f16",
        "colab": {
          "base_uri": "https://localhost:8080/",
          "height": 54
        }
      },
      "source": [
        "print(\"{0:b}\".format(35))\n",
        "a=35\n",
        "print(\"{0:b} has deciaml equi. {0}\".format(a))"
      ],
      "execution_count": null,
      "outputs": [
        {
          "output_type": "stream",
          "text": [
            "100011\n",
            "100011 has deciaml equi. 35\n"
          ],
          "name": "stdout"
        }
      ]
    },
    {
      "cell_type": "code",
      "metadata": {
        "id": "0XnRYxNkRq_F",
        "outputId": "62e6a664-95dd-4f73-f042-628bd038884a",
        "colab": {
          "base_uri": "https://localhost:8080/",
          "height": 35
        }
      },
      "source": [
        "int(bin(35)[2:])"
      ],
      "execution_count": null,
      "outputs": [
        {
          "output_type": "execute_result",
          "data": {
            "text/plain": [
              "100011"
            ]
          },
          "metadata": {
            "tags": []
          },
          "execution_count": 68
        }
      ]
    },
    {
      "cell_type": "code",
      "metadata": {
        "id": "rm79JTIVSgUk",
        "outputId": "863e1935-b499-4b1f-bba9-0888730a499b",
        "colab": {
          "base_uri": "https://localhost:8080/",
          "height": 54
        }
      },
      "source": [
        "# formatting output\n",
        "a=10 ; b=20\n",
        "print(\"a = \", a,\"  b= \", b,\" and value of a = \", a)\n",
        "print (\" a ={0} , b= {1} and the value of a is {0}\".format(a,b))"
      ],
      "execution_count": null,
      "outputs": [
        {
          "output_type": "stream",
          "text": [
            "a =  10   b=  20  and value of a =  10\n",
            " a =10 , b= 20 and the value of a is 10\n"
          ],
          "name": "stdout"
        }
      ]
    },
    {
      "cell_type": "code",
      "metadata": {
        "id": "MBkq_XD2Lm9R",
        "outputId": "e65cb068-7123-4bc6-f1f3-a64925fef905",
        "colab": {
          "base_uri": "https://localhost:8080/",
          "height": 35
        }
      },
      "source": [
        "# sakshi\n",
        "num = 7654\n",
        "for i in range (0, 8):\n",
        "  rev = num % 10\n",
        "  num = num // 10\n",
        "  print (rev , end = '')"
      ],
      "execution_count": null,
      "outputs": [
        {
          "output_type": "stream",
          "text": [
            "45670000"
          ],
          "name": "stdout"
        }
      ]
    },
    {
      "cell_type": "code",
      "metadata": {
        "id": "l_tdshM0MDXR",
        "outputId": "abdf386c-d352-456b-d898-51e08b4da9ba",
        "colab": {
          "base_uri": "https://localhost:8080/",
          "height": 35
        }
      },
      "source": [
        "#kaushal\n",
        "n=2345789\n",
        "rev=0\n",
        "while(n>0):\n",
        "  a=n%10\n",
        "  rev=rev*10+a\n",
        "  n=n//10\n",
        "print(rev)"
      ],
      "execution_count": null,
      "outputs": [
        {
          "output_type": "stream",
          "text": [
            "9875432\n"
          ],
          "name": "stdout"
        }
      ]
    },
    {
      "cell_type": "code",
      "metadata": {
        "id": "7tdQQ0_qMdSn",
        "outputId": "41fa41bc-c3aa-412d-9447-62e906e8b590",
        "colab": {
          "base_uri": "https://localhost:8080/",
          "height": 35
        }
      },
      "source": [
        "#manpreet \n",
        "n=2345789\n",
        "while(n>0):\n",
        "  a=n%10\n",
        "  print(a , end=\"\")\n",
        "  n=n//10"
      ],
      "execution_count": null,
      "outputs": [
        {
          "output_type": "stream",
          "text": [
            "9875432"
          ],
          "name": "stdout"
        }
      ]
    },
    {
      "cell_type": "code",
      "metadata": {
        "id": "NzhcXrJcMxBF",
        "outputId": "76b59f53-a91f-4d95-be34-4ea1f6a4d540",
        "colab": {
          "base_uri": "https://localhost:8080/",
          "height": 35
        }
      },
      "source": [
        "# rajat\n",
        "n = 4562; \n",
        "rev = 0 \n",
        "\n",
        "while(n > 0): \n",
        "    a = n % 10 \n",
        "    rev = rev * 10 + a \n",
        "    n = n // 10 \n",
        "print(rev)"
      ],
      "execution_count": null,
      "outputs": [
        {
          "output_type": "stream",
          "text": [
            "2654\n"
          ],
          "name": "stdout"
        }
      ]
    },
    {
      "cell_type": "code",
      "metadata": {
        "id": "Q0mDm1rDQG_8",
        "outputId": "735ea093-b57f-464c-f712-4f5404a1eb21",
        "colab": {
          "base_uri": "https://localhost:8080/",
          "height": 54
        }
      },
      "source": [
        "a=input(\"enter a binary number:\")\n",
        "decimal=int(a,2)\n",
        "print(\"the decimal value is :\",decimal)"
      ],
      "execution_count": null,
      "outputs": [
        {
          "output_type": "stream",
          "text": [
            "enter a binary number:1101\n",
            "the decimal value is : 13\n"
          ],
          "name": "stdout"
        }
      ]
    },
    {
      "cell_type": "code",
      "metadata": {
        "id": "Lx3Xclr9QHyY"
      },
      "source": [
        "int i =10; \n",
        "while(i>0){ i++ ; }\n",
        "print(\"%d\", i )\n"
      ],
      "execution_count": null,
      "outputs": []
    }
  ]
}