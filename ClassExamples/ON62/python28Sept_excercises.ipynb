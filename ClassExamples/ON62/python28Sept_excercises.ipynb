{
  "nbformat": 4,
  "nbformat_minor": 0,
  "metadata": {
    "colab": {
      "name": "python28Sept_excercises.ipynb",
      "provenance": [],
      "collapsed_sections": []
    },
    "kernelspec": {
      "name": "python3",
      "display_name": "Python 3"
    }
  },
  "cells": [
    {
      "cell_type": "markdown",
      "metadata": {
        "id": "oaQa2yvDX-nP"
      },
      "source": [
        "# Assignment"
      ]
    },
    {
      "cell_type": "markdown",
      "metadata": {
        "id": "vytFx7TBYDLC"
      },
      "source": [
        "### 1. Write program to check whether given number is prime or not"
      ]
    },
    {
      "cell_type": "code",
      "metadata": {
        "id": "DkzGKZXvXj6h"
      },
      "source": [
        ""
      ],
      "execution_count": null,
      "outputs": []
    },
    {
      "cell_type": "markdown",
      "metadata": {
        "id": "t2df1-W-YI5x"
      },
      "source": [
        "### 2. Write a program to find those numbers which are divisible by 7 and multiple of 5, between 1500 and 2700 (both included)."
      ]
    },
    {
      "cell_type": "code",
      "metadata": {
        "id": "mv7Y61PYYPKX"
      },
      "source": [
        ""
      ],
      "execution_count": null,
      "outputs": []
    },
    {
      "cell_type": "markdown",
      "metadata": {
        "id": "zgJYlVumXoEy"
      },
      "source": [
        "Questions \n",
        "\n",
        "\n",
        "1. Write program to check whether given number is prime or not\n",
        "2. Write a program to find those numbers which are divisible by 7 and multiple of 5, between 1500 and 2700 (both included).\n",
        "3. Write a Python program to get the Fibonacci series between 0 to 50. \n",
        "4. Write a program to find greatest common divisor (GCD) or highest common factor (HCF) of given two numbers.\n",
        "5. Write a program to print the table of given number entered by the user\n",
        "6. Write a program which can compute the factorial of a given numbers.( iterative and recursive)\n",
        "7. write a program to remove any given character from string \n",
        "    String removeCharfromString(String inputString, char unwantedCharTobeRemoved)\n",
        "\n",
        "8.  Write a program to print all permutation of given String using iterative and recursive methods.\n",
        "9.  Write a program to find longest palindrome in a given String. \n",
        "10. Write a program to convert roman numbers to integer\n",
        "e.g. IV- 4 , IX- 9 , LVIII(L = 50, V= 5, III = 3) - 58 , MCMXCIV - 1994\n",
        "```\n",
        "Symbol       Value\n",
        "I             1\n",
        "V             5\n",
        "X             10\n",
        "L             50\n",
        "C             100\n",
        "D             500\n",
        "M             1000\n",
        "```\n",
        "\n",
        "11.Write a program to construct the following patterns, using a nested for loop \n",
        "```\n",
        "# Pattern\n",
        " 1\n",
        "22\n",
        "333\n",
        "4444\n",
        "55555\n",
        "666666\n",
        "7777777\n",
        "88888888\n",
        "\n",
        "second\n",
        "\n",
        "*\n",
        "**\n",
        "***\n",
        "****\n",
        "*****\n",
        "\n",
        "third \n",
        "    *\n",
        "   * *\n",
        "  * * *\n",
        " * * * * \n",
        "```\n",
        "12. Write a program to find longest common prefix\n",
        "*   Input: [\"flower\",\"flow\",\"flight\"]\n",
        "Output: \"fl\"\n",
        "*   Input: [\"dog\",\"racecar\",\"car\"]\n",
        "Output: \"\"\n",
        "\n",
        "13. Write a program to check the given strings are anagram\n",
        "*   Dormitory = Dirty room.\n",
        "*   School master = The classroom.\n",
        "*   Conversation = Voices rant on.\n",
        "*   Listen = Silent.\n",
        "*   Astronomer = Moon starer.\n",
        "*   The eyes = They see.\n",
        "*   Funeral = Real fun.\n",
        "\n",
        "14. Write a Python program which takes two digits m (row) and n (column) as input and generates a two-dimensional array. The element value in the i-th row and j-th column of the array should be i*j.  \n",
        "* Test Data : Rows = 3, Columns = 4\n",
        "* Expected Result : \n",
        "```\n",
        "[[0, 0, 0, 0], \n",
        "  [0, 1, 2, 3], \n",
        "  [0, 2, 4, 6]]\n",
        "```\n",
        "\n",
        "15. Write a python program to read multiple lines from user and display the text entered in uppercase. (blank line is used to terminate the input from user)\n",
        "16. Write a python code to find Median of three integers entered by user. \n",
        "17. Write a program to calculate the arithmetic mean of a variable\n",
        "number of values.\n",
        "18. Write a function to find letter in a word def find(word, letter)\n",
        "19. Modify above function with third parameter specifying where to\n",
        "start the search def find (word, letter, start)\n",
        "20. ROT13 is a weak form of encryption that involves “rotating” each\n",
        "letter in a word by 13 places. Write a function to encryptdecrypt passed text according to ROT13.\n",
        "rotCipher( string, ‘e’) / rotCipher( string, ‘d’) /\n",
        "rotCipher( string, ‘d’, rotateTimes) "
      ]
    },
    {
      "cell_type": "code",
      "metadata": {
        "id": "OtGPgMj-Xooh"
      },
      "source": [
        ""
      ],
      "execution_count": null,
      "outputs": []
    },
    {
      "cell_type": "code",
      "metadata": {
        "id": "6awwKbUaYtl5"
      },
      "source": [
        ""
      ],
      "execution_count": null,
      "outputs": []
    }
  ]
}