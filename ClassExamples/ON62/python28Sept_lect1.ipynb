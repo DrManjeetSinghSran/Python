{
  "nbformat": 4,
  "nbformat_minor": 0,
  "metadata": {
    "colab": {
      "name": "python28Sept_lect1.ipynb",
      "provenance": [],
      "collapsed_sections": [
        "bihipcAXPgZT",
        "ld0F2lrzZjU7",
        "N2zeofT0Wqcb",
        "tdqRwPCgXnPn",
        "b1Vt0JiPdn4E",
        "rY08045BSS8T",
        "ikoGUpR2SW-i",
        "q_eAlknFSxkQ",
        "SwHKfwOyT5Fg",
        "8In1VbElgHBs"
      ]
    },
    "kernelspec": {
      "name": "python3",
      "display_name": "Python 3"
    }
  },
  "cells": [
    {
      "cell_type": "markdown",
      "metadata": {
        "id": "XpbBpRxAPa23"
      },
      "source": [
        "# Python Language"
      ]
    },
    {
      "cell_type": "markdown",
      "metadata": {
        "id": "-u65Sm--PCnh"
      },
      "source": [
        "*Python* **Fundamentals**"
      ]
    },
    {
      "cell_type": "markdown",
      "metadata": {
        "id": "bihipcAXPgZT"
      },
      "source": [
        "## Variable Declaration"
      ]
    },
    {
      "cell_type": "code",
      "metadata": {
        "id": "WnN1dd4JPigl",
        "cellView": "code",
        "outputId": "e35e63f5-299c-46ea-bee1-0eccc2a13c36",
        "colab": {
          "base_uri": "https://localhost:8080/",
          "height": 90
        }
      },
      "source": [
        "#in case of C/c++ langauage - int i=10;\n",
        "# implicit variable declaration in python  - varible_name = value\n",
        "fee = 2000\n",
        "print(fee)\n",
        "print( 'data type of fee ' , type(fee) )\n",
        "fee=2000.50\n",
        "print(fee)\n",
        "print( 'data type of fee ' , type(fee) )"
      ],
      "execution_count": null,
      "outputs": [
        {
          "output_type": "stream",
          "text": [
            "2000\n",
            "data type of fee  <class 'int'>\n",
            "2000.5\n",
            "data type of fee  <class 'float'>\n"
          ],
          "name": "stdout"
        }
      ]
    },
    {
      "cell_type": "code",
      "metadata": {
        "id": "F0i7GTj-ZpQX",
        "outputId": "21429082-70ac-4f4c-eeb1-5e3944dce27e",
        "colab": {
          "base_uri": "https://localhost:8080/",
          "height": 298
        }
      },
      "source": [
        "name = 'APJ Kalam saab'\n",
        "print(name)\n",
        "print(type(name))\n",
        "\n",
        "# making fee a string variable\n",
        "fee='2000.50'\n",
        "print(fee)\n",
        "print( 'data type of fee ' , type(fee) )\n",
        "\n",
        "#eval is function for typecasting the datatype\n",
        "fee = eval(fee)+ 100\n",
        "print(fee)\n",
        "\n",
        "#deleting the variable\n",
        "del(fee)\n",
        "print (fee)"
      ],
      "execution_count": null,
      "outputs": [
        {
          "output_type": "stream",
          "text": [
            "APJ Kalam saab\n",
            "<class 'str'>\n",
            "2000.50\n",
            "data type of fee  <class 'str'>\n",
            "2100.5\n"
          ],
          "name": "stdout"
        },
        {
          "output_type": "error",
          "ename": "NameError",
          "evalue": "ignored",
          "traceback": [
            "\u001b[0;31m---------------------------------------------------------------------------\u001b[0m",
            "\u001b[0;31mNameError\u001b[0m                                 Traceback (most recent call last)",
            "\u001b[0;32m<ipython-input-14-df7fc83ad7f6>\u001b[0m in \u001b[0;36m<module>\u001b[0;34m()\u001b[0m\n\u001b[1;32m     14\u001b[0m \u001b[0;31m#deleting the variable\u001b[0m\u001b[0;34m\u001b[0m\u001b[0;34m\u001b[0m\u001b[0;34m\u001b[0m\u001b[0m\n\u001b[1;32m     15\u001b[0m \u001b[0;32mdel\u001b[0m\u001b[0;34m(\u001b[0m\u001b[0mfee\u001b[0m\u001b[0;34m)\u001b[0m\u001b[0;34m\u001b[0m\u001b[0;34m\u001b[0m\u001b[0m\n\u001b[0;32m---> 16\u001b[0;31m \u001b[0mprint\u001b[0m \u001b[0;34m(\u001b[0m\u001b[0mfee\u001b[0m\u001b[0;34m)\u001b[0m\u001b[0;34m\u001b[0m\u001b[0;34m\u001b[0m\u001b[0m\n\u001b[0m",
            "\u001b[0;31mNameError\u001b[0m: name 'fee' is not defined"
          ]
        }
      ]
    },
    {
      "cell_type": "code",
      "metadata": {
        "id": "JN6ju2r_Zt0Q",
        "outputId": "e6d861c1-0abd-48f6-c47b-f18fc681e433",
        "colab": {
          "base_uri": "https://localhost:8080/",
          "height": 90
        }
      },
      "source": [
        "# accept number from user\n",
        "n1 = input ('Enter a number :')\n",
        "print(n1)\n",
        "print(type(n1))\n",
        "n1 = eval (n1)+10 \n",
        "print(n1)\n"
      ],
      "execution_count": null,
      "outputs": [
        {
          "output_type": "stream",
          "text": [
            "Enter a number :100\n",
            "100\n",
            "<class 'str'>\n",
            "110\n"
          ],
          "name": "stdout"
        }
      ]
    },
    {
      "cell_type": "code",
      "metadata": {
        "id": "Rwcvp5BzdqeO",
        "outputId": "fd2f64dc-5c8d-4108-e299-bb6453523efe",
        "colab": {
          "base_uri": "https://localhost:8080/",
          "height": 54
        }
      },
      "source": [
        "# multiple statements in single line \n",
        "i=10; j=20 ; k=30\n",
        "print(i,j,k)\n",
        "#single statement in multiple line print(i,j,k)\n",
        "# sign to continue the previous line is  \\\n",
        "print(i,\\\n",
        "      j,\\\n",
        "      k)"
      ],
      "execution_count": null,
      "outputs": [
        {
          "output_type": "stream",
          "text": [
            "10 20 30\n",
            "10 20 30\n"
          ],
          "name": "stdout"
        }
      ]
    },
    {
      "cell_type": "code",
      "metadata": {
        "id": "44rKP31Xdzfm",
        "outputId": "2f96b9d6-550b-44c6-ed76-8ec11ce7afcd",
        "colab": {
          "base_uri": "https://localhost:8080/",
          "height": 135
        }
      },
      "source": [
        "c1 = (3 -+ 2i)\n",
        "print(c1)"
      ],
      "execution_count": null,
      "outputs": [
        {
          "output_type": "error",
          "ename": "SyntaxError",
          "evalue": "ignored",
          "traceback": [
            "\u001b[0;36m  File \u001b[0;32m\"<ipython-input-28-bbf9780c22d0>\"\u001b[0;36m, line \u001b[0;32m1\u001b[0m\n\u001b[0;31m    c1 = (3 -+ 2i)\u001b[0m\n\u001b[0m                ^\u001b[0m\n\u001b[0;31mSyntaxError\u001b[0m\u001b[0;31m:\u001b[0m invalid syntax\n"
          ]
        }
      ]
    },
    {
      "cell_type": "code",
      "metadata": {
        "id": "DMxpAft-eVkp",
        "outputId": "44f419b3-eb7f-499c-c1f0-498fc2dddc4b",
        "colab": {
          "base_uri": "https://localhost:8080/",
          "height": 72
        }
      },
      "source": [
        "c1= complex(2,3)\n",
        "c2 = complex(3,-1)\n",
        "print(type(c1))\n",
        "print(c1,c2)\n",
        "print(c1+c2)"
      ],
      "execution_count": null,
      "outputs": [
        {
          "output_type": "stream",
          "text": [
            "<class 'complex'>\n",
            "(2+3j) (3-1j)\n",
            "(5+2j)\n"
          ],
          "name": "stdout"
        }
      ]
    },
    {
      "cell_type": "markdown",
      "metadata": {
        "id": "ld0F2lrzZjU7"
      },
      "source": [
        "## Memory Assignment"
      ]
    },
    {
      "cell_type": "code",
      "metadata": {
        "id": "CbN7BK6OZlzM",
        "outputId": "5a5b64f6-bc25-4272-846c-9c5af468fe9f",
        "colab": {
          "base_uri": "https://localhost:8080/",
          "height": 181
        }
      },
      "source": [
        "a=10\n",
        "b=a\n",
        "c=10\n",
        "#to print the memory location of a variable\n",
        "# id is the method to print the address of variable \n",
        "print(a , \"  address: \", id(a))\n",
        "print(b , \"  address: \", id(b))\n",
        "print(c , \"  address: \", id(c))\n",
        "d=20\n",
        "print(d , \"  address: \", id(d))\n",
        "c=11\n",
        "print('after change in value of c')\n",
        "print(a , \"  address: \", id(a))\n",
        "print(b , \"  address: \", id(b))\n",
        "print(c , \"  address: \", id(c))\n",
        "c=10\n",
        "print(c , \"  address: \", id(c))"
      ],
      "execution_count": null,
      "outputs": [
        {
          "output_type": "stream",
          "text": [
            "10   address:  10914784\n",
            "10   address:  10914784\n",
            "10   address:  10914784\n",
            "20   address:  10915104\n",
            "after change in value of c\n",
            "10   address:  10914784\n",
            "10   address:  10914784\n",
            "11   address:  10914816\n",
            "10   address:  10914784\n"
          ],
          "name": "stdout"
        }
      ]
    },
    {
      "cell_type": "code",
      "metadata": {
        "id": "cfTZnXw9Clxa",
        "outputId": "9601ab14-025e-46d1-a724-ce75a2c4256a",
        "colab": {
          "base_uri": "https://localhost:8080/",
          "height": 126
        }
      },
      "source": [
        "print(a , \"  address: \", id(a))\n",
        "print(b , \"  address: \", id(b))\n",
        "print(c , \"  address: \", id(c))\n",
        "del c\n",
        "print(a , \"  address: \", id(a))\n",
        "print(b , \"  address: \", id(b))\n",
        "#print(c , \"  address: \", id(c))  memory released as 'del c' command executed\n",
        "c=10\n",
        "print(c , \"  address: \", id(c))"
      ],
      "execution_count": null,
      "outputs": [
        {
          "output_type": "stream",
          "text": [
            "10   address:  10914784\n",
            "10   address:  10914784\n",
            "10   address:  10914784\n",
            "10   address:  10914784\n",
            "10   address:  10914784\n",
            "10   address:  10914784\n"
          ],
          "name": "stdout"
        }
      ]
    },
    {
      "cell_type": "markdown",
      "metadata": {
        "id": "dJbUFHHvPqPa"
      },
      "source": [
        "## Operators"
      ]
    },
    {
      "cell_type": "markdown",
      "metadata": {
        "id": "oqU5jYvoWjC-"
      },
      "source": [
        "Python language supports the following types of operators.\n",
        "\n",
        "* Arithmetic Operators ( +, - , /, ** , //,%,* )\n",
        "* Comparison (Relational) Operators (== , != , >, < , <> , >= , <= )\n",
        "* Assignment Operators (+=, -=, *= , **=, /=, //=, %=)\n",
        "* Logical Operators ( and, or , not)  => return boolean value\n",
        "* Bitwise Operators  ( & , | , ^ , >>, <<  , ~)\n",
        "* Membership Operators (in , not in )\n",
        "* Identity Operators ( is, not is) "
      ]
    },
    {
      "cell_type": "markdown",
      "metadata": {
        "id": "N2zeofT0Wqcb"
      },
      "source": [
        "### Arithmetic Operator"
      ]
    },
    {
      "cell_type": "code",
      "metadata": {
        "id": "6PUfpktRPuwD",
        "outputId": "a33628ac-4897-4550-d9d0-1afecdb2869b",
        "colab": {
          "base_uri": "https://localhost:8080/",
          "height": 90
        }
      },
      "source": [
        "a=10\n",
        "b=20\n",
        "c=a+b\n",
        "print(a, \"  \", b , \" + \" ,c)\n",
        "c=b//3\n",
        "print(a, \"  \", b , \" //3 \" ,c)\n",
        "c=b/3\n",
        "print(a, \"  \", b , \" /3 \" ,c)\n",
        "c=b%3\n",
        "print(a, \"  \", b , \" % \" ,c)\n"
      ],
      "execution_count": null,
      "outputs": [
        {
          "output_type": "stream",
          "text": [
            "10    20  +  30\n",
            "10    20  //3  6\n",
            "10    20  /3  6.666666666666667\n",
            "10    20  %  2\n"
          ],
          "name": "stdout"
        }
      ]
    },
    {
      "cell_type": "code",
      "metadata": {
        "id": "UcSgrcriWzP7",
        "outputId": "ad6fcf10-8606-484c-9885-b00c274ef2a6",
        "colab": {
          "base_uri": "https://localhost:8080/",
          "height": 54
        }
      },
      "source": [
        "# assignment operators\n",
        "a=10\n",
        "a=a+20\n",
        "print(a)\n",
        "a+=20   #short cut notation or assignment operator\n",
        "print(a)"
      ],
      "execution_count": null,
      "outputs": [
        {
          "output_type": "stream",
          "text": [
            "30\n",
            "50\n"
          ],
          "name": "stdout"
        }
      ]
    },
    {
      "cell_type": "code",
      "metadata": {
        "id": "gmEU8c9DcVSG",
        "outputId": "a29f0e96-0029-4111-87f0-944852c4c01a",
        "colab": {
          "base_uri": "https://localhost:8080/",
          "height": 72
        }
      },
      "source": [
        "#Tuple assignment\n",
        "a=10\n",
        "b=20\n",
        "c,d=10,20    #Tuple assignment\n",
        "print(a,\"  \" ,b, \"  \" , c , \"  \", d)\n",
        "name, fee, age = 'Sita devi' , 2500.50 , 21\n",
        "print ( name , \"  \" ,fee , \"  \" , age)\n",
        "\n",
        "#using format to display the customized statements \n",
        "print( \"I am {0}, having age {1} and paying fee of Rs.{2}/-  \".format(name, age,fee )  )\n"
      ],
      "execution_count": null,
      "outputs": [
        {
          "output_type": "stream",
          "text": [
            "10    20    10    20\n",
            "Sita devi    2500.5    21\n",
            "I am Sita devi, having age 21 and paying fee of Rs.2500.5/-  \n"
          ],
          "name": "stdout"
        }
      ]
    },
    {
      "cell_type": "markdown",
      "metadata": {
        "id": "tdqRwPCgXnPn"
      },
      "source": [
        "### Decision making \n",
        "![image.png](data:image/png;base64,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)"
      ]
    },
    {
      "cell_type": "code",
      "metadata": {
        "id": "F1sxnSmNXxzp",
        "outputId": "94a0de28-3449-42e3-d867-1adc4d828b05",
        "colab": {
          "base_uri": "https://localhost:8080/",
          "height": 35
        }
      },
      "source": [
        "#python makes block of statement according to the indentation\n",
        "''' in case of C/c++ lang. \n",
        "if (a>10){\n",
        "  cout>> 'greater';\n",
        "}else {\n",
        "  cout>> 'less';\n",
        "}\n",
        "'''\n",
        "a=9\n",
        "if (a>10) :\n",
        "  print('a is greater than 10  :', a)\n",
        "  \n",
        "else :\n",
        "  print('a is less than 10 : ', a)\n"
      ],
      "execution_count": null,
      "outputs": [
        {
          "output_type": "stream",
          "text": [
            "a is less than 10 :  9\n"
          ],
          "name": "stdout"
        }
      ]
    },
    {
      "cell_type": "code",
      "metadata": {
        "id": "-Hc2Fub-YlTn",
        "outputId": "794dbd8d-22ef-4e50-8af7-75eff8e16c7a",
        "colab": {
          "base_uri": "https://localhost:8080/",
          "height": 35
        }
      },
      "source": [
        "c = (a!=91)\n",
        "print(c)"
      ],
      "execution_count": null,
      "outputs": [
        {
          "output_type": "stream",
          "text": [
            "False\n"
          ],
          "name": "stdout"
        }
      ]
    },
    {
      "cell_type": "code",
      "metadata": {
        "id": "5LjxOTGgZMiZ",
        "outputId": "07b19f0f-f709-47dd-a10b-299a564a73d2",
        "colab": {
          "base_uri": "https://localhost:8080/",
          "height": 35
        }
      },
      "source": [
        "a=10\n",
        "b=a\n",
        "if (a==b): print('same')\n"
      ],
      "execution_count": null,
      "outputs": [
        {
          "output_type": "stream",
          "text": [
            "same\n"
          ],
          "name": "stdout"
        }
      ]
    },
    {
      "cell_type": "code",
      "metadata": {
        "id": "K6RyhFVKblqb"
      },
      "source": [
        ""
      ],
      "execution_count": null,
      "outputs": []
    },
    {
      "cell_type": "markdown",
      "metadata": {
        "id": "b1Vt0JiPdn4E"
      },
      "source": [
        "### Logical operator "
      ]
    },
    {
      "cell_type": "code",
      "metadata": {
        "id": "jQSGE2YOdp55",
        "outputId": "c7d1ac3e-5362-4cbd-de8a-7d6304990ced",
        "colab": {
          "base_uri": "https://localhost:8080/",
          "height": 35
        }
      },
      "source": [
        "# logical operators in python and , or \n",
        "# in case of C/C++ language  && , || \n",
        "age =19; fee=3000\n",
        "if (age<18) and (fee<5000) : \n",
        "  print ('eligible for scholarship')\n",
        "else :\n",
        "  print( 'not eligible')"
      ],
      "execution_count": null,
      "outputs": [
        {
          "output_type": "stream",
          "text": [
            "not eligible\n"
          ],
          "name": "stdout"
        }
      ]
    },
    {
      "cell_type": "code",
      "metadata": {
        "id": "B7OqHaUtd8CP",
        "outputId": "fd9c1ecb-a0ed-4fe4-f39b-8616d34e9e52",
        "colab": {
          "base_uri": "https://localhost:8080/",
          "height": 35
        }
      },
      "source": [
        "age=0\n",
        "if (not age) : print ('yess')\n",
        "else : print('no')"
      ],
      "execution_count": null,
      "outputs": [
        {
          "output_type": "stream",
          "text": [
            "no\n"
          ],
          "name": "stdout"
        }
      ]
    },
    {
      "cell_type": "code",
      "metadata": {
        "id": "MguevRmwe9rF",
        "outputId": "c14c7c23-2edb-4f07-eae1-661d02d0a7c8",
        "colab": {
          "base_uri": "https://localhost:8080/",
          "height": 35
        }
      },
      "source": [
        "# if condition (age<18) and (fee<5000) is false then print ok\n",
        "age=20 \n",
        "if (age<18) and (fee<5000) : \n",
        "  pass\n",
        "else :\n",
        "  print( 'ok')"
      ],
      "execution_count": null,
      "outputs": [
        {
          "output_type": "stream",
          "text": [
            "ok\n"
          ],
          "name": "stdout"
        }
      ]
    },
    {
      "cell_type": "code",
      "metadata": {
        "id": "icv2_xcFf0xp",
        "outputId": "17ede0c0-b6b2-4b0c-816d-05c2e2e0c4cb",
        "colab": {
          "base_uri": "https://localhost:8080/",
          "height": 35
        }
      },
      "source": [
        "if not (  (age<18) and (fee<5000) ): \n",
        "  print( 'ok')"
      ],
      "execution_count": null,
      "outputs": [
        {
          "output_type": "stream",
          "text": [
            "ok\n"
          ],
          "name": "stdout"
        }
      ]
    },
    {
      "cell_type": "markdown",
      "metadata": {
        "id": "xsZ8DXhKqltm"
      },
      "source": [
        "### Bitwise Operators"
      ]
    },
    {
      "cell_type": "markdown",
      "metadata": {
        "id": "Kr4tNPJDrHQa"
      },
      "source": [
        "* Binary Operator ( & , | , ^ , >>, <<  , ~)\n",
        "* Bitwise operator on binary digits \n",
        "```\n",
        "a b   &  |  ^\n",
        "0 0   0  0  0\n",
        "0 1   0  1  1\n",
        "1 0   0  1  1\n",
        "1 1   1  1  0\n",
        "```"
      ]
    },
    {
      "cell_type": "code",
      "metadata": {
        "id": "4blcQrxiqo4w",
        "outputId": "836561f5-1ba0-4c0c-a053-6ebf9fda9a03",
        "colab": {
          "base_uri": "https://localhost:8080/",
          "height": 72
        }
      },
      "source": [
        "a = 12   # 01100\n",
        "b = 20   # 10100\n",
        "#-----------------\n",
        "        #| 11100\n",
        "        #& 00100\n",
        "        #^ 11000\n",
        "\n",
        "print(a & b)\n",
        "print(a | b)\n",
        "print(a ^ b)"
      ],
      "execution_count": null,
      "outputs": [
        {
          "output_type": "stream",
          "text": [
            "4\n",
            "28\n",
            "24\n"
          ],
          "name": "stdout"
        }
      ]
    },
    {
      "cell_type": "code",
      "metadata": {
        "id": "UTv4IPdXqpXt",
        "outputId": "d801d917-26a6-477d-9938-07c74e7e0a2a",
        "colab": {
          "base_uri": "https://localhost:8080/",
          "height": 90
        }
      },
      "source": [
        "#example \n",
        "data = 101\n",
        "key = 57\n",
        "cipher = data ^ key\n",
        "print( \"data :\" , data , \" key :\" , key, \" cipher:\", cipher)\n",
        "print(\"at destination \")\n",
        "result = cipher ^ key\n",
        "print( \"result : \", result)\n",
        "\n",
        "result = cipher ^ data\n",
        "print( \"result : \", result)"
      ],
      "execution_count": null,
      "outputs": [
        {
          "output_type": "stream",
          "text": [
            "data : 101  key : 57  cipher: 92\n",
            "at destination \n",
            "result :  101\n",
            "result :  57\n"
          ],
          "name": "stdout"
        }
      ]
    },
    {
      "cell_type": "code",
      "metadata": {
        "id": "qr8Oyt1MtZmV",
        "outputId": "3faf8881-3f23-48bc-87f7-b44cd7090c7d",
        "colab": {
          "base_uri": "https://localhost:8080/",
          "height": 72
        }
      },
      "source": [
        "print( 10^ 5 )\n",
        "print( (10^ 5) ^5 )\n",
        "print( (10^ 5) ^10 )"
      ],
      "execution_count": null,
      "outputs": [
        {
          "output_type": "stream",
          "text": [
            "15\n",
            "10\n",
            "5\n"
          ],
          "name": "stdout"
        }
      ]
    },
    {
      "cell_type": "code",
      "metadata": {
        "id": "j-bWOZGBTdtQ",
        "outputId": "216554d0-7c32-40d3-bb9b-1576d633e16f",
        "colab": {
          "base_uri": "https://localhost:8080/",
          "height": 72
        }
      },
      "source": [
        "# ~ complement \n",
        "a =1          # 000001 =>  ~ => 111110\n",
        "print(a)\n",
        "print (~a)\n",
        "b = 0       # 000 000 =>  ~ => 111 111\n",
        "# 000 000   2's complement  => ( 111 111 +1 ) \n",
        "\n",
        "print(\" b = \",b , \"  ~b = \", ~b)\n",
        "\n",
        "# to conclude - If MSB/sign bit is 1 its negative number and if its 0 then positive number \n",
        "# 000 000     1's complement  =>  111 111\n",
        "# 111 111 it is negative number \n",
        "# negative numbers are represented in 2's complement notation \n",
        "# 111 111     2'compl ( 1's complement + 1 )  = 000 000 + 1 =>   000 001 and sign is negative \n",
        "# 1's complement 000 000  => -1 "
      ],
      "execution_count": null,
      "outputs": [
        {
          "output_type": "stream",
          "text": [
            "1\n",
            "-2\n",
            " b =  0   ~b =  -1\n"
          ],
          "name": "stdout"
        }
      ]
    },
    {
      "cell_type": "code",
      "metadata": {
        "id": "jZ2uwTr_Tmdk",
        "outputId": "cda1d457-8ca4-4f0f-f452-43eaedb8a485",
        "colab": {
          "base_uri": "https://localhost:8080/",
          "height": 35
        }
      },
      "source": [
        "bin(0)"
      ],
      "execution_count": null,
      "outputs": [
        {
          "output_type": "execute_result",
          "data": {
            "application/vnd.google.colaboratory.intrinsic+json": {
              "type": "string"
            },
            "text/plain": [
              "'0b0'"
            ]
          },
          "metadata": {
            "tags": []
          },
          "execution_count": 19
        }
      ]
    },
    {
      "cell_type": "code",
      "metadata": {
        "id": "6ZJAUVsoeViz",
        "outputId": "2cd8c712-74b5-4bf4-f59c-b6d002b72e69",
        "colab": {
          "base_uri": "https://localhost:8080/",
          "height": 563
        }
      },
      "source": [
        "a=10\n",
        "for i in range(30):\n",
        "  print(\" a  = \" ,a) ; a=a<<1\n"
      ],
      "execution_count": null,
      "outputs": [
        {
          "output_type": "stream",
          "text": [
            " a  =  10\n",
            " a  =  20\n",
            " a  =  40\n",
            " a  =  80\n",
            " a  =  160\n",
            " a  =  320\n",
            " a  =  640\n",
            " a  =  1280\n",
            " a  =  2560\n",
            " a  =  5120\n",
            " a  =  10240\n",
            " a  =  20480\n",
            " a  =  40960\n",
            " a  =  81920\n",
            " a  =  163840\n",
            " a  =  327680\n",
            " a  =  655360\n",
            " a  =  1310720\n",
            " a  =  2621440\n",
            " a  =  5242880\n",
            " a  =  10485760\n",
            " a  =  20971520\n",
            " a  =  41943040\n",
            " a  =  83886080\n",
            " a  =  167772160\n",
            " a  =  335544320\n",
            " a  =  671088640\n",
            " a  =  1342177280\n",
            " a  =  2684354560\n",
            " a  =  5368709120\n"
          ],
          "name": "stdout"
        }
      ]
    },
    {
      "cell_type": "code",
      "metadata": {
        "id": "JWe9ZlmAfQY9",
        "outputId": "d2fc0b33-bbeb-487f-9190-3d1a49283647",
        "colab": {
          "base_uri": "https://localhost:8080/",
          "height": 126
        }
      },
      "source": [
        "a=10\n",
        "for i in range(6):\n",
        "  print(\" a  = \" ,a) ; a=a>>1\n"
      ],
      "execution_count": null,
      "outputs": [
        {
          "output_type": "stream",
          "text": [
            " a  =  10\n",
            " a  =  5\n",
            " a  =  2\n",
            " a  =  1\n",
            " a  =  0\n",
            " a  =  0\n"
          ],
          "name": "stdout"
        }
      ]
    },
    {
      "cell_type": "code",
      "metadata": {
        "id": "bg3MRNIMemq1"
      },
      "source": [
        ""
      ],
      "execution_count": null,
      "outputs": []
    },
    {
      "cell_type": "markdown",
      "metadata": {
        "id": "LinWH3A1OoGA"
      },
      "source": [
        "### Ternary Operator"
      ]
    },
    {
      "cell_type": "markdown",
      "metadata": {
        "id": "-MZ95IkQOydv"
      },
      "source": [
        "Ternary operators also known as conditional expressions are operators that evaluate something based on a condition being true or false. It was added to Python in version 2.5.\n",
        "It simply allows to test a condition in a single line replacing the multiline if-else making the code compact.\n",
        "```\n",
        "Syntax :\n",
        "\n",
        "[on_true] if [expression] else [on_false] \n",
        "```"
      ]
    },
    {
      "cell_type": "markdown",
      "metadata": {
        "id": "rY08045BSS8T"
      },
      "source": [
        "##### first Option"
      ]
    },
    {
      "cell_type": "code",
      "metadata": {
        "id": "Ooh5DWelOqgJ",
        "outputId": "768b7450-2d6d-4740-dace-cfeb21de7322",
        "colab": {
          "base_uri": "https://localhost:8080/"
        }
      },
      "source": [
        "'''\n",
        "In case of C/C++ lang\n",
        "if (a >b ){c=a; }\n",
        "else { c=b; }\n",
        "\n",
        "c=( a>b ? a :b ) ;\n",
        "'''\n",
        "a=10;b=20; \n",
        "res  =( a if (a>b) else b)\n",
        "print(res)"
      ],
      "execution_count": null,
      "outputs": [
        {
          "output_type": "stream",
          "text": [
            "20\n"
          ],
          "name": "stdout"
        }
      ]
    },
    {
      "cell_type": "code",
      "metadata": {
        "id": "nuUZqlGeRbpG",
        "outputId": "3784ec30-22bf-4f7a-b5f9-e06c85411e34",
        "colab": {
          "base_uri": "https://localhost:8080/"
        }
      },
      "source": [
        "#tuple assignment\n",
        "a,b,c =100,200,30\n",
        "if (a>b):\n",
        "  if (a>c) :res = a\n",
        "  else : res=c\n",
        "else : \n",
        "  if (b>c) : res =b\n",
        "  else :res=c\n",
        "print( res)"
      ],
      "execution_count": null,
      "outputs": [
        {
          "output_type": "stream",
          "text": [
            "200\n"
          ],
          "name": "stdout"
        }
      ]
    },
    {
      "cell_type": "code",
      "metadata": {
        "id": "YeyKwDPvQAJ-",
        "outputId": "273175bb-a970-4143-b5c0-1d0af7c5d29a",
        "colab": {
          "base_uri": "https://localhost:8080/"
        }
      },
      "source": [
        "# greatest among three\n",
        "a,b,c = 100,20,30\n",
        "\n",
        "res=   ((  a if (a>c) else c    )if(a>b) else (   b if (b>c) else  c  ) )\n",
        "print(res )"
      ],
      "execution_count": null,
      "outputs": [
        {
          "output_type": "stream",
          "text": [
            "100\n"
          ],
          "name": "stdout"
        }
      ]
    },
    {
      "cell_type": "markdown",
      "metadata": {
        "id": "ikoGUpR2SW-i"
      },
      "source": [
        "##### second option "
      ]
    },
    {
      "cell_type": "code",
      "metadata": {
        "id": "7ArNmZvqSZUh",
        "outputId": "3294ad10-1369-4d36-e6cb-23d14a002849",
        "colab": {
          "base_uri": "https://localhost:8080/"
        }
      },
      "source": [
        "a,b=100,20\n",
        "print( a if (a>b) else b)"
      ],
      "execution_count": null,
      "outputs": [
        {
          "output_type": "stream",
          "text": [
            "100\n"
          ],
          "name": "stdout"
        }
      ]
    },
    {
      "cell_type": "markdown",
      "metadata": {
        "id": "q_eAlknFSxkQ"
      },
      "source": [
        "##### third option"
      ]
    },
    {
      "cell_type": "code",
      "metadata": {
        "id": "F-OUlTW9SbFI",
        "outputId": "85de9093-4d9b-4624-d74f-0c090a69e0ca",
        "colab": {
          "base_uri": "https://localhost:8080/"
        }
      },
      "source": [
        "# using tuple\n",
        "# ( false_value , true_value) [condition] \n",
        "a,b=200,100\n",
        "res = (b,a) [a>b]\n",
        "print(res)"
      ],
      "execution_count": null,
      "outputs": [
        {
          "output_type": "stream",
          "text": [
            "200\n"
          ],
          "name": "stdout"
        }
      ]
    },
    {
      "cell_type": "markdown",
      "metadata": {
        "id": "SwHKfwOyT5Fg"
      },
      "source": [
        "##### fourth option"
      ]
    },
    {
      "cell_type": "code",
      "metadata": {
        "id": "tjqQwm33SbB_",
        "outputId": "65275b6f-6aa0-4f91-d89b-9a9a5650381d",
        "colab": {
          "base_uri": "https://localhost:8080/"
        }
      },
      "source": [
        "# using dictionary\n",
        "# { false : value , true: value } [condition]  \n",
        "a,b=200,30\n",
        "{ False:b, True:a }[a>b]"
      ],
      "execution_count": null,
      "outputs": [
        {
          "output_type": "execute_result",
          "data": {
            "text/plain": [
              "200"
            ]
          },
          "metadata": {
            "tags": []
          },
          "execution_count": 21
        }
      ]
    },
    {
      "cell_type": "code",
      "metadata": {
        "id": "u6nwilXGSa_A"
      },
      "source": [
        ""
      ],
      "execution_count": null,
      "outputs": []
    },
    {
      "cell_type": "markdown",
      "metadata": {
        "id": "8In1VbElgHBs"
      },
      "source": [
        "## looping construct"
      ]
    },
    {
      "cell_type": "code",
      "metadata": {
        "id": "8f8GTnBSgN0w",
        "outputId": "a8132a1c-b0a0-4c27-afd5-ae1c9bd45082",
        "colab": {
          "base_uri": "https://localhost:8080/",
          "height": 199
        }
      },
      "source": [
        "#while loop is same as in C/C++\n",
        "#three important things in while loop\n",
        "# 1. Declaration   e.g. cnt=1\n",
        "# 2. compare   condition to exit  e.g. cnt<=10 \n",
        "# 3. increment/decrement conditional variable e.g.  cnt+=1 \n",
        "cnt=1\n",
        "while(cnt <= 10):\n",
        "  print( \" 5 * {0} = {1}\".format(cnt,5*cnt)  )\n",
        "\n",
        "  cnt+=1"
      ],
      "execution_count": null,
      "outputs": [
        {
          "output_type": "stream",
          "text": [
            " 5 * 1 = 5\n",
            " 5 * 2 = 10\n",
            " 5 * 3 = 15\n",
            " 5 * 4 = 20\n",
            " 5 * 5 = 25\n",
            " 5 * 6 = 30\n",
            " 5 * 7 = 35\n",
            " 5 * 8 = 40\n",
            " 5 * 9 = 45\n",
            " 5 * 10 = 50\n"
          ],
          "name": "stdout"
        }
      ]
    },
    {
      "cell_type": "code",
      "metadata": {
        "id": "XgU1M-gIgasf",
        "outputId": "6d2a1008-c96e-420a-bded-62998fac7a6d",
        "colab": {
          "base_uri": "https://localhost:8080/",
          "height": 217
        }
      },
      "source": [
        "cnt=1\n",
        "while( (cnt) <= 10):\n",
        "  print( \" 5 * {0} = {1}\".format(cnt,5*cnt)  )\n",
        "  cnt+=1\n",
        "else : \n",
        "  print('in else')"
      ],
      "execution_count": null,
      "outputs": [
        {
          "output_type": "stream",
          "text": [
            " 5 * 1 = 5\n",
            " 5 * 2 = 10\n",
            " 5 * 3 = 15\n",
            " 5 * 4 = 20\n",
            " 5 * 5 = 25\n",
            " 5 * 6 = 30\n",
            " 5 * 7 = 35\n",
            " 5 * 8 = 40\n",
            " 5 * 9 = 45\n",
            " 5 * 10 = 50\n",
            "in else\n"
          ],
          "name": "stdout"
        }
      ]
    },
    {
      "cell_type": "code",
      "metadata": {
        "id": "ytKeIuntjUkh",
        "outputId": "4e3e6207-0cd9-4f69-e9e3-eda2f07d1162",
        "colab": {
          "base_uri": "https://localhost:8080/",
          "height": 54
        }
      },
      "source": [
        "x=range(5)\n",
        "print(x)\n",
        "print( type(x))"
      ],
      "execution_count": null,
      "outputs": [
        {
          "output_type": "stream",
          "text": [
            "range(0, 5)\n",
            "<class 'range'>\n"
          ],
          "name": "stdout"
        }
      ]
    },
    {
      "cell_type": "code",
      "metadata": {
        "id": "x03e_b9HiQaV",
        "outputId": "e48b65c3-fb4a-4d41-a256-9fd34ee28c11",
        "colab": {
          "base_uri": "https://localhost:8080/",
          "height": 108
        }
      },
      "source": [
        "# for loop \n",
        "# for {variable}  in {terminating contd}\n",
        "for cnt in range(5) : \n",
        "  print( \" 5 * {0} = {1}\".format(cnt,5*cnt)  )"
      ],
      "execution_count": null,
      "outputs": [
        {
          "output_type": "stream",
          "text": [
            " 5 * 0 = 0\n",
            " 5 * 1 = 5\n",
            " 5 * 2 = 10\n",
            " 5 * 3 = 15\n",
            " 5 * 4 = 20\n"
          ],
          "name": "stdout"
        }
      ]
    },
    {
      "cell_type": "code",
      "metadata": {
        "id": "FwekJPqpjpUf",
        "outputId": "e0c6f336-1946-413c-c6fb-f4f5fe5c07cb",
        "colab": {
          "base_uri": "https://localhost:8080/",
          "height": 199
        }
      },
      "source": [
        "#range (start, stop[, step]) \n",
        "#range( 5)  # 5 is termed as stop then 0 is default start\n",
        "\n",
        "for cnt in range(1,11) : \n",
        "  print( \" 5 * {0} = {1}\".format(cnt,5*cnt)  )"
      ],
      "execution_count": null,
      "outputs": [
        {
          "output_type": "stream",
          "text": [
            " 5 * 1 = 5\n",
            " 5 * 2 = 10\n",
            " 5 * 3 = 15\n",
            " 5 * 4 = 20\n",
            " 5 * 5 = 25\n",
            " 5 * 6 = 30\n",
            " 5 * 7 = 35\n",
            " 5 * 8 = 40\n",
            " 5 * 9 = 45\n",
            " 5 * 10 = 50\n"
          ],
          "name": "stdout"
        }
      ]
    },
    {
      "cell_type": "code",
      "metadata": {
        "id": "Z_9oH-dElRZH",
        "outputId": "f5c50ad6-b39e-4821-87c5-09743af2f036",
        "colab": {
          "base_uri": "https://localhost:8080/",
          "height": 35
        }
      },
      "source": [
        "# print first 20 odd numbers \n",
        "for x in range (1,40, 2):\n",
        "  print(x ,end=\" \")\n",
        "  "
      ],
      "execution_count": null,
      "outputs": [
        {
          "output_type": "stream",
          "text": [
            "1 3 5 7 9 11 13 15 17 19 21 23 25 27 29 31 33 35 37 39 "
          ],
          "name": "stdout"
        }
      ]
    },
    {
      "cell_type": "code",
      "metadata": {
        "id": "aHiob_7Vllnk",
        "outputId": "58bd0dbd-d8e0-4619-cd5c-fa5712b0d656",
        "colab": {
          "base_uri": "https://localhost:8080/",
          "height": 35
        }
      },
      "source": [
        "for x in range (40,2 , -4) :\n",
        "  print(x, end =\" \")"
      ],
      "execution_count": null,
      "outputs": [
        {
          "output_type": "stream",
          "text": [
            "40 36 32 28 24 20 16 12 8 4 "
          ],
          "name": "stdout"
        }
      ]
    },
    {
      "cell_type": "code",
      "metadata": {
        "id": "yQn3FMhEmB05",
        "outputId": "4f35a28a-0665-48b6-934f-ff635deab0c0",
        "colab": {
          "base_uri": "https://localhost:8080/",
          "height": 54
        }
      },
      "source": [
        "arr = [10,20,30]\n",
        "print(arr)\n",
        "print(type(arr))"
      ],
      "execution_count": null,
      "outputs": [
        {
          "output_type": "stream",
          "text": [
            "[10, 20, 30]\n",
            "<class 'list'>\n"
          ],
          "name": "stdout"
        }
      ]
    },
    {
      "cell_type": "code",
      "metadata": {
        "id": "0QAU4v1Dmbxg",
        "outputId": "30bb7035-c207-47d1-c6fc-bef549f299c5",
        "colab": {
          "base_uri": "https://localhost:8080/",
          "height": 72
        }
      },
      "source": [
        "for i in arr:\n",
        "  print(i)"
      ],
      "execution_count": null,
      "outputs": [
        {
          "output_type": "stream",
          "text": [
            "10\n",
            "20\n",
            "30\n"
          ],
          "name": "stdout"
        }
      ]
    },
    {
      "cell_type": "code",
      "metadata": {
        "id": "zSPqCfLUmnR7",
        "outputId": "9abbdc99-9690-40a7-ecaf-d0c354218a2d",
        "colab": {
          "base_uri": "https://localhost:8080/",
          "height": 126
        }
      },
      "source": [
        "names = ['sakshi','rajat','sandeep','nimes','rahul','mandeep']\n",
        "for i in names: \n",
        "  print(i)"
      ],
      "execution_count": null,
      "outputs": [
        {
          "output_type": "stream",
          "text": [
            "sakshi\n",
            "rajat\n",
            "sandeep\n",
            "nimes\n",
            "rahul\n",
            "mandeep\n"
          ],
          "name": "stdout"
        }
      ]
    },
    {
      "cell_type": "code",
      "metadata": {
        "id": "oCTGPa7rm6jH",
        "outputId": "fa649a43-06c5-4ade-9b65-1044758908ee",
        "colab": {
          "base_uri": "https://localhost:8080/",
          "height": 54
        }
      },
      "source": [
        "print(names)\n",
        "print(len(names))"
      ],
      "execution_count": null,
      "outputs": [
        {
          "output_type": "stream",
          "text": [
            "['sakshi', 'rajat', 'sandeep', 'nimes', 'rahul', 'mandeep']\n",
            "6\n"
          ],
          "name": "stdout"
        }
      ]
    },
    {
      "cell_type": "code",
      "metadata": {
        "id": "mafDodBynJVN",
        "outputId": "e3d94cb1-2b64-4f2c-d972-d6fd10bde520",
        "colab": {
          "base_uri": "https://localhost:8080/",
          "height": 126
        }
      },
      "source": [
        "for i in range(len(names) ) : \n",
        "  print(i , names[i])"
      ],
      "execution_count": null,
      "outputs": [
        {
          "output_type": "stream",
          "text": [
            "0 sakshi\n",
            "1 rajat\n",
            "2 sandeep\n",
            "3 nimes\n",
            "4 rahul\n",
            "5 mandeep\n"
          ],
          "name": "stdout"
        }
      ]
    },
    {
      "cell_type": "code",
      "metadata": {
        "id": "XKz4OD7JnQPv",
        "outputId": "dec1ddf9-20a3-4d61-d21b-47dd54d50819",
        "colab": {
          "base_uri": "https://localhost:8080/",
          "height": 35
        }
      },
      "source": [
        "for i in 'India is great' : \n",
        "  if i =='a': continue\n",
        "  print(i , end =\" \")"
      ],
      "execution_count": null,
      "outputs": [
        {
          "output_type": "stream",
          "text": [
            "I n d i   i s   g r e t "
          ],
          "name": "stdout"
        }
      ]
    },
    {
      "cell_type": "code",
      "metadata": {
        "id": "TNBHdcUno5mX",
        "outputId": "7cc2b7c6-e4de-4190-fc8d-266aacd75a17",
        "colab": {
          "base_uri": "https://localhost:8080/",
          "height": 35
        }
      },
      "source": [
        "for i in 'India is great' : \n",
        "  if i ==' ': break\n",
        "  print(i , end =\" \")"
      ],
      "execution_count": null,
      "outputs": [
        {
          "output_type": "stream",
          "text": [
            "I n d i a "
          ],
          "name": "stdout"
        }
      ]
    },
    {
      "cell_type": "code",
      "metadata": {
        "id": "LNsw0QTtnuk0"
      },
      "source": [
        ""
      ],
      "execution_count": null,
      "outputs": []
    },
    {
      "cell_type": "markdown",
      "metadata": {
        "id": "r0_aiN6hn4AS"
      },
      "source": [
        "1. Write program to check whether given number is\n",
        "prime or not\n",
        "2. Write a program to find those numbers which are\n",
        "divisible by 7 and multiple of 5, between 1500 and\n",
        "2700 (both included).\n",
        "3. Write a Python program to get the Fibonacci series\n",
        "between 0 to 50.\n",
        "4. Write a program to construct the pattern, using a\n",
        "nested for loop.\n",
        "\n",
        "\n",
        "```\n",
        "*\n",
        "* *\n",
        "* * *\n",
        "* *\n",
        "*\n",
        "\n",
        "   *\n",
        "  * * \n",
        " * * *\n",
        "* * * *\n",
        " * * * \n",
        "  * *\n",
        "   *\n",
        "\n",
        "    1\n",
        "  1 2 1\n",
        "1 2 3 2 1\n",
        "  1 2 1\n",
        "    1\n",
        "```\n",
        "5. write a program to reverse the digits of given number( given 345, ouput 543 )\n",
        "6. write python code to convert given binary number to decimal equvalent ( given  1101, ouput-13)"
      ]
    },
    {
      "cell_type": "code",
      "metadata": {
        "id": "BKxabIBmoakM"
      },
      "source": [
        ""
      ],
      "execution_count": null,
      "outputs": []
    }
  ]
}